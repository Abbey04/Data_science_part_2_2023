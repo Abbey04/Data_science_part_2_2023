{
 "cells": [
  {
   "cell_type": "markdown",
   "id": "02367634",
   "metadata": {},
   "source": [
    "# Second Assignment\n",
    "\n",
    "The goal of this assignment is to use the iris dataset to train a classifier in asupervised fashion and a clusterer in unsupervised fashion.\n",
    "\n",
    "**Deadline: To Be Confirmed by the Tutor**. Please upload this .ipynb file to the submission point (Assignments) in Canvas along with your declaration of authorship."
   ]
  },
  {
   "cell_type": "markdown",
   "id": "28e3e612",
   "metadata": {},
   "source": [
    "## Setup"
   ]
  },
  {
   "cell_type": "code",
   "execution_count": null,
   "id": "ce33580a",
   "metadata": {},
   "outputs": [],
   "source": [
    "# Python ≥3.8 is required\n",
    "import sys\n",
    "assert sys.version_info >= (3, 8)\n",
    "\n",
    "# Scikit-Learn ≥ 1.0 is required\n",
    "import sklearn\n",
    "assert sklearn.__version__ >= \"1.0\"\n",
    "\n",
    "# Common imports\n",
    "import numpy as np\n",
    "import pandas as pd\n",
    "import os\n",
    "\n",
    "# To plot pretty figures\n",
    "%matplotlib inline\n",
    "import matplotlib as mpl\n",
    "import matplotlib.pyplot as plt\n",
    "mpl.rc('axes', labelsize=14)\n",
    "mpl.rc('xtick', labelsize=12)\n",
    "mpl.rc('ytick', labelsize=12)\n",
    "\n",
    "# Precision options\n",
    "np.set_printoptions(precision=2)\n",
    "pd.options.display.float_format = '{:.3f}'.format"
   ]
  },
  {
   "cell_type": "markdown",
   "id": "a3e371b3",
   "metadata": {},
   "source": [
    "### Import data and training test split\n",
    "\n",
    "Let's import the iris dataset first."
   ]
  },
  {
   "cell_type": "code",
   "execution_count": null,
   "id": "fa409f7f",
   "metadata": {},
   "outputs": [],
   "source": [
    "from sklearn.datasets import load_iris\n",
    "iris = load_iris()"
   ]
  },
  {
   "cell_type": "markdown",
   "id": "6e033b0a",
   "metadata": {},
   "source": [
    "### Train-test splitting (3 points)\n",
    "\n",
    "As a first step let's split the dataset into training (2/3 of the data) and test set (1/3 of the data)"
   ]
  },
  {
   "cell_type": "code",
   "execution_count": null,
   "id": "81eb4def",
   "metadata": {},
   "outputs": [],
   "source": [
    "# Write your solution here\n"
   ]
  },
  {
   "cell_type": "markdown",
   "id": "a1011db4",
   "metadata": {},
   "source": [
    "### Feature scaling (4 points)\n",
    "\n",
    "Then let's perform feature scaling (up to you whether you want to use standardisation or normalisation)"
   ]
  },
  {
   "cell_type": "code",
   "execution_count": null,
   "id": "e363af25",
   "metadata": {},
   "outputs": [],
   "source": [
    "# Write your solution here\n"
   ]
  },
  {
   "cell_type": "markdown",
   "id": "21bc85f2",
   "metadata": {},
   "source": [
    "## Part 1: Supervised training using K-Nearest Neighbourse\n",
    "\n",
    "\n",
    "### Model creation (6 points) and training (2 points)\n",
    "\n",
    "Now, evaluate the performance of your classifier using the confusion matrix. Compute and visualize the confusion matrix for our three classes\n",
    "\n",
    "Now, let's create and train a `KNeighborsClassifier`.\n",
    "\n",
    "We want the following properties for our classifier:\n",
    "* check 7 neighbours by default for the `kneighbors` queries.\n",
    "* use the Manhattan distance metric to identify neighbours\n",
    "* use the Ball Tree algortihm to compute the nearest neighbours, with a `leaf_size` of 3. Check the Ball Tree algorithm documentation on scikit-learn for more details.\n",
    "\n",
    "Check the `KNeighborsClassifier` documentation to identify the arguments to pass to the `KNeighborsClassifier` constructor."
   ]
  },
  {
   "cell_type": "code",
   "execution_count": null,
   "id": "b4a5f061",
   "metadata": {},
   "outputs": [],
   "source": [
    "# Write your code here\n"
   ]
  },
  {
   "cell_type": "markdown",
   "id": "d9226586",
   "metadata": {},
   "source": [
    "### Evaluation on the training set (5 points)\n",
    "\n",
    "Now, evaluate the performance of your classifier using the confusion matrix. Compute and visualize the confusion matrix for our three classes"
   ]
  },
  {
   "cell_type": "code",
   "execution_count": null,
   "id": "0f3b1bb0",
   "metadata": {},
   "outputs": [],
   "source": [
    "# Write your code here\n"
   ]
  },
  {
   "cell_type": "markdown",
   "id": "8c83fe55",
   "metadata": {},
   "source": [
    "Compute precision, recall, and F1 score for each class prediction on the training set and print out a report."
   ]
  },
  {
   "cell_type": "code",
   "execution_count": null,
   "id": "61ab2b0d",
   "metadata": {},
   "outputs": [],
   "source": [
    "# Write your code here\n"
   ]
  },
  {
   "cell_type": "markdown",
   "id": "2b85a004",
   "metadata": {},
   "source": [
    "How does the result look like? Has anything been misclassified?\n",
    "\n",
    "\n",
    "### Evaluation on the test set (5 points)\n",
    "\n",
    "Now make predictions on the test set, compute the confusion matrix for the test set. how does it compare to the one of the training set?"
   ]
  },
  {
   "cell_type": "code",
   "execution_count": null,
   "id": "c5a1e90c",
   "metadata": {},
   "outputs": [],
   "source": [
    "# Write your code here\n"
   ]
  },
  {
   "cell_type": "markdown",
   "id": "921f28ca",
   "metadata": {},
   "source": [
    "Compute precision, recall, and F1 score for each class prediction on the test set and print out a report."
   ]
  },
  {
   "cell_type": "code",
   "execution_count": null,
   "id": "77f74920",
   "metadata": {},
   "outputs": [],
   "source": [
    "# Write your code here"
   ]
  },
  {
   "cell_type": "markdown",
   "id": "f0d4e79c",
   "metadata": {},
   "source": [
    "## Part 2: Unsupervised Learning using K-Means (10 points)\n",
    "\n",
    "Train K-means clusterers on the entire iris dataset.\n",
    "\n",
    "Train clusters with 2 to 6 clusters and use one of the metrics discussed in week 7 to show which is the optimal number of clusters"
   ]
  },
  {
   "cell_type": "code",
   "execution_count": null,
   "id": "528d5470",
   "metadata": {},
   "outputs": [],
   "source": [
    "# Write your code here. Add as many cells as you need.\n"
   ]
  },
  {
   "cell_type": "markdown",
   "id": "496c356e",
   "metadata": {},
   "source": [
    "That's it. Congratulations, you have completed the second assignment!"
   ]
  }
 ],
 "metadata": {
  "kernelspec": {
   "display_name": "Python 3.10.5 64-bit ('3.10.5')",
   "language": "python",
   "name": "python3"
  },
  "language_info": {
   "codemirror_mode": {
    "name": "ipython",
    "version": 3
   },
   "file_extension": ".py",
   "mimetype": "text/x-python",
   "name": "python",
   "nbconvert_exporter": "python",
   "pygments_lexer": "ipython3",
   "version": "3.10.5"
  },
  "vscode": {
   "interpreter": {
    "hash": "867df1ee534d26f2c7c906fca85dfba438b7170d4a41fa95ef57b9d1241c9022"
   }
  }
 },
 "nbformat": 4,
 "nbformat_minor": 5
}
