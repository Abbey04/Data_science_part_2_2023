{
 "cells": [
  {
   "cell_type": "markdown",
   "metadata": {},
   "source": [
    "# Third Assignment\n",
    "\n",
    "For this assignment you will have to identify a suitable dataset and implement a machine learning pipeline, comprising the following steps:\n",
    "\n",
    "* Presentation of the problem (6 points)\n",
    "* data exploration (4 points)\n",
    "* data preparation (10 points)\n",
    "* model selection: try 2 models (max 3) (20 points)\n",
    "* evaluation on test set (3 points)\n",
    "* conclusion commenting on the results and comparing the models (7 points)\n",
    "\n",
    "Some possible datasets:\n",
    "* [Titanic dataset](https://www.kaggle.com/c/titanic): binary classification\n",
    "* [Wine dataset](https://www.kaggle.com/datasets/yasserh/wine-quality-dataset): multi-class classification/regression\n",
    "* [Abalone dataset](https://www.kaggle.com/datasets/rodolfomendes/abalone-dataset): regression\n",
    "* [California housing price](https://www.kaggle.com/datasets/camnugent/california-housing-prices): regression\n",
    "* [CIFAR-10](http://www.cs.toronto.edu/~kriz/cifar.html): multi-class classification in images\n",
    "\n",
    "Look for more on [Kaggle](https://www.kaggle.com/datasets) or elsewhere.\n",
    "\n",
    "**Deadline: To Be Confirmed by the Tutor**. Please upload this .ipynb file to the submission point (Assignments) in Canvas along with your declaration of authorship."
   ]
  }
 ],
 "metadata": {
  "kernelspec": {
   "display_name": "Python 3.10.5 64-bit ('3.10.5')",
   "language": "python",
   "name": "python3"
  },
  "language_info": {
   "name": "python",
   "version": "3.10.5"
  },
  "orig_nbformat": 4,
  "vscode": {
   "interpreter": {
    "hash": "867df1ee534d26f2c7c906fca85dfba438b7170d4a41fa95ef57b9d1241c9022"
   }
  }
 },
 "nbformat": 4,
 "nbformat_minor": 2
}
