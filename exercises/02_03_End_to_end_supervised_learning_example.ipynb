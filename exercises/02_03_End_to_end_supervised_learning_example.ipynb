{
 "cells": [
  {
   "cell_type": "markdown",
   "metadata": {},
   "source": [
    "# Week 2 and 3: End-to-end Supervised Learning Project (Regression)\n",
    "\n",
    "# Week 2: Data Exploration and Visualization"
   ]
  },
  {
   "cell_type": "markdown",
   "metadata": {},
   "source": [
    "## Setup"
   ]
  },
  {
   "cell_type": "markdown",
   "metadata": {},
   "source": [
    "First, let's import a few common modules, ensure MatplotLib plots figures inline and prepare a function to save the figures. We also check that Python 3.5 or later is installed (although Python 2.x may work, it is deprecated so we strongly recommend you use Python 3 instead), as well as Scikit-Learn ≥ 1.0"
   ]
  },
  {
   "cell_type": "code",
   "execution_count": null,
   "metadata": {},
   "outputs": [],
   "source": [
    "# Python ≥3.8 is required\n",
    "import sys\n",
    "assert sys.version_info >= (3, )\n",
    "\n",
    "# Scikit-Learn ≥1.0 is required\n",
    "import sklearn\n",
    "assert sklearn.__version__ >= \"1.0\"\n",
    "\n",
    "# Common imports\n",
    "import numpy as np\n",
    "import pandas as pd\n",
    "import os\n",
    "\n",
    "# To plot pretty figures\n",
    "%matplotlib inline\n",
    "import matplotlib as mpl\n",
    "import matplotlib.pyplot as plt\n",
    "mpl.rc('axes', labelsize=14)\n",
    "mpl.rc('xtick', labelsize=12)\n",
    "mpl.rc('ytick', labelsize=12)\n",
    "\n",
    "# Precision options\n",
    "np.set_printoptions(precision=2)\n",
    "pd.options.display.float_format = '{:.3f}'.format\n",
    "\n",
    "\"\"\"\n",
    "# Where to save the figures\n",
    "PROJECT_ROOT_DIR = \".\"\n",
    "CHAPTER_ID = \"end_to_end_project\"\n",
    "IMAGES_PATH = os.path.join(PROJECT_ROOT_DIR, \"images\", CHAPTER_ID)\n",
    "os.makedirs(IMAGES_PATH, exist_ok=True)\n",
    "\n",
    "def save_fig(fig_id, tight_layout=True, fig_extension=\"png\", resolution=300):\n",
    "    path = os.path.join(IMAGES_PATH, fig_id + \".\" + fig_extension)\n",
    "    print(\"Saving figure\", fig_id)\n",
    "    if tight_layout:\n",
    "        plt.tight_layout()\n",
    "    plt.savefig(path, format=fig_extension, dpi=resolution)\n",
    "\"\"\"\n",
    "\n",
    "# Ignore useless warnings (see SciPy issue #5998)\n",
    "import warnings\n",
    "warnings.filterwarnings(action=\"ignore\", message=\"^internal gelsd\")"
   ]
  },
  {
   "cell_type": "markdown",
   "metadata": {},
   "source": [
    "## 1. Get the Data\n",
    "\n",
    "First of all let's import the data from the CSV file."
   ]
  },
  {
   "cell_type": "code",
   "execution_count": null,
   "metadata": {},
   "outputs": [],
   "source": [
    "filepath = os.path.abspath(os.path.join('..', 'datasets', 'kings_county_house_data.csv'))\n",
    "print('File path: {}'.format(filepath))\n",
    "housing = pd.read_csv(filepath, dtype={'zipcode': str})"
   ]
  },
  {
   "cell_type": "markdown",
   "metadata": {},
   "source": [
    "We can get an overall idea of the fields available using the `DataFrame.info()` and `DataFrame.describe()` methods."
   ]
  },
  {
   "cell_type": "code",
   "execution_count": null,
   "metadata": {},
   "outputs": [],
   "source": [
    "housing.info()"
   ]
  },
  {
   "cell_type": "code",
   "execution_count": null,
   "metadata": {},
   "outputs": [],
   "source": [
    "housing.describe()"
   ]
  },
  {
   "cell_type": "markdown",
   "metadata": {},
   "source": [
    "## 2. Create a Training and Test Set\n",
    "\n",
    "Creating a test set is theoretically simple: pick some instances randomly, typically 20% of the dataset (or less if your dataset is very large), and set them aside. We will use a function from `scikit-learn` which splits a dataset into training and test set."
   ]
  },
  {
   "cell_type": "code",
   "execution_count": null,
   "metadata": {},
   "outputs": [],
   "source": [
    "from sklearn.model_selection import train_test_split\n",
    "train_set, test_set = train_test_split(housing, test_size=0.2, random_state=42)"
   ]
  },
  {
   "cell_type": "code",
   "execution_count": null,
   "metadata": {},
   "outputs": [],
   "source": [
    "train_set.shape, test_set.shape"
   ]
  },
  {
   "cell_type": "markdown",
   "metadata": {},
   "source": [
    "In this way we would just be doing a simple randomized sampling. But this might not be a representative sampling of the whole dataset, if we do not preserve the proportions (or percentages) of significant input features. Let's hypothesize that we learned from expert the `sqft_living` field is an important predictor for the house price. "
   ]
  },
  {
   "cell_type": "code",
   "execution_count": null,
   "metadata": {},
   "outputs": [],
   "source": [
    "housing.sqft_living.hist(bins=100, figsize=(14,10))\n",
    "plt.show()"
   ]
  },
  {
   "cell_type": "code",
   "execution_count": null,
   "metadata": {},
   "outputs": [],
   "source": [
    "housing[\"sqft_living_cat\"] = pd.cut(housing.sqft_living, \n",
    "                                    bins=[0., 1000., 2000., 3000., 4000., np.inf],\n",
    "                                    labels=[1, 2, 3, 4, 5]\n",
    "                                   )\n",
    "housing['sqft_living_cat'].hist()\n",
    "plt.show()"
   ]
  },
  {
   "cell_type": "code",
   "execution_count": null,
   "metadata": {},
   "outputs": [],
   "source": [
    "housing['sqft_living_cat'].value_counts() / len(housing)"
   ]
  },
  {
   "cell_type": "code",
   "execution_count": null,
   "metadata": {},
   "outputs": [],
   "source": [
    "from sklearn.model_selection import StratifiedShuffleSplit\n",
    "splitter = StratifiedShuffleSplit(n_splits=1, test_size=0.2, random_state=42)\n",
    "for train_index, test_index in splitter.split(housing, housing.sqft_living_cat):\n",
    "    strat_train_set = housing.loc[train_index]\n",
    "    strat_test_set = housing.loc[test_index]"
   ]
  },
  {
   "cell_type": "code",
   "execution_count": null,
   "metadata": {},
   "outputs": [],
   "source": [
    "strat_train_set.shape, strat_test_set.shape"
   ]
  },
  {
   "cell_type": "code",
   "execution_count": null,
   "metadata": {},
   "outputs": [],
   "source": [
    "strat_train_set.sqft_living_cat.value_counts() / len(strat_train_set)"
   ]
  },
  {
   "cell_type": "code",
   "execution_count": null,
   "metadata": {},
   "outputs": [],
   "source": [
    "strat_test_set.sqft_living_cat.value_counts() / len(strat_test_set)"
   ]
  },
  {
   "cell_type": "code",
   "execution_count": null,
   "metadata": {},
   "outputs": [],
   "source": [
    "for set_ in (strat_train_set, strat_test_set):\n",
    "    set_.drop(\"sqft_living_cat\", axis=1, inplace=True)"
   ]
  },
  {
   "cell_type": "markdown",
   "metadata": {},
   "source": [
    "## 3. Discover and Visualize the Data to Gain Insights"
   ]
  },
  {
   "cell_type": "markdown",
   "metadata": {},
   "source": [
    "### 3.1 Outlier Detection (optional)"
   ]
  },
  {
   "cell_type": "code",
   "execution_count": null,
   "metadata": {},
   "outputs": [],
   "source": [
    "p = strat_train_set[\n",
    "    ['price', 'sqft_living', 'sqft_lot', 'sqft_above', 'sqft_basement', \n",
    "     'lat', 'long', 'sqft_living15', 'sqft_lot15']\n",
    "].plot.box(subplots=True, layout=(3, 3), figsize=(18,18))"
   ]
  },
  {
   "cell_type": "code",
   "execution_count": null,
   "metadata": {},
   "outputs": [],
   "source": [
    "strat_train_set[['price']].boxplot(figsize=(15,10))"
   ]
  },
  {
   "cell_type": "markdown",
   "metadata": {},
   "source": [
    "Box plot use the IQR method to display data and outliers(shape of the data) but in order to be get a list of identified outlier, we will need to use the mathematical formula and retrieve the outlier data.\n",
    "\n",
    "Wikipedia Definition:\n",
    "_The interquartile range (IQR), also called the midspread or middle 50%, or technically H-spread, is a measure of statistical dispersion, being equal to the difference between 75th and 25th percentiles, or between upper and lower quartiles, $IQR = Q_3 − Q_1$.\n",
    "\n",
    "In other words, the IQR is the first quartile subtracted from the third quartile; these quartiles can be clearly seen on a box plot on the data.\n",
    "\n",
    "It is a measure of the dispersion similar to standard deviation or variance, but is much more robust against outliers._\n",
    "\n",
    "If a data point is below $Q_1 - 1.5\\times IQR$ or above $Q_3 + 1.5\\times IQR$ then it's an outlier.\n",
    "\n",
    "<b>Exercise 1:</b> Compute for me the count of outliers in our training set with respect to the `price` feature. (Hint: check the `DataFrame.quantile()` method and find a way to count the occurrences of values in a column of a DataFrame.) Additionally, write the code to remove those outliers. "
   ]
  },
  {
   "cell_type": "code",
   "execution_count": null,
   "metadata": {},
   "outputs": [],
   "source": [
    "## Write you solution here. Add as many cells as you see fit\n"
   ]
  },
  {
   "cell_type": "markdown",
   "metadata": {},
   "source": [
    "Are the outliers legitimate or should we remove them?"
   ]
  },
  {
   "cell_type": "markdown",
   "metadata": {},
   "source": [
    "### 3.2 Visualize geographical data"
   ]
  },
  {
   "cell_type": "code",
   "execution_count": null,
   "metadata": {},
   "outputs": [],
   "source": [
    "strat_train_set.plot(\n",
    "    kind=\"scatter\", x=\"long\", y=\"lat\", figsize=(15,10)\n",
    ")\n",
    "plt.show()"
   ]
  },
  {
   "cell_type": "code",
   "execution_count": null,
   "metadata": {},
   "outputs": [],
   "source": [
    "strat_train_set.plot(kind=\"scatter\", x=\"long\", y=\"lat\", alpha=0.1, figsize=(15,10))\n",
    "plt.show()"
   ]
  },
  {
   "cell_type": "code",
   "execution_count": null,
   "metadata": {},
   "outputs": [],
   "source": [
    "strat_train_set.plot(\n",
    "    kind=\"scatter\", x=\"long\", y=\"lat\", alpha=0.1, figsize=(20,13),\n",
    "    s=strat_train_set[\"sqft_living\"]/100, label=\"sqft_living\",\n",
    "    c=\"price\", cmap=plt.get_cmap('jet'), colorbar=True\n",
    ")\n",
    "plt.legend()\n",
    "plt.show()"
   ]
  },
  {
   "cell_type": "markdown",
   "metadata": {},
   "source": [
    "Using the same colormap (i.e. jet), we can try to improve the visualization above, setting an upper value that is reasonable, (i.e less or equal to QR3 + 1.5 IQR such as 1,000,000 $), and not the highest value in the range.\n",
    "\n",
    "We can create a custom discrete colorbar by using `matplotlib.colors.BoundaryNorm` as normalizer for your scatterplot. See the norm argument in `matplotlib.pyplot.scatter()`: https://matplotlib.org/stable/api/_as_gen/matplotlib.pyplot.scatter.html\n"
   ]
  },
  {
   "cell_type": "code",
   "execution_count": null,
   "metadata": {},
   "outputs": [],
   "source": [
    "cmap = plt.cm.jet  # define the colormap\n",
    "bounds = np.linspace(0, 1e6, 11) # define 11 evenly space\n",
    "\n",
    "# The matplotlib.colors.BoundaryNorm class is used to create a colormap based on discrete numeric intervals.\n",
    "norm = mpl.colors.BoundaryNorm(\n",
    "    bounds, # Monotonically increasing sequence of boundaries\n",
    "    cmap.N # Number of colors in the colormap to be used\n",
    ")\n",
    "\n",
    "plt.figure(figsize=(20, 13))\n",
    "plt.scatter(\n",
    "    x=strat_train_set[\"long\"],\n",
    "    y=strat_train_set[\"lat\"],\n",
    "    alpha=0.1,\n",
    "    s=strat_train_set[\"sqft_living\"]/100, # size of the dot\n",
    "    label=strat_train_set[\"sqft_living\"],\n",
    "    c=strat_train_set[\"price\"], # colour of the dot\n",
    "    cmap=cmap, # colour map \n",
    "    norm=norm # used to scale the color data, c, in the range 0 to 1, in order to map into the colormap cmap\n",
    ")\n",
    "plt.colorbar(label=\"Price\", orientation=\"vertical\")\n",
    "plt.show()"
   ]
  },
  {
   "cell_type": "code",
   "execution_count": null,
   "metadata": {},
   "outputs": [],
   "source": [
    "cmap = plt.cm.jet  # define the colormap\n",
    "# extract all colors from the .jet map\n",
    "cmaplist = [cmap(i) for i in range(cmap.N)]\n",
    "# force the first color entry to be grey\n",
    "cmaplist[0] = (.5, .5, .5, 1.0)\n",
    "\n",
    "# create the new map\n",
    "cmap = mpl.colors.LinearSegmentedColormap.from_list(\n",
    "    'Custom cmap', cmaplist, cmap.N\n",
    ")\n",
    "\n",
    "# define the bins and normalize\n",
    "bounds = np.linspace(0, 1e6, 11)\n",
    "norm = mpl.colors.BoundaryNorm(bounds, cmap.N)\n",
    "plt.figure(figsize=(20, 13))\n",
    "plt.scatter(\n",
    "    x=strat_train_set[\"long\"], y=strat_train_set[\"lat\"],\n",
    "    alpha=0.1,\n",
    "    s=strat_train_set[\"sqft_living\"]/100, label=strat_train_set[\"sqft_living\"],\n",
    "    c=strat_train_set[\"price\"], cmap=cmap, norm=norm\n",
    ")\n",
    "plt.colorbar(label=\"Price\", orientation=\"vertical\")\n",
    "plt.show()"
   ]
  },
  {
   "cell_type": "markdown",
   "metadata": {},
   "source": [
    "<b>Exercise 2:</b> explore on your own other ways to improve the graph above. You could look for ways to overlap it on top of the county map, or you could see if you can encode information differently"
   ]
  },
  {
   "cell_type": "code",
   "execution_count": null,
   "metadata": {},
   "outputs": [],
   "source": [
    "### Write your solution here\n"
   ]
  },
  {
   "cell_type": "markdown",
   "metadata": {},
   "source": [
    "### 3.2 Looking for correlations"
   ]
  },
  {
   "cell_type": "markdown",
   "metadata": {},
   "source": [
    "The dataset is not that big, and we can compute the standard correlation coefficient (Pearson’s r coefficient) between every two features using the `DataFrame.corr()` method:"
   ]
  },
  {
   "cell_type": "code",
   "execution_count": null,
   "metadata": {},
   "outputs": [],
   "source": [
    "corr_matrix = strat_train_set.corr()\n",
    "corr_matrix[\"price\"].sort_values(ascending=False)"
   ]
  },
  {
   "cell_type": "markdown",
   "metadata": {},
   "source": [
    "N.B. The correlation coefficient only measures linear correlations, and it may completely miss nonlinear correlation factors. \n",
    "\n",
    "Another way to check for correlation visually is to use the `scatter_matrix()` utility function offered by Pandas, which leverages `matplotlib`, or seaborn's `pairplot()` function."
   ]
  },
  {
   "cell_type": "code",
   "execution_count": null,
   "metadata": {},
   "outputs": [],
   "source": [
    "attributes = [\"price\", \"sqft_living\", \"grade\",\n",
    "              \"sqft_above\", \"sqft_living15\", \"bathrooms\"]\n",
    "pd.plotting.scatter_matrix(\n",
    "    strat_train_set[attributes], figsize=(15, 10)\n",
    ")\n",
    "plt.show()"
   ]
  },
  {
   "cell_type": "code",
   "execution_count": null,
   "metadata": {},
   "outputs": [],
   "source": [
    "import seaborn as sns\n",
    "ax = sns.pairplot(strat_train_set[attributes])"
   ]
  },
  {
   "cell_type": "markdown",
   "metadata": {},
   "source": [
    "We can then start using boxplots or violinplots to further investigate targeted correlations, such as 'grade' vs 'price' or 'floors' vs 'price'.\n",
    "\n",
    "<b>Exercise 3:</b> write a function that takes a categorical or ordinal feature as a first argument, the size of a figure as a second argument and plots, using seaborn, a set of boxplots of the price distribution for each category in the input categorical feature."
   ]
  },
  {
   "cell_type": "code",
   "execution_count": null,
   "metadata": {},
   "outputs": [],
   "source": [
    "## Write you solution here.\n",
    "# Populate the function body. I've written the function interface (i.e. its API) for you\n",
    "def print_boxplot(feature, figsize=(14, 6)):\n",
    "    \"\"\"\n",
    "    write your function here, removing the \"pass\" statement\n",
    "    \"\"\"\n",
    "    pass"
   ]
  },
  {
   "cell_type": "code",
   "execution_count": null,
   "metadata": {},
   "outputs": [],
   "source": [
    "## Try your function to plot 'grade' vs 'price'.\n",
    "## If you have implemented it correctly it will plot out the boxplots\n",
    "print_boxplot('grade')"
   ]
  },
  {
   "cell_type": "code",
   "execution_count": null,
   "metadata": {},
   "outputs": [],
   "source": [
    "## Try your function to plot 'floors' vs 'price'.\n",
    "## If you have implemented it correctly it will plot out the boxplots\n",
    "print_boxplot('floors', figsize=(12, 12))"
   ]
  },
  {
   "cell_type": "code",
   "execution_count": null,
   "metadata": {},
   "outputs": [],
   "source": [
    "## Try your function to plot 'bathrooms' vs 'price'.\n",
    "## If you have implemented it correctly it will plot out the boxplots\n",
    "print_boxplot('bathrooms', figsize=(20, 12))"
   ]
  },
  {
   "cell_type": "markdown",
   "metadata": {},
   "source": [
    "## Week 3: Data Pre-processing and Regression Algorithms\n",
    "\n",
    "## 4. Preparing the Data for Machine Learning Algorithms"
   ]
  },
  {
   "cell_type": "markdown",
   "metadata": {},
   "source": [
    "### 4.1 Data Cleaning"
   ]
  },
  {
   "cell_type": "code",
   "execution_count": null,
   "metadata": {},
   "outputs": [],
   "source": [
    "housing = strat_train_set.drop(\"price\", axis=1) # drop labels for training set\n",
    "housing_labels = strat_train_set[\"price\"].copy()"
   ]
  },
  {
   "cell_type": "code",
   "execution_count": null,
   "metadata": {},
   "outputs": [],
   "source": [
    "housing.head()"
   ]
  },
  {
   "cell_type": "code",
   "execution_count": null,
   "metadata": {},
   "outputs": [],
   "source": [
    "housing_labels.head()"
   ]
  },
  {
   "cell_type": "markdown",
   "metadata": {},
   "source": [
    "##### 4.1.1 Missing values and imputation\n",
    "\n",
    "We can use `pd.DataFrame.isna()` or `pd.DataFrame.isnull()` to look for null or missing values in any of our variables/features.\n",
    "\n",
    "NOTE: axis=1 performs the operation along the columns"
   ]
  },
  {
   "cell_type": "code",
   "execution_count": null,
   "metadata": {},
   "outputs": [],
   "source": [
    "## Look for rows with incomplete values\n",
    "incomplete_rows = housing[housing.isna().any(axis=1)]\n",
    "incomplete_rows"
   ]
  },
  {
   "cell_type": "markdown",
   "metadata": {},
   "source": [
    "In statistics, imputation is the process of replacing missing data with substituted values.\n",
    "In scikit-learn we can use the `SimpleImputer` calss to perform imputation on missing  values. Generally we wil want to replace missing numeric (quantitative) values with the median value of that feature. For categorical features we may want to either use a \"missing\"/\"unknown\" category, use the mode, or drop the samples with missing values.\n",
    "\n",
    "As there is no missing values in our dataset we would not really need to do this."
   ]
  },
  {
   "cell_type": "code",
   "execution_count": null,
   "metadata": {},
   "outputs": [],
   "source": [
    "from sklearn.impute import SimpleImputer\n",
    "imputer = SimpleImputer(strategy=\"median\")\n",
    "housing_num = housing.select_dtypes(include=[np.number])\n",
    "imputer.fit(housing_num)\n",
    "imputer.statistics_"
   ]
  },
  {
   "cell_type": "code",
   "execution_count": null,
   "metadata": {},
   "outputs": [],
   "source": [
    "housing_num.median().values"
   ]
  },
  {
   "cell_type": "code",
   "execution_count": null,
   "metadata": {},
   "outputs": [],
   "source": [
    "X = imputer.transform(housing_num)\n",
    "housing_tr = pd.DataFrame(X, columns=housing_num.columns,\n",
    "                          index=housing.index)\n",
    "housing_tr.sort_values(by='bathrooms', ascending=True)"
   ]
  },
  {
   "cell_type": "code",
   "execution_count": null,
   "metadata": {},
   "outputs": [],
   "source": [
    "housing_tr.loc[[14423, 1149, 6994]]"
   ]
  },
  {
   "cell_type": "markdown",
   "metadata": {},
   "source": [
    "We might want to look for weird values as well...as it can be seen from the boxplotof bathrooms vs price some houses seem to have no bathroom. This is most likely an error and we may wont to replace those values with the median values for for bathrooms as well."
   ]
  },
  {
   "cell_type": "code",
   "execution_count": null,
   "metadata": {},
   "outputs": [],
   "source": [
    "housing_tr.loc[housing['bathrooms'] == 0, 'bathrooms'] = np.nan\n",
    "housing_tr.bathrooms.isna().value_counts()"
   ]
  },
  {
   "cell_type": "code",
   "execution_count": null,
   "metadata": {},
   "outputs": [],
   "source": [
    "housing_tr.bathrooms.fillna(housing_tr.bathrooms.median(), inplace=True)"
   ]
  },
  {
   "cell_type": "code",
   "execution_count": null,
   "metadata": {},
   "outputs": [],
   "source": [
    "housing_tr.loc[[14423, 1149, 6994]]"
   ]
  },
  {
   "cell_type": "markdown",
   "metadata": {},
   "source": [
    "### 4.2 Transform Rows\n",
    "\n",
    "It is always a good practice to write functions (or classes) to perform data transformations, so that these operations can later be performed in a reliable and reproducible way.\n",
    "\n",
    "Below, we have a method that replaces zeroes with the median values for bathrooms, and splits the date the house was sold into `month_bought` and `yr_bought`, then computes the `age` (in years) of teh house when it was sold and introduces a boolean flag (`renovated_flag`) that states whether the house was renovated or not before being sold. It then removes features deemed not relevant (such as `id`, `date`, `yr_built`, `yr_bought`, `month_bought`, `yr_renovated`)."
   ]
  },
  {
   "cell_type": "code",
   "execution_count": null,
   "metadata": {},
   "outputs": [],
   "source": [
    "housing['date']"
   ]
  },
  {
   "cell_type": "code",
   "execution_count": null,
   "metadata": {},
   "outputs": [],
   "source": [
    "def transform_housing_rows(housing_df):\n",
    "    \"\"\"\n",
    "    cleans up the data \n",
    "    \"\"\"\n",
    "    res = housing_df.copy()\n",
    "    # houses with 0 bathrooms are a mistake, set them as null values\n",
    "    res.loc[housing_df['bathrooms'] == 0, 'bathrooms'] = np.nan\n",
    "    # use median imputing for missing values in bathrooms\n",
    "    res.bathrooms.fillna(res.bathrooms.median(), inplace=True)\n",
    "    # split the acquisition date in year and month and compute the age of the house when bought\n",
    "    if 'date' in res.columns.values:\n",
    "        res['yr_bought'] = res['date'].apply(lambda d: int(d[:4]))\n",
    "        res['month_bought'] = res['date'].apply(lambda d: int(d[4:6]))\n",
    "        res['age'] = res['yr_bought'] - housing_df['yr_built']\n",
    "    # create a boolean flag to see whether the house was renovated or not\n",
    "    res['renovated_flag'] = res['yr_renovated'].apply(lambda el: 0 if el == 0.0  else 1)\n",
    "    # drop not relevant columns\n",
    "    return housing_df.drop(\n",
    "        columns=['id', 'date', 'yr_built', 'yr_bought', 'month_bought', 'yr_renovated'],\n",
    "        errors='ignore'\n",
    "    )\n",
    "    \n",
    "housing_proc = transform_housing_rows(housing)\n",
    "housing_proc.head()"
   ]
  },
  {
   "cell_type": "markdown",
   "metadata": {},
   "source": [
    "### 4.2 Handling Text and Categorical Attributes"
   ]
  },
  {
   "cell_type": "markdown",
   "metadata": {},
   "source": [
    "In general we can consider three types of text features: categorical, ordinal, and unstructured.\n",
    "Unstructured text is more the subject of Natural Language Processing, hence we will not consider its processing/encoding at this stage (and we have no unstructured data). Ordinal data are text categories that imply and intrinsic order such as the set (\"BAD\", \"AVERAGE\", \"GOOD\", \"VERY GOOD\", \"EXCELLENT\"). These are generally encodes as integers (\"BAD\" => 0, \"AVERAGE\" => 1, \"GOOD\" => 2, \"VERY GOOD\" => 3, \"EXCELLENT\" => 4). These transformations can be handed with custom functions as above.\n",
    "\n",
    "To handle Categorical Attributes that are not ordinal, a common solution is to create one binary attribute per category. This is called one-hot encoding, because only one attribute will be equal to 1 (hot), while the others will be 0 (cold). The new attributes are sometimes called *dummy attributes*. Scikit-Learn provides a `sklearn.preprocessing.OneHotEncoder` class to convert categorical values into one-hot vectors.\n",
    "\n",
    "In our case we have the \"zipcode\" attribute that can be considered as categorical. Each \"zipcode\" category should become a mutually exclusive dummy attribute\n",
    "\n",
    "<b>Exercise 4:</b> Use the `OneHotEncoder` class to encode each ZIP code as a separate category. Check the documentation for appropriate use of the `OneHotEncoder` transformer. What kind of output do you get? "
   ]
  },
  {
   "cell_type": "code",
   "execution_count": null,
   "metadata": {},
   "outputs": [],
   "source": [
    "## Write your solution here\n",
    "from sklearn.preprocessing import OneHotEncoder"
   ]
  },
  {
   "cell_type": "markdown",
   "metadata": {},
   "source": [
    "### 4.3 Custom Transformers (see if we should do this one)\n",
    "\n",
    "You can define you own transformers creating a class that inherits both from `BaseEstimator` (so that it inherits the `.fit()` method) and the mixin class `TransformerMixin` (so that it acquires the `.tranform()` method)\n",
    "\n",
    "Here below you can see a transformer that set two new features: `renovated_flag` and `age`.\n",
    "\n",
    "Transformers can take DataFrames as inputs but always output NumPy arrays, so for some transformations where you find more convenient to work on DataFrame you might prefer just to write you own functions that return a modified DataFrame as we did with `transform_housing_rows()`"
   ]
  },
  {
   "cell_type": "code",
   "execution_count": null,
   "metadata": {},
   "outputs": [],
   "source": [
    "from sklearn.base import BaseEstimator, TransformerMixin\n",
    "\n",
    "yr_built_ix = housing.columns.values.tolist().index('yr_built') \n",
    "yr_renovated_ix = housing.columns.values.tolist().index('yr_renovated')\n",
    "print(yr_built_ix, yr_renovated_ix)\n",
    "\n",
    "class ManipulatedAttributesAdder(BaseEstimator, TransformerMixin):\n",
    "    \n",
    "    CURRENT_YEAR = 2017\n",
    "    \n",
    "    def __init__(self):\n",
    "        pass\n",
    "    \n",
    "    def fit(self, X, y=None):\n",
    "        return self # nothing else to do\n",
    "    \n",
    "    def transform(self, X):\n",
    "        age = self.CURRENT_YEAR - X[:, yr_built_ix]\n",
    "        renovated_flag = np.apply_along_axis(lambda r: 0 if r[yr_renovated_ix] == 0 else 1, 1, X)\n",
    "        return np.concatenate((X, age[:, np.newaxis], renovated_flag[:, np.newaxis]), axis=1)\n",
    "\n",
    "attr_adder = ManipulatedAttributesAdder()\n",
    "housing_extra_attribs = pd.DataFrame(\n",
    "    attr_adder.transform(housing_num.values),\n",
    "    columns=[*housing_num.columns.values.tolist(), 'age', 'is_renovated'],\n",
    "    index=housing_num.index\n",
    ")\n",
    "housing_extra_attribs.head(10)"
   ]
  },
  {
   "cell_type": "markdown",
   "metadata": {},
   "source": [
    "An alternative way to perform this transformation:"
   ]
  },
  {
   "cell_type": "markdown",
   "metadata": {},
   "source": [
    "### 4.4 Feature Scaling"
   ]
  },
  {
   "cell_type": "markdown",
   "metadata": {},
   "source": [
    "One of the most important transformations you need to apply to your data is feature scaling. In the great majority of case, Machine Learning algorithms will not perform well when the input numerical attributes have very different scales.\n",
    "\n",
    "There are two common ways to get all attributes to have the same scale:\n",
    "* min-max scaling:  rescaling the range of features to scale the range in [0, 1] or [−1, 1] (using scikit-learn `MinMaxScaler`)\n",
    "* standardization: scales the data to have zero mean and variance = 1 (using scikit-learn `StandardScaler`)."
   ]
  },
  {
   "cell_type": "markdown",
   "metadata": {},
   "source": [
    "### 4.5 Transformation Pipelines"
   ]
  },
  {
   "cell_type": "markdown",
   "metadata": {},
   "source": [
    "We are goin to use a `StandardScaler` directly after our `ManipulatedAttributesAdder` class using a Tranformation Pipeline"
   ]
  },
  {
   "cell_type": "code",
   "execution_count": null,
   "metadata": {},
   "outputs": [],
   "source": [
    "housing_num.describe()"
   ]
  },
  {
   "cell_type": "code",
   "execution_count": null,
   "metadata": {},
   "outputs": [],
   "source": [
    "from sklearn.pipeline import Pipeline\n",
    "from sklearn.preprocessing import StandardScaler\n",
    "\n",
    "num_pipeline = Pipeline([\n",
    "    ('imputer', SimpleImputer(strategy=\"median\")),\n",
    "    ('std_scaler', StandardScaler())\n",
    "])\n",
    "\n",
    "housing_num_tr = transform_housing_rows(housing_num)\n",
    "housing_num_prepared = num_pipeline.fit_transform(housing_num_tr)\n",
    "housing_num_prepared.shape"
   ]
  },
  {
   "cell_type": "code",
   "execution_count": null,
   "metadata": {},
   "outputs": [],
   "source": [
    "housing_num_prepared.min(axis=1), housing_num_prepared.max(axis=1)"
   ]
  },
  {
   "cell_type": "markdown",
   "metadata": {},
   "source": [
    "Until now, we have handled the categorical columns and the numerical columns separately. It would be more convenient if we had just one transformer capable to handle all columns, applying the appropriate transformations to each column. Solution: we can use scikit-learn `ColumnTransformer`!\n",
    "\n",
    "<b>Exercise 5:</b> Use the `sklearn.compose.ColumnTransformer` class to create a pipeline that processes separately the numeric/quantitative attributes (using the `num_pipeline` that we have defined above) and the Categorical Atrribute `zipcode` using a one-hot-encoding without scaling. The binary attributes should remain unmodified\n",
    "\n",
    "Hint: check the `ColumnTransformer` API: https://scikit-learn.org/stable/modules/generated/sklearn.compose.ColumnTransformer.html"
   ]
  },
  {
   "cell_type": "code",
   "execution_count": null,
   "metadata": {},
   "outputs": [],
   "source": [
    "## Write your solution here:\n",
    "\n",
    "from sklearn.compose import ColumnTransformer\n",
    "\n",
    "housing_tr = transform_housing_rows(housing)\n",
    "\n",
    "\n",
    "\n",
    "cat_attribs = [\"zipcode\"]\n",
    "binary_attributes = [\"renovated_flag\", \"waterfront\", \"view\"] \n",
    "num_attribs = [\n",
    "    el for el in list(\n",
    "        housing_tr.select_dtypes(include=[np.number])\n",
    "    ) if el not in binary_attributes\n",
    "]\n",
    "print(num_attribs)\n",
    "\n",
    "full_pipeline = ColumnTransformer([\n",
    "        (\"num\", num_pipeline, num_attribs),\n",
    "        (\"cat\", OneHotEncoder(categories='auto'), cat_attribs),\n",
    "        # (\"bin\", None, binary_attributes)\n",
    "], remainder='passthrough')\n",
    "\n",
    "\n",
    "housing_prepared = full_pipeline.fit_transform(housing_tr)"
   ]
  },
  {
   "cell_type": "markdown",
   "metadata": {},
   "source": [
    "`OneHotEncoder` returns a sparse matrix, while `num_pipeline` returns a dense matrix. `ColumnTransformer` estimates the density of the final matrix (i.e., the ratio of nonzero cells), and it returns a sparse matrix if the density is lower than a given threshold. In this example, it returns a sparse matrix. \n",
    "\n",
    "And now we are done! We have a preprocessing pipeline that takes the full housing data and applies the appropriate transformations to each column."
   ]
  },
  {
   "cell_type": "code",
   "execution_count": null,
   "metadata": {},
   "outputs": [],
   "source": [
    "housing_prepared"
   ]
  },
  {
   "cell_type": "code",
   "execution_count": null,
   "metadata": {},
   "outputs": [],
   "source": [
    "type(housing_prepared)"
   ]
  },
  {
   "cell_type": "markdown",
   "metadata": {},
   "source": [
    "## Save all the pre-processed data (if needed, skipped in the class demo)\n",
    "\n",
    "We will use `scipy.sparse.save_npz()` to save the sparse matrix, `np.save()` to save the NumPy arrays as `.npy` binary files, and `pickle` from the Python standard library to save our `full_pipeline`"
   ]
  },
  {
   "cell_type": "code",
   "execution_count": null,
   "metadata": {},
   "outputs": [],
   "source": [
    "\"\"\"\n",
    "import pickle\n",
    "from scipy.sparse import save_npz\n",
    "\n",
    "X_filepath = os.path.abspath(os.path.join('..', 'dumps', 'kc_house_data_prepared.npz'))\n",
    "y_filepath = os.path.abspath(os.path.join('..', 'dumps', 'kc_housed_data_prediction.npy'))\n",
    "train_set_filepath = os.path.abspath(os.path.join('..', 'dumps', 'kc_housed_data_train_set.csv'))\n",
    "test_set_filepath = os.path.abspath(os.path.join('..', 'dumps', 'kc_housed_data_test_set.csv'))\n",
    "pipeline_filepath = os.path.abspath(os.path.join('..', 'dumps', 'full_preprocessing_pipeline'))\n",
    "\n",
    "# create the \"dumps\" directory if it does not exist\n",
    "os.makedirs(os.path.abspath(os.path.join('..', 'dumps')), exist_ok=True)\n",
    "\n",
    "with open(pipeline_filepath, 'wb') as file_handle:\n",
    "    pickle.dump(full_pipeline, file_handle)\n",
    "    \n",
    "print(type(strat_train_set), type(strat_test_set))\n",
    "\n",
    "save_npz(X_filepath, housing_prepared)\n",
    "np.save(y_filepath, housing_labels)\n",
    "strat_train_set.to_csv(train_set_filepath)\n",
    "strat_test_set.to_csv(test_set_filepath)\n",
    "# np.save(train_set_filepath, strat_train_set)\n",
    "# np.save(test_set_filepath, strat_test_set)\n",
    "\"\"\""
   ]
  },
  {
   "cell_type": "code",
   "execution_count": null,
   "metadata": {},
   "outputs": [],
   "source": [
    "\"\"\"\n",
    "some_data = strat_train_set.iloc[:10]\n",
    "some_labels = strat_test_set.iloc[:10]\n",
    "preprocessed_some_data = full_pipeline.transform(some_data)\n",
    "\"\"\""
   ]
  },
  {
   "cell_type": "markdown",
   "metadata": {},
   "source": [
    "## 5. Select and train a model - Regression\n",
    "\n",
    "\n",
    "We will start by looking at the Linear Regression model, the simplest Regression model there is. There are two different ways to train it:\n",
    "\n",
    "* Using a direct “closed-form” equation that directly computes the model parameters that best fit the model to the training set (i.e., the model parameters that minimize the cost function over the training set).\n",
    "\n",
    "* Using an iterative optimization approach called Gradient Descent (GD) that gradually tweaks the model parameters to minimize the cost function over the training set, eventually converging to the same set of parameters as the first method. We will look at a few variants of Gradient Descent: Batch GD, Mini-batch GD, and Stochastic GD. This will be used again later on, when we will be seeing Neural Networks"
   ]
  },
  {
   "cell_type": "code",
   "execution_count": null,
   "metadata": {},
   "outputs": [],
   "source": [
    "# For now we will only use the numerical fields and discard the categorical field \"zipcode\"\n",
    "housing_num"
   ]
  },
  {
   "cell_type": "code",
   "execution_count": null,
   "metadata": {},
   "outputs": [],
   "source": [
    "housing_labels"
   ]
  },
  {
   "cell_type": "code",
   "execution_count": null,
   "metadata": {},
   "outputs": [],
   "source": [
    "# transform_housing_rows cleans-up and feature-engineers our dataset\n",
    "housing_num_tr = transform_housing_rows(housing_num)\n",
    "\n",
    "# num_pipeline does (1) imputing: replaces missing values with the median value for the feature\n",
    "# and (2) standardizes features by removing the mean and scaling to unit variance.\n",
    "housing_prepared = num_pipeline.fit_transform(housing_num_tr)\n",
    "housing_prepared.shape"
   ]
  },
  {
   "cell_type": "markdown",
   "metadata": {},
   "source": [
    "### 5.1 Linear Regression - Closed form solution: Normal Equation \n",
    "\n",
    "We will use the `LinearRegression` class from `scikit-learn`"
   ]
  },
  {
   "cell_type": "code",
   "execution_count": null,
   "metadata": {},
   "outputs": [],
   "source": [
    "from sklearn.linear_model import LinearRegression\n",
    "lin_reg = LinearRegression()\n",
    "lin_reg.fit(housing_prepared, housing_labels)\n",
    "lin_reg.intercept_, lin_reg.coef_"
   ]
  },
  {
   "cell_type": "code",
   "execution_count": null,
   "metadata": {},
   "outputs": [],
   "source": [
    "len(lin_reg.coef_)"
   ]
  },
  {
   "cell_type": "markdown",
   "metadata": {},
   "source": [
    "Let’s try it out on a few instances from the training set:"
   ]
  },
  {
   "cell_type": "code",
   "execution_count": null,
   "metadata": {},
   "outputs": [],
   "source": [
    "some_data = housing_num.iloc[:10]\n",
    "some_labels = housing_labels.iloc[:10]\n",
    "preprocessed_some_data = num_pipeline.transform(\n",
    "    transform_housing_rows(some_data)\n",
    ")"
   ]
  },
  {
   "cell_type": "code",
   "execution_count": null,
   "metadata": {},
   "outputs": [],
   "source": [
    "print(\"Predictions:\", lin_reg.predict(preprocessed_some_data))\n",
    "print(\"Labels:\", list(some_labels))"
   ]
  },
  {
   "cell_type": "markdown",
   "metadata": {},
   "source": [
    "It mostly works, although the predictions are not exactly accurate. Let’s measure this regression model’s RMSE on the whole training set using Scikit-Learn’s `mean_squared_error()` function and computing its square root:"
   ]
  },
  {
   "cell_type": "code",
   "execution_count": null,
   "metadata": {},
   "outputs": [],
   "source": [
    "from sklearn.metrics import mean_squared_error\n",
    "housing_predictions = lin_reg.predict(housing_prepared)\n",
    "lin_mse = mean_squared_error(housing_labels, housing_predictions)\n",
    "lin_mse"
   ]
  },
  {
   "cell_type": "code",
   "execution_count": null,
   "metadata": {},
   "outputs": [],
   "source": [
    "lin_rmse = np.sqrt(lin_mse)\n",
    "lin_rmse"
   ]
  },
  {
   "cell_type": "markdown",
   "metadata": {},
   "source": [
    "This is an example of a model underfitting the training data. When this happens it can mean that the features do not provide enough information to make good predictions, or that the model is not powerful enough. As we saw in the previous chapter, the main ways to fix underfitting are to select a more powerful model, to feed the training algorithm with better features, or to reduce the constraints on the model"
   ]
  },
  {
   "cell_type": "markdown",
   "metadata": {},
   "source": [
    "### 5.2 Linear Regression -  Gradient Descent\n",
    "\n",
    "Gradient Descent is a generic optimization algorithm capable of finding optimal solutions to a wide range of problems. The concept behind Gradient Descent is to modify parameters iteratively to minimize a cost function.\n",
    "\n",
    "The MSE cost function for a Linear Regression model is a convex function, which means that if you pick any two points on the curve, the line segment joining them never crosses the curve. This implies that there are no local minima, just one global minimum. It is also a continuous function with a slope that never changes abruptly."
   ]
  },
  {
   "cell_type": "markdown",
   "metadata": {},
   "source": [
    "#### 5.2.1 Batch Gradient Descent\n",
    "\n",
    "No example on this."
   ]
  },
  {
   "cell_type": "markdown",
   "metadata": {},
   "source": [
    "#### 5.2.2 Stochastic Gradient Descent\n",
    "\n",
    "To perform Linear Regression using Stochastic GD with Scikit-Learn, you can use the `SGDRegressor` class. It defaults to optimizing the squared error cost function. "
   ]
  },
  {
   "cell_type": "code",
   "execution_count": null,
   "metadata": {},
   "outputs": [],
   "source": [
    "from sklearn.linear_model import SGDRegressor\n",
    "sgd_reg = SGDRegressor(\n",
    "    loss=\"squared_error\", # default cost function (MSE)\n",
    "    max_iter=1000,   # maximum number of passes over the training data (aka epochs)\n",
    "    penalty=None, # no regularisation\n",
    "    eta0=0.01,  # initial learning rate\n",
    "    tol=1e-3,   # stopping criterion tolerance. stop searching for a minimum \n",
    "                # (or maximum) once some tolerance is achieved, i.e. \n",
    "                # once you're close enough.\n",
    ")\n",
    "sgd_reg.fit(housing_prepared, housing_labels)\n",
    "print('SGD Regressor intercept: {}'.format(sgd_reg.intercept_))\n",
    "print('SGD Regressor coefficient: {}'.format(sgd_reg.coef_))"
   ]
  },
  {
   "cell_type": "code",
   "execution_count": null,
   "metadata": {},
   "outputs": [],
   "source": [
    "housing_predictions = sgd_reg.predict(housing_prepared)\n",
    "sgd_mse = mean_squared_error(housing_labels, housing_predictions)\n",
    "sgd_rmse = np.sqrt(lin_mse)\n",
    "sgd_rmse"
   ]
  },
  {
   "cell_type": "markdown",
   "metadata": {},
   "source": [
    "### Learning curves\n",
    "\n",
    "Learning curves are a way to check whether your algorithm is learning properly. They are plots of the model's performance on the train and validation set as a function of the number of training iterations (or the size of the training set)."
   ]
  },
  {
   "cell_type": "code",
   "execution_count": null,
   "metadata": {},
   "outputs": [],
   "source": [
    "from sklearn.metrics import mean_squared_error\n",
    "from sklearn.model_selection import train_test_split\n",
    "from sklearn.utils._testing import ignore_warnings\n",
    "from sklearn.exceptions import ConvergenceWarning\n",
    "import seaborn as sns\n",
    "\n",
    "@ignore_warnings(category=ConvergenceWarning)\n",
    "def plot_learning_curves(model, X, y, max_training_samples=None):\n",
    "    X_train, X_val, y_train, y_val = train_test_split(\n",
    "        X, y, test_size=0.2\n",
    "    )\n",
    "    train_errors, val_errors = [], []\n",
    "    # for training set size from 1 to max_training_samples\n",
    "    for m in range(1, min(len(X_train), max_training_samples)):\n",
    "        # train a new model\n",
    "        model.fit(X_train[:m], y_train[:m])\n",
    "        # make predictions on the training and validation set\n",
    "        y_train_predict = model.predict(X_train[:m])\n",
    "        y_val_predict = model.predict(X_val)\n",
    "        # compute the MSE on the training and validation set\n",
    "        train_errors.append(\n",
    "            mean_squared_error(y_train[:m], y_train_predict)\n",
    "        )\n",
    "        val_errors.append(\n",
    "            mean_squared_error(y_val, y_val_predict)\n",
    "        )\n",
    "    fig, ax = plt.subplots(figsize=(16,10))\n",
    "    # plot our performance metric (i.e. the RMSE)\n",
    "    sns.lineplot(data=np.sqrt(train_errors), linewidth=2, label=\"train\", ax=ax)\n",
    "    sns.lineplot(data=np.sqrt(val_errors), linewidth=2, label=\"val\", ax=ax)"
   ]
  },
  {
   "cell_type": "code",
   "execution_count": null,
   "metadata": {},
   "outputs": [],
   "source": [
    "%%time\n",
    "plot_learning_curves(\n",
    "    sgd_reg, housing_prepared, housing_labels, max_training_samples=5000\n",
    ")"
   ]
  },
  {
   "cell_type": "markdown",
   "metadata": {},
   "source": [
    "Training and validation set actually have the same RMSE for $n_{samples} > 100$ but we can see that the RMSE flattens and does not keep decreasing. This means that the model is underfitting the training data.\n",
    "\n",
    "If the model were overfitting the data you would notice a gap between the training and the validation curve (i.e. the validation error would be consistently greater than the training error)"
   ]
  },
  {
   "cell_type": "markdown",
   "metadata": {},
   "source": [
    "<b>Exercise 6:</b> Initialize and train a `SGDRegressor` named `sgd_reg` with initial learning rate of $0.005$, `penalty` set to `None`, training for a maximum of 500 epochs over all the dataset. Then, pass the model and the input data and the output labels to the `plot_learning_curves()` function, setting its `max_training_samples` argument to $5000$. What is it plotting?"
   ]
  },
  {
   "cell_type": "code",
   "execution_count": null,
   "metadata": {},
   "outputs": [],
   "source": [
    "## Write your solution here:\n"
   ]
  },
  {
   "cell_type": "markdown",
   "metadata": {},
   "source": [
    "### 5.3 Polynomial Regression"
   ]
  },
  {
   "attachments": {
    "image.png": {
     "image/png": "[encoded data removed]"
    }
   },
   "cell_type": "markdown",
   "metadata": {},
   "source": [
    "What if your data is more complex than a straight line (or an (N-1)-dimensional plane in an N-dimensional space)? Surprisingly, you can use a linear model to fit nonlinear data. This can be done with Polynomial Regression.\n",
    "\n",
    "Polynomial regression relies on polynomial features, which can get features’ high-order and interaction terms. \n",
    "\n",
    "![image.png](attachment:image.png)\n",
    "\n",
    "For instance if you have the features $X$ $Y$, polynomial features up to degree 2 will be $1$, $X$, $Y$, $X^2$, $XY$ $Y^2$.\n",
    "\n",
    "Polynomial features up to degree 3 will be $1$, $X$, $Y$, $X^2$, $XY$ $Y^2$, $X^3$, $X^2Y$, $XY^2$, $Y^3$.\n",
    "\n"
   ]
  },
  {
   "cell_type": "code",
   "execution_count": null,
   "metadata": {},
   "outputs": [],
   "source": [
    "from sklearn.preprocessing import PolynomialFeatures\n",
    "poly_features = PolynomialFeatures(degree=3, include_bias=False)\n",
    "housing_poly = poly_features.fit_transform(housing_prepared)"
   ]
  },
  {
   "cell_type": "code",
   "execution_count": null,
   "metadata": {},
   "outputs": [],
   "source": [
    "housing_prepared[0].shape"
   ]
  },
  {
   "cell_type": "code",
   "execution_count": null,
   "metadata": {},
   "outputs": [],
   "source": [
    "housing_poly.shape"
   ]
  },
  {
   "cell_type": "code",
   "execution_count": null,
   "metadata": {},
   "outputs": [],
   "source": [
    "230/20"
   ]
  },
  {
   "cell_type": "code",
   "execution_count": null,
   "metadata": {},
   "outputs": [],
   "source": [
    "lin_reg = LinearRegression()\n",
    "lin_reg.fit(housing_poly, housing_labels)\n",
    "lin_reg.intercept_, lin_reg.coef_"
   ]
  },
  {
   "cell_type": "code",
   "execution_count": null,
   "metadata": {},
   "outputs": [],
   "source": [
    "housing_predictions = lin_reg.predict(\n",
    "    poly_features.transform(housing_prepared)\n",
    ")\n",
    "poly_mse = mean_squared_error(\n",
    "    housing_labels, housing_predictions\n",
    ")\n",
    "poly_rmse = np.sqrt(poly_mse)\n",
    "poly_rmse"
   ]
  },
  {
   "cell_type": "markdown",
   "metadata": {},
   "source": [
    "We could see how the RMSE is with respect to the min-max range of prices (\"labels\") in our dataset."
   ]
  },
  {
   "cell_type": "code",
   "execution_count": null,
   "metadata": {},
   "outputs": [],
   "source": [
    "print('Lower housing price {}'.format(housing_labels.min()))\n",
    "print('Higher housing price {}'.format(housing_labels.max()))\n",
    "poly_rmse / (housing_labels.max() - housing_labels.min())"
   ]
  },
  {
   "cell_type": "markdown",
   "metadata": {},
   "source": [
    "We could see how the RMSE is with respect to the min-max range of prices (\"labels\") in our dataset."
   ]
  },
  {
   "cell_type": "code",
   "execution_count": null,
   "metadata": {},
   "outputs": [],
   "source": [
    "print('Q1 = {}'.format(housing_labels.quantile(0.25)))\n",
    "print('Q3 = {}'.format(housing_labels.quantile(0.75)))\n",
    "poly_rmse / (housing_labels.quantile(0.75) - housing_labels.quantile(0.25))"
   ]
  },
  {
   "cell_type": "code",
   "execution_count": null,
   "metadata": {},
   "outputs": [],
   "source": [
    "some_data = housing_num.iloc[:10]\n",
    "some_labels = housing_labels.iloc[:10]\n",
    "preprocessed_some_data = num_pipeline.transform(\n",
    "    transform_housing_rows(some_data)\n",
    ")\n",
    "print(\"Predictions:\", lin_reg.predict(\n",
    "    poly_features.transform(preprocessed_some_data)\n",
    "))\n",
    "print(\"Labels:\", list(some_labels))"
   ]
  },
  {
   "cell_type": "markdown",
   "metadata": {},
   "source": [
    "Adding many polynomial features can increase the complexity of your model, which can cause overfitting.\n",
    "\n",
    "To solve overfitting you will have to rely on regularization techniques, such as Ridge or Lasso Regularization (see below)"
   ]
  },
  {
   "cell_type": "markdown",
   "metadata": {},
   "source": [
    "### 5.3.1 Using Cross Validation\n",
    "\n",
    "Let's try and use the function `sklearn.model_selection.cross_val_score()` to evaluate our Polynomial Regression model on the training set using a 10-fold cross-validation with RMSE as a score. Print out the mean value and the standard deviation of the RMSE across the 10 validation iterations"
   ]
  },
  {
   "cell_type": "code",
   "execution_count": null,
   "metadata": {},
   "outputs": [],
   "source": [
    "import time\n",
    "from sklearn.model_selection import cross_val_score\n",
    "start = time.time()\n",
    "scores = cross_val_score(\n",
    "    lin_reg, # model we want to train\n",
    "    housing_poly, # features\n",
    "    housing_labels, # labels\n",
    "    scoring='neg_mean_squared_error', # -MSE\n",
    "    cv=10\n",
    ")"
   ]
  },
  {
   "cell_type": "code",
   "execution_count": null,
   "metadata": {},
   "outputs": [],
   "source": [
    "scores"
   ]
  },
  {
   "cell_type": "code",
   "execution_count": null,
   "metadata": {},
   "outputs": [],
   "source": [
    "poly_rmse_scores = np.sqrt(-scores)"
   ]
  },
  {
   "cell_type": "code",
   "execution_count": null,
   "metadata": {},
   "outputs": [],
   "source": [
    "poly_rmse_scores.mean()"
   ]
  },
  {
   "cell_type": "code",
   "execution_count": null,
   "metadata": {},
   "outputs": [],
   "source": [
    "poly_rmse_scores.std()"
   ]
  },
  {
   "cell_type": "code",
   "execution_count": null,
   "metadata": {},
   "outputs": [],
   "source": [
    "# You can also use this function to print out mean value and std of the scores\n",
    "def display_scores(scores):\n",
    "    print(\"Scores:\", scores)\n",
    "    print(\"Mean:\", \"{0:.2f}\".format(scores.mean()))\n",
    "    print(\"Standard deviation:\", \"{0:.2f}\".format(scores.std()))"
   ]
  },
  {
   "cell_type": "code",
   "execution_count": null,
   "metadata": {},
   "outputs": [],
   "source": [
    "display_scores(poly_rmse_scores) "
   ]
  },
  {
   "cell_type": "markdown",
   "metadata": {},
   "source": [
    "If I want to try more scoring metrics at once while performing cross-validation, and I want to get more information than just the scores themselves I can use `sklearn.model_selection.cross_validate()`."
   ]
  },
  {
   "cell_type": "code",
   "execution_count": null,
   "metadata": {},
   "outputs": [],
   "source": [
    "from sklearn.model_selection import cross_validate, KFold\n",
    "start = time.time()\n",
    "n_splits = 10\n",
    "k_fold = KFold(n_splits=n_splits, shuffle=True, random_state=42)\n",
    "cv_res = cross_validate(\n",
    "    lin_reg,\n",
    "    housing_poly,\n",
    "    housing_labels,\n",
    "    scoring=['neg_mean_squared_error', 'r2'],\n",
    "    cv=k_fold\n",
    ")\n",
    "end = time.time()\n",
    "print(\"Duration: {} s\".format(end - start))"
   ]
  },
  {
   "cell_type": "code",
   "execution_count": null,
   "metadata": {},
   "outputs": [],
   "source": [
    "cv_res"
   ]
  },
  {
   "cell_type": "code",
   "execution_count": null,
   "metadata": {},
   "outputs": [],
   "source": [
    "poly_rmse_scores = np.sqrt(-cv_res['test_neg_mean_squared_error'])\n",
    "display_scores(poly_rmse_scores) "
   ]
  },
  {
   "cell_type": "markdown",
   "metadata": {},
   "source": [
    "<b>Exercise 7:</b> Use the function `sklearn.model_selection.cross_val_score()` to evaluate our Stochastic Gradienr Regressor model on the training set using a 5-fold cross-validation using the mean absolute error (MAE) as a score. Print out the mean value and the standard deviation of the mean absolute error across the 5 validation iterations"
   ]
  },
  {
   "cell_type": "code",
   "execution_count": null,
   "metadata": {},
   "outputs": [],
   "source": [
    "# Write your solution here\n"
   ]
  },
  {
   "cell_type": "markdown",
   "metadata": {},
   "source": [
    "### 5.5 Ridge Regression\n",
    "\n",
    "Ridge Regression is a regularized version of the Linear Regression algorithm: we add to the cost function a regularization term. This term for Ridge is equal to $ \\alpha \\sum_{i=1}^{N}{\\theta_i^2} $. This means that it forces the learning algorithm to fit not only the data but also keep the model weights as small as possible. An important thing to note that the regularization term should only be added to the cost function during training. Once the model is trained, you want to use the unregularized performance measure to evaluate the model’s performance.\n",
    "\n",
    "Ridge regression is a type of $\\ell_2$ regularisation, because the regularisation term is equal to half the square of the $\\ell_2$ norm of the weight vector."
   ]
  },
  {
   "cell_type": "code",
   "execution_count": null,
   "metadata": {},
   "outputs": [],
   "source": [
    "from sklearn.linear_model import Ridge\n",
    "ridge_reg = Ridge(alpha=100000, solver=\"cholesky\")\n",
    "cv_res = cross_validate(\n",
    "    ridge_reg,\n",
    "    housing_poly,\n",
    "    housing_labels,\n",
    "    scoring=['neg_mean_squared_error', 'r2'],\n",
    "    cv=k_fold\n",
    ")\n",
    "cv_res"
   ]
  },
  {
   "cell_type": "code",
   "execution_count": null,
   "metadata": {},
   "outputs": [],
   "source": [
    "ridge_rmse_scores = np.sqrt(-cv_res['test_neg_mean_squared_error'])\n",
    "display_scores(ridge_rmse_scores) "
   ]
  },
  {
   "cell_type": "markdown",
   "metadata": {},
   "source": [
    "### 5.6  Lasso Regression [skip]"
   ]
  },
  {
   "cell_type": "markdown",
   "metadata": {},
   "source": [
    "Lasso Regression is a regularized version of the Linear Regression algorithm: we add to the cost function a regularization term. This term for Lasso is equal to $ \\alpha \\sum_{i=1}^{N}{\\mid \\theta_i \\mid} $.\n",
    "\n",
    "\n",
    "Lasso regression is a type of $\\ell_1$ regularisation, because the regularisation term is equal to the $\\ell_1$ norm of the weight vector."
   ]
  },
  {
   "cell_type": "markdown",
   "metadata": {},
   "source": [
    "### 5.7 Elastic Net [skip]\n",
    "\n",
    "ElasticNet combines $\\ell_1$ and $\\ell_2$ regularisation."
   ]
  },
  {
   "cell_type": "code",
   "execution_count": null,
   "metadata": {},
   "outputs": [],
   "source": [
    "from sklearn.linear_model import ElasticNet\n",
    "el_net = ElasticNet(alpha=100000, l1_ratio=0.01, max_iter=10000)\n",
    "cv_res = cross_validate(\n",
    "    el_net,\n",
    "    housing_poly,\n",
    "    housing_labels,\n",
    "    scoring=['neg_mean_squared_error', 'r2'],\n",
    "    cv=k_fold\n",
    ")\n",
    "cv_res"
   ]
  },
  {
   "cell_type": "code",
   "execution_count": null,
   "metadata": {},
   "outputs": [],
   "source": [
    "elnet_rmse_scores = np.sqrt(-cv_res['test_neg_mean_squared_error'])\n",
    "display_scores(elnet_rmse_scores) "
   ]
  },
  {
   "cell_type": "markdown",
   "metadata": {},
   "source": [
    "### 5.8 Decision Trees "
   ]
  },
  {
   "cell_type": "code",
   "execution_count": null,
   "metadata": {},
   "outputs": [],
   "source": [
    "from sklearn.tree import DecisionTreeRegressor\n",
    "dtree = DecisionTreeRegressor()\n",
    "cv_res = cross_validate(\n",
    "    dtree,\n",
    "    housing_num,\n",
    "    housing_labels,\n",
    "    scoring=['neg_mean_squared_error', 'r2'],\n",
    "    cv=k_fold\n",
    ")\n",
    "cv_res"
   ]
  },
  {
   "cell_type": "code",
   "execution_count": null,
   "metadata": {},
   "outputs": [],
   "source": [
    "dtree_rmse_scores = np.sqrt(-cv_res['test_neg_mean_squared_error'])\n",
    "display_scores(dtree_rmse_scores) "
   ]
  },
  {
   "cell_type": "code",
   "execution_count": null,
   "metadata": {},
   "outputs": [],
   "source": [
    "dtree_5 = DecisionTreeRegressor(max_depth=2)\n",
    "most_important_feats =['sqft_living', 'grade', 'sqft_living15']\n",
    "dtree_5.fit(housing_num[most_important_feats], housing_labels)"
   ]
  },
  {
   "cell_type": "code",
   "execution_count": null,
   "metadata": {},
   "outputs": [],
   "source": [
    "from sklearn.tree import export_graphviz\n",
    "os.makedirs(os.path.abspath(os.path.join(\"..\", \"output\")), exist_ok=True)\n",
    "export_graphviz(\n",
    "    dtree_5,\n",
    "    out_file=os.path.abspath(os.path.join(\"..\", \"output\", \"kc-dtree.dot\")),\n",
    "    feature_names=most_important_feats,\n",
    "    # class_names=iris.target_names,\n",
    "    rounded=True,\n",
    "    filled=True\n",
    ")"
   ]
  },
  {
   "cell_type": "code",
   "execution_count": null,
   "metadata": {},
   "outputs": [],
   "source": [
    "from sklearn.tree import plot_tree\n",
    "fig, ax = plt.subplots(figsize=(18,12))\n",
    "res = plot_tree(\n",
    "    dtree_5, \n",
    "    feature_names=most_important_feats, \n",
    "    rounded=True, \n",
    "    filled=True, \n",
    "    ax=ax,\n",
    "    fontsize=18\n",
    ")"
   ]
  },
  {
   "cell_type": "markdown",
   "metadata": {},
   "source": [
    "### 5.8 Random Forests"
   ]
  },
  {
   "cell_type": "code",
   "execution_count": null,
   "metadata": {},
   "outputs": [],
   "source": [
    "from sklearn.ensemble import RandomForestRegressor\n",
    "forest_regr = RandomForestRegressor(n_estimators=10) # new default numnber of estimators is 100 since 0.22\n",
    "start = time.time()\n",
    "cv_res = cross_validate(\n",
    "    forest_regr,\n",
    "    housing_num,\n",
    "    housing_labels,\n",
    "    scoring=['neg_mean_squared_error', 'r2'],\n",
    "    cv=k_fold\n",
    ")\n",
    "end = time.time()\n",
    "print(\"Duration: {} s\".format(end - start))\n",
    "cv_res"
   ]
  },
  {
   "cell_type": "code",
   "execution_count": null,
   "metadata": {},
   "outputs": [],
   "source": [
    "forest_rmse_scores = np.sqrt(-cv_res['test_neg_mean_squared_error'])\n",
    "display_scores(forest_rmse_scores)"
   ]
  },
  {
   "cell_type": "markdown",
   "metadata": {},
   "source": [
    "## 6. Fine-tuning of your model"
   ]
  },
  {
   "cell_type": "markdown",
   "metadata": {},
   "source": [
    "### 6.1 Grid Search "
   ]
  },
  {
   "cell_type": "code",
   "execution_count": null,
   "metadata": {},
   "outputs": [],
   "source": [
    "from sklearn.model_selection import GridSearchCV\n",
    "\n",
    "param_grid = [\n",
    "    {\n",
    "        'n_estimators': [3, 10, 30], \n",
    "        'max_features': [2, 4, 6, 8]\n",
    "    },\n",
    "    {\n",
    "        'bootstrap': [False], \n",
    "        'n_estimators': [3, 10], \n",
    "        'max_features': [2, 3, 4]\n",
    "    },\n",
    "]\n",
    "\n",
    "forest_regr = RandomForestRegressor()\n",
    "grid_search = GridSearchCV(\n",
    "    forest_regr, param_grid, cv=5,\n",
    "    scoring='neg_mean_squared_error', return_train_score=True\n",
    ")"
   ]
  },
  {
   "cell_type": "code",
   "execution_count": null,
   "metadata": {},
   "outputs": [],
   "source": [
    "grid_search.fit(housing_prepared, housing_labels)"
   ]
  },
  {
   "cell_type": "code",
   "execution_count": null,
   "metadata": {},
   "outputs": [],
   "source": [
    "grid_search.best_params_"
   ]
  },
  {
   "cell_type": "code",
   "execution_count": null,
   "metadata": {},
   "outputs": [],
   "source": [
    "grid_search.best_estimator_"
   ]
  },
  {
   "cell_type": "code",
   "execution_count": null,
   "metadata": {},
   "outputs": [],
   "source": [
    "cv_res = grid_search.cv_results_\n",
    "for mean_score, params in zip(\n",
    "    cv_res['mean_test_score'], \n",
    "    cv_res['params']\n",
    "):\n",
    "    print(np.sqrt(-mean_score), params)"
   ]
  },
  {
   "cell_type": "markdown",
   "metadata": {},
   "source": [
    "### 6.2 Randomized Search"
   ]
  },
  {
   "cell_type": "markdown",
   "metadata": {},
   "source": [
    "From https://scikit-learn.org/stable/modules/grid_search.html#randomized-parameter-search\n",
    "\n",
    "While using a grid of parameter settings is currently the most widely used method for parameter optimization, other search methods have more favourable properties. `RandomizedSearchCV` implements a randomized search over parameters, where each setting is sampled from a distribution over possible parameter values. This has two main benefits over an exhaustive search:\n",
    "\n",
    "* A budget can be chosen independent of the number of parameters and possible values.\n",
    "* Adding parameters that do not influence the performance does not decrease efficiency.\n",
    "\n",
    "Specifying how parameters should be sampled is done using a dictionary, very similar to specifying parameters for `GridSearchCV`."
   ]
  },
  {
   "cell_type": "markdown",
   "metadata": {},
   "source": [
    "### 6.3 Ensemble Methods\n",
    "\n",
    "A possible way to fine tune your model is just to combine the models that perform best. You can get a good ensemble estimator out of a bunch of sloppy estimators. Random Forests are just an ensemble of Decision Trees trained on a random subset of the training set. Check the `sklearn.ensemble` module for more Ensemble Methods."
   ]
  },
  {
   "cell_type": "markdown",
   "metadata": {},
   "source": [
    "## 7. Evaluate Your System on the Test Set"
   ]
  },
  {
   "cell_type": "markdown",
   "metadata": {},
   "source": [
    "After trying various your models and hyperparameter combinations you will eventually have an algorithm that performs sufficiently well. At this point the time comes to evaluate the final model on the test set. \n",
    "\n",
    "<b>Exercise 8:</b> Evaluate your best model on the test set we held out at the beginning of our analysis pipeline. What performance do you get? Is that what you expected?"
   ]
  },
  {
   "cell_type": "code",
   "execution_count": null,
   "metadata": {},
   "outputs": [],
   "source": []
  },
  {
   "cell_type": "markdown",
   "metadata": {},
   "source": [
    "## 8. Deploy, Monitor, and Maintain Your System"
   ]
  },
  {
   "cell_type": "markdown",
   "metadata": {},
   "source": [
    "At this stage you could think of wrapping the chosen model within a dedicated web service that your web application can access through a Web API. But this is the subject for another course!!"
   ]
  },
  {
   "cell_type": "markdown",
   "metadata": {},
   "source": [
    "### This is the end of the demo for Week 2!!\n",
    "See you next week"
   ]
  },
  {
   "cell_type": "code",
   "execution_count": null,
   "metadata": {},
   "outputs": [],
   "source": []
  }
 ],
 "metadata": {
  "kernelspec": {
   "display_name": "Python 3 (ipykernel)",
   "language": "python",
   "name": "python3"
  },
  "language_info": {
   "codemirror_mode": {
    "name": "ipython",
    "version": 3
   },
   "file_extension": ".py",
   "mimetype": "text/x-python",
   "name": "python",
   "nbconvert_exporter": "python",
   "pygments_lexer": "ipython3",
   "version": "3.10.4"
  }
 },
 "nbformat": 4,
 "nbformat_minor": 2
}
