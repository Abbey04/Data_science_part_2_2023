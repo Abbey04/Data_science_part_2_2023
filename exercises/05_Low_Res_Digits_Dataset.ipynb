{
 "cells": [
  {
   "cell_type": "markdown",
   "id": "3cd74318",
   "metadata": {},
   "source": [
    "## Low-res digits dataset\n",
    "\n",
    "We'll try and replicate some of the classification tasks we did for MNIST with the digits dataset.\n",
    "\n",
    "Exercise. Implement a Binary classifier able to recognize the 8 digit:\n",
    "* load the digits dataset (done for you)\n",
    "* have a look the digits dataset\n",
    "* split train and test set\n",
    "* prepare the data for the model training\n",
    "* train 3 models in cross-validation and plot the ROC curves. The three models are:\n",
    "    * an SGD classifier fitting a linear support vector machine\n",
    "    * a 7-Nearest Neighbour classifier\n",
    "    * a (non-linear) support vector machine\n",
    "    \n",
    "Which is the most performant, if evaluated using a ROC curve? Which one of the three would you choose?"
   ]
  },
  {
   "cell_type": "markdown",
   "id": "bf5533df",
   "metadata": {},
   "source": [
    "## Setup"
   ]
  },
  {
   "cell_type": "code",
   "execution_count": null,
   "id": "fd79d85a",
   "metadata": {},
   "outputs": [],
   "source": [
    "# Python ≥3.8 is required\n",
    "import sys\n",
    "assert sys.version_info >= (3, 8)\n",
    "\n",
    "# Scikit-Learn ≥1.0 is required\n",
    "import sklearn\n",
    "assert sklearn.__version__ >= \"1.0\"\n",
    "\n",
    "# Common imports\n",
    "import numpy as np\n",
    "import pandas as pd\n",
    "import os\n",
    "\n",
    "# To plot pretty figures\n",
    "%matplotlib inline\n",
    "import matplotlib as mpl\n",
    "import matplotlib.pyplot as plt\n",
    "mpl.rc('axes', labelsize=14)\n",
    "mpl.rc('xtick', labelsize=12)\n",
    "mpl.rc('ytick', labelsize=12)\n",
    "\n",
    "from time import time\n",
    "\n",
    "# Ignore useless warnings (see SciPy issue #5998)\n",
    "import warnings\n",
    "warnings.filterwarnings(action=\"ignore\", message=\"^internal gelsd\")"
   ]
  },
  {
   "cell_type": "markdown",
   "id": "59f0264d",
   "metadata": {},
   "source": [
    "## 1. Load the FashionMNIST dataset"
   ]
  },
  {
   "cell_type": "code",
   "execution_count": null,
   "id": "d93332b3",
   "metadata": {},
   "outputs": [],
   "source": [
    "from sklearn.datasets import load_digits\n",
    "X, y = load_digits(return_X_y=True, as_frame=False)"
   ]
  },
  {
   "cell_type": "code",
   "execution_count": null,
   "id": "856e5bc8",
   "metadata": {},
   "outputs": [],
   "source": [
    "X"
   ]
  },
  {
   "cell_type": "code",
   "execution_count": null,
   "id": "980d8898",
   "metadata": {},
   "outputs": [],
   "source": [
    "X.shape"
   ]
  },
  {
   "cell_type": "code",
   "execution_count": null,
   "id": "012ed74b",
   "metadata": {},
   "outputs": [],
   "source": [
    "y.shape"
   ]
  },
  {
   "cell_type": "markdown",
   "id": "e0fb572a",
   "metadata": {},
   "source": [
    "### A couple of useful functions"
   ]
  },
  {
   "cell_type": "code",
   "execution_count": null,
   "id": "dc403019",
   "metadata": {},
   "outputs": [],
   "source": [
    "def show_digits(instances, size=28, images_per_row=10, **opts):\n",
    "    \"\"\"\n",
    "    Utility function to display the MNIST digits on a grid\n",
    "    \"\"\"\n",
    "    images_per_row = min(len(instances), images_per_row)\n",
    "    # convert images from 1-D to 2-D arrays\n",
    "    images = [instance.reshape(size, size) for instance in instances]\n",
    "    # compute how many rows you need in the grid\n",
    "    n_rows = (len(instances) - 1) // images_per_row + 1\n",
    "    row_images = []\n",
    "    # create empty \"dummy\" images to fill potential remaining slots at the end of the grid\n",
    "    n_empty = n_rows * images_per_row - len(instances)\n",
    "    images.append(np.zeros((size, size * n_empty)))\n",
    "    # concatenate all the images in a single grid image\n",
    "    for row in range(n_rows):\n",
    "        rimages = images[row * images_per_row : (row + 1) * images_per_row]\n",
    "        row_images.append(np.concatenate(rimages, axis=1))\n",
    "    image = np.concatenate(row_images, axis=0)\n",
    "    # plot the grid image\n",
    "    plt.imshow(image, cmap = mpl.cm.binary, **opts)\n",
    "    plt.axis(\"off\")"
   ]
  },
  {
   "cell_type": "code",
   "execution_count": null,
   "id": "3980643c",
   "metadata": {},
   "outputs": [],
   "source": [
    "def plot_roc_curve(fpr, tpr, label=None):\n",
    "    \"\"\"\n",
    "    This will be useful to plot the ROC curves afterwards\n",
    "    \"\"\"\n",
    "    plt.plot(fpr, tpr, linewidth=2, label=label)\n",
    "    plt.plot([0, 1], [0, 1], 'k--') \n",
    "    plt.axis([0, 1, 0, 1])\n",
    "    plt.xlabel('False Positive Rate (FPR)', fontsize=16)\n",
    "    plt.ylabel('True Positive Rate (TPR)', fontsize=16)\n",
    "    plt.grid(True)"
   ]
  },
  {
   "cell_type": "code",
   "execution_count": null,
   "id": "654c17e4",
   "metadata": {},
   "outputs": [],
   "source": [
    "### you can start from here..."
   ]
  }
 ],
 "metadata": {
  "kernelspec": {
   "display_name": "Python 3 (ipykernel)",
   "language": "python",
   "name": "python3"
  },
  "language_info": {
   "codemirror_mode": {
    "name": "ipython",
    "version": 3
   },
   "file_extension": ".py",
   "mimetype": "text/x-python",
   "name": "python",
   "nbconvert_exporter": "python",
   "pygments_lexer": "ipython3",
   "version": "3.10.4"
  }
 },
 "nbformat": 4,
 "nbformat_minor": 5
}
