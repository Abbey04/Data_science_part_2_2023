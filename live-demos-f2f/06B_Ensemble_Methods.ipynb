{
 "cells": [
  {
   "cell_type": "markdown",
   "id": "a7d0b314",
   "metadata": {},
   "source": [
    "# Ensemble Methods and Random Forests\n",
    "\n",
    "The idea behind ensemble methods is to combine the predictions of multiple models to get a better prediction.\n",
    "\n",
    "There are two approaches to build ensembe methods:\n",
    "* **averaging**: build several estimators independently (often training them only on a subset of samples and/or features) and then average their predictions (or use a majority-vote approach)\n",
    "    * Bagging methods\n",
    "    * Random forests\n",
    "* **boosting**: combine many weak predictors to get a strong predictor. Train the models sequentially: the successor model will try to correct the wrong predictions of its predecessor.\n",
    "    * AdaBoost\n",
    "    * Gradient Boosting\n",
    "    * XGBoost"
   ]
  },
  {
   "cell_type": "markdown",
   "id": "49afda26",
   "metadata": {},
   "source": [
    "## Setup"
   ]
  },
  {
   "cell_type": "code",
   "execution_count": null,
   "id": "0eb6ea15",
   "metadata": {},
   "outputs": [],
   "source": [
    "# Python ≥3.8 is required\n",
    "import sys\n",
    "assert sys.version_info >= (3, 8)\n",
    "\n",
    "# Scikit-Learn ≥ 1.0 is required\n",
    "import sklearn\n",
    "assert sklearn.__version__ >= \"1.0\"\n",
    "\n",
    "# Common imports\n",
    "import numpy as np\n",
    "import pandas as pd\n",
    "import os\n",
    "\n",
    "# To plot pretty figures\n",
    "%matplotlib inline\n",
    "import matplotlib as mpl\n",
    "import matplotlib.pyplot as plt\n",
    "mpl.rc('axes', labelsize=14)\n",
    "mpl.rc('xtick', labelsize=12)\n",
    "mpl.rc('ytick', labelsize=12)\n",
    "\n",
    "# Precision options\n",
    "np.set_printoptions(precision=2)\n",
    "pd.options.display.float_format = '{:.3f}'.format"
   ]
  },
  {
   "cell_type": "markdown",
   "id": "f264e428",
   "metadata": {},
   "source": [
    "### Bagging \n",
    "\n",
    "A Bagging classifier is an ensemble meta-estimator that fits base classifiers each on random subsets of the original dataset and then aggregate their individual predictions (either by voting or by averaging) to form a final prediction. Such a meta-estimator can typically be used as a way to reduce the variance of a black-box estimator (e.g., a decision tree), by introducing randomization into its construction procedure and then making an ensemble out of it.\n",
    "\n",
    "We'll train and test a bagging ensemble model based on 100 decision trees, using an artificially contructed dataset generated with the `sklearn.dataset.make_moons()` function.\n",
    "\n",
    "This will generate a non-linearly separable binary 2D dataset (the two classes are marked 0 and 1). We will also add some gaussian noise to the distribution."
   ]
  },
  {
   "cell_type": "code",
   "execution_count": null,
   "id": "d9a6444d",
   "metadata": {},
   "outputs": [],
   "source": [
    "from sklearn.datasets import make_moons\n",
    "X, y = make_moons(\n",
    "    n_samples=500,\n",
    "    noise=0.2 # standard deviation of Gaussian noise added to the data.\n",
    ")"
   ]
  },
  {
   "cell_type": "code",
   "execution_count": null,
   "id": "d2d594ff",
   "metadata": {},
   "outputs": [],
   "source": [
    "X[:, 0]"
   ]
  },
  {
   "cell_type": "code",
   "execution_count": null,
   "id": "236370f4",
   "metadata": {},
   "outputs": [],
   "source": [
    "y"
   ]
  },
  {
   "cell_type": "markdown",
   "id": "76e2bf13",
   "metadata": {},
   "source": [
    "If we plot the dataset, we can see that it generates two interleaving half circles."
   ]
  },
  {
   "cell_type": "code",
   "execution_count": null,
   "id": "6eb047b8",
   "metadata": {},
   "outputs": [],
   "source": [
    "import matplotlib.pyplot as plt\n",
    "_ = plt.scatter(\n",
    "    X[:, 0], \n",
    "    X[:, 1], \n",
    "    c=y,\n",
    "    alpha=0.5\n",
    ")"
   ]
  },
  {
   "cell_type": "markdown",
   "id": "8d7b3741",
   "metadata": {},
   "source": [
    "Let's split the dataset into training and test set, and then train a `BaggingClassifier` using 100 Decision Trees."
   ]
  },
  {
   "cell_type": "code",
   "execution_count": null,
   "id": "f947a710",
   "metadata": {},
   "outputs": [],
   "source": [
    "from sklearn.model_selection import train_test_split\n",
    "\n",
    "X_train, X_test, y_train, y_test = train_test_split(\n",
    "    X, y, test_size=0.2, random_state=77\n",
    ")"
   ]
  },
  {
   "cell_type": "code",
   "execution_count": null,
   "id": "37d826fd",
   "metadata": {},
   "outputs": [],
   "source": [
    "from sklearn.tree import DecisionTreeClassifier\n",
    "from sklearn.ensemble import BaggingClassifier\n",
    "\n",
    "bag_clf = BaggingClassifier(\n",
    "    base_estimator=DecisionTreeClassifier(),\n",
    "    n_estimators=100,\n",
    "    max_samples=100, # the namber of samples used to train each single classifier\n",
    "    bootstrap=True, # sampling is performed with replacement\n",
    "    n_jobs=-1 # number of estimators to run in parallel. If -1 use all processor\n",
    ")"
   ]
  },
  {
   "cell_type": "markdown",
   "id": "eb23d027",
   "metadata": {},
   "source": [
    "Let's train the model using 5-fold cross-validation. It is fair to use \"accuracy\" as a performance metric as our dataset is well balanced."
   ]
  },
  {
   "cell_type": "code",
   "execution_count": null,
   "id": "b5c44cdd",
   "metadata": {},
   "outputs": [],
   "source": [
    "from sklearn.model_selection import cross_val_score\n",
    "scores = cross_val_score(bag_clf, X_train, y_train, cv=5, scoring=\"accuracy\")"
   ]
  },
  {
   "cell_type": "code",
   "execution_count": null,
   "id": "12158558",
   "metadata": {},
   "outputs": [],
   "source": [
    "import numpy as np\n",
    "np.mean(scores)"
   ]
  },
  {
   "cell_type": "markdown",
   "id": "1649aa57",
   "metadata": {},
   "source": [
    "That looks not bad at all.\n",
    "\n",
    "## Random Forests\n",
    "\n",
    "Random Forests are an ensemble of decision trees generally trained using the bagging method, typically with `max_samples` set to the size of the training set.\n",
    "\n",
    "The `RandomForestClassifier` compared to the `BaggingClassifier` is optimized for decision trees. The Random Forest algorithm searches the best feature to split a node among a random subset of features rather than among all possible features. This extra randomness increases the resulting trees diversity, resulting into a higher bias and lower variance, and overall producing a more performant model.\n",
    "\n",
    "\n",
    "**Exercise:** Create a `RandomForestClassifier` with 80 decision trees, a max number of leaf nodes equal to 10, and that uses bootstrapping when sampling data for each estimator. Then train the classifier in 5-fold cross validation on our training set using a sensible evaluation metric."
   ]
  },
  {
   "cell_type": "code",
   "execution_count": null,
   "id": "f5a9c207",
   "metadata": {},
   "outputs": [],
   "source": [
    "## write your solution here:\n"
   ]
  },
  {
   "cell_type": "markdown",
   "id": "97d0f9d0",
   "metadata": {},
   "source": [
    "**Exercise:** evaluate the performance of the two approaches (`BaggingClassifier` and `RandomForestClassifier`) using different metrics, and argue which of the two yields the better result. You can also explore the hyperparameter space with grid or random search to find a good combination of hyperparameters."
   ]
  },
  {
   "cell_type": "code",
   "execution_count": null,
   "id": "35318b34",
   "metadata": {},
   "outputs": [],
   "source": [
    "# Write your solution here\n"
   ]
  },
  {
   "cell_type": "code",
   "execution_count": null,
   "id": "3d33ab4c",
   "metadata": {},
   "outputs": [],
   "source": []
  }
 ],
 "metadata": {
  "kernelspec": {
   "display_name": "Python 3 (ipykernel)",
   "language": "python",
   "name": "python3"
  },
  "language_info": {
   "codemirror_mode": {
    "name": "ipython",
    "version": 3
   },
   "file_extension": ".py",
   "mimetype": "text/x-python",
   "name": "python",
   "nbconvert_exporter": "python",
   "pygments_lexer": "ipython3",
   "version": "3.9.7"
  }
 },
 "nbformat": 4,
 "nbformat_minor": 5
}
