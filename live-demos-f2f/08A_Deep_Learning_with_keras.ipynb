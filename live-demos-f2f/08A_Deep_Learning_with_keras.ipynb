{
 "cells": [
  {
   "cell_type": "markdown",
   "metadata": {},
   "source": [
    "# Week 8: Introduction to Artificial Neural Networks with Keras"
   ]
  },
  {
   "cell_type": "markdown",
   "metadata": {},
   "source": [
    "This notebook is heavily inspired by Andre Guernon work, that can be found here: https://github.com/ageron/handson-ml/blob/master/10_introduction_to_artificial_neural_networks.ipynb"
   ]
  },
  {
   "cell_type": "markdown",
   "metadata": {},
   "source": [
    "## Setup"
   ]
  },
  {
   "cell_type": "code",
   "execution_count": null,
   "metadata": {},
   "outputs": [],
   "source": [
    "# Python ≥3.8 is required\n",
    "import sys\n",
    "assert sys.version_info >= (3, 8)\n",
    "\n",
    "# Scikit-Learn ≥ 1.0 is required\n",
    "import sklearn\n",
    "assert sklearn.__version__ >= \"1.0\"\n",
    "\n",
    "# Common imports\n",
    "import numpy as np\n",
    "import pandas as pd\n",
    "import os\n",
    "\n",
    "# To plot pretty figures\n",
    "%matplotlib inline\n",
    "import matplotlib as mpl\n",
    "import matplotlib.pyplot as plt\n",
    "mpl.rc('axes', labelsize=14)\n",
    "mpl.rc('xtick', labelsize=12)\n",
    "mpl.rc('ytick', labelsize=12)\n",
    "\n",
    "# Ignore useless warnings (see SciPy issue #5998)\n",
    "import warnings\n",
    "warnings.filterwarnings(action=\"ignore\", message=\"^internal gelsd\")"
   ]
  },
  {
   "cell_type": "markdown",
   "metadata": {},
   "source": [
    "## 1.  A quick overview of Tensorflow"
   ]
  },
  {
   "cell_type": "code",
   "execution_count": null,
   "metadata": {},
   "outputs": [],
   "source": [
    "## Install dependencies\n",
    "import tensorflow as tf\n",
    "from tensorflow import keras\n",
    "print('Tensorflow version', tf.__version__)\n",
    "print('Keras version', keras.__version__)\n",
    "warnings.filterwarnings(action=\"ignore\", message=\"^NUMA\")"
   ]
  },
  {
   "cell_type": "markdown",
   "metadata": {},
   "source": [
    "#### 1.0.1 Only if you have a GPU-enabled TensorFlow\n",
    "\n",
    "If you run TensorFlow on a GPU you may need to run the cell below to limit the GPU memory growth.\n",
    "\n",
    "See more details on TensorFlow's documentation: https://www.tensorflow.org/guide/gpu#limiting_gpu_memory_growth"
   ]
  },
  {
   "cell_type": "code",
   "execution_count": null,
   "metadata": {},
   "outputs": [],
   "source": [
    "gpus = tf.config.list_physical_devices('GPU')\n",
    "if gpus:\n",
    "  # Restrict TensorFlow to only use the first GPU\n",
    "  try:\n",
    "    tf.config.set_visible_devices(gpus[0], 'GPU')\n",
    "    logical_gpus = tf.config.list_logical_devices('GPU')\n",
    "    print(len(gpus), \"Physical GPUs,\", len(logical_gpus), \"Logical GPU\")\n",
    "  except RuntimeError as e:\n",
    "    # Visible devices must be set before GPUs have been initialized\n",
    "    print(e)"
   ]
  },
  {
   "cell_type": "markdown",
   "metadata": {},
   "source": [
    "### 1.1 `tf.Tensor` - Tensors in TensorFlow\n",
    "\n",
    "What is a tensor? Just a generalization of the concept of vectors beyond the 1-dimensional case. Matrices are 2-dimensional tensors, and so on. \n",
    "\n",
    "You can see Tensorflow's tensors as equivalent to NumPy ndarrays. The main difference is that by default they store 32-bit floating point numbers rather than 64-bit ones. Moreover, Tensorflow's tensors are immutable."
   ]
  },
  {
   "cell_type": "code",
   "execution_count": null,
   "metadata": {},
   "outputs": [],
   "source": [
    "tf.constant([[10., 20., 30.], [40., 50., 60.]]) # matrix"
   ]
  },
  {
   "cell_type": "markdown",
   "metadata": {},
   "source": [
    "A 0-dimensional tensor is just a scalar."
   ]
  },
  {
   "cell_type": "code",
   "execution_count": null,
   "metadata": {},
   "outputs": [],
   "source": [
    "tf.constant(42) # scalar"
   ]
  },
  {
   "cell_type": "markdown",
   "metadata": {},
   "source": [
    "We can create a tensor out of a list (or a list or list) just as we did for NumPy arrays."
   ]
  },
  {
   "cell_type": "code",
   "execution_count": null,
   "metadata": {},
   "outputs": [],
   "source": [
    "t = tf.constant([[1., 2., 3.], [4., 5., 6.], [7., 8., 9.]])\n",
    "t.shape"
   ]
  },
  {
   "cell_type": "code",
   "execution_count": null,
   "metadata": {},
   "outputs": [],
   "source": [
    "t.dtype"
   ]
  },
  {
   "cell_type": "markdown",
   "metadata": {},
   "source": [
    "### 1.2 Tensor Indexing"
   ]
  },
  {
   "cell_type": "code",
   "execution_count": null,
   "metadata": {},
   "outputs": [],
   "source": [
    "t[:, 1:3]"
   ]
  },
  {
   "cell_type": "code",
   "execution_count": null,
   "metadata": {},
   "outputs": [],
   "source": [
    "t[..., 1:3, tf.newaxis]"
   ]
  },
  {
   "cell_type": "markdown",
   "metadata": {},
   "source": [
    "### 1.3 Tensor Operations\n",
    "\n",
    "Let's see how we can implement addition, element exponential, and matrix multiplication."
   ]
  },
  {
   "cell_type": "code",
   "execution_count": null,
   "metadata": {},
   "outputs": [],
   "source": [
    "# addition\n",
    "t + 11"
   ]
  },
  {
   "cell_type": "code",
   "execution_count": null,
   "metadata": {},
   "outputs": [],
   "source": [
    "# element-wise exponential\n",
    "tf.math.exp(t)"
   ]
  },
  {
   "cell_type": "code",
   "execution_count": null,
   "metadata": {},
   "outputs": [],
   "source": [
    "# matrix exponential. See http://mathworld.wolfram.com/MatrixExponential.html \n",
    "tf.linalg.expm(t)"
   ]
  },
  {
   "cell_type": "markdown",
   "metadata": {},
   "source": [
    "**Exercise 0:** multiply the matrix `t` for its transpose (matrix multiplication)\n",
    "Hint. You can also use the new matrix multiplication operator `@` if you have Python 3.5 or greater (which you should have): https://docs.python.org/3/whatsnew/3.5.html#whatsnew-pep-465"
   ]
  },
  {
   "cell_type": "code",
   "execution_count": null,
   "metadata": {},
   "outputs": [],
   "source": [
    "# Write your solution here: matrix multiplication\n",
    "t @ tf.transpose(t)"
   ]
  },
  {
   "cell_type": "markdown",
   "metadata": {},
   "source": [
    "### 1.4 Tensorflow Tensors and NumPy Arrays\n",
    "\n",
    "Coversions are very easy."
   ]
  },
  {
   "cell_type": "code",
   "execution_count": null,
   "metadata": {},
   "outputs": [],
   "source": [
    "arr = t.numpy()\n",
    "arr"
   ]
  },
  {
   "cell_type": "code",
   "execution_count": null,
   "metadata": {},
   "outputs": [],
   "source": [
    "tf.constant(arr)"
   ]
  },
  {
   "cell_type": "code",
   "execution_count": null,
   "metadata": {},
   "outputs": [],
   "source": [
    "np.array(t)"
   ]
  },
  {
   "cell_type": "markdown",
   "metadata": {},
   "source": [
    "### 1.5 tf.Variable\n",
    "\n",
    "A `tf.Variable` object is just a mutable `tf.Tensor`. This can be used to store learned parameters such as connection weights and biases."
   ]
  },
  {
   "cell_type": "code",
   "execution_count": null,
   "metadata": {},
   "outputs": [],
   "source": [
    "v = tf.Variable(t)\n",
    "v"
   ]
  },
  {
   "cell_type": "code",
   "execution_count": null,
   "metadata": {},
   "outputs": [],
   "source": [
    "v.assign_add(t)\n",
    "v"
   ]
  },
  {
   "cell_type": "markdown",
   "metadata": {},
   "source": [
    "### 1.5 Tensor Arrays"
   ]
  },
  {
   "cell_type": "code",
   "execution_count": null,
   "metadata": {},
   "outputs": [],
   "source": [
    "# Write value into index index of the TensorArray.\n",
    "array = tf.TensorArray(dtype=tf.float32, size=3)\n",
    "array = array.write(0, tf.constant([1., 2.]))\n",
    "array = array.write(1, tf.constant([3., 10.]))\n",
    "array = array.write(2, tf.constant([5., 7.]))"
   ]
  },
  {
   "cell_type": "code",
   "execution_count": null,
   "metadata": {},
   "outputs": [],
   "source": [
    "# Read the value at location index in the TensorArray.\n",
    "array.read(1)"
   ]
  },
  {
   "cell_type": "code",
   "execution_count": null,
   "metadata": {},
   "outputs": [],
   "source": [
    "# Return the values in the TensorArray as a stacked Tensor.\n",
    "array.stack()"
   ]
  },
  {
   "cell_type": "markdown",
   "metadata": {},
   "source": [
    "## 2. Implementing MLPs with Keras: an Image Classifier using the Sequential API\n",
    "\n",
    "We will now see how we can implement, train, and validate a Multi-layer Perceptron (MLP) using Keras (as a submodule of TensorFlow).\n",
    "\n",
    "We will use as dataset the popular Fashion MNIST dataset (https://www.kaggle.com/datasets/zalando-research/fashionmnist)"
   ]
  },
  {
   "cell_type": "markdown",
   "metadata": {},
   "source": [
    "### 6.1.2 Load the Fashion MNIST dataset with Keras"
   ]
  },
  {
   "cell_type": "code",
   "execution_count": 3,
   "metadata": {},
   "outputs": [],
   "source": [
    "fashion_mnist = keras.datasets.fashion_mnist\n",
    "(\n",
    "    X_train_full, y_train_full\n",
    "), (\n",
    "    X_test, y_test\n",
    ") = fashion_mnist.load_data()\n",
    "# There are 10 classes in the Fashion MNIST dataset\n",
    "class_names = [\n",
    "    \"T-shirt/top\", \"Trouser\", \"Pullover\", \"Dress\", \"Coat\",\n",
    "    \"Sandal\", \"Shirt\", \"Sneaker\", \"Bag\", \"Ankle boot\"\n",
    "]"
   ]
  },
  {
   "cell_type": "code",
   "execution_count": 4,
   "metadata": {},
   "outputs": [
    {
     "data": {
      "text/plain": [
       "((60000, 28, 28), dtype('uint8'))"
      ]
     },
     "execution_count": 4,
     "metadata": {},
     "output_type": "execute_result"
    }
   ],
   "source": [
    "X_train_full.shape, X_train_full.dtype"
   ]
  },
  {
   "cell_type": "markdown",
   "metadata": {},
   "source": [
    "We can use `imshow()` from matplotlib to display one or more of the images in the training set."
   ]
  },
  {
   "cell_type": "code",
   "execution_count": 5,
   "metadata": {},
   "outputs": [
    {
     "data": {
      "image/png": "[encoded data removed]",
      "text/plain": [
       "<Figure size 432x288 with 1 Axes>"
      ]
     },
     "metadata": {
      "needs_background": "light"
     },
     "output_type": "display_data"
    }
   ],
   "source": [
    "plt.imshow(X_train_full[0], cmap=\"binary\")\n",
    "plt.axis('off')\n",
    "plt.show()"
   ]
  },
  {
   "cell_type": "code",
   "execution_count": 6,
   "metadata": {},
   "outputs": [
    {
     "data": {
      "text/plain": [
       "0"
      ]
     },
     "execution_count": 6,
     "metadata": {},
     "output_type": "execute_result"
    }
   ],
   "source": [
    "y_train_full[1]"
   ]
  },
  {
   "cell_type": "markdown",
   "metadata": {},
   "source": [
    "Here, we perform a rough min-max scaling."
   ]
  },
  {
   "cell_type": "code",
   "execution_count": 7,
   "metadata": {},
   "outputs": [
    {
     "data": {
      "text/plain": [
       "255"
      ]
     },
     "execution_count": 7,
     "metadata": {},
     "output_type": "execute_result"
    }
   ],
   "source": [
    "X_train_full.max()"
   ]
  },
  {
   "cell_type": "code",
   "execution_count": 8,
   "metadata": {},
   "outputs": [
    {
     "name": "stdout",
     "output_type": "stream",
     "text": [
      "X_diff =  255\n"
     ]
    }
   ],
   "source": [
    "X_diff = X_train_full.max() - X_train_full.min()\n",
    "print('X_diff = ', X_diff)\n",
    "X_valid, X_train = X_train_full[:5000]/X_diff, X_train_full[5000:]/X_diff\n",
    "y_valid, y_train = y_train_full[:5000], y_train_full[5000:]"
   ]
  },
  {
   "cell_type": "code",
   "execution_count": 9,
   "metadata": {},
   "outputs": [
    {
     "data": {
      "text/plain": [
       "1.0"
      ]
     },
     "execution_count": 9,
     "metadata": {},
     "output_type": "execute_result"
    }
   ],
   "source": [
    "X_train.max()"
   ]
  },
  {
   "cell_type": "code",
   "execution_count": 10,
   "metadata": {},
   "outputs": [
    {
     "data": {
      "text/plain": [
       "'Coat'"
      ]
     },
     "execution_count": 10,
     "metadata": {},
     "output_type": "execute_result"
    }
   ],
   "source": [
    "class_names[y_train[0]]"
   ]
  },
  {
   "cell_type": "markdown",
   "metadata": {},
   "source": [
    "### 6.1.3 Create a Sequential Model with Keras\n",
    "\n",
    "Now we can just create our Deep Neural Network using the `Sequential` model.\n",
    "\n",
    "**Exercise 1:** complete the sequential model below. You will have to add two hidden `Dense` layers (with 300 and 100 nodes respectively and a suitable activation function) and one `Dense` output layer with an appropriare number of output nodes and an appropriate activation function. \n",
    "If it can help you, check:\n",
    "- `tf.keras` documentation about the `Sequential` class how to use it to build a MLP network: https://www.tensorflow.org/api_docs/python/tf/keras/Sequential\n",
    "- `tf.keras.layers` documentation about the `Dense` layer: https://www.tensorflow.org/api_docs/python/tf/keras/layers "
   ]
  },
  {
   "cell_type": "code",
   "execution_count": 11,
   "metadata": {},
   "outputs": [
    {
     "name": "stderr",
     "output_type": "stream",
     "text": [
      "2022-07-15 17:28:20.641867: E tensorflow/stream_executor/cuda/cuda_driver.cc:271] failed call to cuInit: CUDA_ERROR_UNKNOWN: unknown error\n",
      "2022-07-15 17:28:20.641898: I tensorflow/stream_executor/cuda/cuda_diagnostics.cc:169] retrieving CUDA diagnostic information for host: pc323\n",
      "2022-07-15 17:28:20.641904: I tensorflow/stream_executor/cuda/cuda_diagnostics.cc:176] hostname: pc323\n",
      "2022-07-15 17:28:20.642031: I tensorflow/stream_executor/cuda/cuda_diagnostics.cc:200] libcuda reported version is: 510.73.5\n",
      "2022-07-15 17:28:20.642050: I tensorflow/stream_executor/cuda/cuda_diagnostics.cc:204] kernel reported version is: 510.73.5\n",
      "2022-07-15 17:28:20.642056: I tensorflow/stream_executor/cuda/cuda_diagnostics.cc:310] kernel version seems to match DSO: 510.73.5\n",
      "2022-07-15 17:28:20.642384: I tensorflow/core/platform/cpu_feature_guard.cc:193] This TensorFlow binary is optimized with oneAPI Deep Neural Network Library (oneDNN) to use the following CPU instructions in performance-critical operations:  AVX2 FMA\n",
      "To enable them in other operations, rebuild TensorFlow with the appropriate compiler flags.\n"
     ]
    }
   ],
   "source": [
    "# Complete the code here:\n",
    "n_net = keras.models.Sequential([\n",
    "    keras.layers.Flatten(input_shape=[28, 28]), # this input layer just flattens our 28x28 images\n",
    "    keras.layers.Dense(300, activation=\"relu\"),\n",
    "    keras.layers.Dense(100, activation=\"relu\"),\n",
    "    keras.layers.Dense(10, activation=\"softmax\")\n",
    "]) "
   ]
  },
  {
   "cell_type": "code",
   "execution_count": 12,
   "metadata": {},
   "outputs": [
    {
     "name": "stdout",
     "output_type": "stream",
     "text": [
      "Model: \"sequential\"\n",
      "_________________________________________________________________\n",
      " Layer (type)                Output Shape              Param #   \n",
      "=================================================================\n",
      " flatten (Flatten)           (None, 784)               0         \n",
      "                                                                 \n",
      " dense (Dense)               (None, 300)               235500    \n",
      "                                                                 \n",
      " dense_1 (Dense)             (None, 100)               30100     \n",
      "                                                                 \n",
      " dense_2 (Dense)             (None, 10)                1010      \n",
      "                                                                 \n",
      "=================================================================\n",
      "Total params: 266,610\n",
      "Trainable params: 266,610\n",
      "Non-trainable params: 0\n",
      "_________________________________________________________________\n"
     ]
    }
   ],
   "source": [
    "n_net.summary()"
   ]
  },
  {
   "cell_type": "markdown",
   "metadata": {},
   "source": [
    "Once you have correctly initialized your network/model, you can easily get a model’s list of layers, to fetch a layer by its index, or you can fetch it by name:"
   ]
  },
  {
   "cell_type": "code",
   "execution_count": 13,
   "metadata": {},
   "outputs": [
    {
     "data": {
      "image/png": "[encoded data removed]",
      "text/plain": [
       "<IPython.core.display.Image object>"
      ]
     },
     "execution_count": 13,
     "metadata": {},
     "output_type": "execute_result"
    }
   ],
   "source": [
    "keras.utils.plot_model(\n",
    "    n_net,\n",
    "    \"fully-connected-nn.png\",\n",
    "    show_shapes=True\n",
    ")"
   ]
  },
  {
   "cell_type": "code",
   "execution_count": 20,
   "metadata": {},
   "outputs": [
    {
     "data": {
      "text/plain": [
       "[<keras.layers.reshaping.flatten.Flatten at 0x7f0713f7ab80>,\n",
       " <keras.layers.core.dense.Dense at 0x7f07906d5d60>,\n",
       " <keras.layers.core.dense.Dense at 0x7f07906d5df0>,\n",
       " <keras.layers.core.dense.Dense at 0x7f07906d5610>]"
      ]
     },
     "execution_count": 20,
     "metadata": {},
     "output_type": "execute_result"
    }
   ],
   "source": [
    "n_net.layers"
   ]
  },
  {
   "cell_type": "code",
   "execution_count": 21,
   "metadata": {},
   "outputs": [
    {
     "data": {
      "text/plain": [
       "<keras.layers.core.dense.Dense at 0x7f07906d5d60>"
      ]
     },
     "execution_count": 21,
     "metadata": {},
     "output_type": "execute_result"
    }
   ],
   "source": [
    "first_hidden_layer = n_net.layers[1]\n",
    "first_hidden_layer"
   ]
  },
  {
   "cell_type": "code",
   "execution_count": null,
   "metadata": {},
   "outputs": [],
   "source": [
    "first_hidden_layer = n_net.get_layer('dense_4')\n",
    "weights, biases = first_hidden_layer.get_weights()"
   ]
  },
  {
   "cell_type": "code",
   "execution_count": null,
   "metadata": {},
   "outputs": [],
   "source": [
    "weights, weights.shape"
   ]
  },
  {
   "cell_type": "code",
   "execution_count": null,
   "metadata": {},
   "outputs": [],
   "source": [
    "biases, biases.shape"
   ]
  },
  {
   "cell_type": "markdown",
   "metadata": {},
   "source": [
    "Notice that the Dense layer initialized the connection weights randomly and the biases were initialized to zeros, which is fine."
   ]
  },
  {
   "cell_type": "markdown",
   "metadata": {},
   "source": [
    "### 6.1.3 Compile the Sequential Model with Keras"
   ]
  },
  {
   "cell_type": "markdown",
   "metadata": {},
   "source": [
    "Once you have created a model, you must call its `compile()` method to specify the loss function and the optimizer to use. You can also optionally specify a list of extra metrics to compute during training and evaluation.  For a full lists of losses, optimizers and metrics see https://keras.io/losses, https://keras.io/optimizers, and https://keras.io/metrics."
   ]
  },
  {
   "cell_type": "code",
   "execution_count": null,
   "metadata": {},
   "outputs": [],
   "source": [
    "# Write your solution here:\n",
    "\n",
    "n_net.compile(\n",
    "    loss=keras.losses.sparse_categorical_crossentropy,\n",
    "    optimizer=keras.optimizers.SGD(learning_rate=0.01),\n",
    "    metrics=[keras.metrics.sparse_categorical_accuracy]\n",
    ")"
   ]
  },
  {
   "cell_type": "markdown",
   "metadata": {},
   "source": [
    "The `sparse_categorical_crossentropy` loss is used here because we have sparse labels (i.e., for each instance, there is just a target class index, from 0 to 9 in this case), and the classes are exclusive. On the other hand, if we had one target probability per class for each instance (such as one-hot vectors, e.g. [1., 0., 0., 0., 0., 0., 0., 0., 0., 0.] to represent class 0, and so on upt to class 9), then the `categorical_crossentropy` loss would be used. If we were aiming for binary classification (with one or more binary labels), then we would have chosen the \"sigmoid\" (i.e., logistic) activation function in the output layer rather than the \"softmax\" activation function, and we would have to use the \"binary_crossentropy\" loss."
   ]
  },
  {
   "cell_type": "code",
   "execution_count": null,
   "metadata": {},
   "outputs": [],
   "source": [
    "history = n_net.fit(\n",
    "    X_train,\n",
    "    y_train,\n",
    "    epochs=30,\n",
    "    validation_data=(X_valid, y_valid)\n",
    ")"
   ]
  },
  {
   "cell_type": "markdown",
   "metadata": {},
   "source": [
    "The `fit()` method returns a `History` object that contains:\n",
    "   * the training parameters (`history.params`)\n",
    "   * the list of epochs the model went through while training (`history.epoch`)\n",
    "   * a dictionary containing the loss and other extra metrics that were computed at the end of each epoch (`history.history`)\n",
    "    \n",
    "#### Learning curves\n",
    "    \n",
    "We can plot the loss and metrics evolutions over the epochs:"
   ]
  },
  {
   "cell_type": "code",
   "execution_count": null,
   "metadata": {},
   "outputs": [],
   "source": [
    "pd.DataFrame(history.history).plot(figsize=(8, 5))\n",
    "plt.grid(True)\n",
    "plt.gca().set_ylim(0, 1) # set the vertical range to [0-1]\n",
    "plt.show()"
   ]
  },
  {
   "cell_type": "markdown",
   "metadata": {},
   "source": [
    "If you are not satisfied with the performance of your model, you should go back and tune the hyperparameters. The first one to check is the learning rate. If that doesn’t help, try another optimizer (and always retune the learning rate after changing any hyperparameter). If the performance is still not great, then try tuning model hyperparameters such as the number of layers, the number of neurons per layer, and the types of activation functions to use for each hidden layer. You can also try tuning other hyperparameters, such as the batch size (it can be set in the fit() method using the batch_size argument, which defaults to 32). "
   ]
  },
  {
   "cell_type": "markdown",
   "metadata": {},
   "source": [
    "### 6.1.4 Evaluate the performance of the test set\n",
    "\n",
    "Once you are satisfied with your model’s validation accuracy, you should evaluate it on the test set to estimate the generalization error before you deploy the model to production. \n",
    "\n",
    "You can easily do this using the evaluate() method"
   ]
  },
  {
   "cell_type": "code",
   "execution_count": null,
   "metadata": {},
   "outputs": [],
   "source": [
    "n_net.evaluate(X_test, y_test, verbose=0)"
   ]
  },
  {
   "cell_type": "code",
   "execution_count": null,
   "metadata": {},
   "outputs": [],
   "source": [
    "n_net.metrics_names"
   ]
  },
  {
   "cell_type": "markdown",
   "metadata": {},
   "source": [
    "### 6.1.5 Use the model to make predictions"
   ]
  },
  {
   "cell_type": "code",
   "execution_count": null,
   "metadata": {},
   "outputs": [],
   "source": [
    "## We have no new data let's fake it from the test set!\n",
    "X_new = X_test[:4]\n",
    "y_prob = n_net.predict(X_new)\n",
    "y_prob"
   ]
  },
  {
   "cell_type": "markdown",
   "metadata": {},
   "source": [
    "In this case you get a probability (0 to 1) for each class for every new instance submitted to the Network. You can directly get the class with highest probability using `numpy.argmax()`."
   ]
  },
  {
   "cell_type": "code",
   "execution_count": null,
   "metadata": {},
   "outputs": [],
   "source": [
    "predictions = n_net.predict(X_test) \n",
    "classes_ = np.argmax(predictions, axis=1)\n",
    "classes_"
   ]
  },
  {
   "cell_type": "code",
   "execution_count": null,
   "metadata": {},
   "outputs": [],
   "source": [
    "np.array(class_names)[classes_]"
   ]
  },
  {
   "cell_type": "markdown",
   "metadata": {},
   "source": [
    "Has the classifier classified the images correctly? Do check it out!"
   ]
  },
  {
   "cell_type": "markdown",
   "metadata": {},
   "source": [
    "## 6.2 Building Complex Models Using the Functional API"
   ]
  },
  {
   "cell_type": "markdown",
   "metadata": {},
   "source": [
    "One example of a nonsequential neural network is a _Wide & Deep_ neural network. This neural network architecture was introduced in a 2016 paper by Heng-Tze Cheng et al. It connects all or part of the inputs directly to the output layer. This architecture makes it possible for the neural network to learn both deep patterns (using the deep path) and simple rules (through the short path).17 In contrast, a regular MLP forces all the data to flow through the full stack of layers; thus, simple patterns in the data may end up being distorted by this sequence of transformations.\n",
    "\n",
    "Let’s build such a neural network to tackle the Kings County housing problem. First let's import and preprocess the dataset:"
   ]
  },
  {
   "cell_type": "code",
   "execution_count": 14,
   "metadata": {},
   "outputs": [],
   "source": [
    "## Let's import the Kings County dataset\n",
    "housing = pd.read_csv(\"../datasets/kings_county_house_data.csv\", dtype={'zipcode': str})\n",
    "\n",
    "FEATURES_TO_SELECT = [\n",
    "    \"sqft_living\",\n",
    "    \"grade\",\n",
    "    \"bedrooms\",\n",
    "    \"bathrooms\",\n",
    "    \"sqft_living15\",\n",
    "    \"price\",\n",
    "]\n",
    "\n",
    "housing = housing[FEATURES_TO_SELECT]\n",
    "housing.dtypes\n",
    "X = housing.drop(columns='price')\n",
    "y = housing['price']"
   ]
  },
  {
   "cell_type": "code",
   "execution_count": 15,
   "metadata": {},
   "outputs": [
    {
     "data": {
      "text/html": [
       "<div>\n",
       "<style scoped>\n",
       "    .dataframe tbody tr th:only-of-type {\n",
       "        vertical-align: middle;\n",
       "    }\n",
       "\n",
       "    .dataframe tbody tr th {\n",
       "        vertical-align: top;\n",
       "    }\n",
       "\n",
       "    .dataframe thead th {\n",
       "        text-align: right;\n",
       "    }\n",
       "</style>\n",
       "<table border=\"1\" class=\"dataframe\">\n",
       "  <thead>\n",
       "    <tr style=\"text-align: right;\">\n",
       "      <th></th>\n",
       "      <th>sqft_living</th>\n",
       "      <th>grade</th>\n",
       "      <th>bedrooms</th>\n",
       "      <th>bathrooms</th>\n",
       "      <th>sqft_living15</th>\n",
       "    </tr>\n",
       "  </thead>\n",
       "  <tbody>\n",
       "    <tr>\n",
       "      <th>0</th>\n",
       "      <td>1180</td>\n",
       "      <td>7</td>\n",
       "      <td>3</td>\n",
       "      <td>1.00</td>\n",
       "      <td>1340</td>\n",
       "    </tr>\n",
       "    <tr>\n",
       "      <th>1</th>\n",
       "      <td>2570</td>\n",
       "      <td>7</td>\n",
       "      <td>3</td>\n",
       "      <td>2.25</td>\n",
       "      <td>1690</td>\n",
       "    </tr>\n",
       "    <tr>\n",
       "      <th>2</th>\n",
       "      <td>770</td>\n",
       "      <td>6</td>\n",
       "      <td>2</td>\n",
       "      <td>1.00</td>\n",
       "      <td>2720</td>\n",
       "    </tr>\n",
       "    <tr>\n",
       "      <th>3</th>\n",
       "      <td>1960</td>\n",
       "      <td>7</td>\n",
       "      <td>4</td>\n",
       "      <td>3.00</td>\n",
       "      <td>1360</td>\n",
       "    </tr>\n",
       "    <tr>\n",
       "      <th>4</th>\n",
       "      <td>1680</td>\n",
       "      <td>8</td>\n",
       "      <td>3</td>\n",
       "      <td>2.00</td>\n",
       "      <td>1800</td>\n",
       "    </tr>\n",
       "    <tr>\n",
       "      <th>...</th>\n",
       "      <td>...</td>\n",
       "      <td>...</td>\n",
       "      <td>...</td>\n",
       "      <td>...</td>\n",
       "      <td>...</td>\n",
       "    </tr>\n",
       "    <tr>\n",
       "      <th>21608</th>\n",
       "      <td>1530</td>\n",
       "      <td>8</td>\n",
       "      <td>3</td>\n",
       "      <td>2.50</td>\n",
       "      <td>1530</td>\n",
       "    </tr>\n",
       "    <tr>\n",
       "      <th>21609</th>\n",
       "      <td>2310</td>\n",
       "      <td>8</td>\n",
       "      <td>4</td>\n",
       "      <td>2.50</td>\n",
       "      <td>1830</td>\n",
       "    </tr>\n",
       "    <tr>\n",
       "      <th>21610</th>\n",
       "      <td>1020</td>\n",
       "      <td>7</td>\n",
       "      <td>2</td>\n",
       "      <td>0.75</td>\n",
       "      <td>1020</td>\n",
       "    </tr>\n",
       "    <tr>\n",
       "      <th>21611</th>\n",
       "      <td>1600</td>\n",
       "      <td>8</td>\n",
       "      <td>3</td>\n",
       "      <td>2.50</td>\n",
       "      <td>1410</td>\n",
       "    </tr>\n",
       "    <tr>\n",
       "      <th>21612</th>\n",
       "      <td>1020</td>\n",
       "      <td>7</td>\n",
       "      <td>2</td>\n",
       "      <td>0.75</td>\n",
       "      <td>1020</td>\n",
       "    </tr>\n",
       "  </tbody>\n",
       "</table>\n",
       "<p>21613 rows × 5 columns</p>\n",
       "</div>"
      ],
      "text/plain": [
       "       sqft_living  grade  bedrooms  bathrooms  sqft_living15\n",
       "0             1180      7         3       1.00           1340\n",
       "1             2570      7         3       2.25           1690\n",
       "2              770      6         2       1.00           2720\n",
       "3             1960      7         4       3.00           1360\n",
       "4             1680      8         3       2.00           1800\n",
       "...            ...    ...       ...        ...            ...\n",
       "21608         1530      8         3       2.50           1530\n",
       "21609         2310      8         4       2.50           1830\n",
       "21610         1020      7         2       0.75           1020\n",
       "21611         1600      8         3       2.50           1410\n",
       "21612         1020      7         2       0.75           1020\n",
       "\n",
       "[21613 rows x 5 columns]"
      ]
     },
     "execution_count": 15,
     "metadata": {},
     "output_type": "execute_result"
    }
   ],
   "source": [
    "X"
   ]
  },
  {
   "cell_type": "code",
   "execution_count": 16,
   "metadata": {},
   "outputs": [
    {
     "data": {
      "text/plain": [
       "0        221900.0\n",
       "1        538000.0\n",
       "2        180000.0\n",
       "3        604000.0\n",
       "4        510000.0\n",
       "           ...   \n",
       "21608    360000.0\n",
       "21609    400000.0\n",
       "21610    402101.0\n",
       "21611    400000.0\n",
       "21612    325000.0\n",
       "Name: price, Length: 21613, dtype: float64"
      ]
     },
     "execution_count": 16,
     "metadata": {},
     "output_type": "execute_result"
    }
   ],
   "source": [
    "y"
   ]
  },
  {
   "cell_type": "code",
   "execution_count": 17,
   "metadata": {},
   "outputs": [],
   "source": [
    "from sklearn.model_selection import train_test_split\n",
    "from sklearn.preprocessing import MinMaxScaler\n",
    "\n",
    "X_train_full, X_test, y_train_full, y_test = train_test_split(\n",
    "    X.values, y.values\n",
    ")\n",
    "X_train, X_val, y_train, y_val = train_test_split(\n",
    "    X_train_full, y_train_full\n",
    ")\n",
    "scaler = MinMaxScaler()\n",
    "X_train = scaler.fit_transform(X_train)\n",
    "X_val = scaler.transform(X_val)\n",
    "X_test = scaler.transform(X_test)"
   ]
  },
  {
   "cell_type": "code",
   "execution_count": 18,
   "metadata": {},
   "outputs": [
    {
     "data": {
      "text/plain": [
       "((12156, 5), (4053, 5), (5404, 5), (5,))"
      ]
     },
     "execution_count": 18,
     "metadata": {},
     "output_type": "execute_result"
    }
   ],
   "source": [
    "X_train.shape, X_val.shape, X_test.shape, X_train.shape[1:]\n"
   ]
  },
  {
   "cell_type": "code",
   "execution_count": 19,
   "metadata": {},
   "outputs": [
    {
     "data": {
      "text/plain": [
       "array([[0.07876712, 0.4       , 0.27272727, 0.1875    , 0.29043478],\n",
       "       [0.11729452, 0.5       , 0.36363636, 0.25      , 0.24173913],\n",
       "       [0.16523973, 0.4       , 0.27272727, 0.21875   , 0.2573913 ],\n",
       "       [0.20719178, 0.5       , 0.36363636, 0.3125    , 0.40521739],\n",
       "       [0.29880137, 0.6       , 0.36363636, 0.40625   , 0.43130435],\n",
       "       [0.10017123, 0.4       , 0.18181818, 0.25      , 0.18782609],\n",
       "       [0.29452055, 0.6       , 0.36363636, 0.4375    , 0.48173913]])"
      ]
     },
     "execution_count": 19,
     "metadata": {},
     "output_type": "execute_result"
    }
   ],
   "source": [
    "X_train[:7]"
   ]
  },
  {
   "cell_type": "markdown",
   "metadata": {},
   "source": [
    "Now, let's design the Network:\n",
    "\n",
    "- First, we need to create an `Input` object. This is a specification of the kind of input the model will get, including its shape and dtype. A model may actually have multiple inputs, as we will see shortly.\n",
    "\n",
    "- Next, we create a `Dense` layer with 30 neurons, using the ReLU activation function. As soon as it is created, notice that we call it like a function, passing it the input. This is why this is called the Functional API. Note that we are just telling Keras how it should connect the layers together; no actual data is being processed yet.\n",
    "\n",
    "- We then create a second hidden layer, and again we use it as a function. Note that we pass it the output of the first hidden layer.\n",
    "\n",
    "- Next, we create a `Concatenate` layer, and once again we immediately use it like a function, to concatenate the input and the output of the second hidden layer. You may prefer the `keras.layers.concatenate()` function, which creates a `Concatenate` layer and immediately calls it with the given inputs.\n",
    "\n",
    "- Then we create the `output` layer, with a single neuron and no activation function, and we call it like a function, passing it the result of the concatenation.\n",
    "\n",
    "- Lastly, we create a Keras `Model`, specifying which inputs and outputs to use. Have a look at the Keras Model specifications here: https://www.tensorflow.org/api_docs/python/tf/keras/Model\n",
    "\n",
    "Once you have built the Keras model, everything is exactly like earlier, so there’s no need to repeat it here: you must compile the model, train it, evaluate it, and use it to make predictions."
   ]
  },
  {
   "cell_type": "code",
   "execution_count": 23,
   "metadata": {},
   "outputs": [
    {
     "data": {
      "text/plain": [
       "(12156, 5)"
      ]
     },
     "execution_count": 23,
     "metadata": {},
     "output_type": "execute_result"
    }
   ],
   "source": [
    "X_train.shape"
   ]
  },
  {
   "cell_type": "code",
   "execution_count": 22,
   "metadata": {},
   "outputs": [],
   "source": [
    "input_0 = keras.layers.Input(shape=X_train.shape[1:])\n",
    "hidden_0_fn = keras.layers.Dense(100, activation='tanh')\n",
    "hidden_0 = hidden_0_fn(input_0)\n",
    "hidden_1 = keras.layers.Dense(30, activation='tanh')(hidden_0)\n",
    "hidden_2 = keras.layers.Dense(20, activation='tanh')(hidden_1)\n",
    "concat = keras.layers.Concatenate()([input_0, hidden_2])\n",
    "output = keras.layers.Dense(1, activation=\"relu\")(concat)\n",
    "n_net = keras.Model(inputs=[input_0], outputs=[output])\n"
   ]
  },
  {
   "cell_type": "code",
   "execution_count": 24,
   "metadata": {},
   "outputs": [
    {
     "name": "stdout",
     "output_type": "stream",
     "text": [
      "Model: \"model\"\n",
      "__________________________________________________________________________________________________\n",
      " Layer (type)                   Output Shape         Param #     Connected to                     \n",
      "==================================================================================================\n",
      " input_1 (InputLayer)           [(None, 5)]          0           []                               \n",
      "                                                                                                  \n",
      " dense_3 (Dense)                (None, 100)          600         ['input_1[0][0]']                \n",
      "                                                                                                  \n",
      " dense_4 (Dense)                (None, 30)           3030        ['dense_3[0][0]']                \n",
      "                                                                                                  \n",
      " dense_5 (Dense)                (None, 20)           620         ['dense_4[0][0]']                \n",
      "                                                                                                  \n",
      " concatenate (Concatenate)      (None, 25)           0           ['input_1[0][0]',                \n",
      "                                                                  'dense_5[0][0]']                \n",
      "                                                                                                  \n",
      " dense_6 (Dense)                (None, 1)            26          ['concatenate[0][0]']            \n",
      "                                                                                                  \n",
      "==================================================================================================\n",
      "Total params: 4,276\n",
      "Trainable params: 4,276\n",
      "Non-trainable params: 0\n",
      "__________________________________________________________________________________________________\n"
     ]
    }
   ],
   "source": [
    "n_net.summary()"
   ]
  },
  {
   "cell_type": "code",
   "execution_count": 25,
   "metadata": {},
   "outputs": [
    {
     "data": {
      "image/png": "[encoded data removed]",
      "text/plain": [
       "<IPython.core.display.Image object>"
      ]
     },
     "execution_count": 25,
     "metadata": {},
     "output_type": "execute_result"
    }
   ],
   "source": [
    "keras.utils.plot_model(\n",
    "    n_net,\n",
    "    \"fully-connected-nn.png\",\n",
    "    show_shapes=True\n",
    ")"
   ]
  },
  {
   "cell_type": "markdown",
   "metadata": {},
   "source": [
    "**Exercise 2**: Call the `n_net.compile()` method with the appropriate loss function for regression (see your notes), the same metric we used on week 3 to evaluate our regressors (do you remember which one it was?), an SGD optimizer with a reasonable learning rate. Then train the network for 50 epochs, or a smaller number if the algorithm takes too long to go through each epoch, passing both the training and the validation set. When you are happy with your learning rate, then evaluate your model on the test set and print out MSE and RMSE as conputed on the test set."
   ]
  },
  {
   "cell_type": "code",
   "execution_count": 26,
   "metadata": {},
   "outputs": [
    {
     "name": "stdout",
     "output_type": "stream",
     "text": [
      "Epoch 1/200\n",
      "380/380 [==============================] - 1s 2ms/step - loss: 126026416128.0000 - root_mean_squared_error: 355002.0000 - val_loss: 98892505088.0000 - val_root_mean_squared_error: 314471.7812\n",
      "Epoch 2/200\n",
      "380/380 [==============================] - 1s 1ms/step - loss: 102848929792.0000 - root_mean_squared_error: 320700.6875 - val_loss: 83898474496.0000 - val_root_mean_squared_error: 289652.3438\n",
      "Epoch 3/200\n",
      "380/380 [==============================] - 1s 1ms/step - loss: 90378043392.0000 - root_mean_squared_error: 300629.4062 - val_loss: 80643989504.0000 - val_root_mean_squared_error: 283978.8438\n",
      "Epoch 4/200\n",
      "380/380 [==============================] - 1s 1ms/step - loss: 82928558080.0000 - root_mean_squared_error: 287973.1875 - val_loss: 70964912128.0000 - val_root_mean_squared_error: 266392.4062\n",
      "Epoch 5/200\n",
      "380/380 [==============================] - 1s 2ms/step - loss: 78436827136.0000 - root_mean_squared_error: 280065.7500 - val_loss: 67581493248.0000 - val_root_mean_squared_error: 259964.4062\n",
      "Epoch 6/200\n",
      "380/380 [==============================] - 1s 1ms/step - loss: 75370627072.0000 - root_mean_squared_error: 274537.1250 - val_loss: 65964400640.0000 - val_root_mean_squared_error: 256835.3594\n",
      "Epoch 7/200\n",
      "380/380 [==============================] - 1s 1ms/step - loss: 74124509184.0000 - root_mean_squared_error: 272258.1562 - val_loss: 66296135680.0000 - val_root_mean_squared_error: 257480.3594\n",
      "Epoch 8/200\n",
      "380/380 [==============================] - 1s 1ms/step - loss: 73034006528.0000 - root_mean_squared_error: 270248.0312 - val_loss: 64904785920.0000 - val_root_mean_squared_error: 254764.1719\n",
      "Epoch 9/200\n",
      "380/380 [==============================] - 1s 1ms/step - loss: 72431124480.0000 - root_mean_squared_error: 269130.3125 - val_loss: 64271208448.0000 - val_root_mean_squared_error: 253517.6719\n",
      "Epoch 10/200\n",
      "380/380 [==============================] - 0s 1ms/step - loss: 72093188096.0000 - root_mean_squared_error: 268501.7500 - val_loss: 63954370560.0000 - val_root_mean_squared_error: 252892.0156\n",
      "Epoch 11/200\n",
      "380/380 [==============================] - 1s 1ms/step - loss: 71492009984.0000 - root_mean_squared_error: 267379.9062 - val_loss: 63738953728.0000 - val_root_mean_squared_error: 252465.7500\n",
      "Epoch 12/200\n",
      "380/380 [==============================] - 1s 1ms/step - loss: 71338541056.0000 - root_mean_squared_error: 267092.7500 - val_loss: 65087631360.0000 - val_root_mean_squared_error: 255122.7812\n",
      "Epoch 13/200\n",
      "380/380 [==============================] - 1s 2ms/step - loss: 70941474816.0000 - root_mean_squared_error: 266348.4062 - val_loss: 64018919424.0000 - val_root_mean_squared_error: 253019.6094\n",
      "Epoch 14/200\n",
      "380/380 [==============================] - 1s 1ms/step - loss: 70802399232.0000 - root_mean_squared_error: 266087.1875 - val_loss: 63291990016.0000 - val_root_mean_squared_error: 251579.0000\n",
      "Epoch 15/200\n",
      "380/380 [==============================] - 1s 1ms/step - loss: 70546087936.0000 - root_mean_squared_error: 265605.1250 - val_loss: 64374177792.0000 - val_root_mean_squared_error: 253720.6719\n",
      "Epoch 16/200\n",
      "380/380 [==============================] - 0s 1ms/step - loss: 70505488384.0000 - root_mean_squared_error: 265528.6875 - val_loss: 63091630080.0000 - val_root_mean_squared_error: 251180.4688\n",
      "Epoch 17/200\n",
      "380/380 [==============================] - 1s 1ms/step - loss: 70248669184.0000 - root_mean_squared_error: 265044.6562 - val_loss: 63061078016.0000 - val_root_mean_squared_error: 251119.6562\n",
      "Epoch 18/200\n",
      "380/380 [==============================] - 1s 1ms/step - loss: 70112944128.0000 - root_mean_squared_error: 264788.5000 - val_loss: 62774624256.0000 - val_root_mean_squared_error: 250548.6406\n",
      "Epoch 19/200\n",
      "380/380 [==============================] - 1s 1ms/step - loss: 70130458624.0000 - root_mean_squared_error: 264821.5625 - val_loss: 63423610880.0000 - val_root_mean_squared_error: 251840.4531\n",
      "Epoch 20/200\n",
      "380/380 [==============================] - 1s 2ms/step - loss: 69918703616.0000 - root_mean_squared_error: 264421.4375 - val_loss: 62546817024.0000 - val_root_mean_squared_error: 250093.6094\n",
      "Epoch 21/200\n",
      "380/380 [==============================] - 1s 1ms/step - loss: 69741723648.0000 - root_mean_squared_error: 264086.5938 - val_loss: 70356189184.0000 - val_root_mean_squared_error: 265247.4062\n",
      "Epoch 22/200\n",
      "380/380 [==============================] - 0s 1ms/step - loss: 69653069824.0000 - root_mean_squared_error: 263918.6875 - val_loss: 63751667712.0000 - val_root_mean_squared_error: 252490.9219\n",
      "Epoch 23/200\n",
      "380/380 [==============================] - 1s 1ms/step - loss: 69612994560.0000 - root_mean_squared_error: 263842.7500 - val_loss: 62647963648.0000 - val_root_mean_squared_error: 250295.7500\n",
      "Epoch 24/200\n",
      "380/380 [==============================] - 1s 2ms/step - loss: 69327872000.0000 - root_mean_squared_error: 263301.8750 - val_loss: 62118875136.0000 - val_root_mean_squared_error: 249236.5781\n",
      "Epoch 25/200\n",
      "380/380 [==============================] - 1s 1ms/step - loss: 69473886208.0000 - root_mean_squared_error: 263579.0000 - val_loss: 64227655680.0000 - val_root_mean_squared_error: 253431.7500\n",
      "Epoch 26/200\n",
      "380/380 [==============================] - 1s 1ms/step - loss: 69137440768.0000 - root_mean_squared_error: 262940.0000 - val_loss: 62788050944.0000 - val_root_mean_squared_error: 250575.4375\n",
      "Epoch 27/200\n",
      "380/380 [==============================] - 1s 1ms/step - loss: 69064531968.0000 - root_mean_squared_error: 262801.3125 - val_loss: 63084769280.0000 - val_root_mean_squared_error: 251166.8125\n",
      "Epoch 28/200\n",
      "380/380 [==============================] - 1s 1ms/step - loss: 69031911424.0000 - root_mean_squared_error: 262739.2500 - val_loss: 62044704768.0000 - val_root_mean_squared_error: 249087.7500\n",
      "Epoch 29/200\n",
      "380/380 [==============================] - 1s 1ms/step - loss: 68957986816.0000 - root_mean_squared_error: 262598.5312 - val_loss: 61710098432.0000 - val_root_mean_squared_error: 248415.1719\n",
      "Epoch 30/200\n",
      "380/380 [==============================] - 1s 1ms/step - loss: 68924301312.0000 - root_mean_squared_error: 262534.3750 - val_loss: 61569679360.0000 - val_root_mean_squared_error: 248132.3750\n",
      "Epoch 31/200\n",
      "380/380 [==============================] - 1s 2ms/step - loss: 68665561088.0000 - root_mean_squared_error: 262041.1406 - val_loss: 62347001856.0000 - val_root_mean_squared_error: 249693.8125\n",
      "Epoch 32/200\n",
      "380/380 [==============================] - 0s 1ms/step - loss: 68781940736.0000 - root_mean_squared_error: 262263.1250 - val_loss: 61390008320.0000 - val_root_mean_squared_error: 247770.0781\n",
      "Epoch 33/200\n",
      "380/380 [==============================] - 1s 2ms/step - loss: 68596051968.0000 - root_mean_squared_error: 261908.4844 - val_loss: 62808854528.0000 - val_root_mean_squared_error: 250616.9531\n",
      "Epoch 34/200\n",
      "380/380 [==============================] - 1s 1ms/step - loss: 68564074496.0000 - root_mean_squared_error: 261847.4219 - val_loss: 61207429120.0000 - val_root_mean_squared_error: 247401.3594\n",
      "Epoch 35/200\n",
      "380/380 [==============================] - 1s 2ms/step - loss: 68420157440.0000 - root_mean_squared_error: 261572.4688 - val_loss: 63757348864.0000 - val_root_mean_squared_error: 252502.1719\n",
      "Epoch 36/200\n",
      "380/380 [==============================] - 1s 1ms/step - loss: 68419198976.0000 - root_mean_squared_error: 261570.6406 - val_loss: 62936866816.0000 - val_root_mean_squared_error: 250872.2188\n",
      "Epoch 37/200\n",
      "380/380 [==============================] - 1s 2ms/step - loss: 68279791616.0000 - root_mean_squared_error: 261304.0156 - val_loss: 63588319232.0000 - val_root_mean_squared_error: 252167.2500\n",
      "Epoch 38/200\n",
      "380/380 [==============================] - 1s 2ms/step - loss: 68118151168.0000 - root_mean_squared_error: 260994.5469 - val_loss: 60902969344.0000 - val_root_mean_squared_error: 246785.2656\n",
      "Epoch 39/200\n",
      "380/380 [==============================] - 1s 1ms/step - loss: 68209528832.0000 - root_mean_squared_error: 261169.5469 - val_loss: 61557497856.0000 - val_root_mean_squared_error: 248107.8281\n",
      "Epoch 40/200\n",
      "380/380 [==============================] - 1s 1ms/step - loss: 68092051456.0000 - root_mean_squared_error: 260944.5312 - val_loss: 60857421824.0000 - val_root_mean_squared_error: 246692.9688\n",
      "Epoch 41/200\n",
      "380/380 [==============================] - 1s 2ms/step - loss: 68113010688.0000 - root_mean_squared_error: 260984.6875 - val_loss: 63625981952.0000 - val_root_mean_squared_error: 252241.9062\n",
      "Epoch 42/200\n",
      "380/380 [==============================] - 1s 2ms/step - loss: 68058832896.0000 - root_mean_squared_error: 260880.8750 - val_loss: 60701937664.0000 - val_root_mean_squared_error: 246377.6250\n",
      "Epoch 43/200\n",
      "380/380 [==============================] - 1s 1ms/step - loss: 67943833600.0000 - root_mean_squared_error: 260660.3750 - val_loss: 63925583872.0000 - val_root_mean_squared_error: 252835.0938\n",
      "Epoch 44/200\n",
      "380/380 [==============================] - 1s 2ms/step - loss: 67897266176.0000 - root_mean_squared_error: 260571.0312 - val_loss: 60525506560.0000 - val_root_mean_squared_error: 246019.3281\n",
      "Epoch 45/200\n",
      "380/380 [==============================] - 1s 2ms/step - loss: 67840970752.0000 - root_mean_squared_error: 260463.0000 - val_loss: 61123534848.0000 - val_root_mean_squared_error: 247231.7500\n",
      "Epoch 46/200\n",
      "380/380 [==============================] - 1s 1ms/step - loss: 67838869504.0000 - root_mean_squared_error: 260458.9531 - val_loss: 60425924608.0000 - val_root_mean_squared_error: 245816.8594\n",
      "Epoch 47/200\n",
      "380/380 [==============================] - 1s 1ms/step - loss: 67675021312.0000 - root_mean_squared_error: 260144.2344 - val_loss: 60832505856.0000 - val_root_mean_squared_error: 246642.4688\n",
      "Epoch 48/200\n",
      "380/380 [==============================] - 1s 1ms/step - loss: 67518771200.0000 - root_mean_squared_error: 259843.7500 - val_loss: 60956012544.0000 - val_root_mean_squared_error: 246892.7188\n",
      "Epoch 49/200\n",
      "380/380 [==============================] - 1s 1ms/step - loss: 67653722112.0000 - root_mean_squared_error: 260103.2969 - val_loss: 60356878336.0000 - val_root_mean_squared_error: 245676.3750\n",
      "Epoch 50/200\n",
      "380/380 [==============================] - 1s 2ms/step - loss: 67737001984.0000 - root_mean_squared_error: 260263.3281 - val_loss: 60489736192.0000 - val_root_mean_squared_error: 245946.6094\n",
      "Epoch 51/200\n",
      "380/380 [==============================] - 1s 2ms/step - loss: 67438223360.0000 - root_mean_squared_error: 259688.7031 - val_loss: 60233007104.0000 - val_root_mean_squared_error: 245424.1406\n",
      "Epoch 52/200\n",
      "380/380 [==============================] - 1s 2ms/step - loss: 67344240640.0000 - root_mean_squared_error: 259507.6875 - val_loss: 60432166912.0000 - val_root_mean_squared_error: 245829.5469\n",
      "Epoch 53/200\n",
      "380/380 [==============================] - 1s 1ms/step - loss: 67393409024.0000 - root_mean_squared_error: 259602.4062 - val_loss: 61311090688.0000 - val_root_mean_squared_error: 247610.7500\n",
      "Epoch 54/200\n",
      "380/380 [==============================] - 1s 1ms/step - loss: 67305508864.0000 - root_mean_squared_error: 259433.0469 - val_loss: 59968139264.0000 - val_root_mean_squared_error: 244883.9375\n",
      "Epoch 55/200\n",
      "380/380 [==============================] - 1s 1ms/step - loss: 67461824512.0000 - root_mean_squared_error: 259734.1406 - val_loss: 61890703360.0000 - val_root_mean_squared_error: 248778.4219\n",
      "Epoch 56/200\n",
      "380/380 [==============================] - 1s 2ms/step - loss: 67344048128.0000 - root_mean_squared_error: 259507.3125 - val_loss: 60209098752.0000 - val_root_mean_squared_error: 245375.4219\n",
      "Epoch 57/200\n",
      "380/380 [==============================] - 1s 1ms/step - loss: 67181469696.0000 - root_mean_squared_error: 259193.8906 - val_loss: 60363202560.0000 - val_root_mean_squared_error: 245689.2344\n",
      "Epoch 58/200\n",
      "380/380 [==============================] - 1s 2ms/step - loss: 67008020480.0000 - root_mean_squared_error: 258859.0781 - val_loss: 59892850688.0000 - val_root_mean_squared_error: 244730.1562\n",
      "Epoch 59/200\n",
      "380/380 [==============================] - 1s 2ms/step - loss: 67151876096.0000 - root_mean_squared_error: 259136.7969 - val_loss: 59894759424.0000 - val_root_mean_squared_error: 244734.0625\n",
      "Epoch 60/200\n",
      "380/380 [==============================] - 1s 2ms/step - loss: 67063083008.0000 - root_mean_squared_error: 258965.4062 - val_loss: 60649283584.0000 - val_root_mean_squared_error: 246270.7500\n",
      "Epoch 61/200\n",
      "380/380 [==============================] - 1s 2ms/step - loss: 67014139904.0000 - root_mean_squared_error: 258870.8906 - val_loss: 59664801792.0000 - val_root_mean_squared_error: 244263.7969\n",
      "Epoch 62/200\n",
      "380/380 [==============================] - 1s 2ms/step - loss: 67078914048.0000 - root_mean_squared_error: 258995.9688 - val_loss: 59774615552.0000 - val_root_mean_squared_error: 244488.4844\n",
      "Epoch 63/200\n",
      "380/380 [==============================] - 1s 2ms/step - loss: 66935046144.0000 - root_mean_squared_error: 258718.0781 - val_loss: 59555659776.0000 - val_root_mean_squared_error: 244040.2812\n",
      "Epoch 64/200\n",
      "380/380 [==============================] - 1s 2ms/step - loss: 66836348928.0000 - root_mean_squared_error: 258527.2656 - val_loss: 60898033664.0000 - val_root_mean_squared_error: 246775.2656\n",
      "Epoch 65/200\n",
      "380/380 [==============================] - 1s 1ms/step - loss: 66942054400.0000 - root_mean_squared_error: 258731.6250 - val_loss: 59512934400.0000 - val_root_mean_squared_error: 243952.7344\n",
      "Epoch 66/200\n",
      "380/380 [==============================] - 1s 1ms/step - loss: 66849587200.0000 - root_mean_squared_error: 258552.8750 - val_loss: 59710590976.0000 - val_root_mean_squared_error: 244357.5000\n",
      "Epoch 67/200\n",
      "380/380 [==============================] - 1s 1ms/step - loss: 66827571200.0000 - root_mean_squared_error: 258510.2969 - val_loss: 60215066624.0000 - val_root_mean_squared_error: 245387.5781\n",
      "Epoch 68/200\n",
      "380/380 [==============================] - 1s 1ms/step - loss: 66660769792.0000 - root_mean_squared_error: 258187.4688 - val_loss: 60420780032.0000 - val_root_mean_squared_error: 245806.3906\n",
      "Epoch 69/200\n",
      "380/380 [==============================] - 0s 1ms/step - loss: 66677497856.0000 - root_mean_squared_error: 258219.8594 - val_loss: 59334537216.0000 - val_root_mean_squared_error: 243586.8125\n",
      "Epoch 70/200\n",
      "380/380 [==============================] - 0s 1ms/step - loss: 66660659200.0000 - root_mean_squared_error: 258187.2500 - val_loss: 61209616384.0000 - val_root_mean_squared_error: 247405.7656\n",
      "Epoch 71/200\n",
      "380/380 [==============================] - 0s 1ms/step - loss: 66547265536.0000 - root_mean_squared_error: 257967.5625 - val_loss: 59483246592.0000 - val_root_mean_squared_error: 243891.8750\n",
      "Epoch 72/200\n",
      "380/380 [==============================] - 0s 1ms/step - loss: 66586116096.0000 - root_mean_squared_error: 258042.8594 - val_loss: 59261231104.0000 - val_root_mean_squared_error: 243436.2969\n",
      "Epoch 73/200\n",
      "380/380 [==============================] - 0s 1ms/step - loss: 66454802432.0000 - root_mean_squared_error: 257788.2969 - val_loss: 59184254976.0000 - val_root_mean_squared_error: 243278.1406\n",
      "Epoch 74/200\n",
      "380/380 [==============================] - 0s 1ms/step - loss: 66505170944.0000 - root_mean_squared_error: 257885.9688 - val_loss: 59146309632.0000 - val_root_mean_squared_error: 243200.1406\n",
      "Epoch 75/200\n",
      "380/380 [==============================] - 0s 1ms/step - loss: 66470076416.0000 - root_mean_squared_error: 257817.9062 - val_loss: 59154546688.0000 - val_root_mean_squared_error: 243217.0781\n",
      "Epoch 76/200\n",
      "380/380 [==============================] - 0s 1ms/step - loss: 66515386368.0000 - root_mean_squared_error: 257905.7656 - val_loss: 59341733888.0000 - val_root_mean_squared_error: 243601.5938\n",
      "Epoch 77/200\n",
      "380/380 [==============================] - 1s 1ms/step - loss: 66445185024.0000 - root_mean_squared_error: 257769.6406 - val_loss: 59123523584.0000 - val_root_mean_squared_error: 243153.2969\n",
      "Epoch 78/200\n",
      "380/380 [==============================] - 0s 1ms/step - loss: 66393219072.0000 - root_mean_squared_error: 257668.8125 - val_loss: 59458527232.0000 - val_root_mean_squared_error: 243841.1875\n",
      "Epoch 79/200\n",
      "380/380 [==============================] - 1s 1ms/step - loss: 66352381952.0000 - root_mean_squared_error: 257589.5625 - val_loss: 58990460928.0000 - val_root_mean_squared_error: 242879.5156\n",
      "Epoch 80/200\n",
      "380/380 [==============================] - 0s 1ms/step - loss: 66507644928.0000 - root_mean_squared_error: 257890.7656 - val_loss: 59644596224.0000 - val_root_mean_squared_error: 244222.4375\n",
      "Epoch 81/200\n",
      "380/380 [==============================] - 1s 2ms/step - loss: 66318159872.0000 - root_mean_squared_error: 257523.1250 - val_loss: 59085443072.0000 - val_root_mean_squared_error: 243074.9688\n",
      "Epoch 82/200\n",
      "380/380 [==============================] - 0s 1ms/step - loss: 66245939200.0000 - root_mean_squared_error: 257382.8594 - val_loss: 59487678464.0000 - val_root_mean_squared_error: 243900.9531\n",
      "Epoch 83/200\n",
      "380/380 [==============================] - 0s 1ms/step - loss: 66357760000.0000 - root_mean_squared_error: 257600.0000 - val_loss: 59967467520.0000 - val_root_mean_squared_error: 244882.5625\n",
      "Epoch 84/200\n",
      "380/380 [==============================] - 0s 1ms/step - loss: 66213269504.0000 - root_mean_squared_error: 257319.3906 - val_loss: 58850369536.0000 - val_root_mean_squared_error: 242590.9531\n",
      "Epoch 85/200\n",
      "380/380 [==============================] - 0s 1ms/step - loss: 66213974016.0000 - root_mean_squared_error: 257320.7656 - val_loss: 61072650240.0000 - val_root_mean_squared_error: 247128.8125\n",
      "Epoch 86/200\n",
      "380/380 [==============================] - 0s 1ms/step - loss: 66104225792.0000 - root_mean_squared_error: 257107.4219 - val_loss: 59362410496.0000 - val_root_mean_squared_error: 243644.0312\n",
      "Epoch 87/200\n",
      "380/380 [==============================] - 0s 1ms/step - loss: 66197610496.0000 - root_mean_squared_error: 257288.9688 - val_loss: 58938408960.0000 - val_root_mean_squared_error: 242772.3438\n",
      "Epoch 88/200\n",
      "380/380 [==============================] - 0s 1ms/step - loss: 66050846720.0000 - root_mean_squared_error: 257003.5938 - val_loss: 58777153536.0000 - val_root_mean_squared_error: 242440.0000\n",
      "Epoch 89/200\n",
      "380/380 [==============================] - 0s 1ms/step - loss: 66044055552.0000 - root_mean_squared_error: 256990.3750 - val_loss: 59635445760.0000 - val_root_mean_squared_error: 244203.7031\n",
      "Epoch 90/200\n",
      "380/380 [==============================] - 1s 1ms/step - loss: 66086645760.0000 - root_mean_squared_error: 257073.2344 - val_loss: 58778656768.0000 - val_root_mean_squared_error: 242443.0938\n",
      "Epoch 91/200\n",
      "380/380 [==============================] - 0s 1ms/step - loss: 65922383872.0000 - root_mean_squared_error: 256753.5469 - val_loss: 59081838592.0000 - val_root_mean_squared_error: 243067.5625\n",
      "Epoch 92/200\n",
      "380/380 [==============================] - 0s 1ms/step - loss: 65977221120.0000 - root_mean_squared_error: 256860.3125 - val_loss: 60775718912.0000 - val_root_mean_squared_error: 246527.3125\n",
      "Epoch 93/200\n",
      "380/380 [==============================] - 0s 1ms/step - loss: 66000039936.0000 - root_mean_squared_error: 256904.7344 - val_loss: 59488526336.0000 - val_root_mean_squared_error: 243902.7031\n",
      "Epoch 94/200\n",
      "380/380 [==============================] - 0s 1ms/step - loss: 65948758016.0000 - root_mean_squared_error: 256804.9062 - val_loss: 59396804608.0000 - val_root_mean_squared_error: 243714.5938\n",
      "Epoch 95/200\n",
      "380/380 [==============================] - 0s 1ms/step - loss: 66012327936.0000 - root_mean_squared_error: 256928.6406 - val_loss: 58572193792.0000 - val_root_mean_squared_error: 242016.9219\n",
      "Epoch 96/200\n",
      "380/380 [==============================] - 0s 1ms/step - loss: 65952231424.0000 - root_mean_squared_error: 256811.6719 - val_loss: 58601177088.0000 - val_root_mean_squared_error: 242076.7969\n",
      "Epoch 97/200\n",
      "380/380 [==============================] - 0s 1ms/step - loss: 65857323008.0000 - root_mean_squared_error: 256626.8125 - val_loss: 59229671424.0000 - val_root_mean_squared_error: 243371.4688\n",
      "Epoch 98/200\n",
      "380/380 [==============================] - 0s 1ms/step - loss: 65913454592.0000 - root_mean_squared_error: 256736.1562 - val_loss: 58647298048.0000 - val_root_mean_squared_error: 242172.0469\n",
      "Epoch 99/200\n",
      "380/380 [==============================] - 1s 1ms/step - loss: 65838600192.0000 - root_mean_squared_error: 256590.3281 - val_loss: 58491109376.0000 - val_root_mean_squared_error: 241849.3594\n",
      "Epoch 100/200\n",
      "380/380 [==============================] - 0s 1ms/step - loss: 65729175552.0000 - root_mean_squared_error: 256377.0156 - val_loss: 59033616384.0000 - val_root_mean_squared_error: 242968.3438\n",
      "Epoch 101/200\n",
      "380/380 [==============================] - 0s 1ms/step - loss: 65755930624.0000 - root_mean_squared_error: 256429.1875 - val_loss: 60111237120.0000 - val_root_mean_squared_error: 245175.9375\n",
      "Epoch 102/200\n",
      "380/380 [==============================] - 0s 1ms/step - loss: 65773871104.0000 - root_mean_squared_error: 256464.1719 - val_loss: 58550353920.0000 - val_root_mean_squared_error: 241971.7969\n",
      "Epoch 103/200\n",
      "380/380 [==============================] - 0s 1ms/step - loss: 65797173248.0000 - root_mean_squared_error: 256509.5938 - val_loss: 59822301184.0000 - val_root_mean_squared_error: 244585.9844\n",
      "Epoch 104/200\n",
      "380/380 [==============================] - 0s 1ms/step - loss: 65788481536.0000 - root_mean_squared_error: 256492.6562 - val_loss: 58818076672.0000 - val_root_mean_squared_error: 242524.3906\n",
      "Epoch 105/200\n",
      "380/380 [==============================] - 0s 1ms/step - loss: 65687322624.0000 - root_mean_squared_error: 256295.3750 - val_loss: 58714800128.0000 - val_root_mean_squared_error: 242311.3750\n",
      "Epoch 106/200\n",
      "380/380 [==============================] - 0s 1ms/step - loss: 65716555776.0000 - root_mean_squared_error: 256352.4062 - val_loss: 58483339264.0000 - val_root_mean_squared_error: 241833.2812\n",
      "Epoch 107/200\n",
      "380/380 [==============================] - 0s 1ms/step - loss: 65774112768.0000 - root_mean_squared_error: 256464.6406 - val_loss: 58519199744.0000 - val_root_mean_squared_error: 241907.4219\n",
      "Epoch 108/200\n",
      "380/380 [==============================] - 0s 1ms/step - loss: 65647710208.0000 - root_mean_squared_error: 256218.0938 - val_loss: 58629455872.0000 - val_root_mean_squared_error: 242135.2031\n",
      "Epoch 109/200\n",
      "380/380 [==============================] - 0s 1ms/step - loss: 65467916288.0000 - root_mean_squared_error: 255866.9844 - val_loss: 58311090176.0000 - val_root_mean_squared_error: 241476.8906\n",
      "Epoch 110/200\n",
      "380/380 [==============================] - 0s 1ms/step - loss: 65766752256.0000 - root_mean_squared_error: 256450.2969 - val_loss: 58683056128.0000 - val_root_mean_squared_error: 242245.8594\n",
      "Epoch 111/200\n",
      "380/380 [==============================] - 0s 1ms/step - loss: 65521651712.0000 - root_mean_squared_error: 255971.9688 - val_loss: 59078946816.0000 - val_root_mean_squared_error: 243061.6094\n",
      "Epoch 112/200\n",
      "380/380 [==============================] - 1s 1ms/step - loss: 65480511488.0000 - root_mean_squared_error: 255891.5938 - val_loss: 59501899776.0000 - val_root_mean_squared_error: 243930.1094\n",
      "Epoch 113/200\n",
      "380/380 [==============================] - 0s 1ms/step - loss: 65575141376.0000 - root_mean_squared_error: 256076.4375 - val_loss: 58238369792.0000 - val_root_mean_squared_error: 241326.2656\n",
      "Epoch 114/200\n",
      "380/380 [==============================] - 0s 1ms/step - loss: 65522311168.0000 - root_mean_squared_error: 255973.2656 - val_loss: 60076756992.0000 - val_root_mean_squared_error: 245105.6094\n",
      "Epoch 115/200\n",
      "380/380 [==============================] - 1s 1ms/step - loss: 65533390848.0000 - root_mean_squared_error: 255994.9062 - val_loss: 58895720448.0000 - val_root_mean_squared_error: 242684.4062\n",
      "Epoch 116/200\n",
      "380/380 [==============================] - 1s 1ms/step - loss: 65422614528.0000 - root_mean_squared_error: 255778.4531 - val_loss: 59404595200.0000 - val_root_mean_squared_error: 243730.5781\n",
      "Epoch 117/200\n",
      "380/380 [==============================] - 0s 1ms/step - loss: 65581105152.0000 - root_mean_squared_error: 256088.0781 - val_loss: 58199666688.0000 - val_root_mean_squared_error: 241246.0781\n",
      "Epoch 118/200\n",
      "380/380 [==============================] - 0s 1ms/step - loss: 65565057024.0000 - root_mean_squared_error: 256056.7500 - val_loss: 58379509760.0000 - val_root_mean_squared_error: 241618.5156\n",
      "Epoch 119/200\n",
      "380/380 [==============================] - 0s 1ms/step - loss: 65458073600.0000 - root_mean_squared_error: 255847.7500 - val_loss: 58195562496.0000 - val_root_mean_squared_error: 241237.5625\n",
      "Epoch 120/200\n",
      "380/380 [==============================] - 0s 1ms/step - loss: 65351561216.0000 - root_mean_squared_error: 255639.5156 - val_loss: 59847102464.0000 - val_root_mean_squared_error: 244636.6719\n",
      "Epoch 121/200\n",
      "380/380 [==============================] - 0s 1ms/step - loss: 65456427008.0000 - root_mean_squared_error: 255844.5312 - val_loss: 58241835008.0000 - val_root_mean_squared_error: 241333.4531\n",
      "Epoch 122/200\n",
      "380/380 [==============================] - 0s 1ms/step - loss: 65491619840.0000 - root_mean_squared_error: 255913.3125 - val_loss: 58252328960.0000 - val_root_mean_squared_error: 241355.1875\n",
      "Epoch 123/200\n",
      "380/380 [==============================] - 0s 1ms/step - loss: 65429794816.0000 - root_mean_squared_error: 255792.4844 - val_loss: 58323148800.0000 - val_root_mean_squared_error: 241501.8594\n",
      "Epoch 124/200\n",
      "380/380 [==============================] - 0s 1ms/step - loss: 65351778304.0000 - root_mean_squared_error: 255639.9375 - val_loss: 59483168768.0000 - val_root_mean_squared_error: 243891.7188\n",
      "Epoch 125/200\n",
      "380/380 [==============================] - 0s 1ms/step - loss: 65398890496.0000 - root_mean_squared_error: 255732.0625 - val_loss: 59142123520.0000 - val_root_mean_squared_error: 243191.5312\n",
      "Epoch 126/200\n",
      "380/380 [==============================] - 0s 1ms/step - loss: 65391747072.0000 - root_mean_squared_error: 255718.0938 - val_loss: 58109337600.0000 - val_root_mean_squared_error: 241058.7812\n",
      "Epoch 127/200\n",
      "380/380 [==============================] - 0s 1ms/step - loss: 65502556160.0000 - root_mean_squared_error: 255934.6719 - val_loss: 58106306560.0000 - val_root_mean_squared_error: 241052.5000\n",
      "Epoch 128/200\n",
      "380/380 [==============================] - 0s 1ms/step - loss: 65256845312.0000 - root_mean_squared_error: 255454.1875 - val_loss: 58204454912.0000 - val_root_mean_squared_error: 241256.0000\n",
      "Epoch 129/200\n",
      "380/380 [==============================] - 0s 1ms/step - loss: 65219678208.0000 - root_mean_squared_error: 255381.4375 - val_loss: 59589419008.0000 - val_root_mean_squared_error: 244109.4375\n",
      "Epoch 130/200\n",
      "380/380 [==============================] - 0s 1ms/step - loss: 65391751168.0000 - root_mean_squared_error: 255718.1094 - val_loss: 59309768704.0000 - val_root_mean_squared_error: 243535.9688\n",
      "Epoch 131/200\n",
      "380/380 [==============================] - 0s 1ms/step - loss: 65364127744.0000 - root_mean_squared_error: 255664.0938 - val_loss: 58040877056.0000 - val_root_mean_squared_error: 240916.7500\n",
      "Epoch 132/200\n",
      "380/380 [==============================] - 0s 1ms/step - loss: 65402662912.0000 - root_mean_squared_error: 255739.4375 - val_loss: 59140665344.0000 - val_root_mean_squared_error: 243188.5312\n",
      "Epoch 133/200\n",
      "380/380 [==============================] - 0s 1ms/step - loss: 65268035584.0000 - root_mean_squared_error: 255476.0938 - val_loss: 58389639168.0000 - val_root_mean_squared_error: 241639.4844\n",
      "Epoch 134/200\n",
      "380/380 [==============================] - 0s 1ms/step - loss: 65323802624.0000 - root_mean_squared_error: 255585.2188 - val_loss: 57976881152.0000 - val_root_mean_squared_error: 240783.8906\n",
      "Epoch 135/200\n",
      "380/380 [==============================] - 1s 1ms/step - loss: 65283989504.0000 - root_mean_squared_error: 255507.3125 - val_loss: 58425905152.0000 - val_root_mean_squared_error: 241714.5156\n",
      "Epoch 136/200\n",
      "380/380 [==============================] - 0s 1ms/step - loss: 65369260032.0000 - root_mean_squared_error: 255674.1250 - val_loss: 57982357504.0000 - val_root_mean_squared_error: 240795.2656\n",
      "Epoch 137/200\n",
      "380/380 [==============================] - 0s 1ms/step - loss: 65375698944.0000 - root_mean_squared_error: 255686.7188 - val_loss: 59474399232.0000 - val_root_mean_squared_error: 243873.7344\n",
      "Epoch 138/200\n",
      "380/380 [==============================] - 0s 1ms/step - loss: 65235578880.0000 - root_mean_squared_error: 255412.5625 - val_loss: 58576465920.0000 - val_root_mean_squared_error: 242025.7500\n",
      "Epoch 139/200\n",
      "380/380 [==============================] - 1s 1ms/step - loss: 65229705216.0000 - root_mean_squared_error: 255401.0625 - val_loss: 58380242944.0000 - val_root_mean_squared_error: 241620.0312\n",
      "Epoch 140/200\n",
      "380/380 [==============================] - 0s 1ms/step - loss: 65199943680.0000 - root_mean_squared_error: 255342.7969 - val_loss: 58330349568.0000 - val_root_mean_squared_error: 241516.7656\n",
      "Epoch 141/200\n",
      "380/380 [==============================] - 0s 1ms/step - loss: 65144520704.0000 - root_mean_squared_error: 255234.2500 - val_loss: 58133860352.0000 - val_root_mean_squared_error: 241109.6406\n",
      "Epoch 142/200\n",
      "380/380 [==============================] - 0s 1ms/step - loss: 65138708480.0000 - root_mean_squared_error: 255222.8594 - val_loss: 57922244608.0000 - val_root_mean_squared_error: 240670.4062\n",
      "Epoch 143/200\n",
      "380/380 [==============================] - 0s 1ms/step - loss: 65346449408.0000 - root_mean_squared_error: 255629.5156 - val_loss: 58211213312.0000 - val_root_mean_squared_error: 241270.0000\n",
      "Epoch 144/200\n",
      "380/380 [==============================] - 0s 1ms/step - loss: 65211973632.0000 - root_mean_squared_error: 255366.3594 - val_loss: 58165145600.0000 - val_root_mean_squared_error: 241174.5156\n",
      "Epoch 145/200\n",
      "380/380 [==============================] - 0s 1ms/step - loss: 65140006912.0000 - root_mean_squared_error: 255225.4062 - val_loss: 57859182592.0000 - val_root_mean_squared_error: 240539.3594\n",
      "Epoch 146/200\n",
      "380/380 [==============================] - 0s 1ms/step - loss: 65090650112.0000 - root_mean_squared_error: 255128.6875 - val_loss: 58033033216.0000 - val_root_mean_squared_error: 240900.4688\n",
      "Epoch 147/200\n",
      "380/380 [==============================] - 0s 1ms/step - loss: 65125863424.0000 - root_mean_squared_error: 255197.6875 - val_loss: 57842647040.0000 - val_root_mean_squared_error: 240504.9844\n",
      "Epoch 148/200\n",
      "380/380 [==============================] - 0s 1ms/step - loss: 65198092288.0000 - root_mean_squared_error: 255339.1719 - val_loss: 58673123328.0000 - val_root_mean_squared_error: 242225.3594\n",
      "Epoch 149/200\n",
      "380/380 [==============================] - 0s 1ms/step - loss: 65067397120.0000 - root_mean_squared_error: 255083.1250 - val_loss: 57987088384.0000 - val_root_mean_squared_error: 240805.0781\n",
      "Epoch 150/200\n",
      "380/380 [==============================] - 0s 1ms/step - loss: 65114722304.0000 - root_mean_squared_error: 255175.8594 - val_loss: 58426494976.0000 - val_root_mean_squared_error: 241715.7344\n",
      "Epoch 151/200\n",
      "380/380 [==============================] - 0s 1ms/step - loss: 65135202304.0000 - root_mean_squared_error: 255215.9844 - val_loss: 59755368448.0000 - val_root_mean_squared_error: 244449.1094\n",
      "Epoch 152/200\n",
      "380/380 [==============================] - 0s 1ms/step - loss: 65236877312.0000 - root_mean_squared_error: 255415.1094 - val_loss: 58496647168.0000 - val_root_mean_squared_error: 241860.7969\n",
      "Epoch 153/200\n",
      "380/380 [==============================] - 1s 1ms/step - loss: 65158451200.0000 - root_mean_squared_error: 255261.5312 - val_loss: 65780547584.0000 - val_root_mean_squared_error: 256477.1875\n",
      "Epoch 154/200\n",
      "380/380 [==============================] - 0s 1ms/step - loss: 65095598080.0000 - root_mean_squared_error: 255138.3906 - val_loss: 57854857216.0000 - val_root_mean_squared_error: 240530.3594\n",
      "Epoch 155/200\n",
      "380/380 [==============================] - 0s 1ms/step - loss: 65110568960.0000 - root_mean_squared_error: 255167.7344 - val_loss: 57924984832.0000 - val_root_mean_squared_error: 240676.0938\n",
      "Epoch 156/200\n",
      "380/380 [==============================] - 0s 1ms/step - loss: 64996151296.0000 - root_mean_squared_error: 254943.4219 - val_loss: 57822883840.0000 - val_root_mean_squared_error: 240463.8906\n",
      "Epoch 157/200\n",
      "380/380 [==============================] - 0s 1ms/step - loss: 65122983936.0000 - root_mean_squared_error: 255192.0469 - val_loss: 58143895552.0000 - val_root_mean_squared_error: 241130.4531\n",
      "Epoch 158/200\n",
      "380/380 [==============================] - 0s 1ms/step - loss: 65085030400.0000 - root_mean_squared_error: 255117.6719 - val_loss: 58631041024.0000 - val_root_mean_squared_error: 242138.4688\n",
      "Epoch 159/200\n",
      "380/380 [==============================] - 0s 1ms/step - loss: 65030979584.0000 - root_mean_squared_error: 255011.7188 - val_loss: 60672188416.0000 - val_root_mean_squared_error: 246317.2500\n",
      "Epoch 160/200\n",
      "380/380 [==============================] - 0s 1ms/step - loss: 64964550656.0000 - root_mean_squared_error: 254881.4375 - val_loss: 58156552192.0000 - val_root_mean_squared_error: 241156.7031\n",
      "Epoch 161/200\n",
      "380/380 [==============================] - 0s 1ms/step - loss: 65128767488.0000 - root_mean_squared_error: 255203.3906 - val_loss: 57764732928.0000 - val_root_mean_squared_error: 240342.9531\n",
      "Epoch 162/200\n",
      "380/380 [==============================] - 1s 1ms/step - loss: 64992788480.0000 - root_mean_squared_error: 254936.8281 - val_loss: 57798995968.0000 - val_root_mean_squared_error: 240414.2188\n",
      "Epoch 163/200\n",
      "380/380 [==============================] - 0s 1ms/step - loss: 65221074944.0000 - root_mean_squared_error: 255384.1719 - val_loss: 59218980864.0000 - val_root_mean_squared_error: 243349.5000\n",
      "Epoch 164/200\n",
      "380/380 [==============================] - 0s 1ms/step - loss: 65061429248.0000 - root_mean_squared_error: 255071.4219 - val_loss: 58269396992.0000 - val_root_mean_squared_error: 241390.5469\n",
      "Epoch 165/200\n",
      "380/380 [==============================] - 0s 1ms/step - loss: 64908234752.0000 - root_mean_squared_error: 254770.9531 - val_loss: 57727483904.0000 - val_root_mean_squared_error: 240265.4375\n",
      "Epoch 166/200\n",
      "380/380 [==============================] - 0s 1ms/step - loss: 65107107840.0000 - root_mean_squared_error: 255160.9375 - val_loss: 57747947520.0000 - val_root_mean_squared_error: 240308.0312\n",
      "Epoch 167/200\n",
      "380/380 [==============================] - 0s 1ms/step - loss: 64985206784.0000 - root_mean_squared_error: 254921.9688 - val_loss: 57743134720.0000 - val_root_mean_squared_error: 240298.0156\n",
      "Epoch 168/200\n",
      "380/380 [==============================] - 0s 1ms/step - loss: 64882679808.0000 - root_mean_squared_error: 254720.7812 - val_loss: 57709432832.0000 - val_root_mean_squared_error: 240227.8750\n",
      "Epoch 169/200\n",
      "380/380 [==============================] - 0s 1ms/step - loss: 64993787904.0000 - root_mean_squared_error: 254938.7969 - val_loss: 57702412288.0000 - val_root_mean_squared_error: 240213.2656\n",
      "Epoch 170/200\n",
      "380/380 [==============================] - 0s 1ms/step - loss: 64998060032.0000 - root_mean_squared_error: 254947.1719 - val_loss: 57945325568.0000 - val_root_mean_squared_error: 240718.3594\n",
      "Epoch 171/200\n",
      "380/380 [==============================] - 1s 1ms/step - loss: 65009238016.0000 - root_mean_squared_error: 254969.0938 - val_loss: 57833107456.0000 - val_root_mean_squared_error: 240485.1562\n",
      "Epoch 172/200\n",
      "380/380 [==============================] - 0s 1ms/step - loss: 64868696064.0000 - root_mean_squared_error: 254693.3438 - val_loss: 57715363840.0000 - val_root_mean_squared_error: 240240.2188\n",
      "Epoch 173/200\n",
      "380/380 [==============================] - 0s 1ms/step - loss: 64985518080.0000 - root_mean_squared_error: 254922.5781 - val_loss: 58755260416.0000 - val_root_mean_squared_error: 242394.8438\n",
      "Epoch 174/200\n",
      "380/380 [==============================] - 0s 1ms/step - loss: 64939868160.0000 - root_mean_squared_error: 254833.0156 - val_loss: 58608914432.0000 - val_root_mean_squared_error: 242092.7812\n",
      "Epoch 175/200\n",
      "380/380 [==============================] - 0s 1ms/step - loss: 64973471744.0000 - root_mean_squared_error: 254898.9375 - val_loss: 57691992064.0000 - val_root_mean_squared_error: 240191.5781\n",
      "Epoch 176/200\n",
      "380/380 [==============================] - 0s 1ms/step - loss: 64913334272.0000 - root_mean_squared_error: 254780.9531 - val_loss: 59717275648.0000 - val_root_mean_squared_error: 244371.1875\n",
      "Epoch 177/200\n",
      "380/380 [==============================] - 0s 1ms/step - loss: 64884809728.0000 - root_mean_squared_error: 254724.9688 - val_loss: 58306060288.0000 - val_root_mean_squared_error: 241466.4844\n",
      "Epoch 178/200\n",
      "380/380 [==============================] - 0s 1ms/step - loss: 65200939008.0000 - root_mean_squared_error: 255344.7500 - val_loss: 57662607360.0000 - val_root_mean_squared_error: 240130.3906\n",
      "Epoch 179/200\n",
      "380/380 [==============================] - 0s 1ms/step - loss: 65036689408.0000 - root_mean_squared_error: 255022.9219 - val_loss: 57703018496.0000 - val_root_mean_squared_error: 240214.5312\n",
      "Epoch 180/200\n",
      "380/380 [==============================] - 0s 1ms/step - loss: 64943513600.0000 - root_mean_squared_error: 254840.1719 - val_loss: 59224457216.0000 - val_root_mean_squared_error: 243360.7500\n",
      "Epoch 181/200\n",
      "380/380 [==============================] - 0s 1ms/step - loss: 64969076736.0000 - root_mean_squared_error: 254890.3281 - val_loss: 57907937280.0000 - val_root_mean_squared_error: 240640.6875\n",
      "Epoch 182/200\n",
      "380/380 [==============================] - 0s 1ms/step - loss: 64994795520.0000 - root_mean_squared_error: 254940.7656 - val_loss: 58170433536.0000 - val_root_mean_squared_error: 241185.4688\n",
      "Epoch 183/200\n",
      "380/380 [==============================] - 0s 1ms/step - loss: 64940044288.0000 - root_mean_squared_error: 254833.3594 - val_loss: 58537656320.0000 - val_root_mean_squared_error: 241945.5625\n",
      "Epoch 184/200\n",
      "380/380 [==============================] - 0s 1ms/step - loss: 64854401024.0000 - root_mean_squared_error: 254665.2656 - val_loss: 57651396608.0000 - val_root_mean_squared_error: 240107.0469\n",
      "Epoch 185/200\n",
      "380/380 [==============================] - 0s 1ms/step - loss: 65080233984.0000 - root_mean_squared_error: 255108.2812 - val_loss: 58218364928.0000 - val_root_mean_squared_error: 241284.8281\n",
      "Epoch 186/200\n",
      "380/380 [==============================] - 0s 1ms/step - loss: 64845316096.0000 - root_mean_squared_error: 254647.4375 - val_loss: 57728053248.0000 - val_root_mean_squared_error: 240266.6250\n",
      "Epoch 187/200\n",
      "380/380 [==============================] - 1s 2ms/step - loss: 65036603392.0000 - root_mean_squared_error: 255022.7500 - val_loss: 57631711232.0000 - val_root_mean_squared_error: 240066.0625\n",
      "Epoch 188/200\n",
      "380/380 [==============================] - 1s 2ms/step - loss: 64804057088.0000 - root_mean_squared_error: 254566.4062 - val_loss: 57785679872.0000 - val_root_mean_squared_error: 240386.5156\n",
      "Epoch 189/200\n",
      "380/380 [==============================] - 1s 2ms/step - loss: 64826368000.0000 - root_mean_squared_error: 254610.2344 - val_loss: 57621798912.0000 - val_root_mean_squared_error: 240045.4062\n",
      "Epoch 190/200\n",
      "380/380 [==============================] - 1s 2ms/step - loss: 64923631616.0000 - root_mean_squared_error: 254801.1562 - val_loss: 57859477504.0000 - val_root_mean_squared_error: 240539.9688\n",
      "Epoch 191/200\n",
      "380/380 [==============================] - 1s 1ms/step - loss: 64785911808.0000 - root_mean_squared_error: 254530.7656 - val_loss: 57709473792.0000 - val_root_mean_squared_error: 240227.9688\n",
      "Epoch 192/200\n",
      "380/380 [==============================] - 1s 2ms/step - loss: 64823808000.0000 - root_mean_squared_error: 254605.2031 - val_loss: 57656500224.0000 - val_root_mean_squared_error: 240117.6875\n",
      "Epoch 193/200\n",
      "380/380 [==============================] - 0s 1ms/step - loss: 64879050752.0000 - root_mean_squared_error: 254713.6719 - val_loss: 57859305472.0000 - val_root_mean_squared_error: 240539.6094\n",
      "Epoch 194/200\n",
      "380/380 [==============================] - 1s 1ms/step - loss: 65022939136.0000 - root_mean_squared_error: 254995.9531 - val_loss: 57705758720.0000 - val_root_mean_squared_error: 240220.2344\n",
      "Epoch 195/200\n",
      "380/380 [==============================] - 1s 1ms/step - loss: 64910233600.0000 - root_mean_squared_error: 254774.8750 - val_loss: 57589125120.0000 - val_root_mean_squared_error: 239977.3438\n",
      "Epoch 196/200\n",
      "380/380 [==============================] - 1s 2ms/step - loss: 64790052864.0000 - root_mean_squared_error: 254538.9062 - val_loss: 57586270208.0000 - val_root_mean_squared_error: 239971.3906\n",
      "Epoch 197/200\n",
      "380/380 [==============================] - 1s 2ms/step - loss: 64830418944.0000 - root_mean_squared_error: 254618.1875 - val_loss: 58342334464.0000 - val_root_mean_squared_error: 241541.5781\n",
      "Epoch 198/200\n",
      "380/380 [==============================] - 1s 2ms/step - loss: 64946688000.0000 - root_mean_squared_error: 254846.4062 - val_loss: 57625665536.0000 - val_root_mean_squared_error: 240053.4688\n",
      "Epoch 199/200\n",
      "380/380 [==============================] - 1s 2ms/step - loss: 64796958720.0000 - root_mean_squared_error: 254552.4688 - val_loss: 57647104000.0000 - val_root_mean_squared_error: 240098.1094\n",
      "Epoch 200/200\n",
      "380/380 [==============================] - 0s 1ms/step - loss: 64816316416.0000 - root_mean_squared_error: 254590.4844 - val_loss: 57892646912.0000 - val_root_mean_squared_error: 240608.9062\n"
     ]
    }
   ],
   "source": [
    "# Write your code here: compile and train\n",
    "n_net.compile(\n",
    "    loss=keras.losses.mean_squared_error,\n",
    "    optimizer=keras.optimizers.SGD(learning_rate=0.01),\n",
    "    metrics=[keras.metrics.RootMeanSquaredError()]\n",
    ")\n",
    "history = n_net.fit(\n",
    "    X_train, y_train, epochs=200,\n",
    "    validation_data=(X_val, y_val)\n",
    ")"
   ]
  },
  {
   "cell_type": "markdown",
   "metadata": {},
   "source": [
    "What do you see happening? If you notice somthing amiss, try some bounded activation function (i.e. sigmoid or tanh). Other option could be different data scaling techniques such as quantile scaling (https://en.wikipedia.org/wiki/Quantile_normalization)."
   ]
  },
  {
   "cell_type": "code",
   "execution_count": null,
   "metadata": {},
   "outputs": [],
   "source": [
    "# Write your code here: test set evaluation\n"
   ]
  },
  {
   "cell_type": "markdown",
   "metadata": {},
   "source": [
    "How does the RMSE of this Neural Network compares to the one we obtained from the Regression algorithms we tried in Week 3?"
   ]
  },
  {
   "cell_type": "markdown",
   "metadata": {},
   "source": [
    "## 6.3 Using the Subclassing API to Build Dynamic Models\n",
    "\n",
    "Both the two APIs we have seen so far, the Sequential and the Functional, are declarative. This means that you declare which layers you are going to use and how they will be connected. Afterwards, you can start to feed the model some data for training or inference. There are a few advantages in this approach: \n",
    "* the model can easily be saved, cloned, and shared; \n",
    "* its structure can be displayed and analysed; \n",
    "* the framework can infer shapes and check types, so errors can be caught early. \n",
    "* It’s also fairly easy to debug, given that the whole model is a static graph of layers. \n",
    "\n",
    "However, the main disadvantage is just that the model is static. Some networks involve loops, varying shapes, conditional branching, and other dynamic behaviors. For these cases, or just if you favour a more imperative programming style, you can use the Subclassing API\n",
    "\n",
    "What you have to do is: subclass the Model class, create the layers you need in the constructor, and use them to perform the computations you want in a `call()` method. \n",
    "\n",
    "Let's see how we can do it with the \"Wide & Deep\" model we have seen in the previous section."
   ]
  },
  {
   "cell_type": "code",
   "execution_count": null,
   "metadata": {},
   "outputs": [],
   "source": [
    "class WideAndDeepNetwork(keras.models.Model):\n",
    "    \n",
    "    def __init__(self, units=30, activation='relu', **kwargs):\n",
    "        super().__init__(**kwargs) # handles standard args, such as 'name'\n",
    "        self.hidden_0 = keras.layers.Dense(units, activation=activation)\n",
    "        self.hidden_1 = keras.layers.Dense(units, activation=activation)\n",
    "        self.output_0 = keras.layers.Dense(1)\n",
    "        \n",
    "    def call(self, inputs):\n",
    "        hidden_0 = self.hidden_0(inputs)\n",
    "        hidden_1 = self.hidden_1(hidden_0)\n",
    "        concat = keras.layers.concatenate([inputs, hidden_1])\n",
    "        return self.output_0(concat)\n",
    "    \n",
    "n_net = WideAndDeepNetwork(30, activation='tanh')\n",
    "n_net"
   ]
  },
  {
   "cell_type": "markdown",
   "metadata": {},
   "source": [
    "This example looks very much like the Functional API, except we do not need to create the inputs; we just use the input argument to the call() method, and we separate the creation of the layers21 in the constructor from their usage in the call() method. The big difference is that you can do pretty much anything you want in the call() method: for loops, if statements, low-level TensorFlow operations—your imagination is the limit! This makes it a great API for researchers experimenting with new ideas.\n",
    "\n",
    "This extra flexibility does come at a cost: your model’s architecture is hidden within the call() method, so Keras cannot easily inspect it; it cannot save or clone it; and when you call the summary() method, you only get a list of layers, without any information on how they are connected to each other. Moreover, Keras cannot check types and shapes ahead of time, and it is easier to make mistakes. So unless you really need that extra flexibility, you should probably stick to the Sequential API or the Functional API."
   ]
  },
  {
   "cell_type": "code",
   "execution_count": null,
   "metadata": {},
   "outputs": [],
   "source": [
    "n_net.compile(\n",
    "    loss=keras.losses.MeanSquaredError(),\n",
    "    optimizer=keras.optimizers.SGD(lr=0.01),\n",
    "    metrics=[keras.metrics.RootMeanSquaredError()]\n",
    ")\n",
    "history = n_net.fit(\n",
    "    X_train, y_train, epochs=30,\n",
    "    validation_data=(X_val, y_val)\n",
    ")\n",
    "mse, rmse = n_net.evaluate(X_test, y_test, verbose=0)"
   ]
  },
  {
   "cell_type": "code",
   "execution_count": null,
   "metadata": {},
   "outputs": [],
   "source": [
    "rmse"
   ]
  },
  {
   "cell_type": "markdown",
   "metadata": {},
   "source": [
    "## 6.4 Using TensorBoard for Visualization"
   ]
  },
  {
   "cell_type": "markdown",
   "metadata": {},
   "source": [
    "Tensorboard is an interactive tool, shipped together with TensorFlow, that helps to visualise and comprare the training performance of your network.\n",
    "\n",
    "Before we can use it, we need to modify our code to output log files that are named \"event files\". TensorBoard will pick up these files as soon as they are created and visualise them."
   ]
  },
  {
   "cell_type": "code",
   "execution_count": 27,
   "metadata": {},
   "outputs": [
    {
     "data": {
      "text/plain": [
       "'./my_logs/run_2022_07_15-17_58_20'"
      ]
     },
     "execution_count": 27,
     "metadata": {},
     "output_type": "execute_result"
    }
   ],
   "source": [
    "# to be done\n",
    "import os\n",
    "root_logdir = os.path.join(os.curdir, \"my_logs\")\n",
    "\n",
    "def get_run_logdir():\n",
    "    \"\"\"\n",
    "    This method will generate a different directory with name based on creation timestamp\n",
    "    every time we run the code\n",
    "    \"\"\"\n",
    "    import time\n",
    "    run_id = time.strftime(\"run_%Y_%m_%d-%H_%M_%S\")\n",
    "    return os.path.join(root_logdir, run_id)\n",
    "\n",
    "run_logdir = get_run_logdir() \n",
    "run_logdir"
   ]
  },
  {
   "cell_type": "code",
   "execution_count": 28,
   "metadata": {},
   "outputs": [],
   "source": [
    "keras.backend.clear_session()\n",
    "np.random.seed(42)\n",
    "tf.random.set_seed(42)"
   ]
  },
  {
   "cell_type": "markdown",
   "metadata": {},
   "source": [
    "Here rather than using SGD optimiser and tanh as activation function, we are going to use a more up-to-date approach to avoid the issue of vanishing exploding/gradients: we will use the SeLU activation function and the improved \"Adam\" optimisation algorithm (see Notebook 06B)."
   ]
  },
  {
   "cell_type": "code",
   "execution_count": 29,
   "metadata": {},
   "outputs": [
    {
     "name": "stderr",
     "output_type": "stream",
     "text": [
      "/home/massi/.pyenv/versions/anaconda3-2022.05/envs/tf-data-science/lib/python3.9/site-packages/keras/optimizers/optimizer_v2/adam.py:110: UserWarning: The `lr` argument is deprecated, use `learning_rate` instead.\n",
      "  super(Adam, self).__init__(name, **kwargs)\n"
     ]
    }
   ],
   "source": [
    "n_net = keras.models.Sequential([\n",
    "    keras.layers.Dense(\n",
    "        100, activation=\"selu\", kernel_initializer='lecun_normal', input_shape=[5]\n",
    "    ),\n",
    "    keras.layers.Dense(\n",
    "        30, activation=\"selu\", kernel_initializer='lecun_normal'\n",
    "    ),\n",
    "    keras.layers.Dense(1)\n",
    "])\n",
    "\n",
    "n_net.compile(\n",
    "    loss=\"mse\", \n",
    "    optimizer=keras.optimizers.Adam(lr=1e-3),\n",
    "    metrics=[keras.metrics.RootMeanSquaredError()]\n",
    ")"
   ]
  },
  {
   "cell_type": "code",
   "execution_count": null,
   "metadata": {},
   "outputs": [],
   "source": [
    "dense_1 = n_net.get_layer('dense_1')"
   ]
  },
  {
   "cell_type": "code",
   "execution_count": null,
   "metadata": {},
   "outputs": [],
   "source": [
    "dense_1.activation"
   ]
  },
  {
   "cell_type": "code",
   "execution_count": 30,
   "metadata": {},
   "outputs": [
    {
     "name": "stdout",
     "output_type": "stream",
     "text": [
      "Model: \"sequential\"\n",
      "_________________________________________________________________\n",
      " Layer (type)                Output Shape              Param #   \n",
      "=================================================================\n",
      " dense (Dense)               (None, 100)               600       \n",
      "                                                                 \n",
      " dense_1 (Dense)             (None, 30)                3030      \n",
      "                                                                 \n",
      " dense_2 (Dense)             (None, 1)                 31        \n",
      "                                                                 \n",
      "=================================================================\n",
      "Total params: 3,661\n",
      "Trainable params: 3,661\n",
      "Non-trainable params: 0\n",
      "_________________________________________________________________\n"
     ]
    }
   ],
   "source": [
    "n_net.summary()"
   ]
  },
  {
   "cell_type": "markdown",
   "metadata": {},
   "source": [
    "We can use Keras's `TensorBoard()` callbacks to create a log directory and the event files:"
   ]
  },
  {
   "cell_type": "code",
   "execution_count": 31,
   "metadata": {},
   "outputs": [
    {
     "name": "stdout",
     "output_type": "stream",
     "text": [
      "Epoch 1/40\n",
      "380/380 [==============================] - 2s 3ms/step - loss: 429796753408.0000 - root_mean_squared_error: 655588.8750 - val_loss: 421441830912.0000 - val_root_mean_squared_error: 649185.5000\n",
      "Epoch 2/40\n",
      "380/380 [==============================] - 1s 2ms/step - loss: 425957294080.0000 - root_mean_squared_error: 652654.0625 - val_loss: 414362009600.0000 - val_root_mean_squared_error: 643709.5625\n",
      "Epoch 3/40\n",
      "380/380 [==============================] - 1s 2ms/step - loss: 414864310272.0000 - root_mean_squared_error: 644099.6250 - val_loss: 398664957952.0000 - val_root_mean_squared_error: 631399.1875\n",
      "Epoch 4/40\n",
      "380/380 [==============================] - 1s 2ms/step - loss: 394771628032.0000 - root_mean_squared_error: 628308.5625 - val_loss: 373629288448.0000 - val_root_mean_squared_error: 611252.2500\n",
      "Epoch 5/40\n",
      "380/380 [==============================] - 1s 2ms/step - loss: 365402587136.0000 - root_mean_squared_error: 604485.3750 - val_loss: 339577110528.0000 - val_root_mean_squared_error: 582732.4375\n",
      "Epoch 6/40\n",
      "380/380 [==============================] - 1s 2ms/step - loss: 328333885440.0000 - root_mean_squared_error: 573004.2500 - val_loss: 299020484608.0000 - val_root_mean_squared_error: 546827.6250\n",
      "Epoch 7/40\n",
      "380/380 [==============================] - 1s 2ms/step - loss: 286248402944.0000 - root_mean_squared_error: 535021.8750 - val_loss: 255154831360.0000 - val_root_mean_squared_error: 505128.5312\n",
      "Epoch 8/40\n",
      "380/380 [==============================] - 1s 2ms/step - loss: 242614173696.0000 - root_mean_squared_error: 492558.8125 - val_loss: 211286343680.0000 - val_root_mean_squared_error: 459658.9375\n",
      "Epoch 9/40\n",
      "380/380 [==============================] - 1s 2ms/step - loss: 201189687296.0000 - root_mean_squared_error: 448541.7188 - val_loss: 171898093568.0000 - val_root_mean_squared_error: 414605.9375\n",
      "Epoch 10/40\n",
      "380/380 [==============================] - 1s 2ms/step - loss: 165648187392.0000 - root_mean_squared_error: 406999.0000 - val_loss: 139833524224.0000 - val_root_mean_squared_error: 373943.2188\n",
      "Epoch 11/40\n",
      "380/380 [==============================] - 1s 2ms/step - loss: 138352705536.0000 - root_mean_squared_error: 371957.9375 - val_loss: 116674592768.0000 - val_root_mean_squared_error: 341576.6250\n",
      "Epoch 12/40\n",
      "380/380 [==============================] - 1s 2ms/step - loss: 120215027712.0000 - root_mean_squared_error: 346720.3750 - val_loss: 102713917440.0000 - val_root_mean_squared_error: 320490.1250\n",
      "Epoch 13/40\n",
      "380/380 [==============================] - 1s 2ms/step - loss: 109996498944.0000 - root_mean_squared_error: 331657.1875 - val_loss: 95548735488.0000 - val_root_mean_squared_error: 309109.5938\n",
      "Epoch 14/40\n",
      "380/380 [==============================] - 1s 2ms/step - loss: 105300910080.0000 - root_mean_squared_error: 324501.0312 - val_loss: 92519497728.0000 - val_root_mean_squared_error: 304170.1875\n",
      "Epoch 15/40\n",
      "380/380 [==============================] - 1s 1ms/step - loss: 103463116800.0000 - root_mean_squared_error: 321656.8438 - val_loss: 91397726208.0000 - val_root_mean_squared_error: 302320.5625\n",
      "Epoch 16/40\n",
      "380/380 [==============================] - 1s 2ms/step - loss: 102607478784.0000 - root_mean_squared_error: 320324.0312 - val_loss: 90664910848.0000 - val_root_mean_squared_error: 301106.1562\n",
      "Epoch 17/40\n",
      "380/380 [==============================] - 1s 2ms/step - loss: 101488705536.0000 - root_mean_squared_error: 318572.9062 - val_loss: 89074204672.0000 - val_root_mean_squared_error: 298453.0312\n",
      "Epoch 18/40\n",
      "380/380 [==============================] - 1s 1ms/step - loss: 99131310080.0000 - root_mean_squared_error: 314851.2500 - val_loss: 86674071552.0000 - val_root_mean_squared_error: 294404.5938\n",
      "Epoch 19/40\n",
      "380/380 [==============================] - 1s 2ms/step - loss: 97028857856.0000 - root_mean_squared_error: 311494.5625 - val_loss: 85231935488.0000 - val_root_mean_squared_error: 291945.0938\n",
      "Epoch 20/40\n",
      "380/380 [==============================] - 1s 2ms/step - loss: 95754928128.0000 - root_mean_squared_error: 309442.9375 - val_loss: 84182908928.0000 - val_root_mean_squared_error: 290142.9062\n",
      "Epoch 21/40\n",
      "380/380 [==============================] - 1s 1ms/step - loss: 94671126528.0000 - root_mean_squared_error: 307686.7500 - val_loss: 83208683520.0000 - val_root_mean_squared_error: 288459.1562\n",
      "Epoch 22/40\n",
      "380/380 [==============================] - 1s 1ms/step - loss: 93583572992.0000 - root_mean_squared_error: 305914.3125 - val_loss: 82202714112.0000 - val_root_mean_squared_error: 286710.1562\n",
      "Epoch 23/40\n",
      "380/380 [==============================] - 1s 2ms/step - loss: 92447703040.0000 - root_mean_squared_error: 304052.1250 - val_loss: 81168662528.0000 - val_root_mean_squared_error: 284901.1562\n",
      "Epoch 24/40\n",
      "380/380 [==============================] - 1s 2ms/step - loss: 91301617664.0000 - root_mean_squared_error: 302161.5625 - val_loss: 80119734272.0000 - val_root_mean_squared_error: 283054.2812\n",
      "Epoch 25/40\n",
      "380/380 [==============================] - 1s 1ms/step - loss: 90125049856.0000 - root_mean_squared_error: 300208.3438 - val_loss: 79050612736.0000 - val_root_mean_squared_error: 281159.4062\n",
      "Epoch 26/40\n",
      "380/380 [==============================] - 1s 2ms/step - loss: 88946581504.0000 - root_mean_squared_error: 298239.1250 - val_loss: 77983039488.0000 - val_root_mean_squared_error: 279254.4375\n",
      "Epoch 27/40\n",
      "380/380 [==============================] - 1s 2ms/step - loss: 87748919296.0000 - root_mean_squared_error: 296224.4375 - val_loss: 76906553344.0000 - val_root_mean_squared_error: 277320.3125\n",
      "Epoch 28/40\n",
      "380/380 [==============================] - 1s 2ms/step - loss: 86560710656.0000 - root_mean_squared_error: 294212.0312 - val_loss: 75833925632.0000 - val_root_mean_squared_error: 275379.5938\n",
      "Epoch 29/40\n",
      "380/380 [==============================] - 1s 1ms/step - loss: 85355143168.0000 - root_mean_squared_error: 292156.0312 - val_loss: 74815275008.0000 - val_root_mean_squared_error: 273523.8125\n",
      "Epoch 30/40\n",
      "380/380 [==============================] - 1s 2ms/step - loss: 84205338624.0000 - root_mean_squared_error: 290181.5625 - val_loss: 73787793408.0000 - val_root_mean_squared_error: 271639.0938\n",
      "Epoch 31/40\n",
      "380/380 [==============================] - 1s 2ms/step - loss: 83066085376.0000 - root_mean_squared_error: 288211.8750 - val_loss: 72814002176.0000 - val_root_mean_squared_error: 269840.6875\n",
      "Epoch 32/40\n",
      "380/380 [==============================] - 1s 2ms/step - loss: 81965006848.0000 - root_mean_squared_error: 286295.3125 - val_loss: 71857979392.0000 - val_root_mean_squared_error: 268063.3750\n",
      "Epoch 33/40\n",
      "380/380 [==============================] - 1s 1ms/step - loss: 80898400256.0000 - root_mean_squared_error: 284426.4375 - val_loss: 70954221568.0000 - val_root_mean_squared_error: 266372.3438\n",
      "Epoch 34/40\n",
      "380/380 [==============================] - 1s 2ms/step - loss: 79869640704.0000 - root_mean_squared_error: 282612.1875 - val_loss: 70111879168.0000 - val_root_mean_squared_error: 264786.4688\n",
      "Epoch 35/40\n",
      "380/380 [==============================] - 1s 1ms/step - loss: 78879219712.0000 - root_mean_squared_error: 280854.4375 - val_loss: 69299896320.0000 - val_root_mean_squared_error: 263248.7500\n",
      "Epoch 36/40\n",
      "380/380 [==============================] - 1s 1ms/step - loss: 77965737984.0000 - root_mean_squared_error: 279223.4688 - val_loss: 68554174464.0000 - val_root_mean_squared_error: 261828.5156\n",
      "Epoch 37/40\n",
      "380/380 [==============================] - 1s 2ms/step - loss: 77091536896.0000 - root_mean_squared_error: 277653.6250 - val_loss: 67857661952.0000 - val_root_mean_squared_error: 260495.0312\n",
      "Epoch 38/40\n",
      "380/380 [==============================] - 1s 2ms/step - loss: 76282757120.0000 - root_mean_squared_error: 276193.3438 - val_loss: 67239407616.0000 - val_root_mean_squared_error: 259305.6250\n",
      "Epoch 39/40\n",
      "380/380 [==============================] - 1s 2ms/step - loss: 75547271168.0000 - root_mean_squared_error: 274858.6250 - val_loss: 66664853504.0000 - val_root_mean_squared_error: 258195.3750\n",
      "Epoch 40/40\n",
      "380/380 [==============================] - 1s 2ms/step - loss: 74871373824.0000 - root_mean_squared_error: 273626.3438 - val_loss: 66162061312.0000 - val_root_mean_squared_error: 257219.8750\n"
     ]
    }
   ],
   "source": [
    "tensorboard_cb = keras.callbacks.TensorBoard(run_logdir)\n",
    "history = n_net.fit(X_train, y_train, epochs=40, \n",
    "                    validation_data=(X_val, y_val),\n",
    "                    callbacks=[tensorboard_cb])"
   ]
  },
  {
   "cell_type": "code",
   "execution_count": null,
   "metadata": {},
   "outputs": [],
   "source": [
    "%load_ext tensorboard  # or %reload_ext tensorboard\n",
    "%tensorboard --logdir=./my_logs --port=6007"
   ]
  },
  {
   "cell_type": "code",
   "execution_count": 32,
   "metadata": {},
   "outputs": [
    {
     "name": "stdout",
     "output_type": "stream",
     "text": [
      "2022-07-15 18:00:28.198867: E tensorflow/stream_executor/cuda/cuda_driver.cc:271] failed call to cuInit: CUDA_ERROR_UNKNOWN: unknown error\n",
      "2022-07-15 18:00:28.198905: I tensorflow/stream_executor/cuda/cuda_diagnostics.cc:169] retrieving CUDA diagnostic information for host: pc323\n",
      "2022-07-15 18:00:28.198912: I tensorflow/stream_executor/cuda/cuda_diagnostics.cc:176] hostname: pc323\n",
      "2022-07-15 18:00:28.199040: I tensorflow/stream_executor/cuda/cuda_diagnostics.cc:200] libcuda reported version is: 510.73.5\n",
      "2022-07-15 18:00:28.199065: I tensorflow/stream_executor/cuda/cuda_diagnostics.cc:204] kernel reported version is: 510.73.5\n",
      "2022-07-15 18:00:28.199073: I tensorflow/stream_executor/cuda/cuda_diagnostics.cc:310] kernel version seems to match DSO: 510.73.5\n",
      "\n",
      "NOTE: Using experimental fast data loading logic. To disable, pass\n",
      "    \"--load_fast=false\" and report issues on GitHub. More details:\n",
      "    https://github.com/tensorflow/tensorboard/issues/4784\n",
      "\n",
      "Serving TensorBoard on localhost; to expose to the network, use a proxy or pass --bind_all\n",
      "TensorBoard 2.9.1 at http://localhost:6006/ (Press CTRL+C to quit)\n",
      "^C\n"
     ]
    }
   ],
   "source": [
    "# if the cell above throws some errors try this one:\n",
    "!python -m tensorboard.main --logdir=./my_logs"
   ]
  },
  {
   "cell_type": "markdown",
   "metadata": {},
   "source": [
    "## 6.5 Fine-Tuning Neural Network Hyperparameters"
   ]
  },
  {
   "cell_type": "markdown",
   "metadata": {},
   "source": [
    "Just as we had the same issue with other machine learning algorithms, neural networks have many hyperparamenters, even more so. (1) You can use any possible architecture you can conceive, (2) you can tweak the number of layers and (3) the number of neural units per layer, (4) the activation nonlinear function in each layer, and more...\n",
    "\n",
    "A possibility to explore the parameter space is to wrap our Keras model in an object with the same interface as a typical Scikit-Learn regressor or classifier\n",
    "\n",
    "To do so, we can define a function that builds and compiles a Keras network, given a set of hyperparameters:"
   ]
  },
  {
   "cell_type": "code",
   "execution_count": null,
   "metadata": {},
   "outputs": [],
   "source": [
    "keras.backend.clear_session()\n",
    "np.random.seed(42)\n",
    "tf.random.set_seed(42)"
   ]
  },
  {
   "cell_type": "code",
   "execution_count": null,
   "metadata": {},
   "outputs": [],
   "source": [
    "def build_network(\n",
    "    n_hidden=1,\n",
    "    n_neurons=100,\n",
    "    activation=\"selu\", \n",
    "    learning_rate=5e-3,\n",
    "    input_shape=[13],\n",
    "    kernel_initializer='lecun_normal'\n",
    "):\n",
    "    n_net = keras.models.Sequential()\n",
    "    n_net.add(keras.layers.InputLayer(input_shape=input_shape))\n",
    "    for layer in range(n_hidden):\n",
    "        n_net.add(keras.layers.Dense(\n",
    "            n_neurons, activation=activation, kernel_initializer=kernel_initializer\n",
    "        ))\n",
    "    n_net.add(keras.layers.Dense(1))\n",
    "    optimizer = keras.optimizers.Adam(lr=learning_rate)\n",
    "    n_net.compile(\n",
    "        loss=keras.losses.mean_squared_error,\n",
    "        optimizer=optimizer,\n",
    "        metrics=[keras.metrics.RootMeanSquaredError()]\n",
    "    )\n",
    "    return n_net"
   ]
  },
  {
   "cell_type": "code",
   "execution_count": null,
   "metadata": {},
   "outputs": [],
   "source": [
    "keras_reg = keras.wrappers.scikit_learn.KerasRegressor(build_network)"
   ]
  },
  {
   "cell_type": "code",
   "execution_count": null,
   "metadata": {},
   "outputs": [],
   "source": [
    "keras_reg.fit(\n",
    "    X_train,\n",
    "    y_train,\n",
    "    epochs=100, \n",
    "    validation_data=(X_val, y_val),\n",
    "    callbacks=[keras.callbacks.EarlyStopping(patience=10)]\n",
    ")"
   ]
  },
  {
   "cell_type": "code",
   "execution_count": null,
   "metadata": {},
   "outputs": [],
   "source": [
    "rmse_test = np.sqrt(-keras_reg.score(X_test, y_test, verbose=0))\n",
    "rmse_test"
   ]
  },
  {
   "cell_type": "code",
   "execution_count": null,
   "metadata": {},
   "outputs": [],
   "source": [
    "np.random.seed(42)\n",
    "tf.random.set_seed(42)"
   ]
  },
  {
   "cell_type": "markdown",
   "metadata": {},
   "source": [
    "**Exercise:** set up a `RandomizedSearchCV` object to explore 12 combinations from a grid of parameters on the wrapped NeuralNet `keras_reg`, using 3-fold cross validation, training the network for 20 or 100 epochs and allowing for early stopping by using the callback `keras.callbacks.EarlyStopping` with a reasonable patience (check the early-stopping API.)\n",
    "\n",
    "The range of parameters you *may* want to try in your param grid are:\n",
    " * number of hidden layers: from 1 to 3\n",
    " * number of neurons in each layer: 10, 20, 30, 40, 50\n",
    " * learning rate: a good approach for the learning rate is to use a reciprocal distribution with quantiles lower_bound = $0.0001$ and upper_bound = $0.01$. See more about reciprocal distributions here: https://en.wikipedia.org/wiki/Reciprocal_distribution. In order to set the reciprocal distribution, you can use the `reciprocal` function from the `scipy.stats` module. A simpler approach would be to pass a list of discrete values, e.g [0.0001, 0.0005, ..., 0.01]. Follow this approach if the other seems too obscure.\n",
    " * activation: 'relu', 'selu'   (see Notebook 06B)\n",
    " * kernel_initializer: 'glorot_uniform', 'lecun_normal'  (see Notebook 06B)\n",
    " \n",
    "Feel free to modify the options in this grid\n",
    "\n",
    "Check `RandomizedSearchCV` API on scikit-learn for more info.\n",
    "\n",
    "Please note that this cell will take a while to run."
   ]
  },
  {
   "cell_type": "code",
   "execution_count": null,
   "metadata": {},
   "outputs": [],
   "source": [
    "# Optional: you can use `rec_dist` as defined here to set your learning rate interval\n",
    "from scipy.stats import reciprocal\n",
    "reciprocal(5e-4, 1e-2)"
   ]
  },
  {
   "cell_type": "code",
   "execution_count": null,
   "metadata": {},
   "outputs": [],
   "source": [
    "# Write your code here:\n",
    "EPOCHS = ... # complete me...\n",
    "rnd_search_cv = ... # complete me"
   ]
  },
  {
   "cell_type": "markdown",
   "metadata": {},
   "source": [
    "Now here you can identify the best params combination and the best score you achieved:"
   ]
  },
  {
   "cell_type": "code",
   "execution_count": null,
   "metadata": {},
   "outputs": [],
   "source": [
    "%%capture --no-stderr\n",
    "rnd_search_cv.fit(\n",
    "    X_train,\n",
    "    y_train,\n",
    "    epochs=EPOCHS,\n",
    "    validation_data=(X_val, y_val),\n",
    "    callbacks=[keras.callbacks.EarlyStopping(patience=10)],\n",
    "    verbose=0\n",
    ")"
   ]
  },
  {
   "cell_type": "code",
   "execution_count": null,
   "metadata": {},
   "outputs": [],
   "source": [
    "rnd_search_cv.best_params_, rnd_search_cv.best_score_"
   ]
  },
  {
   "cell_type": "code",
   "execution_count": null,
   "metadata": {},
   "outputs": [],
   "source": []
  }
 ],
 "metadata": {
  "kernelspec": {
   "display_name": "Python 3.9.12 ('tf-data-science')",
   "language": "python",
   "name": "python3"
  },
  "language_info": {
   "codemirror_mode": {
    "name": "ipython",
    "version": 3
   },
   "file_extension": ".py",
   "mimetype": "text/x-python",
   "name": "python",
   "nbconvert_exporter": "python",
   "pygments_lexer": "ipython3",
   "version": "3.9.12"
  },
  "vscode": {
   "interpreter": {
    "hash": "fa9cb710efc85fb5f4b4032a69aa40c8e866725b3bb56f2d012c19d5f6f7f57e"
   }
  }
 },
 "nbformat": 4,
 "nbformat_minor": 4
}
