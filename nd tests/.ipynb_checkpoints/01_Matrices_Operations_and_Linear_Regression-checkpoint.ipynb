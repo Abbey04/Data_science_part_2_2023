{
 "cells": [
  {
   "cell_type": "markdown",
   "metadata": {},
   "source": [
    "## Matrices Operations and Linear Regression\n",
    "\n",
    "Suggestion: explore the NumPy library documentation to find the right functions to solve the exercises below\n",
    "\n",
    "NumPy docs: https://numpy.org/doc/stable/"
   ]
  },
  {
   "cell_type": "markdown",
   "metadata": {},
   "source": [
    "## Setup"
   ]
  },
  {
   "cell_type": "code",
   "execution_count": 2,
   "metadata": {},
   "outputs": [],
   "source": [
    "import numpy as np  # This should be all the dependencies you will need\n"
   ]
  },
  {
   "cell_type": "markdown",
   "metadata": {},
   "source": [
    "### 1.1 Matrix Element Wise-multiplication\n",
    "\n",
    "Consider the two following matrices \n",
    "\n",
    "$$\n",
    "A = \\begin{pmatrix}\n",
    "1&0&0\\\\\n",
    "0&1&0\\\\\n",
    "0&0&1\\\\\n",
    "\\end{pmatrix}\n",
    "$$\n",
    "\n",
    "and\n",
    "\n",
    "$$\n",
    "B = \\begin{pmatrix}\n",
    "1&2&3\\\\\n",
    "4&5&6\\\\\n",
    "7&8&9\\\\\n",
    "\\end{pmatrix}\n",
    "$$\n",
    "\n",
    "Write a Python program that computes the element-wise multiplication of the two matrices, i.e.\n",
    "\n",
    "$$\n",
    "C = \\begin{pmatrix}\n",
    "1&0&0\\\\\n",
    "0&5&0\\\\\n",
    "0&0&9\\\\\n",
    "\\end{pmatrix}\n",
    "$$"
   ]
  },
  {
   "cell_type": "code",
   "execution_count": 62,
   "metadata": {},
   "outputs": [
    {
     "name": "stdout",
     "output_type": "stream",
     "text": [
      "[[1 0 0]\n",
      " [0 1 0]\n",
      " [0 0 1]]\n",
      "[[1 2 3]\n",
      " [4 5 6]\n",
      " [7 8 9]]\n"
     ]
    },
    {
     "data": {
      "text/plain": [
       "array([[1, 0, 0],\n",
       "       [0, 5, 0],\n",
       "       [0, 0, 9]])"
      ]
     },
     "execution_count": 62,
     "metadata": {},
     "output_type": "execute_result"
    }
   ],
   "source": [
    "## write your code here\n",
    "\n",
    "#test\n",
    "\n",
    "a = np.array([1, 0, 0, 0, 1, 0, 0, 0, 1]).reshape(3, 3)\n",
    "a\n",
    "\n",
    "#a = np.eye(3)\n",
    "#a\n",
    "\n",
    "b = np.array([1, 2, 3, 4, 5, 6, 7, 8, 9]).reshape(3, 3)\n",
    "b\n",
    "\n",
    "print(a)\n",
    "print(b)\n",
    "\n",
    "\n",
    "c = np.multiply(a,b)\n",
    "c\n"
   ]
  },
  {
   "cell_type": "code",
   "execution_count": 76,
   "metadata": {
    "scrolled": false
   },
   "outputs": [
    {
     "data": {
      "text/plain": [
       "array([[1, 0, 0],\n",
       "       [0, 1, 0],\n",
       "       [0, 0, 1]])"
      ]
     },
     "execution_count": 76,
     "metadata": {},
     "output_type": "execute_result"
    }
   ],
   "source": [
    "# test\n",
    "\n",
    "a = np.array([1, 0, 0, 0, 1, 0, 0, 0, 1]).reshape(3, 3)\n",
    "#a"
   ]
  },
  {
   "cell_type": "markdown",
   "metadata": {},
   "source": [
    "# Transpose - 'flips rows and cols'"
   ]
  },
  {
   "cell_type": "code",
   "execution_count": null,
   "metadata": {},
   "outputs": [],
   "source": [
    "#tranpose 'flips on an axis'\n",
    "# from \n",
    "#.    x x\n",
    "#.    x x\n",
    "#.    x x \n",
    "\n",
    "# to\n",
    "\n",
    "#     x x x\n",
    "#.    x x x\n",
    "\n"
   ]
  },
  {
   "cell_type": "code",
   "execution_count": 84,
   "metadata": {
    "scrolled": true
   },
   "outputs": [
    {
     "data": {
      "text/plain": [
       "array([[1, 0],\n",
       "       [0, 0],\n",
       "       [1, 0]])"
      ]
     },
     "execution_count": 84,
     "metadata": {},
     "output_type": "execute_result"
    }
   ],
   "source": [
    "a\n",
    "\n",
    "a = np.array([1, 0, 0, 0, 1, 0]).reshape(3, 2)\n",
    "\n",
    "a"
   ]
  },
  {
   "cell_type": "code",
   "execution_count": 85,
   "metadata": {},
   "outputs": [
    {
     "data": {
      "text/plain": [
       "array([[1, 0, 1],\n",
       "       [0, 0, 0]])"
      ]
     },
     "execution_count": 85,
     "metadata": {},
     "output_type": "execute_result"
    }
   ],
   "source": [
    "c = np.transpose(a)\n",
    "c"
   ]
  },
  {
   "cell_type": "markdown",
   "metadata": {},
   "source": [
    "### 1.2 Matrix-Matrix Multiplication\n",
    "\n",
    "Consider the following two matrices\n",
    "\n",
    "$$\n",
    "A = \\begin{pmatrix}\n",
    "2&1&3\\\\\n",
    "1&1&2\\\\\n",
    "\\end{pmatrix}\n",
    "$$\n",
    "\n",
    "and\n",
    "\n",
    "$$\n",
    "B = \\begin{pmatrix}\n",
    "1&2\\\\\n",
    "5&6\\\\\n",
    "7&9\\\\\n",
    "\\end{pmatrix}\n",
    "$$\n",
    "\n",
    "Write a Python program that computes the matrix multiplication of the two matrices, i.e.\n",
    "\n",
    "$$\n",
    "C = A \\times B = \\begin{pmatrix}\n",
    "28&37\\\\\n",
    "20&26\\\\\n",
    "\\end{pmatrix}\n",
    "$$\n",
    "Run the same program for the matrices of Exercise 1.1. Which result do you get?"
   ]
  },
  {
   "cell_type": "code",
   "execution_count": 42,
   "metadata": {},
   "outputs": [
    {
     "data": {
      "text/plain": [
       "array([[28, 37],\n",
       "       [20, 26]])"
      ]
     },
     "execution_count": 42,
     "metadata": {},
     "output_type": "execute_result"
    }
   ],
   "source": [
    "## write your code here\n",
    "\n",
    "a = np.array([2, 1, 3, 1, 1, 2]).reshape(2, 3)\n",
    "a\n",
    "\n",
    "b = np.array([1, 2, 5, 6, 7, 9]).reshape(3, 2)\n",
    "b\n",
    "\n",
    "#c = np.multiply(a,b)\n",
    "#c\n",
    "\n",
    "# dot product = \n",
    "c = np.dot(a, b)\n",
    "c\n",
    "\n",
    "# can also use the @ operator! \n",
    "\n",
    "c = a @ b\n",
    "\n",
    "# 2 x 1 = 2\n",
    "# 1 x 5 = 5\n",
    "# 3 x 7 = 21"
   ]
  },
  {
   "cell_type": "markdown",
   "metadata": {},
   "source": [
    "### 1.3 Linear Regression\n",
    "\n",
    "We generate some fake \"height\" and \"weight\" data about babies between 0 and 12 months of age.\n",
    "\n",
    "We  want to create  linear predictor that predicts the weight from the baby age (in month)."
   ]
  },
  {
   "cell_type": "code",
   "execution_count": 43,
   "metadata": {},
   "outputs": [],
   "source": [
    "# generate some fake \"height\" and \"weight\" data about babies between 0 and 12 months of age\n",
    "babies = range(10)\n",
    "months = np.arange(12)\n",
    "data = [(month + np.random.rand(), np.dot(month, 24.7) + 96 + np.random.normal(loc=0, scale=20))\n",
    "        for month in months\n",
    "        for baby in babies]\n",
    "month_data = [element[0] for element in data]\n",
    "weight_data = [element[1] for element in data]\n",
    "# Let's put the month_data into the matrix X together with the biases column vector\n",
    "X_1 = np.array(month_data)    # here we put month_data into a row vector called X_1\n",
    "X_0 = np.ones([X_1.shape[0], 1]) # this is the biases column vector\n",
    "X_1 = X_1[:, np.newaxis]    # here we convert X_1 from a row vector to a column vector\n",
    "X = np.concatenate((X_0, X_1), axis=1) # here we concatenate the biases vector to the month_data vector\n",
    "\n",
    "# Let's put the weight_data into the output vector y\n",
    "y = np.array(weight_data)"
   ]
  },
  {
   "cell_type": "code",
   "execution_count": 44,
   "metadata": {},
   "outputs": [
    {
     "data": {
      "text/plain": [
       "(2, 1)"
      ]
     },
     "execution_count": 44,
     "metadata": {},
     "output_type": "execute_result"
    }
   ],
   "source": [
    "X.ndim, y.ndim"
   ]
  },
  {
   "cell_type": "code",
   "execution_count": 45,
   "metadata": {
    "scrolled": false
   },
   "outputs": [
    {
     "data": {
      "text/plain": [
       "((120, 2), (120,))"
      ]
     },
     "execution_count": 45,
     "metadata": {},
     "output_type": "execute_result"
    }
   ],
   "source": [
    "X.shape, y.shape"
   ]
  },
  {
   "cell_type": "markdown",
   "metadata": {},
   "source": [
    "Our features matrix $X$ as a column of biases (all set to 1) and our column of input features (i.e age).\n",
    "\n",
    "Our labels verctor $y$ is a row vector with our output labels (weights in some unspecified unit)"
   ]
  },
  {
   "cell_type": "code",
   "execution_count": 89,
   "metadata": {},
   "outputs": [
    {
     "data": {
      "text/plain": [
       "array([[ 1.        ,  1.        ,  1.        ,  1.        ,  1.        ,\n",
       "         1.        ,  1.        ,  1.        ,  1.        ,  1.        ,\n",
       "         1.        ,  1.        ,  1.        ,  1.        ,  1.        ,\n",
       "         1.        ,  1.        ,  1.        ,  1.        ,  1.        ,\n",
       "         1.        ,  1.        ,  1.        ,  1.        ,  1.        ,\n",
       "         1.        ,  1.        ,  1.        ,  1.        ,  1.        ,\n",
       "         1.        ,  1.        ,  1.        ,  1.        ,  1.        ,\n",
       "         1.        ,  1.        ,  1.        ,  1.        ,  1.        ,\n",
       "         1.        ,  1.        ,  1.        ,  1.        ,  1.        ,\n",
       "         1.        ,  1.        ,  1.        ,  1.        ,  1.        ,\n",
       "         1.        ,  1.        ,  1.        ,  1.        ,  1.        ,\n",
       "         1.        ,  1.        ,  1.        ,  1.        ,  1.        ,\n",
       "         1.        ,  1.        ,  1.        ,  1.        ,  1.        ,\n",
       "         1.        ,  1.        ,  1.        ,  1.        ,  1.        ,\n",
       "         1.        ,  1.        ,  1.        ,  1.        ,  1.        ,\n",
       "         1.        ,  1.        ,  1.        ,  1.        ,  1.        ,\n",
       "         1.        ,  1.        ,  1.        ,  1.        ,  1.        ,\n",
       "         1.        ,  1.        ,  1.        ,  1.        ,  1.        ,\n",
       "         1.        ,  1.        ,  1.        ,  1.        ,  1.        ,\n",
       "         1.        ,  1.        ,  1.        ,  1.        ,  1.        ,\n",
       "         1.        ,  1.        ,  1.        ,  1.        ,  1.        ,\n",
       "         1.        ,  1.        ,  1.        ,  1.        ,  1.        ,\n",
       "         1.        ,  1.        ,  1.        ,  1.        ,  1.        ,\n",
       "         1.        ,  1.        ,  1.        ,  1.        ,  1.        ],\n",
       "       [ 0.44448254,  0.56916271,  0.0483349 ,  0.227867  ,  0.03569479,\n",
       "         0.36802934,  0.89868408,  0.53337075,  0.90118737,  0.98069186,\n",
       "         1.23432274,  1.97838527,  1.88794246,  1.77954843,  1.64923482,\n",
       "         1.08050567,  1.55783439,  1.03394627,  1.75752787,  1.21336254,\n",
       "         2.59448931,  2.44610971,  2.55786814,  2.86578327,  2.29100959,\n",
       "         2.35074626,  2.81358384,  2.72694684,  2.88630688,  2.01362481,\n",
       "         3.05042366,  3.04360078,  3.93137955,  3.28212169,  3.89754013,\n",
       "         3.97864399,  3.39047832,  3.56404606,  3.46954167,  3.45067456,\n",
       "         4.58650995,  4.76250668,  4.77144685,  4.10602422,  4.31357946,\n",
       "         4.46300276,  4.01639141,  4.38228441,  4.2914618 ,  4.6791238 ,\n",
       "         5.85382445,  5.52414393,  5.38086357,  5.54271791,  5.26773028,\n",
       "         5.91092399,  5.11707337,  5.54078953,  5.65737766,  5.89358872,\n",
       "         6.54412241,  6.89146515,  6.6036576 ,  6.831786  ,  6.33057937,\n",
       "         6.95532459,  6.31715343,  6.56970013,  6.54064896,  6.48556689,\n",
       "         7.05378812,  7.98565152,  7.72336319,  7.13095059,  7.38299628,\n",
       "         7.68441629,  7.33865947,  7.79304127,  7.41859582,  7.18127512,\n",
       "         8.0107198 ,  8.74388118,  8.28160728,  8.55887596,  8.94689798,\n",
       "         8.04697017,  8.26786912,  8.05436066,  8.13612611,  8.53821361,\n",
       "         9.06254752,  9.23085724,  9.05840821,  9.92736762,  9.57885448,\n",
       "         9.43615341,  9.03016383,  9.50924165,  9.59904705,  9.32049953,\n",
       "        10.11494906, 10.51805869, 10.49651216, 10.17174849, 10.35895877,\n",
       "        10.68575086, 10.28867145, 10.03934781, 10.66650601, 10.74587565,\n",
       "        11.92158369, 11.26150765, 11.44407911, 11.82355532, 11.62235429,\n",
       "        11.96276724, 11.40087874, 11.28256281, 11.32139811, 11.59857204]])"
      ]
     },
     "execution_count": 89,
     "metadata": {},
     "output_type": "execute_result"
    }
   ],
   "source": [
    "X.T"
   ]
  },
  {
   "cell_type": "code",
   "execution_count": 86,
   "metadata": {},
   "outputs": [
    {
     "data": {
      "text/plain": [
       "array([[ 1.        ,  0.44448254],\n",
       "       [ 1.        ,  0.56916271],\n",
       "       [ 1.        ,  0.0483349 ],\n",
       "       [ 1.        ,  0.227867  ],\n",
       "       [ 1.        ,  0.03569479],\n",
       "       [ 1.        ,  0.36802934],\n",
       "       [ 1.        ,  0.89868408],\n",
       "       [ 1.        ,  0.53337075],\n",
       "       [ 1.        ,  0.90118737],\n",
       "       [ 1.        ,  0.98069186],\n",
       "       [ 1.        ,  1.23432274],\n",
       "       [ 1.        ,  1.97838527],\n",
       "       [ 1.        ,  1.88794246],\n",
       "       [ 1.        ,  1.77954843],\n",
       "       [ 1.        ,  1.64923482],\n",
       "       [ 1.        ,  1.08050567],\n",
       "       [ 1.        ,  1.55783439],\n",
       "       [ 1.        ,  1.03394627],\n",
       "       [ 1.        ,  1.75752787],\n",
       "       [ 1.        ,  1.21336254],\n",
       "       [ 1.        ,  2.59448931],\n",
       "       [ 1.        ,  2.44610971],\n",
       "       [ 1.        ,  2.55786814],\n",
       "       [ 1.        ,  2.86578327],\n",
       "       [ 1.        ,  2.29100959],\n",
       "       [ 1.        ,  2.35074626],\n",
       "       [ 1.        ,  2.81358384],\n",
       "       [ 1.        ,  2.72694684],\n",
       "       [ 1.        ,  2.88630688],\n",
       "       [ 1.        ,  2.01362481],\n",
       "       [ 1.        ,  3.05042366],\n",
       "       [ 1.        ,  3.04360078],\n",
       "       [ 1.        ,  3.93137955],\n",
       "       [ 1.        ,  3.28212169],\n",
       "       [ 1.        ,  3.89754013],\n",
       "       [ 1.        ,  3.97864399],\n",
       "       [ 1.        ,  3.39047832],\n",
       "       [ 1.        ,  3.56404606],\n",
       "       [ 1.        ,  3.46954167],\n",
       "       [ 1.        ,  3.45067456],\n",
       "       [ 1.        ,  4.58650995],\n",
       "       [ 1.        ,  4.76250668],\n",
       "       [ 1.        ,  4.77144685],\n",
       "       [ 1.        ,  4.10602422],\n",
       "       [ 1.        ,  4.31357946],\n",
       "       [ 1.        ,  4.46300276],\n",
       "       [ 1.        ,  4.01639141],\n",
       "       [ 1.        ,  4.38228441],\n",
       "       [ 1.        ,  4.2914618 ],\n",
       "       [ 1.        ,  4.6791238 ],\n",
       "       [ 1.        ,  5.85382445],\n",
       "       [ 1.        ,  5.52414393],\n",
       "       [ 1.        ,  5.38086357],\n",
       "       [ 1.        ,  5.54271791],\n",
       "       [ 1.        ,  5.26773028],\n",
       "       [ 1.        ,  5.91092399],\n",
       "       [ 1.        ,  5.11707337],\n",
       "       [ 1.        ,  5.54078953],\n",
       "       [ 1.        ,  5.65737766],\n",
       "       [ 1.        ,  5.89358872],\n",
       "       [ 1.        ,  6.54412241],\n",
       "       [ 1.        ,  6.89146515],\n",
       "       [ 1.        ,  6.6036576 ],\n",
       "       [ 1.        ,  6.831786  ],\n",
       "       [ 1.        ,  6.33057937],\n",
       "       [ 1.        ,  6.95532459],\n",
       "       [ 1.        ,  6.31715343],\n",
       "       [ 1.        ,  6.56970013],\n",
       "       [ 1.        ,  6.54064896],\n",
       "       [ 1.        ,  6.48556689],\n",
       "       [ 1.        ,  7.05378812],\n",
       "       [ 1.        ,  7.98565152],\n",
       "       [ 1.        ,  7.72336319],\n",
       "       [ 1.        ,  7.13095059],\n",
       "       [ 1.        ,  7.38299628],\n",
       "       [ 1.        ,  7.68441629],\n",
       "       [ 1.        ,  7.33865947],\n",
       "       [ 1.        ,  7.79304127],\n",
       "       [ 1.        ,  7.41859582],\n",
       "       [ 1.        ,  7.18127512],\n",
       "       [ 1.        ,  8.0107198 ],\n",
       "       [ 1.        ,  8.74388118],\n",
       "       [ 1.        ,  8.28160728],\n",
       "       [ 1.        ,  8.55887596],\n",
       "       [ 1.        ,  8.94689798],\n",
       "       [ 1.        ,  8.04697017],\n",
       "       [ 1.        ,  8.26786912],\n",
       "       [ 1.        ,  8.05436066],\n",
       "       [ 1.        ,  8.13612611],\n",
       "       [ 1.        ,  8.53821361],\n",
       "       [ 1.        ,  9.06254752],\n",
       "       [ 1.        ,  9.23085724],\n",
       "       [ 1.        ,  9.05840821],\n",
       "       [ 1.        ,  9.92736762],\n",
       "       [ 1.        ,  9.57885448],\n",
       "       [ 1.        ,  9.43615341],\n",
       "       [ 1.        ,  9.03016383],\n",
       "       [ 1.        ,  9.50924165],\n",
       "       [ 1.        ,  9.59904705],\n",
       "       [ 1.        ,  9.32049953],\n",
       "       [ 1.        , 10.11494906],\n",
       "       [ 1.        , 10.51805869],\n",
       "       [ 1.        , 10.49651216],\n",
       "       [ 1.        , 10.17174849],\n",
       "       [ 1.        , 10.35895877],\n",
       "       [ 1.        , 10.68575086],\n",
       "       [ 1.        , 10.28867145],\n",
       "       [ 1.        , 10.03934781],\n",
       "       [ 1.        , 10.66650601],\n",
       "       [ 1.        , 10.74587565],\n",
       "       [ 1.        , 11.92158369],\n",
       "       [ 1.        , 11.26150765],\n",
       "       [ 1.        , 11.44407911],\n",
       "       [ 1.        , 11.82355532],\n",
       "       [ 1.        , 11.62235429],\n",
       "       [ 1.        , 11.96276724],\n",
       "       [ 1.        , 11.40087874],\n",
       "       [ 1.        , 11.28256281],\n",
       "       [ 1.        , 11.32139811],\n",
       "       [ 1.        , 11.59857204]])"
      ]
     },
     "execution_count": 86,
     "metadata": {},
     "output_type": "execute_result"
    }
   ],
   "source": [
    "X"
   ]
  },
  {
   "cell_type": "code",
   "execution_count": 87,
   "metadata": {
    "scrolled": true
   },
   "outputs": [
    {
     "data": {
      "text/plain": [
       "array([ 92.55631128,  99.05742607,  92.72649095,  80.86066168,\n",
       "       120.89128023,  94.57326921, 108.92240137,  87.73651978,\n",
       "        71.33378967,  62.53477256, 149.60812298, 142.52682291,\n",
       "       125.39276251, 133.04276257, 119.86832564, 112.37859684,\n",
       "       117.06335349, 136.00349096, 135.06879469, 106.039545  ,\n",
       "       126.77574393, 168.37087068, 111.53844339, 142.91204705,\n",
       "       181.15213288, 137.10105676,  99.12146633, 167.23212429,\n",
       "       162.50470466, 133.92246119, 151.64952662, 165.55010275,\n",
       "       187.53558658, 187.6477198 , 189.53013792, 176.64027138,\n",
       "       208.42719025, 154.41468564, 187.47980832, 159.62502129,\n",
       "       184.77185212, 183.93736133, 182.64257816, 210.25922939,\n",
       "       182.66983279, 160.13553611, 187.72644682, 188.27414396,\n",
       "       196.33198033, 216.22148034, 212.32132592, 262.37497027,\n",
       "       252.50241917, 246.08877421, 197.13983907, 203.40752938,\n",
       "       242.623165  , 221.1284401 , 233.76364871, 247.18063557,\n",
       "       268.48289975, 182.94274137, 257.70820686, 226.00349738,\n",
       "       265.01234426, 243.40464825, 226.77788754, 230.46652415,\n",
       "       250.79980577, 207.91968434, 264.91058074, 293.59863424,\n",
       "       274.62449837, 291.13013867, 276.31309424, 282.03791452,\n",
       "       282.43159355, 265.66541599, 255.20006012, 289.84203503,\n",
       "       284.56413826, 289.28481975, 289.36203028, 249.16380277,\n",
       "       274.7936371 , 305.51886076, 303.49872132, 276.59819691,\n",
       "       287.90416791, 302.57490833, 295.80084394, 335.61947781,\n",
       "       325.08108008, 308.41383304, 347.85075098, 331.35998316,\n",
       "       306.99273283, 298.92381275, 325.36677171, 320.39733527,\n",
       "       325.01071557, 327.13293986, 354.84655688, 321.91993533,\n",
       "       309.0228633 , 340.62963476, 344.3137111 , 328.31037347,\n",
       "       330.2516989 , 318.20340507, 356.17132172, 379.51241293,\n",
       "       359.55872617, 375.62889131, 380.88688903, 405.81751211,\n",
       "       374.01984811, 385.61515037, 373.88420101, 404.32677095])"
      ]
     },
     "execution_count": 87,
     "metadata": {},
     "output_type": "execute_result"
    }
   ],
   "source": [
    "y"
   ]
  },
  {
   "cell_type": "markdown",
   "metadata": {},
   "source": [
    "Given: \n",
    "- the two-dimensional array (i.e. a matrix) $X$, containing a column with biases (all set to 1) and a column containing the ages of children (expressed in months)\n",
    "- a one dimensional column array $y$ containing the weights of the same children expressed in kilograms\n",
    "Write a function to compute the best fit  using the Linear Regression model with Ordinary Least Squares Method:\n",
    "$$\n",
    "\\beta = (X^T X)^{-1}X^T y\n",
    "$$\n",
    "where, given a matrix $A$, $A^T$ is the transpose matrix of A, and $A^{-1}$ is the inverse matrix of $A$.\n",
    "\n",
    "\n",
    "The $X$ and $y$ arrays have precomputed for you in the cell above"
   ]
  },
  {
   "cell_type": "code",
   "execution_count": 46,
   "metadata": {},
   "outputs": [],
   "source": [
    "# Hint: check the NumPy documentation to find the functions to compute the transpose and the inverse of a matrix\n",
    "def ols(X, y):\n",
    "    '''returns parameters based on Ordinary Least Squares.'''\n",
    "    xtx = np.dot(X.T, X) ## x-transpose times x\n",
    "    inv_xtx = np.linalg.inv(xtx) ## inverse of x-transpose times x\n",
    "    xty = np.dot(X.T, y) ## x-transpose times y\n",
    "    return np.dot(inv_xtx, xty)"
   ]
  },
  {
   "cell_type": "markdown",
   "metadata": {},
   "source": [
    "Once you function has been written, you should be able to run the code below:"
   ]
  },
  {
   "cell_type": "code",
   "execution_count": 47,
   "metadata": {},
   "outputs": [
    {
     "name": "stdout",
     "output_type": "stream",
     "text": [
      "intercept: 84.84791614441508 | slope: 24.637717888094826\n"
     ]
    }
   ],
   "source": [
    "# find parameters\n",
    "params = ols(X,y)\n",
    "print('intercept: {} | slope: {}'.format(params[0], params[1]))"
   ]
  },
  {
   "cell_type": "markdown",
   "metadata": {},
   "source": [
    "You should also be able to visualize the result of the OLS fitting running the code in teh cell below:"
   ]
  },
  {
   "cell_type": "code",
   "execution_count": 48,
   "metadata": {
    "scrolled": false
   },
   "outputs": [
    {
     "data": {
      "text/plain": [
       "Text(0, 0.5, 'Weight (?)')"
      ]
     },
     "execution_count": 48,
     "metadata": {},
     "output_type": "execute_result"
    },
    {
     "data": {
      "image/png": "[encoded data removed]",
      "text/plain": [
       "<Figure size 648x432 with 1 Axes>"
      ]
     },
     "metadata": {
      "needs_background": "light"
     },
     "output_type": "display_data"
    }
   ],
   "source": [
    "## here we draw a graph of the linear estimator\n",
    "import matplotlib.pyplot as plt\n",
    "%matplotlib inline\n",
    "\n",
    "fig, axes = plt.subplots(1, 1, figsize=(9, 6))\n",
    "axes.scatter(month_data, weight_data)\n",
    "x_vals = np.array(axes.get_xlim())\n",
    "y_vals = params[0] + params[1] * x_vals\n",
    "axes.plot(x_vals, y_vals, 'r--')\n",
    "plt.title('Linear Regression example')\n",
    "plt.xlabel('Age (Months)')\n",
    "plt.ylabel('Weight (?)')"
   ]
  },
  {
   "cell_type": "code",
   "execution_count": null,
   "metadata": {},
   "outputs": [],
   "source": []
  }
 ],
 "metadata": {
  "kernelspec": {
   "display_name": "Python 3 (ipykernel)",
   "language": "python",
   "name": "python3"
  },
  "language_info": {
   "codemirror_mode": {
    "name": "ipython",
    "version": 3
   },
   "file_extension": ".py",
   "mimetype": "text/x-python",
   "name": "python",
   "nbconvert_exporter": "python",
   "pygments_lexer": "ipython3",
   "version": "3.9.12"
  }
 },
 "nbformat": 4,
 "nbformat_minor": 2
}
