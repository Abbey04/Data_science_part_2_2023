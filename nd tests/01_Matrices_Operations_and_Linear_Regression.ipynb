{
 "cells": [
  {
   "cell_type": "markdown",
   "metadata": {},
   "source": [
    "## Matrices Operations and Linear Regression\n",
    "\n",
    "Suggestion: explore the NumPy library documentation to find the right functions to solve the exercises below\n",
    "\n",
    "NumPy docs: https://numpy.org/doc/stable/"
   ]
  },
  {
   "cell_type": "markdown",
   "metadata": {},
   "source": [
    "## Setup"
   ]
  },
  {
   "cell_type": "code",
   "execution_count": 2,
   "metadata": {},
   "outputs": [],
   "source": [
    "import numpy as np  # This should be all the dependencies you will need\n"
   ]
  },
  {
   "cell_type": "markdown",
   "metadata": {},
   "source": [
    "### 1.1 Matrix Element Wise-multiplication\n",
    "\n",
    "Consider the two following matrices \n",
    "\n",
    "$$\n",
    "A = \\begin{pmatrix}\n",
    "1&0&0\\\\\n",
    "0&1&0\\\\\n",
    "0&0&1\\\\\n",
    "\\end{pmatrix}\n",
    "$$\n",
    "\n",
    "and\n",
    "\n",
    "$$\n",
    "B = \\begin{pmatrix}\n",
    "1&2&3\\\\\n",
    "4&5&6\\\\\n",
    "7&8&9\\\\\n",
    "\\end{pmatrix}\n",
    "$$\n",
    "\n",
    "Write a Python program that computes the element-wise multiplication of the two matrices, i.e.\n",
    "\n",
    "$$\n",
    "C = \\begin{pmatrix}\n",
    "1&0&0\\\\\n",
    "0&5&0\\\\\n",
    "0&0&9\\\\\n",
    "\\end{pmatrix}\n",
    "$$"
   ]
  },
  {
   "cell_type": "code",
   "execution_count": 3,
   "metadata": {},
   "outputs": [
    {
     "name": "stdout",
     "output_type": "stream",
     "text": [
      "[[1 0 0]\n",
      " [0 1 0]\n",
      " [0 0 1]]\n",
      "[[1 2 3]\n",
      " [4 5 6]\n",
      " [7 8 9]]\n"
     ]
    },
    {
     "data": {
      "text/plain": [
       "array([[1, 0, 0],\n",
       "       [0, 5, 0],\n",
       "       [0, 0, 9]])"
      ]
     },
     "execution_count": 3,
     "metadata": {},
     "output_type": "execute_result"
    }
   ],
   "source": [
    "## write your code here\n",
    "\n",
    "#test\n",
    "\n",
    "a = np.array([1, 0, 0, 0, 1, 0, 0, 0, 1]).reshape(3, 3)\n",
    "a\n",
    "\n",
    "#a = np.eye(3)\n",
    "#a\n",
    "\n",
    "b = np.array([1, 2, 3, 4, 5, 6, 7, 8, 9]).reshape(3, 3)\n",
    "b\n",
    "\n",
    "print(a)\n",
    "print(b)\n",
    "\n",
    "\n",
    "c = np.multiply(a,b)\n",
    "c\n"
   ]
  },
  {
   "cell_type": "code",
   "execution_count": 4,
   "metadata": {
    "scrolled": false
   },
   "outputs": [],
   "source": [
    "# test\n",
    "\n",
    "a = np.array([1, 0, 0, 0, 1, 0, 0, 0, 1]).reshape(3, 3)\n",
    "#a"
   ]
  },
  {
   "cell_type": "markdown",
   "metadata": {},
   "source": [
    "# Transpose - 'flips rows and cols'"
   ]
  },
  {
   "cell_type": "code",
   "execution_count": 5,
   "metadata": {},
   "outputs": [],
   "source": [
    "#tranpose 'flips on an axis'\n",
    "# from \n",
    "#.    x x\n",
    "#.    x x\n",
    "#.    x x \n",
    "\n",
    "# to\n",
    "\n",
    "#     x x x\n",
    "#.    x x x\n",
    "\n"
   ]
  },
  {
   "cell_type": "code",
   "execution_count": 6,
   "metadata": {
    "scrolled": true
   },
   "outputs": [
    {
     "data": {
      "text/plain": [
       "array([[1, 0],\n",
       "       [0, 0],\n",
       "       [1, 0]])"
      ]
     },
     "execution_count": 6,
     "metadata": {},
     "output_type": "execute_result"
    }
   ],
   "source": [
    "a\n",
    "\n",
    "a = np.array([1, 0, 0, 0, 1, 0]).reshape(3, 2)\n",
    "\n",
    "a"
   ]
  },
  {
   "cell_type": "code",
   "execution_count": 7,
   "metadata": {},
   "outputs": [
    {
     "data": {
      "text/plain": [
       "array([[1, 0, 1],\n",
       "       [0, 0, 0]])"
      ]
     },
     "execution_count": 7,
     "metadata": {},
     "output_type": "execute_result"
    }
   ],
   "source": [
    "c = np.transpose(a)\n",
    "c"
   ]
  },
  {
   "cell_type": "markdown",
   "metadata": {},
   "source": [
    "### 1.2 Matrix-Matrix Multiplication\n",
    "\n",
    "Consider the following two matrices\n",
    "\n",
    "$$\n",
    "A = \\begin{pmatrix}\n",
    "2&1&3\\\\\n",
    "1&1&2\\\\\n",
    "\\end{pmatrix}\n",
    "$$\n",
    "\n",
    "and\n",
    "\n",
    "$$\n",
    "B = \\begin{pmatrix}\n",
    "1&2\\\\\n",
    "5&6\\\\\n",
    "7&9\\\\\n",
    "\\end{pmatrix}\n",
    "$$\n",
    "\n",
    "Write a Python program that computes the matrix multiplication of the two matrices, i.e.\n",
    "\n",
    "$$\n",
    "C = A \\times B = \\begin{pmatrix}\n",
    "28&37\\\\\n",
    "20&26\\\\\n",
    "\\end{pmatrix}\n",
    "$$\n",
    "Run the same program for the matrices of Exercise 1.1. Which result do you get?"
   ]
  },
  {
   "cell_type": "code",
   "execution_count": 8,
   "metadata": {},
   "outputs": [],
   "source": [
    "## write your code here\n",
    "\n",
    "a = np.array([2, 1, 3, 1, 1, 2]).reshape(2, 3)\n",
    "a\n",
    "\n",
    "b = np.array([1, 2, 5, 6, 7, 9]).reshape(3, 2)\n",
    "b\n",
    "\n",
    "#c = np.multiply(a,b)\n",
    "#c\n",
    "\n",
    "# dot product = \n",
    "c = np.dot(a, b)\n",
    "c\n",
    "\n",
    "# can also use the @ operator! \n",
    "\n",
    "c = a @ b\n",
    "\n",
    "# 2 x 1 = 2\n",
    "# 1 x 5 = 5\n",
    "# 3 x 7 = 21"
   ]
  },
  {
   "cell_type": "markdown",
   "metadata": {},
   "source": [
    "### 1.3 Linear Regression\n",
    "\n",
    "We generate some fake \"height\" and \"weight\" data about babies between 0 and 12 months of age.\n",
    "\n",
    "We  want to create  linear predictor that predicts the weight from the baby age (in month)."
   ]
  },
  {
   "cell_type": "code",
   "execution_count": 9,
   "metadata": {},
   "outputs": [],
   "source": [
    "# generate some fake \"height\" and \"weight\" data about babies between 0 and 12 months of age\n",
    "babies = range(10)\n",
    "months = np.arange(12)\n",
    "data = [(month + np.random.rand(), np.dot(month, 24.7) + 96 + np.random.normal(loc=0, scale=20))\n",
    "        for month in months\n",
    "        for baby in babies]\n",
    "month_data = [element[0] for element in data]\n",
    "weight_data = [element[1] for element in data]\n",
    "\n",
    "# Let's put the month_data into the matrix X together with the biases column vector\n",
    "X_1 = np.array(month_data)    # here we put month_data into a row vector called X_1\n",
    "X_0 = np.ones([X_1.shape[0], 1]) # this is the biases column vector\n",
    "X_1 = X_1[:, np.newaxis]    # here we convert X_1 from a row vector to a column vector\n",
    "X = np.concatenate((X_0, X_1), axis=1) # here we concatenate the biases vector to the month_data vector\n",
    "\n",
    "# Let's put the weight_data into the output vector y\n",
    "y = np.array(weight_data)"
   ]
  },
  {
   "cell_type": "code",
   "execution_count": 10,
   "metadata": {},
   "outputs": [
    {
     "data": {
      "text/plain": [
       "(2, 1)"
      ]
     },
     "execution_count": 10,
     "metadata": {},
     "output_type": "execute_result"
    }
   ],
   "source": [
    "X.ndim, y.ndim"
   ]
  },
  {
   "cell_type": "code",
   "execution_count": 11,
   "metadata": {
    "scrolled": false
   },
   "outputs": [
    {
     "data": {
      "text/plain": [
       "((120, 2), (120,))"
      ]
     },
     "execution_count": 11,
     "metadata": {},
     "output_type": "execute_result"
    }
   ],
   "source": [
    "X.shape, y.shape"
   ]
  },
  {
   "cell_type": "markdown",
   "metadata": {},
   "source": [
    "Our features matrix $X$ as a column of biases (all set to 1) and our column of input features (i.e age).\n",
    "\n",
    "Our labels verctor $y$ is a row vector with our output labels (weights in some unspecified unit)"
   ]
  },
  {
   "cell_type": "code",
   "execution_count": 12,
   "metadata": {},
   "outputs": [
    {
     "data": {
      "text/plain": [
       "array([[ 1.        ,  1.        ,  1.        ,  1.        ,  1.        ,\n",
       "         1.        ,  1.        ,  1.        ,  1.        ,  1.        ,\n",
       "         1.        ,  1.        ,  1.        ,  1.        ,  1.        ,\n",
       "         1.        ,  1.        ,  1.        ,  1.        ,  1.        ,\n",
       "         1.        ,  1.        ,  1.        ,  1.        ,  1.        ,\n",
       "         1.        ,  1.        ,  1.        ,  1.        ,  1.        ,\n",
       "         1.        ,  1.        ,  1.        ,  1.        ,  1.        ,\n",
       "         1.        ,  1.        ,  1.        ,  1.        ,  1.        ,\n",
       "         1.        ,  1.        ,  1.        ,  1.        ,  1.        ,\n",
       "         1.        ,  1.        ,  1.        ,  1.        ,  1.        ,\n",
       "         1.        ,  1.        ,  1.        ,  1.        ,  1.        ,\n",
       "         1.        ,  1.        ,  1.        ,  1.        ,  1.        ,\n",
       "         1.        ,  1.        ,  1.        ,  1.        ,  1.        ,\n",
       "         1.        ,  1.        ,  1.        ,  1.        ,  1.        ,\n",
       "         1.        ,  1.        ,  1.        ,  1.        ,  1.        ,\n",
       "         1.        ,  1.        ,  1.        ,  1.        ,  1.        ,\n",
       "         1.        ,  1.        ,  1.        ,  1.        ,  1.        ,\n",
       "         1.        ,  1.        ,  1.        ,  1.        ,  1.        ,\n",
       "         1.        ,  1.        ,  1.        ,  1.        ,  1.        ,\n",
       "         1.        ,  1.        ,  1.        ,  1.        ,  1.        ,\n",
       "         1.        ,  1.        ,  1.        ,  1.        ,  1.        ,\n",
       "         1.        ,  1.        ,  1.        ,  1.        ,  1.        ,\n",
       "         1.        ,  1.        ,  1.        ,  1.        ,  1.        ,\n",
       "         1.        ,  1.        ,  1.        ,  1.        ,  1.        ],\n",
       "       [ 0.79355347,  0.08688993,  0.99500629,  0.37351538,  0.69304444,\n",
       "         0.62160379,  0.25109653,  0.89593988,  0.70268141,  0.35278683,\n",
       "         1.1776304 ,  1.22304694,  1.56398603,  1.97217017,  1.4652029 ,\n",
       "         1.80660166,  1.10872804,  1.22168761,  1.27715068,  1.37935449,\n",
       "         2.57272312,  2.90359961,  2.55316819,  2.22820177,  2.09478644,\n",
       "         2.26737468,  2.64136829,  2.30583384,  2.51191397,  2.0567827 ,\n",
       "         3.45769119,  3.85978611,  3.27916758,  3.84377939,  3.60081438,\n",
       "         3.93182753,  3.18393146,  3.27271447,  3.7205519 ,  3.79991375,\n",
       "         4.95584022,  4.19167022,  4.38167439,  4.02225539,  4.4683873 ,\n",
       "         4.94687935,  4.07279221,  4.75801549,  4.32093721,  4.7836293 ,\n",
       "         5.56553278,  5.05710222,  5.12083551,  5.52622045,  5.16690693,\n",
       "         5.58754019,  5.99173855,  5.84267806,  5.2187599 ,  5.75349542,\n",
       "         6.37502821,  6.98255239,  6.13981512,  6.91934974,  6.99895356,\n",
       "         6.52240581,  6.87503236,  6.14135148,  6.74696737,  6.68118375,\n",
       "         7.12506024,  7.60035851,  7.19705124,  7.59069264,  7.97106646,\n",
       "         7.31830092,  7.68501114,  7.38556982,  7.13673644,  7.17799381,\n",
       "         8.19283449,  8.50208492,  8.03313421,  8.49354909,  8.91019156,\n",
       "         8.86078617,  8.88790236,  8.67968366,  8.61859017,  8.05332362,\n",
       "         9.73300201,  9.71808866,  9.0240984 ,  9.81162816,  9.66147981,\n",
       "         9.69455513,  9.27968246,  9.43447992,  9.18389536,  9.08927792,\n",
       "        10.01538036, 10.92910286, 10.42454688, 10.84745007, 10.31848327,\n",
       "        10.49652771, 10.61525122, 10.01254089, 10.46833644, 10.69034246,\n",
       "        11.6717122 , 11.61565924, 11.25919689, 11.58495728, 11.22078832,\n",
       "        11.63090829, 11.1340262 , 11.43716673, 11.69850376, 11.16849596]])"
      ]
     },
     "execution_count": 12,
     "metadata": {},
     "output_type": "execute_result"
    }
   ],
   "source": [
    "X.T"
   ]
  },
  {
   "cell_type": "code",
   "execution_count": 13,
   "metadata": {},
   "outputs": [
    {
     "data": {
      "text/plain": [
       "array([[ 1.        ,  0.79355347],\n",
       "       [ 1.        ,  0.08688993],\n",
       "       [ 1.        ,  0.99500629],\n",
       "       [ 1.        ,  0.37351538],\n",
       "       [ 1.        ,  0.69304444],\n",
       "       [ 1.        ,  0.62160379],\n",
       "       [ 1.        ,  0.25109653],\n",
       "       [ 1.        ,  0.89593988],\n",
       "       [ 1.        ,  0.70268141],\n",
       "       [ 1.        ,  0.35278683],\n",
       "       [ 1.        ,  1.1776304 ],\n",
       "       [ 1.        ,  1.22304694],\n",
       "       [ 1.        ,  1.56398603],\n",
       "       [ 1.        ,  1.97217017],\n",
       "       [ 1.        ,  1.4652029 ],\n",
       "       [ 1.        ,  1.80660166],\n",
       "       [ 1.        ,  1.10872804],\n",
       "       [ 1.        ,  1.22168761],\n",
       "       [ 1.        ,  1.27715068],\n",
       "       [ 1.        ,  1.37935449],\n",
       "       [ 1.        ,  2.57272312],\n",
       "       [ 1.        ,  2.90359961],\n",
       "       [ 1.        ,  2.55316819],\n",
       "       [ 1.        ,  2.22820177],\n",
       "       [ 1.        ,  2.09478644],\n",
       "       [ 1.        ,  2.26737468],\n",
       "       [ 1.        ,  2.64136829],\n",
       "       [ 1.        ,  2.30583384],\n",
       "       [ 1.        ,  2.51191397],\n",
       "       [ 1.        ,  2.0567827 ],\n",
       "       [ 1.        ,  3.45769119],\n",
       "       [ 1.        ,  3.85978611],\n",
       "       [ 1.        ,  3.27916758],\n",
       "       [ 1.        ,  3.84377939],\n",
       "       [ 1.        ,  3.60081438],\n",
       "       [ 1.        ,  3.93182753],\n",
       "       [ 1.        ,  3.18393146],\n",
       "       [ 1.        ,  3.27271447],\n",
       "       [ 1.        ,  3.7205519 ],\n",
       "       [ 1.        ,  3.79991375],\n",
       "       [ 1.        ,  4.95584022],\n",
       "       [ 1.        ,  4.19167022],\n",
       "       [ 1.        ,  4.38167439],\n",
       "       [ 1.        ,  4.02225539],\n",
       "       [ 1.        ,  4.4683873 ],\n",
       "       [ 1.        ,  4.94687935],\n",
       "       [ 1.        ,  4.07279221],\n",
       "       [ 1.        ,  4.75801549],\n",
       "       [ 1.        ,  4.32093721],\n",
       "       [ 1.        ,  4.7836293 ],\n",
       "       [ 1.        ,  5.56553278],\n",
       "       [ 1.        ,  5.05710222],\n",
       "       [ 1.        ,  5.12083551],\n",
       "       [ 1.        ,  5.52622045],\n",
       "       [ 1.        ,  5.16690693],\n",
       "       [ 1.        ,  5.58754019],\n",
       "       [ 1.        ,  5.99173855],\n",
       "       [ 1.        ,  5.84267806],\n",
       "       [ 1.        ,  5.2187599 ],\n",
       "       [ 1.        ,  5.75349542],\n",
       "       [ 1.        ,  6.37502821],\n",
       "       [ 1.        ,  6.98255239],\n",
       "       [ 1.        ,  6.13981512],\n",
       "       [ 1.        ,  6.91934974],\n",
       "       [ 1.        ,  6.99895356],\n",
       "       [ 1.        ,  6.52240581],\n",
       "       [ 1.        ,  6.87503236],\n",
       "       [ 1.        ,  6.14135148],\n",
       "       [ 1.        ,  6.74696737],\n",
       "       [ 1.        ,  6.68118375],\n",
       "       [ 1.        ,  7.12506024],\n",
       "       [ 1.        ,  7.60035851],\n",
       "       [ 1.        ,  7.19705124],\n",
       "       [ 1.        ,  7.59069264],\n",
       "       [ 1.        ,  7.97106646],\n",
       "       [ 1.        ,  7.31830092],\n",
       "       [ 1.        ,  7.68501114],\n",
       "       [ 1.        ,  7.38556982],\n",
       "       [ 1.        ,  7.13673644],\n",
       "       [ 1.        ,  7.17799381],\n",
       "       [ 1.        ,  8.19283449],\n",
       "       [ 1.        ,  8.50208492],\n",
       "       [ 1.        ,  8.03313421],\n",
       "       [ 1.        ,  8.49354909],\n",
       "       [ 1.        ,  8.91019156],\n",
       "       [ 1.        ,  8.86078617],\n",
       "       [ 1.        ,  8.88790236],\n",
       "       [ 1.        ,  8.67968366],\n",
       "       [ 1.        ,  8.61859017],\n",
       "       [ 1.        ,  8.05332362],\n",
       "       [ 1.        ,  9.73300201],\n",
       "       [ 1.        ,  9.71808866],\n",
       "       [ 1.        ,  9.0240984 ],\n",
       "       [ 1.        ,  9.81162816],\n",
       "       [ 1.        ,  9.66147981],\n",
       "       [ 1.        ,  9.69455513],\n",
       "       [ 1.        ,  9.27968246],\n",
       "       [ 1.        ,  9.43447992],\n",
       "       [ 1.        ,  9.18389536],\n",
       "       [ 1.        ,  9.08927792],\n",
       "       [ 1.        , 10.01538036],\n",
       "       [ 1.        , 10.92910286],\n",
       "       [ 1.        , 10.42454688],\n",
       "       [ 1.        , 10.84745007],\n",
       "       [ 1.        , 10.31848327],\n",
       "       [ 1.        , 10.49652771],\n",
       "       [ 1.        , 10.61525122],\n",
       "       [ 1.        , 10.01254089],\n",
       "       [ 1.        , 10.46833644],\n",
       "       [ 1.        , 10.69034246],\n",
       "       [ 1.        , 11.6717122 ],\n",
       "       [ 1.        , 11.61565924],\n",
       "       [ 1.        , 11.25919689],\n",
       "       [ 1.        , 11.58495728],\n",
       "       [ 1.        , 11.22078832],\n",
       "       [ 1.        , 11.63090829],\n",
       "       [ 1.        , 11.1340262 ],\n",
       "       [ 1.        , 11.43716673],\n",
       "       [ 1.        , 11.69850376],\n",
       "       [ 1.        , 11.16849596]])"
      ]
     },
     "execution_count": 13,
     "metadata": {},
     "output_type": "execute_result"
    }
   ],
   "source": [
    "X"
   ]
  },
  {
   "cell_type": "code",
   "execution_count": 14,
   "metadata": {
    "scrolled": true
   },
   "outputs": [
    {
     "data": {
      "text/plain": [
       "array([ 97.37234709, 117.02875846,  59.10421346, 117.50806398,\n",
       "        96.85271658,  93.01119883, 105.94370381,  93.62585027,\n",
       "        74.96927291, 103.09801181, 117.2393772 , 146.07297073,\n",
       "       120.9217505 , 157.86788758, 125.36800764,  96.57295723,\n",
       "       126.2828128 , 115.86644314, 122.93509393, 106.49670989,\n",
       "       157.14562194, 144.0855507 , 149.80407612, 149.17757126,\n",
       "       165.06184563, 143.72906549, 147.18967163, 142.37482451,\n",
       "       137.31652803, 127.43497648, 184.90013147, 146.96304745,\n",
       "       194.18997372, 156.48220145, 173.60006232, 180.06871894,\n",
       "       145.85422388, 121.56085614, 151.59178577, 151.47871633,\n",
       "       202.09036399, 214.8832084 , 193.5551979 , 211.13378713,\n",
       "       193.5733498 , 189.53195603, 184.54026371, 189.81750591,\n",
       "       196.83174127, 187.68630754, 200.73166349, 240.09661159,\n",
       "       223.26968276, 269.32166211, 189.23464789, 224.47743404,\n",
       "       230.23192108, 243.73246018, 217.39942594, 208.0805527 ,\n",
       "       266.87027572, 282.87113941, 254.26307008, 231.32561436,\n",
       "       231.16243055, 256.51356681, 205.46787494, 275.05854648,\n",
       "       226.85267839, 214.2735756 , 265.1818328 , 262.3445512 ,\n",
       "       262.61509253, 234.87868268, 255.19834693, 292.7153954 ,\n",
       "       291.17536505, 250.70165106, 260.75530518, 283.00890098,\n",
       "       293.73529644, 288.23485866, 284.63583002, 257.42199909,\n",
       "       299.05872291, 301.04401058, 305.13017343, 324.23603873,\n",
       "       251.78295436, 297.2367872 , 338.91615986, 311.09193199,\n",
       "       302.83146205, 310.00265275, 304.44580028, 304.6515555 ,\n",
       "       294.93068892, 318.71382203, 339.35614457, 303.61097307,\n",
       "       324.06247103, 360.45933158, 346.09923528, 334.00751156,\n",
       "       303.86151565, 367.04255785, 348.75507089, 316.25175658,\n",
       "       331.45222212, 349.92236697, 369.49533376, 410.35738102,\n",
       "       346.27878751, 392.63782521, 378.57602086, 356.88832332,\n",
       "       356.43236319, 360.9920046 , 378.14532513, 377.8306483 ])"
      ]
     },
     "execution_count": 14,
     "metadata": {},
     "output_type": "execute_result"
    }
   ],
   "source": [
    "y"
   ]
  },
  {
   "cell_type": "markdown",
   "metadata": {},
   "source": [
    "Given: \n",
    "- the two-dimensional array (i.e. a matrix) $X$, containing a column with biases (all set to 1) and a column containing the ages of children (expressed in months)\n",
    "- a one dimensional column array $y$ containing the weights of the same children expressed in kilograms\n",
    "Write a function to compute the best fit  using the Linear Regression model with Ordinary Least Squares Method:\n",
    "$$\n",
    "\\beta = (X^T X)^{-1}X^T y\n",
    "$$\n",
    "where, given a matrix $A$, $A^T$ is the transpose matrix of A, and $A^{-1}$ is the inverse matrix of $A$.\n",
    "\n",
    "\n",
    "The $X$ and $y$ arrays have precomputed for you in the cell above"
   ]
  },
  {
   "cell_type": "code",
   "execution_count": 15,
   "metadata": {},
   "outputs": [],
   "source": [
    "# Hint: check the NumPy documentation to find the functions to compute the transpose and the inverse of a matrix\n",
    "def ols(X, y):\n",
    "    '''returns parameters based on Ordinary Least Squares.'''\n",
    "    xtx = np.dot(X.T, X) ## x-transpose times x\n",
    "    inv_xtx = np.linalg.inv(xtx) ## inverse of x-transpose times x\n",
    "    xty = np.dot(X.T, y) ## x-transpose times y\n",
    "    return np.dot(inv_xtx, xty)"
   ]
  },
  {
   "cell_type": "markdown",
   "metadata": {},
   "source": [
    "Once you function has been written, you should be able to run the code below:"
   ]
  },
  {
   "cell_type": "code",
   "execution_count": 16,
   "metadata": {},
   "outputs": [
    {
     "name": "stdout",
     "output_type": "stream",
     "text": [
      "intercept: 84.44913152687207 | slope: 24.44124987537225\n"
     ]
    }
   ],
   "source": [
    "# find parameters\n",
    "params = ols(X,y)\n",
    "print('intercept: {} | slope: {}'.format(params[0], params[1]))"
   ]
  },
  {
   "cell_type": "markdown",
   "metadata": {},
   "source": [
    "You should also be able to visualize the result of the OLS fitting running the code in teh cell below:"
   ]
  },
  {
   "cell_type": "code",
   "execution_count": 17,
   "metadata": {
    "scrolled": false
   },
   "outputs": [
    {
     "data": {
      "text/plain": [
       "Text(0, 0.5, 'Weight (?)')"
      ]
     },
     "execution_count": 17,
     "metadata": {},
     "output_type": "execute_result"
    },
    {
     "data": {
      "image/png": "[encoded data removed]",
      "text/plain": [
       "<Figure size 648x432 with 1 Axes>"
      ]
     },
     "metadata": {
      "needs_background": "light"
     },
     "output_type": "display_data"
    }
   ],
   "source": [
    "## here we draw a graph of the linear estimator\n",
    "import matplotlib.pyplot as plt\n",
    "%matplotlib inline\n",
    "\n",
    "fig, axes = plt.subplots(1, 1, figsize=(9, 6))\n",
    "axes.scatter(month_data, weight_data)\n",
    "x_vals = np.array(axes.get_xlim())\n",
    "y_vals = params[0] + params[1] * x_vals\n",
    "axes.plot(x_vals, y_vals, 'r--')\n",
    "plt.title('Linear Regression example')\n",
    "plt.xlabel('Age (Months)')\n",
    "plt.ylabel('Weight (?)')"
   ]
  },
  {
   "cell_type": "code",
   "execution_count": null,
   "metadata": {},
   "outputs": [],
   "source": []
  }
 ],
 "metadata": {
  "kernelspec": {
   "display_name": "Python 3 (ipykernel)",
   "language": "python",
   "name": "python3"
  },
  "language_info": {
   "codemirror_mode": {
    "name": "ipython",
    "version": 3
   },
   "file_extension": ".py",
   "mimetype": "text/x-python",
   "name": "python",
   "nbconvert_exporter": "python",
   "pygments_lexer": "ipython3",
   "version": "3.9.12"
  }
 },
 "nbformat": 4,
 "nbformat_minor": 2
}
