{
 "cells": [
  {
   "cell_type": "markdown",
   "id": "3cd74318",
   "metadata": {},
   "source": [
    "## Low-res digits dataset\n",
    "\n",
    "We'll try and replicate some of the classification tasks we did for MNIST with the digits dataset.\n",
    "\n",
    "Exercise. Implement a Binary classifier able to <b>recognize the 8 digit</b>:\n",
    "* 1. load the digits dataset (done for you)\n",
    "* 2. have a look the digits dataset\n",
    "* 3. split train and test set\n",
    "* 4. prepare the data for the model training\n",
    "* 5. train 3 models in cross-validation and plot the ROC curves. The three models are:\n",
    "    * an SGD classifier fitting a linear support vector machine\n",
    "    * a 7-Nearest Neighbour classifier\n",
    "    * a (non-linear) support vector machine\n",
    "    \n",
    "Which is the most performant, if evaluated using a ROC curve? Which one of the three would you choose?"
   ]
  },
  {
   "cell_type": "markdown",
   "id": "bf5533df",
   "metadata": {},
   "source": [
    "## Setup"
   ]
  },
  {
   "cell_type": "code",
   "execution_count": 106,
   "id": "fd79d85a",
   "metadata": {},
   "outputs": [],
   "source": [
    "# Python ≥3.8 is required\n",
    "import sys\n",
    "assert sys.version_info >= (3, 8)\n",
    "\n",
    "# Scikit-Learn ≥1.0 is required\n",
    "import sklearn\n",
    "assert sklearn.__version__ >= \"1.0\"\n",
    "\n",
    "# Common imports\n",
    "import numpy as np\n",
    "import pandas as pd\n",
    "import os\n",
    "\n",
    "# To plot pretty figures\n",
    "%matplotlib inline\n",
    "import matplotlib as mpl\n",
    "import matplotlib.pyplot as plt\n",
    "mpl.rc('axes', labelsize=14)\n",
    "mpl.rc('xtick', labelsize=12)\n",
    "mpl.rc('ytick', labelsize=12)\n",
    "\n",
    "from time import time\n",
    "\n",
    "# Ignore useless warnings (see SciPy issue #5998)\n",
    "import warnings\n",
    "warnings.filterwarnings(action=\"ignore\", message=\"^internal gelsd\")"
   ]
  },
  {
   "cell_type": "markdown",
   "id": "59f0264d",
   "metadata": {},
   "source": [
    "## 1. Load the FashionMNIST dataset"
   ]
  },
  {
   "cell_type": "code",
   "execution_count": 107,
   "id": "d93332b3",
   "metadata": {},
   "outputs": [],
   "source": [
    "from sklearn.datasets import load_digits\n",
    "X, y = load_digits(return_X_y=True, as_frame=False)"
   ]
  },
  {
   "cell_type": "code",
   "execution_count": 108,
   "id": "856e5bc8",
   "metadata": {},
   "outputs": [
    {
     "data": {
      "text/plain": [
       "array([[ 0.,  0.,  5., ...,  0.,  0.,  0.],\n",
       "       [ 0.,  0.,  0., ..., 10.,  0.,  0.],\n",
       "       [ 0.,  0.,  0., ..., 16.,  9.,  0.],\n",
       "       ...,\n",
       "       [ 0.,  0.,  1., ...,  6.,  0.,  0.],\n",
       "       [ 0.,  0.,  2., ..., 12.,  0.,  0.],\n",
       "       [ 0.,  0., 10., ..., 12.,  1.,  0.]])"
      ]
     },
     "execution_count": 108,
     "metadata": {},
     "output_type": "execute_result"
    }
   ],
   "source": [
    "X"
   ]
  },
  {
   "cell_type": "code",
   "execution_count": 109,
   "id": "980d8898",
   "metadata": {},
   "outputs": [
    {
     "data": {
      "text/plain": [
       "(1797, 64)"
      ]
     },
     "execution_count": 109,
     "metadata": {},
     "output_type": "execute_result"
    }
   ],
   "source": [
    "X.shape"
   ]
  },
  {
   "cell_type": "markdown",
   "id": "ec276546",
   "metadata": {},
   "source": [
    "8 x 8 pixels (instead of 28 x 28 pixels)"
   ]
  },
  {
   "cell_type": "code",
   "execution_count": 110,
   "id": "012ed74b",
   "metadata": {},
   "outputs": [
    {
     "data": {
      "text/plain": [
       "(1797,)"
      ]
     },
     "execution_count": 110,
     "metadata": {},
     "output_type": "execute_result"
    }
   ],
   "source": [
    "y.shape"
   ]
  },
  {
   "cell_type": "markdown",
   "id": "2a1b34e6",
   "metadata": {},
   "source": [
    "# 2. Have a look at the dataset"
   ]
  },
  {
   "cell_type": "code",
   "execution_count": 111,
   "id": "32383446",
   "metadata": {
    "scrolled": true
   },
   "outputs": [
    {
     "data": {
      "text/html": [
       "<div>\n",
       "<style scoped>\n",
       "    .dataframe tbody tr th:only-of-type {\n",
       "        vertical-align: middle;\n",
       "    }\n",
       "\n",
       "    .dataframe tbody tr th {\n",
       "        vertical-align: top;\n",
       "    }\n",
       "\n",
       "    .dataframe thead th {\n",
       "        text-align: right;\n",
       "    }\n",
       "</style>\n",
       "<table border=\"1\" class=\"dataframe\">\n",
       "  <thead>\n",
       "    <tr style=\"text-align: right;\">\n",
       "      <th></th>\n",
       "      <th>0</th>\n",
       "      <th>1</th>\n",
       "      <th>2</th>\n",
       "      <th>3</th>\n",
       "      <th>4</th>\n",
       "      <th>5</th>\n",
       "      <th>6</th>\n",
       "      <th>7</th>\n",
       "      <th>8</th>\n",
       "      <th>9</th>\n",
       "      <th>...</th>\n",
       "      <th>54</th>\n",
       "      <th>55</th>\n",
       "      <th>56</th>\n",
       "      <th>57</th>\n",
       "      <th>58</th>\n",
       "      <th>59</th>\n",
       "      <th>60</th>\n",
       "      <th>61</th>\n",
       "      <th>62</th>\n",
       "      <th>63</th>\n",
       "    </tr>\n",
       "  </thead>\n",
       "  <tbody>\n",
       "    <tr>\n",
       "      <th>0</th>\n",
       "      <td>0.0</td>\n",
       "      <td>0.0</td>\n",
       "      <td>5.0</td>\n",
       "      <td>13.0</td>\n",
       "      <td>9.0</td>\n",
       "      <td>1.0</td>\n",
       "      <td>0.0</td>\n",
       "      <td>0.0</td>\n",
       "      <td>0.0</td>\n",
       "      <td>0.0</td>\n",
       "      <td>...</td>\n",
       "      <td>0.0</td>\n",
       "      <td>0.0</td>\n",
       "      <td>0.0</td>\n",
       "      <td>0.0</td>\n",
       "      <td>6.0</td>\n",
       "      <td>13.0</td>\n",
       "      <td>10.0</td>\n",
       "      <td>0.0</td>\n",
       "      <td>0.0</td>\n",
       "      <td>0.0</td>\n",
       "    </tr>\n",
       "    <tr>\n",
       "      <th>1</th>\n",
       "      <td>0.0</td>\n",
       "      <td>0.0</td>\n",
       "      <td>0.0</td>\n",
       "      <td>12.0</td>\n",
       "      <td>13.0</td>\n",
       "      <td>5.0</td>\n",
       "      <td>0.0</td>\n",
       "      <td>0.0</td>\n",
       "      <td>0.0</td>\n",
       "      <td>0.0</td>\n",
       "      <td>...</td>\n",
       "      <td>0.0</td>\n",
       "      <td>0.0</td>\n",
       "      <td>0.0</td>\n",
       "      <td>0.0</td>\n",
       "      <td>0.0</td>\n",
       "      <td>11.0</td>\n",
       "      <td>16.0</td>\n",
       "      <td>10.0</td>\n",
       "      <td>0.0</td>\n",
       "      <td>0.0</td>\n",
       "    </tr>\n",
       "    <tr>\n",
       "      <th>2</th>\n",
       "      <td>0.0</td>\n",
       "      <td>0.0</td>\n",
       "      <td>0.0</td>\n",
       "      <td>4.0</td>\n",
       "      <td>15.0</td>\n",
       "      <td>12.0</td>\n",
       "      <td>0.0</td>\n",
       "      <td>0.0</td>\n",
       "      <td>0.0</td>\n",
       "      <td>0.0</td>\n",
       "      <td>...</td>\n",
       "      <td>5.0</td>\n",
       "      <td>0.0</td>\n",
       "      <td>0.0</td>\n",
       "      <td>0.0</td>\n",
       "      <td>0.0</td>\n",
       "      <td>3.0</td>\n",
       "      <td>11.0</td>\n",
       "      <td>16.0</td>\n",
       "      <td>9.0</td>\n",
       "      <td>0.0</td>\n",
       "    </tr>\n",
       "    <tr>\n",
       "      <th>3</th>\n",
       "      <td>0.0</td>\n",
       "      <td>0.0</td>\n",
       "      <td>7.0</td>\n",
       "      <td>15.0</td>\n",
       "      <td>13.0</td>\n",
       "      <td>1.0</td>\n",
       "      <td>0.0</td>\n",
       "      <td>0.0</td>\n",
       "      <td>0.0</td>\n",
       "      <td>8.0</td>\n",
       "      <td>...</td>\n",
       "      <td>9.0</td>\n",
       "      <td>0.0</td>\n",
       "      <td>0.0</td>\n",
       "      <td>0.0</td>\n",
       "      <td>7.0</td>\n",
       "      <td>13.0</td>\n",
       "      <td>13.0</td>\n",
       "      <td>9.0</td>\n",
       "      <td>0.0</td>\n",
       "      <td>0.0</td>\n",
       "    </tr>\n",
       "    <tr>\n",
       "      <th>4</th>\n",
       "      <td>0.0</td>\n",
       "      <td>0.0</td>\n",
       "      <td>0.0</td>\n",
       "      <td>1.0</td>\n",
       "      <td>11.0</td>\n",
       "      <td>0.0</td>\n",
       "      <td>0.0</td>\n",
       "      <td>0.0</td>\n",
       "      <td>0.0</td>\n",
       "      <td>0.0</td>\n",
       "      <td>...</td>\n",
       "      <td>0.0</td>\n",
       "      <td>0.0</td>\n",
       "      <td>0.0</td>\n",
       "      <td>0.0</td>\n",
       "      <td>0.0</td>\n",
       "      <td>2.0</td>\n",
       "      <td>16.0</td>\n",
       "      <td>4.0</td>\n",
       "      <td>0.0</td>\n",
       "      <td>0.0</td>\n",
       "    </tr>\n",
       "    <tr>\n",
       "      <th>...</th>\n",
       "      <td>...</td>\n",
       "      <td>...</td>\n",
       "      <td>...</td>\n",
       "      <td>...</td>\n",
       "      <td>...</td>\n",
       "      <td>...</td>\n",
       "      <td>...</td>\n",
       "      <td>...</td>\n",
       "      <td>...</td>\n",
       "      <td>...</td>\n",
       "      <td>...</td>\n",
       "      <td>...</td>\n",
       "      <td>...</td>\n",
       "      <td>...</td>\n",
       "      <td>...</td>\n",
       "      <td>...</td>\n",
       "      <td>...</td>\n",
       "      <td>...</td>\n",
       "      <td>...</td>\n",
       "      <td>...</td>\n",
       "      <td>...</td>\n",
       "    </tr>\n",
       "    <tr>\n",
       "      <th>1792</th>\n",
       "      <td>0.0</td>\n",
       "      <td>0.0</td>\n",
       "      <td>4.0</td>\n",
       "      <td>10.0</td>\n",
       "      <td>13.0</td>\n",
       "      <td>6.0</td>\n",
       "      <td>0.0</td>\n",
       "      <td>0.0</td>\n",
       "      <td>0.0</td>\n",
       "      <td>1.0</td>\n",
       "      <td>...</td>\n",
       "      <td>4.0</td>\n",
       "      <td>0.0</td>\n",
       "      <td>0.0</td>\n",
       "      <td>0.0</td>\n",
       "      <td>2.0</td>\n",
       "      <td>14.0</td>\n",
       "      <td>15.0</td>\n",
       "      <td>9.0</td>\n",
       "      <td>0.0</td>\n",
       "      <td>0.0</td>\n",
       "    </tr>\n",
       "    <tr>\n",
       "      <th>1793</th>\n",
       "      <td>0.0</td>\n",
       "      <td>0.0</td>\n",
       "      <td>6.0</td>\n",
       "      <td>16.0</td>\n",
       "      <td>13.0</td>\n",
       "      <td>11.0</td>\n",
       "      <td>1.0</td>\n",
       "      <td>0.0</td>\n",
       "      <td>0.0</td>\n",
       "      <td>0.0</td>\n",
       "      <td>...</td>\n",
       "      <td>1.0</td>\n",
       "      <td>0.0</td>\n",
       "      <td>0.0</td>\n",
       "      <td>0.0</td>\n",
       "      <td>6.0</td>\n",
       "      <td>16.0</td>\n",
       "      <td>14.0</td>\n",
       "      <td>6.0</td>\n",
       "      <td>0.0</td>\n",
       "      <td>0.0</td>\n",
       "    </tr>\n",
       "    <tr>\n",
       "      <th>1794</th>\n",
       "      <td>0.0</td>\n",
       "      <td>0.0</td>\n",
       "      <td>1.0</td>\n",
       "      <td>11.0</td>\n",
       "      <td>15.0</td>\n",
       "      <td>1.0</td>\n",
       "      <td>0.0</td>\n",
       "      <td>0.0</td>\n",
       "      <td>0.0</td>\n",
       "      <td>0.0</td>\n",
       "      <td>...</td>\n",
       "      <td>0.0</td>\n",
       "      <td>0.0</td>\n",
       "      <td>0.0</td>\n",
       "      <td>0.0</td>\n",
       "      <td>2.0</td>\n",
       "      <td>9.0</td>\n",
       "      <td>13.0</td>\n",
       "      <td>6.0</td>\n",
       "      <td>0.0</td>\n",
       "      <td>0.0</td>\n",
       "    </tr>\n",
       "    <tr>\n",
       "      <th>1795</th>\n",
       "      <td>0.0</td>\n",
       "      <td>0.0</td>\n",
       "      <td>2.0</td>\n",
       "      <td>10.0</td>\n",
       "      <td>7.0</td>\n",
       "      <td>0.0</td>\n",
       "      <td>0.0</td>\n",
       "      <td>0.0</td>\n",
       "      <td>0.0</td>\n",
       "      <td>0.0</td>\n",
       "      <td>...</td>\n",
       "      <td>2.0</td>\n",
       "      <td>0.0</td>\n",
       "      <td>0.0</td>\n",
       "      <td>0.0</td>\n",
       "      <td>5.0</td>\n",
       "      <td>12.0</td>\n",
       "      <td>16.0</td>\n",
       "      <td>12.0</td>\n",
       "      <td>0.0</td>\n",
       "      <td>0.0</td>\n",
       "    </tr>\n",
       "    <tr>\n",
       "      <th>1796</th>\n",
       "      <td>0.0</td>\n",
       "      <td>0.0</td>\n",
       "      <td>10.0</td>\n",
       "      <td>14.0</td>\n",
       "      <td>8.0</td>\n",
       "      <td>1.0</td>\n",
       "      <td>0.0</td>\n",
       "      <td>0.0</td>\n",
       "      <td>0.0</td>\n",
       "      <td>2.0</td>\n",
       "      <td>...</td>\n",
       "      <td>8.0</td>\n",
       "      <td>0.0</td>\n",
       "      <td>0.0</td>\n",
       "      <td>1.0</td>\n",
       "      <td>8.0</td>\n",
       "      <td>12.0</td>\n",
       "      <td>14.0</td>\n",
       "      <td>12.0</td>\n",
       "      <td>1.0</td>\n",
       "      <td>0.0</td>\n",
       "    </tr>\n",
       "  </tbody>\n",
       "</table>\n",
       "<p>1797 rows × 64 columns</p>\n",
       "</div>"
      ],
      "text/plain": [
       "       0    1     2     3     4     5    6    7    8    9   ...   54   55  \\\n",
       "0     0.0  0.0   5.0  13.0   9.0   1.0  0.0  0.0  0.0  0.0  ...  0.0  0.0   \n",
       "1     0.0  0.0   0.0  12.0  13.0   5.0  0.0  0.0  0.0  0.0  ...  0.0  0.0   \n",
       "2     0.0  0.0   0.0   4.0  15.0  12.0  0.0  0.0  0.0  0.0  ...  5.0  0.0   \n",
       "3     0.0  0.0   7.0  15.0  13.0   1.0  0.0  0.0  0.0  8.0  ...  9.0  0.0   \n",
       "4     0.0  0.0   0.0   1.0  11.0   0.0  0.0  0.0  0.0  0.0  ...  0.0  0.0   \n",
       "...   ...  ...   ...   ...   ...   ...  ...  ...  ...  ...  ...  ...  ...   \n",
       "1792  0.0  0.0   4.0  10.0  13.0   6.0  0.0  0.0  0.0  1.0  ...  4.0  0.0   \n",
       "1793  0.0  0.0   6.0  16.0  13.0  11.0  1.0  0.0  0.0  0.0  ...  1.0  0.0   \n",
       "1794  0.0  0.0   1.0  11.0  15.0   1.0  0.0  0.0  0.0  0.0  ...  0.0  0.0   \n",
       "1795  0.0  0.0   2.0  10.0   7.0   0.0  0.0  0.0  0.0  0.0  ...  2.0  0.0   \n",
       "1796  0.0  0.0  10.0  14.0   8.0   1.0  0.0  0.0  0.0  2.0  ...  8.0  0.0   \n",
       "\n",
       "       56   57   58    59    60    61   62   63  \n",
       "0     0.0  0.0  6.0  13.0  10.0   0.0  0.0  0.0  \n",
       "1     0.0  0.0  0.0  11.0  16.0  10.0  0.0  0.0  \n",
       "2     0.0  0.0  0.0   3.0  11.0  16.0  9.0  0.0  \n",
       "3     0.0  0.0  7.0  13.0  13.0   9.0  0.0  0.0  \n",
       "4     0.0  0.0  0.0   2.0  16.0   4.0  0.0  0.0  \n",
       "...   ...  ...  ...   ...   ...   ...  ...  ...  \n",
       "1792  0.0  0.0  2.0  14.0  15.0   9.0  0.0  0.0  \n",
       "1793  0.0  0.0  6.0  16.0  14.0   6.0  0.0  0.0  \n",
       "1794  0.0  0.0  2.0   9.0  13.0   6.0  0.0  0.0  \n",
       "1795  0.0  0.0  5.0  12.0  16.0  12.0  0.0  0.0  \n",
       "1796  0.0  1.0  8.0  12.0  14.0  12.0  1.0  0.0  \n",
       "\n",
       "[1797 rows x 64 columns]"
      ]
     },
     "execution_count": 111,
     "metadata": {},
     "output_type": "execute_result"
    }
   ],
   "source": [
    "df = pd.DataFrame(X)\n",
    "df"
   ]
  },
  {
   "cell_type": "code",
   "execution_count": 48,
   "id": "ed4ef04f",
   "metadata": {
    "scrolled": false
   },
   "outputs": [
    {
     "data": {
      "image/png": "[encoded data removed]",
      "text/plain": [
       "<Figure size 432x288 with 1 Axes>"
      ]
     },
     "metadata": {
      "needs_background": "light"
     },
     "output_type": "display_data"
    }
   ],
   "source": [
    "digit = X[1]\n",
    "digit_img = digit.reshape(8, 8)\n",
    "\n",
    "plt.imshow(digit_img, cmap='binary')\n",
    "plt.axis('off')\n",
    "plt.show()"
   ]
  },
  {
   "cell_type": "code",
   "execution_count": 49,
   "id": "309e3330",
   "metadata": {
    "scrolled": true
   },
   "outputs": [
    {
     "data": {
      "image/png": "[encoded data removed]",
      "text/plain": [
       "<Figure size 432x288 with 1 Axes>"
      ]
     },
     "metadata": {
      "needs_background": "light"
     },
     "output_type": "display_data"
    }
   ],
   "source": [
    "digit = X[78]\n",
    "digit_img = digit.reshape(8, 8)\n",
    "\n",
    "plt.imshow(digit_img, cmap='binary')\n",
    "plt.axis('off')\n",
    "plt.show()"
   ]
  },
  {
   "cell_type": "code",
   "execution_count": 50,
   "id": "24ea2960",
   "metadata": {
    "scrolled": true
   },
   "outputs": [
    {
     "data": {
      "image/png": "[encoded data removed]",
      "text/plain": [
       "<Figure size 648x648 with 1 Axes>"
      ]
     },
     "metadata": {
      "needs_background": "light"
     },
     "output_type": "display_data"
    }
   ],
   "source": [
    "plt.figure(figsize=(9,9))\n",
    "example_images = X[:100]\n",
    "show_digits(example_images, images_per_row=10)\n",
    "plt.show()"
   ]
  },
  {
   "cell_type": "markdown",
   "id": "e0fb572a",
   "metadata": {},
   "source": [
    "### A couple of useful functions"
   ]
  },
  {
   "cell_type": "code",
   "execution_count": 38,
   "id": "dc403019",
   "metadata": {},
   "outputs": [],
   "source": [
    "def show_digits(instances, size=8, images_per_row=10, **opts):\n",
    "    \"\"\"\n",
    "    Utility function to display the MNIST digits on a grid\n",
    "    \"\"\"\n",
    "    images_per_row = min(len(instances), images_per_row)\n",
    "    # convert images from 1-D to 2-D arrays\n",
    "    images = [instance.reshape(size, size) for instance in instances]\n",
    "    # compute how many rows you need in the grid\n",
    "    n_rows = (len(instances) - 1) // images_per_row + 1\n",
    "    row_images = []\n",
    "    # create empty \"dummy\" images to fill potential remaining slots at the end of the grid\n",
    "    n_empty = n_rows * images_per_row - len(instances)\n",
    "    images.append(np.zeros((size, size * n_empty)))\n",
    "    # concatenate all the images in a single grid image\n",
    "    for row in range(n_rows):\n",
    "        rimages = images[row * images_per_row : (row + 1) * images_per_row]\n",
    "        row_images.append(np.concatenate(rimages, axis=1))\n",
    "    image = np.concatenate(row_images, axis=0)\n",
    "    # plot the grid image\n",
    "    plt.imshow(image, cmap = mpl.cm.binary, **opts)\n",
    "    plt.axis(\"off\")"
   ]
  },
  {
   "cell_type": "markdown",
   "id": "f02e89a5",
   "metadata": {},
   "source": [
    "# 2.5. Shuffle?"
   ]
  },
  {
   "cell_type": "markdown",
   "id": "3d64d649",
   "metadata": {},
   "source": [
    "Should we shuffle the numbers? This was raised in 4.1... but what about <b>y</b>? that won't match...\n",
    "\n",
    "[EDIT] - it seems that the latter rows are shuffled..."
   ]
  },
  {
   "cell_type": "code",
   "execution_count": 40,
   "id": "456142fa",
   "metadata": {},
   "outputs": [],
   "source": [
    "X_shuffle = X\n",
    "np.random.shuffle(X_shuffle)"
   ]
  },
  {
   "cell_type": "code",
   "execution_count": 41,
   "id": "84700553",
   "metadata": {
    "scrolled": true
   },
   "outputs": [
    {
     "data": {
      "image/png": "[encoded data removed]",
      "text/plain": [
       "<Figure size 648x648 with 1 Axes>"
      ]
     },
     "metadata": {
      "needs_background": "light"
     },
     "output_type": "display_data"
    }
   ],
   "source": [
    "plt.figure(figsize=(9,9))\n",
    "example_images = X_shuffle[:100]\n",
    "show_digits(example_images, images_per_row=10)\n",
    "plt.show()"
   ]
  },
  {
   "cell_type": "markdown",
   "id": "00b9edfa",
   "metadata": {},
   "source": [
    "# 3. Split Train and Test set"
   ]
  },
  {
   "cell_type": "code",
   "execution_count": 51,
   "id": "95084636",
   "metadata": {},
   "outputs": [],
   "source": [
    "# use slicing to create training and test set\n",
    "X_train, X_test, y_train, y_test = X[:1000], X[1000:], y[:1000], y[1000:]"
   ]
  },
  {
   "cell_type": "code",
   "execution_count": 52,
   "id": "060412aa",
   "metadata": {},
   "outputs": [
    {
     "data": {
      "text/plain": [
       "((1000, 64), (797, 64), (1000,), (797,))"
      ]
     },
     "execution_count": 52,
     "metadata": {},
     "output_type": "execute_result"
    }
   ],
   "source": [
    "X_train.shape, X_test.shape, y_train.shape, y_test.shape"
   ]
  },
  {
   "cell_type": "markdown",
   "id": "b88bf29c",
   "metadata": {},
   "source": [
    "# 4. Preparation for training\n",
    "\n",
    "start with a binary classifier for recognising the digit 8"
   ]
  },
  {
   "cell_type": "code",
   "execution_count": 56,
   "id": "308d61b4",
   "metadata": {},
   "outputs": [],
   "source": [
    "y_train_8 = y_train == 8\n",
    "y_test_8 = y_test == 8"
   ]
  },
  {
   "cell_type": "code",
   "execution_count": 57,
   "id": "ce485160",
   "metadata": {},
   "outputs": [
    {
     "data": {
      "text/plain": [
       "(array([False, False, False, False, False, False, False, False,  True,\n",
       "        False, False, False, False, False, False, False, False, False,\n",
       "         True, False]),\n",
       " array([0, 1, 2, 3, 4, 5, 6, 7, 8, 9, 0, 1, 2, 3, 4, 5, 6, 7, 8, 9]))"
      ]
     },
     "execution_count": 57,
     "metadata": {},
     "output_type": "execute_result"
    }
   ],
   "source": [
    "y_train_8[:20], y_train[:20]"
   ]
  },
  {
   "cell_type": "code",
   "execution_count": 58,
   "id": "e728c3e9",
   "metadata": {},
   "outputs": [
    {
     "data": {
      "text/html": [
       "<div>\n",
       "<style scoped>\n",
       "    .dataframe tbody tr th:only-of-type {\n",
       "        vertical-align: middle;\n",
       "    }\n",
       "\n",
       "    .dataframe tbody tr th {\n",
       "        vertical-align: top;\n",
       "    }\n",
       "\n",
       "    .dataframe thead th {\n",
       "        text-align: right;\n",
       "    }\n",
       "</style>\n",
       "<table border=\"1\" class=\"dataframe\">\n",
       "  <thead>\n",
       "    <tr style=\"text-align: right;\">\n",
       "      <th></th>\n",
       "      <th>0</th>\n",
       "    </tr>\n",
       "  </thead>\n",
       "  <tbody>\n",
       "    <tr>\n",
       "      <th>0</th>\n",
       "      <td>False</td>\n",
       "    </tr>\n",
       "    <tr>\n",
       "      <th>1</th>\n",
       "      <td>False</td>\n",
       "    </tr>\n",
       "    <tr>\n",
       "      <th>2</th>\n",
       "      <td>False</td>\n",
       "    </tr>\n",
       "    <tr>\n",
       "      <th>3</th>\n",
       "      <td>False</td>\n",
       "    </tr>\n",
       "    <tr>\n",
       "      <th>4</th>\n",
       "      <td>False</td>\n",
       "    </tr>\n",
       "    <tr>\n",
       "      <th>5</th>\n",
       "      <td>False</td>\n",
       "    </tr>\n",
       "    <tr>\n",
       "      <th>6</th>\n",
       "      <td>False</td>\n",
       "    </tr>\n",
       "    <tr>\n",
       "      <th>7</th>\n",
       "      <td>False</td>\n",
       "    </tr>\n",
       "    <tr>\n",
       "      <th>8</th>\n",
       "      <td>True</td>\n",
       "    </tr>\n",
       "    <tr>\n",
       "      <th>9</th>\n",
       "      <td>False</td>\n",
       "    </tr>\n",
       "    <tr>\n",
       "      <th>0</th>\n",
       "      <td>False</td>\n",
       "    </tr>\n",
       "    <tr>\n",
       "      <th>1</th>\n",
       "      <td>False</td>\n",
       "    </tr>\n",
       "    <tr>\n",
       "      <th>2</th>\n",
       "      <td>False</td>\n",
       "    </tr>\n",
       "    <tr>\n",
       "      <th>3</th>\n",
       "      <td>False</td>\n",
       "    </tr>\n",
       "    <tr>\n",
       "      <th>4</th>\n",
       "      <td>False</td>\n",
       "    </tr>\n",
       "    <tr>\n",
       "      <th>5</th>\n",
       "      <td>False</td>\n",
       "    </tr>\n",
       "    <tr>\n",
       "      <th>6</th>\n",
       "      <td>False</td>\n",
       "    </tr>\n",
       "    <tr>\n",
       "      <th>7</th>\n",
       "      <td>False</td>\n",
       "    </tr>\n",
       "    <tr>\n",
       "      <th>8</th>\n",
       "      <td>True</td>\n",
       "    </tr>\n",
       "    <tr>\n",
       "      <th>9</th>\n",
       "      <td>False</td>\n",
       "    </tr>\n",
       "  </tbody>\n",
       "</table>\n",
       "</div>"
      ],
      "text/plain": [
       "       0\n",
       "0  False\n",
       "1  False\n",
       "2  False\n",
       "3  False\n",
       "4  False\n",
       "5  False\n",
       "6  False\n",
       "7  False\n",
       "8   True\n",
       "9  False\n",
       "0  False\n",
       "1  False\n",
       "2  False\n",
       "3  False\n",
       "4  False\n",
       "5  False\n",
       "6  False\n",
       "7  False\n",
       "8   True\n",
       "9  False"
      ]
     },
     "execution_count": 58,
     "metadata": {},
     "output_type": "execute_result"
    }
   ],
   "source": [
    "df = pd.DataFrame(y_train_8[:20], y_train[:20])\n",
    "df"
   ]
  },
  {
   "cell_type": "markdown",
   "id": "ac1c8ca2",
   "metadata": {},
   "source": [
    "# 5. Train three models with Cross Validation and plot the ROC Curves\n",
    "\n",
    "The three models are:\n",
    "1. an SGD classifier fitting a linear support vector machine\n",
    "2. a 7-Nearest Neighbour classifier\n",
    "3. a (non-linear) support vector machine"
   ]
  },
  {
   "cell_type": "markdown",
   "id": "d2339fb2",
   "metadata": {},
   "source": [
    "# 5.1. SGD Classifier with a linear support vector machine (SVM)"
   ]
  },
  {
   "cell_type": "code",
   "execution_count": 63,
   "id": "9fd40057",
   "metadata": {},
   "outputs": [
    {
     "name": "stderr",
     "output_type": "stream",
     "text": [
      "/Users/nick/opt/anaconda3/lib/python3.9/site-packages/sklearn/linear_model/_logistic.py:814: ConvergenceWarning: lbfgs failed to converge (status=1):\n",
      "STOP: TOTAL NO. of ITERATIONS REACHED LIMIT.\n",
      "\n",
      "Increase the number of iterations (max_iter) or scale the data as shown in:\n",
      "    https://scikit-learn.org/stable/modules/preprocessing.html\n",
      "Please also refer to the documentation for alternative solver options:\n",
      "    https://scikit-learn.org/stable/modules/linear_model.html#logistic-regression\n",
      "  n_iter_i = _check_optimize_result(\n"
     ]
    },
    {
     "data": {
      "text/plain": [
       "LogisticRegression()"
      ]
     },
     "execution_count": 63,
     "metadata": {},
     "output_type": "execute_result"
    }
   ],
   "source": [
    "from sklearn.linear_model import LogisticRegression\n",
    "lin_cl = LogisticRegression()\n",
    "lin_cl.fit(X_train, y_train_8)"
   ]
  },
  {
   "cell_type": "code",
   "execution_count": 64,
   "id": "b443b223",
   "metadata": {},
   "outputs": [
    {
     "data": {
      "text/plain": [
       "SGDClassifier(loss='log', random_state=77)"
      ]
     },
     "execution_count": 64,
     "metadata": {},
     "output_type": "execute_result"
    }
   ],
   "source": [
    "from sklearn.linear_model import SGDClassifier\n",
    "\n",
    "sgd_cl = SGDClassifier(random_state=77, loss=\"log\")\n",
    "sgd_cl.fit(X_train, y_train_8)"
   ]
  },
  {
   "cell_type": "code",
   "execution_count": 65,
   "id": "b8b45e9e",
   "metadata": {
    "scrolled": true
   },
   "outputs": [
    {
     "data": {
      "text/plain": [
       "array([False, False, False, False, False, False,  True, False,  True,\n",
       "       False, False, False, False, False, False, False, False, False,\n",
       "        True, False])"
      ]
     },
     "execution_count": 65,
     "metadata": {},
     "output_type": "execute_result"
    }
   ],
   "source": [
    "sgd_cl.predict(X_train[:20])"
   ]
  },
  {
   "cell_type": "code",
   "execution_count": 66,
   "id": "628da409",
   "metadata": {
    "scrolled": true
   },
   "outputs": [
    {
     "data": {
      "text/plain": [
       "array([0, 1, 2, 3, 4, 5, 6, 7, 8, 9, 0, 1, 2, 3, 4, 5, 6, 7, 8, 9])"
      ]
     },
     "execution_count": 66,
     "metadata": {},
     "output_type": "execute_result"
    }
   ],
   "source": [
    "y_train[:20]"
   ]
  },
  {
   "cell_type": "markdown",
   "id": "2d68725f",
   "metadata": {},
   "source": [
    "### Cross Validation "
   ]
  },
  {
   "cell_type": "code",
   "execution_count": 67,
   "id": "61c19789",
   "metadata": {},
   "outputs": [
    {
     "name": "stdout",
     "output_type": "stream",
     "text": [
      "--- 0.024485111236572266 seconds ---\n"
     ]
    }
   ],
   "source": [
    "from sklearn.model_selection import cross_val_score\n",
    "\n",
    "import time\n",
    "start_time = time.time()\n",
    "\n",
    "scores = cross_val_score(\n",
    "    sgd_cl, X_train, y_train_8, cv=3, scoring=\"accuracy\"\n",
    ")\n",
    "print(\"--- %s seconds ---\" % (time.time() - start_time))\n",
    "#%time"
   ]
  },
  {
   "cell_type": "code",
   "execution_count": 68,
   "id": "86216d0f",
   "metadata": {},
   "outputs": [
    {
     "data": {
      "text/plain": [
       "array([0.93113772, 0.89189189, 0.94294294])"
      ]
     },
     "execution_count": 68,
     "metadata": {},
     "output_type": "execute_result"
    }
   ],
   "source": [
    "scores"
   ]
  },
  {
   "cell_type": "code",
   "execution_count": 69,
   "id": "d52cf3db",
   "metadata": {},
   "outputs": [
    {
     "data": {
      "text/plain": [
       "0.9219908531285776"
      ]
     },
     "execution_count": 69,
     "metadata": {},
     "output_type": "execute_result"
    }
   ],
   "source": [
    "np.mean(scores)"
   ]
  },
  {
   "cell_type": "markdown",
   "id": "ced1c492",
   "metadata": {},
   "source": [
    "### Cross Val + Support Vector Machines (SVM)"
   ]
  },
  {
   "cell_type": "code",
   "execution_count": 70,
   "id": "18dd6d61",
   "metadata": {},
   "outputs": [
    {
     "name": "stdout",
     "output_type": "stream",
     "text": [
      "--- 0.3723430633544922 seconds ---\n"
     ]
    }
   ],
   "source": [
    "from sklearn.svm import SVC\n",
    "svm_cl = SVC(gamma='auto')\n",
    "#start = time()\n",
    "#svm_cl.fit(X_train[:1000], y_train[:1000])\n",
    "#print('Duration: {} s'.format(time() - start))\n",
    "#svm_cl.predict(X_train[:10])\n",
    "\n",
    "\n",
    "import time\n",
    "start_time = time.time()\n",
    "\n",
    "from sklearn.model_selection import cross_val_score\n",
    "start = time.time()\n",
    "scores = cross_val_score(\n",
    "    svm_cl, # model we want to train\n",
    "    X_train[:10000], # features\n",
    "    y_train_8[:10000], # labels\n",
    "    scoring='accuracy', # accuracy\n",
    "    cv=5 #cross val checks (should be 5)\n",
    ")\n",
    "print(\"--- %s seconds ---\" % (time.time() - start_time))"
   ]
  },
  {
   "cell_type": "markdown",
   "id": "95226147",
   "metadata": {},
   "source": [
    "### Precision, Recall and F1 score"
   ]
  },
  {
   "cell_type": "code",
   "execution_count": 72,
   "id": "6f67d254",
   "metadata": {},
   "outputs": [
    {
     "data": {
      "text/plain": [
       "array([False, False, False, False, False, False,  True, False,  True,\n",
       "       False, False, False, False, False, False, False, False, False,\n",
       "       False, False, False, False, False, False, False, False, False,\n",
       "       False,  True, False, False, False, False, False, False, False,\n",
       "       False, False, False, False,  True, False, False, False, False,\n",
       "       False, False, False, False, False, False, False, False, False,\n",
       "       False, False, False, False,  True, False, False, False, False,\n",
       "       False, False, False,  True, False, False,  True, False, False,\n",
       "       False, False, False, False,  True, False, False, False, False,\n",
       "       False, False, False, False, False, False, False, False, False,\n",
       "       False, False, False, False, False, False, False, False, False,\n",
       "       False, False, False, False, False, False, False, False, False,\n",
       "       False, False, False, False, False, False,  True, False, False,\n",
       "       False, False, False, False, False, False, False, False, False,\n",
       "       False, False, False, False, False, False, False, False, False,\n",
       "       False, False, False,  True, False, False, False, False, False,\n",
       "       False, False, False, False,  True, False, False, False, False,\n",
       "       False, False, False, False, False, False, False, False, False,\n",
       "       False, False, False, False, False, False,  True, False,  True,\n",
       "       False, False, False, False, False, False, False, False, False,\n",
       "       False, False, False,  True, False, False, False, False, False,\n",
       "       False, False, False, False, False, False, False, False, False,\n",
       "        True, False, False, False, False, False, False, False, False,\n",
       "       False, False, False, False, False, False, False, False,  True,\n",
       "       False, False, False, False, False, False, False, False,  True,\n",
       "       False, False, False, False, False, False, False, False, False,\n",
       "       False, False, False, False,  True, False, False, False,  True,\n",
       "       False, False, False, False, False,  True,  True, False, False,\n",
       "       False, False,  True,  True, False, False, False, False, False,\n",
       "       False, False, False,  True, False, False,  True, False, False,\n",
       "       False, False, False, False,  True,  True, False, False, False,\n",
       "       False, False, False, False, False,  True, False, False, False,\n",
       "       False, False, False, False, False, False,  True, False,  True,\n",
       "       False, False, False, False, False, False, False, False, False,\n",
       "       False, False, False,  True, False, False,  True, False, False,\n",
       "       False, False, False, False, False, False, False, False, False,\n",
       "       False, False, False, False, False,  True, False, False,  True,\n",
       "       False, False, False, False,  True, False, False, False, False,\n",
       "       False, False, False, False, False, False,  True, False, False,\n",
       "       False,  True, False, False, False, False, False, False, False,\n",
       "       False,  True, False, False, False, False, False, False, False,\n",
       "       False,  True, False, False, False, False, False, False, False,\n",
       "       False,  True, False, False, False,  True,  True, False, False,\n",
       "       False, False, False, False, False, False, False,  True, False,\n",
       "       False, False, False, False, False, False, False, False,  True,\n",
       "       False, False, False, False, False, False, False, False, False,\n",
       "        True, False, False, False, False, False, False, False, False,\n",
       "       False,  True, False,  True, False, False, False, False, False,\n",
       "       False, False, False, False, False, False, False,  True, False,\n",
       "       False, False, False, False, False, False, False, False, False,\n",
       "       False, False, False, False, False, False, False, False, False,\n",
       "       False, False, False,  True, False, False, False, False, False,\n",
       "       False, False, False, False, False, False, False, False, False,\n",
       "       False, False, False, False, False,  True, False, False,  True,\n",
       "       False, False, False, False, False, False,  True, False, False,\n",
       "       False, False, False, False, False, False, False, False, False,\n",
       "       False, False, False,  True,  True,  True, False,  True, False,\n",
       "        True, False,  True, False, False, False, False, False, False,\n",
       "       False, False, False, False, False, False, False,  True, False,\n",
       "       False, False, False,  True,  True, False, False, False,  True,\n",
       "       False, False, False, False,  True, False, False,  True, False,\n",
       "       False,  True, False, False, False, False, False,  True, False,\n",
       "       False, False, False, False, False, False, False, False, False,\n",
       "       False, False,  True, False, False, False, False, False, False,\n",
       "       False, False, False, False, False,  True, False, False, False,\n",
       "        True, False, False,  True,  True, False, False, False, False,\n",
       "        True,  True, False, False,  True, False, False, False, False,\n",
       "       False,  True,  True, False,  True, False, False, False, False,\n",
       "        True, False, False, False, False,  True, False, False, False,\n",
       "        True, False, False, False, False, False, False, False, False,\n",
       "        True, False, False, False, False, False, False, False, False,\n",
       "       False, False,  True, False,  True, False, False, False, False,\n",
       "       False, False, False, False, False, False,  True, False, False,\n",
       "       False,  True, False, False,  True, False, False,  True, False,\n",
       "       False, False, False, False, False, False, False, False,  True,\n",
       "       False, False, False, False, False, False, False, False, False,\n",
       "        True, False,  True, False, False, False, False, False, False,\n",
       "       False, False, False, False, False, False,  True, False, False,\n",
       "       False, False, False, False, False, False, False, False, False,\n",
       "       False, False, False, False, False, False, False, False, False,\n",
       "       False, False, False, False, False, False, False, False, False,\n",
       "       False, False, False, False, False, False, False, False, False,\n",
       "       False, False, False, False,  True, False, False,  True, False,\n",
       "       False, False, False, False, False, False,  True, False, False,\n",
       "       False, False, False, False,  True, False, False, False, False,\n",
       "       False, False, False,  True, False, False, False, False,  True,\n",
       "       False,  True, False, False, False, False, False, False, False,\n",
       "       False, False, False, False, False, False, False, False, False,\n",
       "       False, False, False, False, False, False, False, False, False,\n",
       "       False, False, False, False, False, False, False, False, False,\n",
       "       False, False, False, False, False, False, False, False, False,\n",
       "       False, False, False, False, False, False, False, False, False,\n",
       "       False, False, False, False, False, False, False, False, False,\n",
       "       False, False, False, False, False, False, False, False, False,\n",
       "       False, False, False, False, False, False, False, False, False,\n",
       "       False, False, False, False, False, False, False, False, False,\n",
       "       False, False, False, False, False, False, False, False, False,\n",
       "       False, False, False, False, False, False, False, False, False,\n",
       "       False, False, False, False, False, False, False, False, False,\n",
       "       False, False, False, False, False, False, False, False, False,\n",
       "       False, False, False, False, False, False, False, False, False,\n",
       "       False, False, False, False,  True, False, False, False, False,\n",
       "       False, False, False, False, False,  True, False, False, False,\n",
       "       False, False, False, False, False, False, False, False, False,\n",
       "       False, False, False, False, False, False, False,  True, False,\n",
       "        True, False, False, False, False, False, False, False, False,\n",
       "       False,  True, False, False, False, False, False, False, False,\n",
       "       False, False, False, False, False, False, False, False, False,\n",
       "       False, False, False, False, False, False,  True, False, False,\n",
       "       False, False, False, False, False, False, False, False, False,\n",
       "       False, False, False, False, False, False, False, False, False,\n",
       "       False])"
      ]
     },
     "execution_count": 72,
     "metadata": {},
     "output_type": "execute_result"
    }
   ],
   "source": [
    "from sklearn.model_selection import cross_val_predict\n",
    "from sklearn.metrics import confusion_matrix\n",
    "\n",
    "y_train_pred = cross_val_predict(\n",
    "    sgd_cl,\n",
    "    X_train,\n",
    "    y_train_8,\n",
    "    cv=3\n",
    ")\n",
    "y_train_pred"
   ]
  },
  {
   "cell_type": "code",
   "execution_count": 73,
   "id": "231e78fe",
   "metadata": {},
   "outputs": [
    {
     "data": {
      "text/plain": [
       "(0.5961538461538461, 0.6326530612244898, 0.6138613861386137)"
      ]
     },
     "execution_count": 73,
     "metadata": {},
     "output_type": "execute_result"
    }
   ],
   "source": [
    "from sklearn.metrics import precision_score, recall_score, f1_score\n",
    "ps = precision_score(y_train_8, y_train_pred)\n",
    "rs = recall_score(y_train_8, y_train_pred)\n",
    "f1s = f1_score(y_train_8, y_train_pred)\n",
    "ps, rs, f1s"
   ]
  },
  {
   "cell_type": "code",
   "execution_count": 74,
   "id": "4639eed5",
   "metadata": {},
   "outputs": [
    {
     "data": {
      "text/plain": [
       "array([False, False, False, False, False, False,  True, False,  True,\n",
       "       False, False, False, False, False, False, False, False, False,\n",
       "       False, False, False, False, False, False, False, False, False,\n",
       "       False,  True, False, False, False, False, False, False, False,\n",
       "       False, False, False, False,  True, False, False, False, False,\n",
       "       False, False, False, False, False, False, False, False, False,\n",
       "       False, False, False, False,  True, False, False, False, False,\n",
       "       False, False, False,  True, False, False,  True, False, False,\n",
       "       False, False, False, False,  True, False, False, False, False,\n",
       "       False, False, False, False, False, False, False, False, False,\n",
       "       False, False, False, False, False, False, False, False, False,\n",
       "       False, False, False, False, False, False, False, False, False,\n",
       "       False, False, False, False, False, False,  True, False, False,\n",
       "       False, False, False, False, False, False, False, False, False,\n",
       "       False, False, False, False, False, False, False, False, False,\n",
       "       False, False, False,  True, False, False, False, False, False,\n",
       "       False, False, False, False,  True, False, False, False, False,\n",
       "       False, False, False, False, False, False, False, False, False,\n",
       "       False, False, False, False, False, False,  True, False,  True,\n",
       "       False, False, False, False, False, False, False, False, False,\n",
       "       False, False, False,  True, False, False, False, False, False,\n",
       "       False, False, False, False, False, False, False, False, False,\n",
       "        True, False, False, False, False, False, False, False, False,\n",
       "       False, False, False, False, False, False, False, False,  True,\n",
       "       False, False, False, False, False, False, False, False,  True,\n",
       "       False, False, False, False, False, False, False, False, False,\n",
       "       False, False, False, False,  True, False, False, False,  True,\n",
       "       False, False, False, False, False,  True,  True, False, False,\n",
       "       False, False,  True,  True, False, False, False, False, False,\n",
       "       False, False, False,  True, False, False,  True, False, False,\n",
       "       False, False, False, False,  True,  True, False, False, False,\n",
       "       False, False, False, False, False,  True, False, False, False,\n",
       "       False, False, False, False, False, False,  True, False,  True,\n",
       "       False, False, False, False, False, False, False, False, False,\n",
       "       False, False, False,  True, False, False,  True, False, False,\n",
       "       False, False, False, False, False, False, False, False, False,\n",
       "       False, False, False, False, False,  True, False, False,  True,\n",
       "       False, False, False, False,  True, False, False, False, False,\n",
       "       False, False, False, False, False, False,  True, False, False,\n",
       "       False,  True, False, False, False, False, False, False, False,\n",
       "       False,  True, False, False, False, False, False, False, False,\n",
       "       False,  True, False, False, False, False, False, False, False,\n",
       "       False,  True, False, False, False,  True,  True, False, False,\n",
       "       False, False, False, False, False, False, False,  True, False,\n",
       "       False, False, False, False, False, False, False, False,  True,\n",
       "       False, False, False, False, False, False, False, False, False,\n",
       "        True, False, False, False, False, False, False, False, False,\n",
       "       False,  True, False,  True, False, False, False, False, False,\n",
       "       False, False, False, False, False, False, False,  True, False,\n",
       "       False, False, False, False, False, False, False, False, False,\n",
       "       False, False, False, False, False, False, False, False, False,\n",
       "       False, False, False,  True, False, False, False, False, False,\n",
       "       False, False, False, False, False, False, False, False, False,\n",
       "       False, False, False, False, False,  True, False, False,  True,\n",
       "       False, False, False, False, False, False,  True, False, False,\n",
       "       False, False, False, False, False, False, False, False, False,\n",
       "       False, False, False,  True,  True,  True, False,  True, False,\n",
       "        True, False,  True, False, False, False, False, False, False,\n",
       "       False, False, False, False, False, False, False,  True, False,\n",
       "       False, False, False,  True,  True, False, False, False,  True,\n",
       "       False, False, False, False,  True, False, False,  True, False,\n",
       "       False,  True, False, False, False, False, False,  True, False,\n",
       "       False, False, False, False, False, False, False, False, False,\n",
       "       False, False,  True, False, False, False, False, False, False,\n",
       "       False, False, False, False, False,  True, False, False, False,\n",
       "        True, False, False,  True,  True, False, False, False, False,\n",
       "        True,  True, False, False,  True, False, False, False, False,\n",
       "       False,  True,  True, False,  True, False, False, False, False,\n",
       "        True, False, False, False, False,  True, False, False, False,\n",
       "        True, False, False, False, False, False, False, False, False,\n",
       "        True, False, False, False, False, False, False, False, False,\n",
       "       False, False,  True, False,  True, False, False, False, False,\n",
       "       False, False, False, False, False, False,  True, False, False,\n",
       "       False,  True, False, False,  True, False, False,  True, False,\n",
       "       False, False, False, False, False, False, False, False,  True,\n",
       "       False, False, False, False, False, False, False, False, False,\n",
       "        True, False,  True, False, False, False, False, False, False,\n",
       "       False, False, False, False, False, False,  True, False, False,\n",
       "       False, False, False, False, False, False, False, False, False,\n",
       "       False, False, False, False, False, False, False, False, False,\n",
       "       False, False, False, False, False, False, False, False, False,\n",
       "       False, False, False, False, False, False, False, False, False,\n",
       "       False, False, False, False,  True, False, False,  True, False,\n",
       "       False, False, False, False, False, False,  True, False, False,\n",
       "       False, False, False, False,  True, False, False, False, False,\n",
       "       False, False, False,  True, False, False, False, False,  True,\n",
       "       False,  True, False, False, False, False, False, False, False,\n",
       "       False, False, False, False, False, False, False, False, False,\n",
       "       False, False, False, False, False, False, False, False, False,\n",
       "       False, False, False, False, False, False, False, False, False,\n",
       "       False, False, False, False, False, False, False, False, False,\n",
       "       False, False, False, False, False, False, False, False, False,\n",
       "       False, False, False, False, False, False, False, False, False,\n",
       "       False, False, False, False, False, False, False, False, False,\n",
       "       False, False, False, False, False, False, False, False, False,\n",
       "       False, False, False, False, False, False, False, False, False,\n",
       "       False, False, False, False, False, False, False, False, False,\n",
       "       False, False, False, False, False, False, False, False, False,\n",
       "       False, False, False, False, False, False, False, False, False,\n",
       "       False, False, False, False, False, False, False, False, False,\n",
       "       False, False, False, False, False, False, False, False, False,\n",
       "       False, False, False, False,  True, False, False, False, False,\n",
       "       False, False, False, False, False,  True, False, False, False,\n",
       "       False, False, False, False, False, False, False, False, False,\n",
       "       False, False, False, False, False, False, False,  True, False,\n",
       "        True, False, False, False, False, False, False, False, False,\n",
       "       False,  True, False, False, False, False, False, False, False,\n",
       "       False, False, False, False, False, False, False, False, False,\n",
       "       False, False, False, False, False, False,  True, False, False,\n",
       "       False, False, False, False, False, False, False, False, False,\n",
       "       False, False, False, False, False, False, False, False, False,\n",
       "       False])"
      ]
     },
     "execution_count": 74,
     "metadata": {},
     "output_type": "execute_result"
    }
   ],
   "source": [
    "from sklearn.model_selection import cross_val_predict\n",
    "from sklearn.metrics import confusion_matrix\n",
    "\n",
    "y_train_pred = cross_val_predict(\n",
    "    sgd_cl,\n",
    "    X_train,\n",
    "    y_train_8,\n",
    "    cv=3\n",
    ")\n",
    "y_train_pred"
   ]
  },
  {
   "cell_type": "code",
   "execution_count": 75,
   "id": "d7199671",
   "metadata": {},
   "outputs": [
    {
     "name": "stdout",
     "output_type": "stream",
     "text": [
      "--- 0.0189969539642334 seconds ---\n"
     ]
    }
   ],
   "source": [
    "from sklearn.metrics import roc_curve\n",
    "\n",
    "import time\n",
    "start_time = time.time()\n",
    "\n",
    "y_scores_sgd = cross_val_predict(\n",
    "    sgd_cl, # our SGD classifier trained to fit a Logistic Regressor\n",
    "    X_train,\n",
    "    y_train_8,\n",
    "    cv=3,\n",
    "    method='decision_function'\n",
    ")\n",
    "\n",
    "fpr, tpr, thresholds = roc_curve(y_train_8, y_scores_sgd)\n",
    "\n",
    "print(\"--- %s seconds ---\" % (time.time() - start_time))\n"
   ]
  },
  {
   "cell_type": "code",
   "execution_count": 77,
   "id": "7420d1ad",
   "metadata": {},
   "outputs": [
    {
     "data": {
      "text/plain": [
       "array([[860,  42],\n",
       "       [ 36,  62]])"
      ]
     },
     "execution_count": 77,
     "metadata": {},
     "output_type": "execute_result"
    }
   ],
   "source": [
    "confusion_matrix(y_train_8, y_train_pred)"
   ]
  },
  {
   "cell_type": "code",
   "execution_count": 78,
   "id": "1870458a",
   "metadata": {
    "scrolled": true
   },
   "outputs": [
    {
     "data": {
      "image/png": "[encoded data removed]",
      "text/plain": [
       "<Figure size 1008x576 with 1 Axes>"
      ]
     },
     "metadata": {
      "needs_background": "light"
     },
     "output_type": "display_data"
    }
   ],
   "source": [
    "plt.figure(figsize=(14, 8))\n",
    "def plot_roc_curve(fpr, tpr, label=None):\n",
    "    plt.plot(fpr, tpr, linewidth=2, label=label)\n",
    "    plt.plot([0, 1], [0, 1], 'k--') \n",
    "    plt.axis([0, 1, 0, 1])\n",
    "    plt.xlabel('False Positive Rate (FPR)', fontsize=16)\n",
    "    plt.ylabel('True Positive Rate (TPR)', fontsize=16)\n",
    "    plt.grid(True)\n",
    "plot_roc_curve(fpr, tpr)\n",
    "plt.show()"
   ]
  },
  {
   "cell_type": "code",
   "execution_count": 79,
   "id": "be7c9f35",
   "metadata": {},
   "outputs": [
    {
     "data": {
      "text/plain": [
       "0.9083216435132812"
      ]
     },
     "execution_count": 79,
     "metadata": {},
     "output_type": "execute_result"
    }
   ],
   "source": [
    "from sklearn.metrics import roc_auc_score\n",
    "roc_auc_score(y_train_8, y_scores_sgd)"
   ]
  },
  {
   "cell_type": "markdown",
   "id": "c4d161aa",
   "metadata": {},
   "source": [
    "# 5.2. Seven (7) Nearest Neighbours\n"
   ]
  },
  {
   "cell_type": "code",
   "execution_count": 80,
   "id": "6531e9a3",
   "metadata": {},
   "outputs": [
    {
     "name": "stdout",
     "output_type": "stream",
     "text": [
      "--- 0.017618179321289062 seconds ---\n"
     ]
    }
   ],
   "source": [
    "from sklearn.neighbors import KNeighborsClassifier\n",
    "\n",
    "import time\n",
    "start_time = time.time()\n",
    "\n",
    "kn_cl = KNeighborsClassifier(n_neighbors=7)\n",
    "y_probs_kn = cross_val_predict(\n",
    "    kn_cl,\n",
    "    X_train,\n",
    "    y_train_8,\n",
    "    cv=3, \n",
    "    method='predict_proba'\n",
    ")\n",
    "print(\"--- %s seconds ---\" % (time.time() - start_time))"
   ]
  },
  {
   "cell_type": "code",
   "execution_count": 81,
   "id": "3e7ac12d",
   "metadata": {},
   "outputs": [
    {
     "name": "stdout",
     "output_type": "stream",
     "text": [
      "--- 0.30133914947509766 seconds ---\n"
     ]
    }
   ],
   "source": [
    "from sklearn.ensemble import RandomForestClassifier\n",
    "\n",
    "import time\n",
    "start_time = time.time()\n",
    "\n",
    "forest_cl = RandomForestClassifier(\n",
    "    n_estimators=100, # a \"forest\" of 100 decision trees\n",
    "    random_state=77\n",
    ")\n",
    "y_probs_forest = cross_val_predict(\n",
    "    forest_cl,\n",
    "    X_train,\n",
    "    y_train_8,\n",
    "    cv=3,\n",
    "    method=\"predict_proba\"\n",
    ")\n",
    "print(\"--- %s seconds ---\" % (time.time() - start_time))"
   ]
  },
  {
   "cell_type": "code",
   "execution_count": 82,
   "id": "8b702517",
   "metadata": {},
   "outputs": [],
   "source": [
    "# Nearest neighbours scores\n",
    "y_scores_kn = y_probs_kn[:, 1]    # score = proba of positive class\n",
    "fpr_kn, tpr_kn, thresholds_kn = roc_curve(y_train_8, y_scores_kn)\n",
    "# Random Forests scores\n",
    "y_scores_forest = y_probs_forest[:, 1] # score = proba of positive class\n",
    "fpr_forest, tpr_forest, thresholds_forest = roc_curve(y_train_8,y_scores_forest)"
   ]
  },
  {
   "cell_type": "code",
   "execution_count": 83,
   "id": "c7378293",
   "metadata": {},
   "outputs": [
    {
     "data": {
      "image/png": "[encoded data removed]",
      "text/plain": [
       "<Figure size 1008x576 with 1 Axes>"
      ]
     },
     "metadata": {
      "needs_background": "light"
     },
     "output_type": "display_data"
    }
   ],
   "source": [
    "plt.figure(figsize=(14, 8))\n",
    "plot_roc_curve(fpr, tpr, \"SGD (Logistic)\")\n",
    "plot_roc_curve(fpr_kn, tpr_kn, \"7-Nearest Neighbours\")\n",
    "plot_roc_curve(fpr_forest, tpr_forest, \"Random Forest\")\n",
    "plt.legend(loc=\"lower right\")\n",
    "plt.show()"
   ]
  },
  {
   "cell_type": "code",
   "execution_count": 88,
   "id": "72940b0e",
   "metadata": {
    "scrolled": true
   },
   "outputs": [
    {
     "name": "stdout",
     "output_type": "stream",
     "text": [
      "SGD:  0.9083216435132812\n",
      "7-KN:  0.944262183809222\n",
      "Random Forest:  0.9508292230417664\n"
     ]
    }
   ],
   "source": [
    "from sklearn.metrics import roc_auc_score\n",
    "\n",
    "print(\"SGD: \", roc_auc_score(y_train_8, y_scores_sgd))\n",
    "print(\"7-KN: \", roc_auc_score(y_train_8, y_scores_kn))\n",
    "print(\"Random Forest: \", roc_auc_score(y_train_8, y_scores_forest))\n",
    "\n"
   ]
  },
  {
   "cell_type": "markdown",
   "id": "41367a3c",
   "metadata": {},
   "source": [
    "As a general rule, prefer the Precision/Recall curve if the positive class is uncommon or if you worry more about the false positives rather than the false negatives. In the other scenarios, prefer the ROC curve."
   ]
  },
  {
   "cell_type": "markdown",
   "id": "4c62b2fd",
   "metadata": {},
   "source": [
    "# 5.3 a (non-linear / Logistic?) support vector machine"
   ]
  },
  {
   "cell_type": "code",
   "execution_count": 95,
   "id": "cfebd192",
   "metadata": {},
   "outputs": [
    {
     "name": "stdout",
     "output_type": "stream",
     "text": [
      "[-3856.98679943 -1465.50085501  -617.24290604 -2766.83936327\n",
      " -1800.3598534  -2293.84544312   111.11670113 -4538.96396717\n",
      "  1786.26772571  -587.43621108 -2964.00192864  -885.03617483\n",
      " -3161.67715995 -3092.44546648 -2709.42035703 -4035.55113608\n",
      " -2697.75691515 -2127.88073118 -1798.54798019 -4394.31530365\n",
      " -2305.8808195  -1609.3183668  -2791.78219306 -3430.82193308\n",
      "  -952.90852307 -2959.60355389 -1602.06325492 -3794.61556991\n",
      "  1365.11081466 -3943.80715482 -4202.15399644 -4019.88037935\n",
      " -5828.05468898 -3510.26740246  -437.26115407 -3065.09614829\n",
      " -2330.02313659 -3049.13760082 -2005.82880504 -2987.81858341\n",
      "   376.20364998 -2758.81296643 -1321.90471009 -3161.4073105\n",
      " -5696.91092893 -5435.71712579 -1228.60098586 -1541.41997428\n",
      " -4068.0103131  -3837.44455831  -590.92460002 -1864.42185692\n",
      " -5533.20785893 -1321.72743578 -1506.42488849 -3881.50646031\n",
      " -1668.35385194  -194.09894008   595.37399522 -1975.60513118\n",
      " -4853.75199687 -2936.59946431 -4989.0119443  -4060.31171455\n",
      " -5521.05753583  -864.11011873    37.23475422  -834.24409578\n",
      " -2072.34372499  1022.93099852 -2116.30102858 -4076.20527268\n",
      " -2407.54080652 -2738.00538235 -1042.87570197 -1617.12359657\n",
      "   354.72968111 -2325.47398532 -4673.74678858 -4705.20659677\n",
      "  -368.62425155 -3463.72719185  -732.88756066 -3491.2781831\n",
      " -1855.89751489 -1696.76895274 -2534.41183236 -2307.25238267\n",
      "   -22.71091045 -4111.15299975 -1400.65147841 -4956.96913733\n",
      " -2748.84547244 -2938.69368371 -2616.10583111  -797.04948255\n",
      " -2654.0394436  -2766.86994446 -5841.80238511 -2866.07833493\n",
      " -2746.53891264 -2446.58205024 -1632.21471655 -5284.93823224\n",
      "  -311.91724855 -3479.55468191  -341.92212565  -387.47843303\n",
      " -2039.7874557  -3538.85862322 -3724.89809803 -2871.31101213\n",
      " -2669.51150009 -2580.87669202  1741.82142815 -1176.34175121\n",
      "  -465.90254365 -3573.75039123 -3208.21302311 -3113.19482885\n",
      "  -886.8904127  -2785.76360066  -542.64647395  -815.28462433\n",
      " -3566.99551551  -517.21876387 -2034.58026468  -226.78195723\n",
      " -2514.22267828 -2334.85994895 -3430.57402324 -2616.52552711\n",
      " -2644.02621745 -5648.67833239 -4677.80044713 -3478.92387873\n",
      "  -251.32702773 -3315.13644301  1058.01893927  -856.9531319\n",
      " -3767.40117562 -1744.80543373 -1635.77154034 -5304.26397349\n",
      " -4043.43179924 -3730.11577147 -1975.15641327 -2877.71161306\n",
      "  2961.8241145  -1978.82247401 -2310.74759021 -1393.26678263\n",
      " -2698.59101909 -1746.1595101  -3555.3709442  -6356.35058913\n",
      "  -397.79663777 -4972.89200397  -690.34656775  -535.29577469\n",
      " -4503.04642275 -1824.04319913 -2878.21412204 -5352.17199024\n",
      " -1116.90975542 -3446.04210584 -2524.48158041 -1704.42977325\n",
      "   492.93441631 -1775.55712788   314.80279048 -1752.81538549\n",
      " -3197.09604204 -5637.52363505 -3212.0302188  -2587.99936098\n",
      " -2815.57617376 -2579.40497177 -4569.47452616 -3132.14854593\n",
      " -1502.7366067  -2544.12887717 -3231.9033827    904.72956785\n",
      "  -886.53293926 -3702.10218653  -307.65379991  -363.7556028\n",
      "  -502.26950519 -3928.38157965 -4473.93283937 -5776.96750393\n",
      " -3844.46431576 -3875.80704342 -1706.80472605  -585.04870422\n",
      "  -574.98491729 -1540.30401776   240.01006756  -745.35209709\n",
      "  -241.09359025 -3166.26873475 -4315.83496305 -2150.04246168\n",
      " -3870.10421051 -1613.6231089   -392.3890926  -2145.7344915\n",
      " -4240.88003699 -3825.3279888  -1307.01101    -2170.33902683\n",
      "  -866.5810175  -3397.34461648 -2352.54283039  1258.83850066\n",
      " -3755.79701713 -4527.73512515 -1352.83917017 -4196.98162596\n",
      " -1898.53524917 -2175.2443426  -3790.63804425  -707.99298581\n",
      "   807.24563041 -3324.70372792 -3650.77156708 -1155.00350191\n",
      " -3411.44618299 -4566.01757692 -3258.08838834 -3214.02146058\n",
      " -1563.23986781 -1439.36142698 -2515.92491282 -2440.67212808\n",
      " -4307.99186684 -3161.03731264   232.12368922 -2354.5544415\n",
      " -4336.24395965 -1504.31317616  1105.47413359 -1279.72425577\n",
      " -1043.29545388 -2302.44578336 -1958.51845255 -1935.50047004\n",
      "   666.91539496   639.43844198 -4939.86567342 -1928.7052515\n",
      " -3481.27470547  -592.29250064   774.23924829   655.75344899\n",
      " -5059.0916061  -1397.10370568 -1684.70039682 -3320.0869189\n",
      " -2361.86748787 -3283.37325587 -1935.19204902 -5977.93199254\n",
      "  2130.10152597  -213.05726539 -4496.48216888   919.2154961\n",
      " -2553.34634338 -2650.64093572 -4106.9811158  -3934.00608865\n",
      " -1807.00828687 -3861.9293546    633.98754455   247.72497453\n",
      " -3427.31429929  -318.20939312 -1894.23208698 -2745.0965088\n",
      " -3375.17443156 -3006.6278612  -1904.99375098 -4741.19498094\n",
      "   228.45217706 -1286.55337481 -4099.4090259  -3073.92649314\n",
      " -2925.10974059 -1285.26809358 -1535.3988122  -1931.19626084\n",
      " -6011.61853165  -191.18392505  1002.39239997 -2240.62150611\n",
      "  1684.99878384 -3909.91604261 -1045.64807244 -2937.10699342\n",
      " -3158.35923583 -2846.81444944 -3400.05780529 -1523.35933956\n",
      " -3892.57588501 -4484.43985773 -2393.81988342 -1635.58810406\n",
      " -2990.87490543  1297.15150722 -2653.15360528 -4608.73847879\n",
      "  1227.97231402 -3128.52839466 -1464.06522952 -3765.55484986\n",
      " -3170.66881477 -5383.61300215 -5142.70692666 -4654.20643171\n",
      " -4606.02812074 -2823.17172594 -1949.31166039 -2836.06354876\n",
      " -5074.31267972 -1348.19408902 -1025.27224404 -1806.01886809\n",
      " -3032.98496201   762.33096592 -3057.80078243 -3048.29094414\n",
      "  2120.40140511 -3412.6076524  -4174.17116825 -1990.80185996\n",
      " -1942.54399711   729.93837095 -4238.22117943 -3141.5513078\n",
      " -3022.46281389 -1970.34244029 -1829.69387105 -4066.15098526\n",
      " -3767.32424231 -2573.88180629 -2487.43016169 -1614.30535527\n",
      "  1009.84011999 -1936.55965077 -5876.72879596 -5516.23415649\n",
      "  4777.7443574  -7073.78228379 -3465.21962557 -3392.15403746\n",
      " -3723.47583584 -1665.27014256 -1104.99197639 -2977.02371351\n",
      " -3161.20747639   232.367521   -6505.06267865 -1444.68386226\n",
      " -5941.95767258 -2288.12030258 -7461.3597169  -4601.9957101\n",
      " -1707.66927816 -1642.71515085  4315.53473188 -8659.97185708\n",
      " -5316.1858902  -2491.8869549  -1583.43379733  -907.67565016\n",
      " -2341.50211991 -6451.22188297  -783.51637497  4027.47323828\n",
      " -3939.89920056  -863.67020456 -2869.65197973  4034.95557872\n",
      "  1228.05413053  -411.04147352 -3177.62965869 -3411.18471219\n",
      " -5853.97598387 -1561.44836469 -4419.77181917 -3571.12742964\n",
      " -3737.52402567 -3033.09187175  3257.56882977 -1533.93815084\n",
      " -2819.79751641  -423.66901316 -6017.89249996 -3957.9348329\n",
      " -4080.39800861 -1730.63966062 -2582.27029446 -3635.85025991\n",
      "  4092.34619492 -2667.06721702 -4000.00799566 -3404.213318\n",
      " -4948.1692786  -5543.95173126 -4040.5323571  -1707.56535063\n",
      " -4315.00824114 -4273.01173275  1860.0514077  -3243.36550819\n",
      " -2207.64254941  -742.58546284 -2031.5590223  -1836.35799582\n",
      " -3260.05190965 -1934.50924255 -2683.6341525  -3438.13142084\n",
      "  4064.57720567 -2674.69222174  3769.70663847 -2023.92291921\n",
      " -1981.53815107 -4739.71966808 -1509.98606254 -1935.31969058\n",
      " -3985.22144964 -1376.62465216 -3318.11831854 -3607.24738646\n",
      " -5864.12024467 -8278.73133981 -4109.50918028   396.26843017\n",
      " -7957.97313609 -1788.17804007 -3165.04245061 -4200.05423881\n",
      " -3335.50654965 -1024.75237283 -1947.86752529 -5377.53041803\n",
      "  -152.43732151 -3002.55057995 -3109.02281425 -4999.98750723\n",
      " -2053.67540118 -5934.43409675 -3962.83393875 -2586.12056305\n",
      " -2769.28859553 -3651.7920549  -2614.01421629 -2921.24640231\n",
      " -1731.34346031 -7025.66213191  6643.28033464 -5122.95332605\n",
      " -3182.82868392 -5436.88033598 -1866.26919095 -6942.2091017\n",
      " -2997.19114584 -3138.89824059 -2168.67319351 -3084.00980742\n",
      " -3398.16522955 -2014.43073768 -6429.5656196  -2923.79894834\n",
      " -3448.77920029 -3523.59224713 -3141.55459586 -1282.21519639\n",
      "  -265.24801736 -4970.25523507  2176.35374026 -3629.44528233\n",
      " -5352.82876599    87.89274685 -5175.04238437 -4740.30528514\n",
      " -5290.62137202 -4326.80480008 -3181.86779011 -3372.76786544\n",
      "  1127.78647271 -2133.39055736 -6630.42405169  -528.39859583\n",
      " -2603.76927132 -3234.59156913 -2323.29818098 -5652.32184246\n",
      " -1779.6394719  -6235.65814803 -2809.96895984 -2540.94128842\n",
      "  -962.40792029 -1085.83789607 -2212.32943944   179.05233629\n",
      "  3981.56022208  3656.43224086 -3941.0712549    196.71267098\n",
      " -1341.65346048  2231.93887741 -1024.36424612  4271.03610766\n",
      " -1406.97455871 -3947.11706684 -4829.65059535 -2052.04029361\n",
      " -4560.14600105 -3343.39136444 -1515.70719945 -2609.95881242\n",
      " -2206.09458961  -147.75354779 -3014.10647284 -3067.89447308\n",
      " -4476.7823613    134.71176866 -3731.6473561  -3982.84679397\n",
      " -2379.32617909 -2791.50894971   337.06399568   145.91722809\n",
      "  -985.17994812 -2233.00079405 -4070.94381508  2292.6306307\n",
      " -3261.54559048 -3133.29225443 -3211.49373028 -5644.5351777\n",
      "  2909.09516015 -3053.01478174 -1601.19795287  1389.70095895\n",
      " -5223.21634984 -4129.36265417  1204.12725878 -2612.14051781\n",
      "  -664.17037197   -78.46298989  -689.4260099  -2475.6515592\n",
      "  1194.24119762 -4152.33778635 -2413.7498572  -4921.00731305\n",
      " -4673.18501243 -4288.15688485 -3235.5226912  -3578.94370139\n",
      " -1253.62217674 -4769.5215595  -3840.54511099 -5899.83919767\n",
      " -4112.82545556   484.73339191 -6177.67998167 -1690.75442148\n",
      " -3979.73783373 -4960.59956747 -3072.48018654 -5188.02942161\n",
      " -1770.04748413 -3489.99663889   -76.24913292 -1797.21553642\n",
      " -5003.7321012    959.98718242 -1524.59420036 -1062.1808949\n",
      " -5550.29348436   146.60275149 -4402.9821918  -1827.98338821\n",
      "   467.50363311  1005.1463623  -3913.4136998  -6638.2954626\n",
      "  -397.95790657 -5018.77400561   651.17142666   519.16006617\n",
      " -3131.15736238 -5821.70705092  1012.57758464 -2849.59108302\n",
      " -1006.15940228 -5064.21601242 -5700.28326408 -1865.02222303\n",
      "   372.87306371  2514.10653863 -2383.1260353    803.31995926\n",
      "  -856.64996393 -3655.17901885 -7812.16816814 -3073.42353651\n",
      "   563.71979341 -4671.96757196 -3613.44250967 -3471.72001199\n",
      " -3619.06911514  1101.44928276 -2120.13865663 -2179.52718928\n",
      "  -513.90309734   289.07460245 -1846.20289705 -5344.26860768\n",
      " -3888.91809076 -3100.5612281  -3660.21894295 -4231.53422347\n",
      " -7755.56831981 -6517.79383425  1298.63106622 -6979.07416881\n",
      " -4952.64913559 -5436.83870126 -2515.72568073  -857.9209473\n",
      " -4182.68296942 -1954.30562284 -2264.85039629 -1038.79072262\n",
      " -4319.75224715   187.04483337 -1887.23457659   560.62614326\n",
      " -3943.55552055  -747.91980677 -5765.25642711  -651.3250545\n",
      " -2778.47182316 -2986.91647287 -5202.34988376 -4683.27358684\n",
      " -3756.90247785 -6158.92540303  5792.01289658 -1827.06875338\n",
      " -1874.6454415  -2064.37450684   510.90603485 -5384.46420518\n",
      " -7087.53685673    73.46201017 -6043.8224255  -4532.93093992\n",
      "  1034.1438677  -2348.83283095 -2337.8435195  -3735.58475625\n",
      " -2418.32214501 -2678.26541216 -4277.10040748 -5012.11292447\n",
      " -2035.45914871 -3249.25230554  1372.65370472 -1931.93504947\n",
      " -3020.97302297 -1404.27693736 -6903.99076333 -5905.23130555\n",
      " -4971.57189244 -4910.44598178 -6062.0655777  -2451.9683045\n",
      "   596.72409904 -1543.59864354  1930.87276802 -5227.28982073\n",
      " -1128.79919907 -2670.91562287 -1451.25210784 -2383.06105357\n",
      " -3642.52495237  -904.76258142 -4791.648012   -4420.85868715\n",
      " -2270.03270264 -1851.81602598 -2388.45231397  1773.06045988\n",
      " -1632.90692144 -5854.54085725 -2743.96779897 -2235.98239739\n",
      " -4307.80942015 -5450.79288604 -4731.22924966 -2266.72123028\n",
      " -4085.84314231 -3641.08987162 -4351.25521391 -3439.10477954\n",
      " -2218.60404751 -2613.41950221 -5648.75616719  -451.6217621\n",
      " -1341.94668121 -5747.09449293 -3867.85287057  -844.43645247\n",
      " -4900.69779942 -2839.35120233  -703.45969684  -173.97058396\n",
      " -4807.78581612 -3264.94094411 -2176.90540824 -1038.80379288\n",
      " -2867.02267323 -5394.64329132 -2988.50082418 -1709.88442048\n",
      " -2529.45679337 -5552.84899088 -3198.83307551 -4457.25708426\n",
      " -2902.25641908 -2749.87640958 -1184.96860896 -1840.79900644\n",
      " -1009.48712626 -2934.92449509   824.077799   -4324.16488509\n",
      " -2073.43924212    41.04027394 -3708.29831765 -2662.63401673\n",
      " -5046.15725607 -3400.23269645 -4053.4252174   -686.71505116\n",
      " -2975.16271887   100.41949092 -1866.84307785 -3704.3671\n",
      " -6331.22680702  -301.69121557 -3137.06241929  -322.96631715\n",
      "  1072.1912629   -299.77864616 -1734.95181137 -4997.22693742\n",
      " -3063.02590713 -1502.48437186 -7014.8319667  -4239.97004126\n",
      "   337.84595867  -421.99920666 -1895.8240118  -1830.46246151\n",
      " -4002.47645114  2132.96621268 -1125.43055135  2278.9154941\n",
      " -2661.66556761 -2177.29422436 -4073.24993325 -4172.12661037\n",
      " -4067.42027521 -4658.83199398 -3135.22682139 -3060.77723577\n",
      " -1536.35150248 -3574.06715048 -5597.52239199 -4464.08988085\n",
      " -3879.24115637 -2332.53958952 -5258.91434353 -2775.00507324\n",
      " -2527.85174647 -4586.57365981 -2871.58674997 -1806.00128121\n",
      " -3576.10702634 -2124.07866116 -2972.19801284 -3089.60669078\n",
      " -6043.03705394 -3269.00914631 -3075.28088693 -5888.11061101\n",
      " -1819.16666813 -3447.19716569 -2692.42214733 -2233.28669574\n",
      " -3054.75709729 -4396.55234446 -3209.08941125 -3454.45482926\n",
      " -2749.60414534 -3103.52679056 -2691.44708434 -1009.73019668\n",
      " -1880.00940508 -5213.2226843  -2965.2201445  -5343.31265692\n",
      " -3851.77909378  -346.69204281 -3185.70686846 -2036.33289561\n",
      " -4280.39512779 -3444.74242012 -4176.32009606 -2707.4230444\n",
      " -4900.17558824 -2113.3575608  -2378.58545504 -4384.94289627\n",
      " -3569.20566309 -3736.91072996 -2300.80527327 -1410.53321894\n",
      " -2852.50140351 -5557.66355836 -2711.9442326  -2270.30142321\n",
      " -5793.9680356  -2711.08381131 -2381.31056007 -3228.45267822\n",
      " -5057.20868932 -3148.47143409 -2022.78838762 -2229.2362781\n",
      " -3647.95869972 -2391.93909428 -3570.43205347 -3760.69661723\n",
      " -2337.29161339 -2679.23772468 -3838.35264409 -3045.99727416\n",
      " -3819.25426308 -3099.58169308 -3433.86907    -2634.13750458\n",
      " -4824.2690002   -591.89777649 -4691.93111884 -6684.36829199\n",
      " -3278.06306993 -3010.53414057 -2535.49312412 -3847.89746667\n",
      " -1890.48832162 -2763.19213354 -5485.64583932 -2190.59719507\n",
      " -3201.86117137 -6075.28632099 -1460.61401596 -2215.16921509\n",
      " -4851.44695078 -3628.34765166 -4038.34864799 -1142.66169758\n",
      " -3115.10005016 -2740.8524738  -3212.73966331  -519.53036881\n",
      " -5598.07681118 -4840.15427429 -4758.13861924 -3833.60844572\n",
      " -4175.39998675 -2360.7763537  -3060.6798713  -4221.02865725\n",
      "  -233.27117037 -5771.19515657 -4716.0971846  -2766.48958394\n",
      " -3671.05653446 -6107.71008095 -3763.34171707 -1765.09450022\n",
      " -6748.62705237  -256.78230719 -2993.8014323  -2639.7071726\n",
      " -3638.9622164  -1992.45295061 -3978.00964815 -4434.47895307\n",
      " -2853.2486131  -3927.66325878 -4543.05254045 -3234.36317885\n",
      " -3662.58838241  1655.59466741 -3054.46150363 -2994.9249257\n",
      " -3781.84373169 -2852.82768308 -3645.24142892 -5429.83232467\n",
      " -4549.37839055 -3372.84662545 -4151.32083445   786.90706043\n",
      " -2062.33455432 -2588.14163722 -4947.51592791 -6160.00027029\n",
      " -5830.48034954 -5136.29103475 -4051.31289307 -2104.4696719\n",
      " -4997.09173036  -341.83971543 -3889.94623303 -1996.09762444\n",
      " -2030.01208167 -5280.97045923 -4603.36043115 -3618.12576215\n",
      " -5271.61065548 -2601.21028163 -1824.13799462  2570.11943415\n",
      " -2615.86226759  1620.98811744 -3480.15902559 -5560.61150501\n",
      " -5075.91614825 -2754.88494082 -5859.20289139 -7366.72556624\n",
      " -3859.2252681  -7979.33387983 -4806.00213361   772.68379967\n",
      " -8761.552399   -3067.94915673 -3984.15158994 -8050.34579877\n",
      " -3323.62776897 -3451.49974739 -2915.06334609 -3843.91763683\n",
      " -2114.55368533 -4111.74774239 -2668.81332164 -3320.24900771\n",
      " -4443.65408383 -1931.26004532 -2648.43408604 -3360.16366604\n",
      " -4734.69936884 -4799.29104937 -2393.46668151 -3219.52154601\n",
      " -4841.28257207 -8384.90629338  1705.84315104 -7626.05455652\n",
      " -3523.42858984 -3096.75036426 -5232.64225635 -3791.03365747\n",
      " -3032.9025332  -4246.78479954 -6691.25636044 -4472.97007138\n",
      " -7404.13784555 -3431.19129504 -1498.51841734 -4876.92994745\n",
      " -3939.94199671 -1571.57149628 -4428.7742068  -3864.93297963\n",
      " -4076.43626822  -786.83765903 -4322.50868121 -2756.78410785]\n"
     ]
    }
   ],
   "source": [
    "from sklearn.metrics import roc_curve\n",
    "\n",
    "import time\n",
    "start_time = time.time()\n",
    "\n",
    "y_scores_sgd = cross_val_predict(\n",
    "    sgd_cl, # our SGD classifier trained to fit a Logistic Regressor\n",
    "    X_train,\n",
    "    y_train_8,\n",
    "    cv=3,\n",
    "    method='decision_function'\n",
    ")\n",
    "\n",
    "#print(y_scores_sgd)\n",
    "\n",
    "fpr, tpr, thresholds = roc_curve(y_train_8, y_scores_sgd)\n",
    "\n",
    "#print(\"--- %s seconds ---\" % (time.time() - start_time))"
   ]
  },
  {
   "cell_type": "code",
   "execution_count": 90,
   "id": "957570b9",
   "metadata": {},
   "outputs": [
    {
     "data": {
      "image/png": "[encoded data removed]",
      "text/plain": [
       "<Figure size 1008x576 with 1 Axes>"
      ]
     },
     "metadata": {
      "needs_background": "light"
     },
     "output_type": "display_data"
    }
   ],
   "source": [
    "plt.figure(figsize=(14, 8))\n",
    "def plot_roc_curve(fpr, tpr, label=None):\n",
    "    plt.plot(fpr, tpr, linewidth=2, label=label)\n",
    "    plt.plot([0, 1], [0, 1], 'k--') \n",
    "    plt.axis([0, 1, 0, 1])\n",
    "    plt.xlabel('False Positive Rate (FPR)', fontsize=16)\n",
    "    plt.ylabel('True Positive Rate (TPR)', fontsize=16)\n",
    "    plt.grid(True)\n",
    "plot_roc_curve(fpr, tpr)\n",
    "plt.show()"
   ]
  },
  {
   "cell_type": "code",
   "execution_count": 102,
   "id": "39347102",
   "metadata": {},
   "outputs": [],
   "source": [
    "from sklearn.svm import SVC\n",
    "svm_cl = SVC(gamma='auto')\n",
    "#start = time()\n",
    "#svm_cl.fit(X_train[:1000], y_train[:1000])\n",
    "#print('Duration: {} s'.format(time() - start))\n",
    "#svm_cl.predict(X_train[:10])\n",
    "\n",
    "\n",
    "import time\n",
    "start_time = time.time()\n",
    "\n",
    "from sklearn.model_selection import cross_val_score\n",
    "start = time.time()\n",
    "\n",
    "y_scores_log_svm = cross_val_predict(\n",
    "    svm_cl, # model we want to train\n",
    "    X_train[:10000], # features\n",
    "    y_train_8[:10000], # labels\n",
    "    cv = 3, \n",
    "    method='decision_function'\n",
    ")\n",
    "y_scores_log_svm\n",
    "\n",
    "fpr_svm, tpr_svm, thresholds = roc_curve(y_train_8, y_scores_log_svm)\n",
    "\n",
    "#print(\"--- %s seconds ---\" % (time.time() - start_time))"
   ]
  },
  {
   "cell_type": "code",
   "execution_count": 103,
   "id": "75241312",
   "metadata": {
    "scrolled": false
   },
   "outputs": [
    {
     "data": {
      "image/png": "[encoded data removed]",
      "text/plain": [
       "<Figure size 1008x576 with 1 Axes>"
      ]
     },
     "metadata": {
      "needs_background": "light"
     },
     "output_type": "display_data"
    }
   ],
   "source": [
    "plt.figure(figsize=(14, 8))\n",
    "def plot_roc_curve(fpr, tpr, label=None):\n",
    "    plt.plot(fpr, tpr, linewidth=2, label=label)\n",
    "    plt.plot([0, 1], [0, 1], 'k--') \n",
    "    plt.axis([0, 1, 0, 1])\n",
    "    plt.xlabel('False Positive Rate (FPR)', fontsize=16)\n",
    "    plt.ylabel('True Positive Rate (TPR)', fontsize=16)\n",
    "    plt.grid(True)\n",
    "plot_roc_curve(fpr, tpr)\n",
    "plt.show()"
   ]
  },
  {
   "cell_type": "code",
   "execution_count": 104,
   "id": "944c3d74",
   "metadata": {
    "scrolled": false
   },
   "outputs": [
    {
     "data": {
      "image/png": "[encoded data removed]",
      "text/plain": [
       "<Figure size 1008x576 with 1 Axes>"
      ]
     },
     "metadata": {
      "needs_background": "light"
     },
     "output_type": "display_data"
    }
   ],
   "source": [
    "plt.figure(figsize=(14, 8))\n",
    "plot_roc_curve(fpr, tpr, \"SGD (Logistic)\")\n",
    "plot_roc_curve(fpr_kn, tpr_kn, \"7-Nearest Neighbours\")\n",
    "plot_roc_curve(fpr_forest, tpr_forest, \"Random Forest\")\n",
    "plot_roc_curve(fpr_svm, tpr_svm, \"SGC (SVM)\")\n",
    "plt.legend(loc=\"lower right\")\n",
    "plt.show()"
   ]
  },
  {
   "cell_type": "code",
   "execution_count": 105,
   "id": "61954eb4",
   "metadata": {},
   "outputs": [
    {
     "name": "stdout",
     "output_type": "stream",
     "text": [
      "SGD:  0.9083216435132812\n",
      "7-KN:  0.944262183809222\n",
      "Random Forest:  0.9508292230417664\n",
      "SGC (SVM):  0.8704805647314358\n"
     ]
    }
   ],
   "source": [
    "from sklearn.metrics import roc_auc_score\n",
    "\n",
    "print(\"SGD: \", roc_auc_score(y_train_8, y_scores_sgd))\n",
    "print(\"7-KN: \", roc_auc_score(y_train_8, y_scores_kn))\n",
    "print(\"Random Forest: \", roc_auc_score(y_train_8, y_scores_forest))\n",
    "print(\"SGC (SVM): \", roc_auc_score(y_train_8, y_scores_log_svm))\n"
   ]
  },
  {
   "cell_type": "code",
   "execution_count": null,
   "id": "2045f1bf",
   "metadata": {},
   "outputs": [],
   "source": []
  }
 ],
 "metadata": {
  "kernelspec": {
   "display_name": "Python 3 (ipykernel)",
   "language": "python",
   "name": "python3"
  },
  "language_info": {
   "codemirror_mode": {
    "name": "ipython",
    "version": 3
   },
   "file_extension": ".py",
   "mimetype": "text/x-python",
   "name": "python",
   "nbconvert_exporter": "python",
   "pygments_lexer": "ipython3",
   "version": "3.9.12"
  }
 },
 "nbformat": 4,
 "nbformat_minor": 5
}
