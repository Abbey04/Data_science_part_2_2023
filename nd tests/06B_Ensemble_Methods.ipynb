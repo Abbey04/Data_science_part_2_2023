{
 "cells": [
  {
   "cell_type": "markdown",
   "id": "a7d0b314",
   "metadata": {},
   "source": [
    "# Ensemble Methods and Random Forests\n",
    "\n",
    "The idea behind ensemble methods is to combine the predictions of multiple models to get a better prediction.\n",
    "\n",
    "There are two approaches to build ensemble methods:\n",
    "* **averaging**: build several estimators independently (often training them only on a subset of samples and/or features) and then average their predictions (or use a majority-vote approach)\n",
    "    * Bagging methods\n",
    "    * Random forests\n",
    "* **boosting**: combine many weak predictors to get a strong predictor. Train the models sequentially: the successor model will try to correct the wrong predictions of its predecessor.\n",
    "    * AdaBoost\n",
    "    * Gradient Boosting\n",
    "    * XGBoost"
   ]
  },
  {
   "cell_type": "markdown",
   "id": "49afda26",
   "metadata": {},
   "source": [
    "## Setup"
   ]
  },
  {
   "cell_type": "code",
   "execution_count": 1,
   "id": "0eb6ea15",
   "metadata": {},
   "outputs": [],
   "source": [
    "# Python ≥3.8 is required\n",
    "import sys\n",
    "assert sys.version_info >= (3, 8)\n",
    "\n",
    "# Scikit-Learn ≥ 1.0 is required\n",
    "import sklearn\n",
    "assert sklearn.__version__ >= \"1.0\"\n",
    "\n",
    "# Common imports\n",
    "import numpy as np\n",
    "import pandas as pd\n",
    "import os\n",
    "\n",
    "# To plot pretty figures\n",
    "%matplotlib inline\n",
    "import matplotlib as mpl\n",
    "import matplotlib.pyplot as plt\n",
    "mpl.rc('axes', labelsize=14)\n",
    "mpl.rc('xtick', labelsize=12)\n",
    "mpl.rc('ytick', labelsize=12)\n",
    "\n",
    "# Precision options\n",
    "np.set_printoptions(precision=2)\n",
    "pd.options.display.float_format = '{:.3f}'.format"
   ]
  },
  {
   "cell_type": "markdown",
   "id": "f264e428",
   "metadata": {},
   "source": [
    "### Bagging \n",
    "\n",
    "A Bagging classifier is an ensemble meta-estimator that fits base classifiers each on random subsets of the original dataset and then aggregate their individual predictions (either by voting or by averaging) to form a final prediction. Such a meta-estimator can typically be used as a way to reduce the variance of a black-box estimator (e.g., a decision tree), by introducing randomization into its construction procedure and then making an ensemble out of it.\n",
    "\n",
    "We'll train and test a bagging ensemble model based on 100 decision trees, using an artificially contructed dataset generated with the `sklearn.dataset.make_moons()` function.\n",
    "\n",
    "This will generate a non-linearly separable binary 2D dataset (the two classes are marked 0 and 1). We will also add some gaussian noise to the distribution."
   ]
  },
  {
   "cell_type": "code",
   "execution_count": 2,
   "id": "d9a6444d",
   "metadata": {},
   "outputs": [],
   "source": [
    "from sklearn.datasets import make_moons\n",
    "X, y = make_moons(\n",
    "    n_samples=500,\n",
    "    noise=0.2 # standard deviation of Gaussian noise added to the data.\n",
    ")"
   ]
  },
  {
   "cell_type": "code",
   "execution_count": 3,
   "id": "d2d594ff",
   "metadata": {
    "scrolled": true
   },
   "outputs": [
    {
     "data": {
      "text/plain": [
       "array([ 1.37e-01,  1.69e+00, -5.81e-01, -5.86e-01,  8.45e-02, -8.22e-01,\n",
       "        9.26e-02, -6.14e-01,  7.87e-01,  6.91e-01, -1.21e+00, -2.30e-01,\n",
       "        4.58e-01,  5.34e-01, -8.00e-02, -9.24e-01, -7.67e-03, -5.61e-01,\n",
       "       -3.92e-01,  7.08e-01, -1.41e+00,  8.13e-01,  9.91e-01,  5.12e-01,\n",
       "       -1.10e+00, -2.40e-01, -8.26e-01,  1.48e+00,  1.78e+00,  8.18e-01,\n",
       "        7.48e-01, -5.41e-02,  1.42e+00,  8.27e-01,  3.90e-01, -6.95e-02,\n",
       "       -2.41e-01,  1.00e+00,  2.11e+00, -1.39e-01,  9.86e-01,  1.04e+00,\n",
       "        1.07e+00,  5.55e-01,  9.94e-01,  2.60e-01,  1.52e+00,  1.46e+00,\n",
       "        1.75e-01, -1.04e+00,  3.67e-01,  2.76e-03,  9.25e-01,  1.58e-01,\n",
       "        7.00e-01,  8.32e-01,  2.25e+00, -5.99e-01,  5.00e-01,  6.94e-01,\n",
       "        7.63e-02,  6.20e-01,  1.33e+00,  1.72e+00, -1.53e-01,  3.03e-01,\n",
       "       -8.40e-01,  5.48e-01,  7.13e-01, -9.74e-01,  3.08e-01,  1.35e+00,\n",
       "        7.34e-01, -1.06e+00, -6.47e-01,  3.40e-01,  1.87e+00,  5.49e-01,\n",
       "        4.39e-01,  2.08e+00,  1.85e+00,  7.76e-01,  6.43e-02,  1.09e+00,\n",
       "       -2.95e-01,  4.72e-03,  5.21e-01,  1.70e+00,  2.17e-01,  9.61e-01,\n",
       "        1.92e+00,  1.87e+00,  2.68e-01,  1.01e+00, -3.19e-01,  7.22e-01,\n",
       "       -6.16e-01,  1.52e+00,  2.40e-02,  8.27e-01,  1.84e+00,  7.39e-01,\n",
       "        5.54e-01,  2.39e-02,  9.91e-01,  1.06e-01,  2.13e+00,  6.88e-01,\n",
       "        7.87e-02,  8.98e-01, -8.46e-01,  1.87e+00, -6.01e-01, -9.23e-02,\n",
       "       -2.92e-01,  9.02e-01, -6.77e-02,  4.25e-01,  3.20e-01, -2.58e-01,\n",
       "       -7.15e-01, -2.16e-01,  1.29e+00,  4.83e-02,  6.02e-01,  1.50e+00,\n",
       "        1.94e+00,  8.56e-02,  1.02e+00,  6.46e-01, -6.40e-02, -7.44e-02,\n",
       "       -5.23e-01, -6.55e-01,  9.03e-01,  2.65e-01, -1.02e+00,  2.07e+00,\n",
       "       -9.72e-01,  8.35e-03,  5.12e-02,  1.91e+00,  9.76e-01, -9.70e-01,\n",
       "        1.91e+00,  1.60e+00,  1.73e+00,  1.43e+00,  7.76e-01,  5.24e-01,\n",
       "       -9.34e-01, -8.95e-01,  3.92e-02, -2.01e-01, -1.68e-01,  8.14e-01,\n",
       "        1.12e+00,  1.83e+00,  6.46e-01, -1.07e+00,  6.74e-01,  5.04e-01,\n",
       "        2.78e-01,  8.70e-01,  1.24e-01,  8.08e-01,  2.76e-01,  6.94e-01,\n",
       "        1.98e+00,  1.66e+00,  5.97e-01, -9.75e-01,  1.02e+00,  1.53e+00,\n",
       "        3.07e-01,  1.89e+00, -1.92e-01,  6.98e-01, -4.91e-01,  2.66e-01,\n",
       "        6.36e-01,  1.40e+00, -4.62e-01,  2.38e-01, -1.13e+00,  1.16e+00,\n",
       "        3.40e-01,  1.87e+00,  8.60e-01,  9.08e-01, -5.28e-01,  3.42e-01,\n",
       "        1.04e+00, -7.10e-01, -1.32e+00,  5.70e-01,  6.67e-01,  1.30e+00,\n",
       "        1.87e+00,  1.65e+00, -9.95e-01,  8.09e-01,  1.81e-01,  4.04e-01,\n",
       "        8.74e-01,  1.70e+00, -4.64e-01,  9.07e-01,  4.66e-01,  1.23e+00,\n",
       "        1.02e+00,  1.15e+00,  1.18e+00,  1.89e+00, -5.69e-01,  1.19e-01,\n",
       "       -1.99e-01, -5.97e-01,  2.24e-01,  9.92e-01,  1.34e+00, -8.02e-01,\n",
       "       -9.13e-01,  3.33e-01,  1.78e+00,  1.66e+00, -4.34e-02,  1.92e+00,\n",
       "        4.59e-01, -7.41e-01,  4.77e-01,  1.65e+00,  1.94e+00,  5.34e-01,\n",
       "        5.10e-01,  6.19e-01, -1.09e+00,  2.37e-01, -9.99e-02,  4.92e-01,\n",
       "        4.39e-01,  1.09e+00, -1.03e+00,  5.84e-01, -9.89e-02,  1.20e+00,\n",
       "        8.34e-01, -1.94e-02,  7.96e-01,  1.61e+00,  1.22e+00,  1.23e+00,\n",
       "        1.54e+00,  1.66e+00, -8.22e-01, -1.06e+00,  1.07e+00, -5.01e-02,\n",
       "        2.25e-01,  1.56e-01, -6.46e-01,  7.05e-01,  1.42e-01, -8.16e-01,\n",
       "        2.05e-01, -7.95e-01,  1.26e+00,  7.48e-01, -9.56e-01,  6.12e-01,\n",
       "        2.11e+00,  1.94e+00,  1.67e+00,  8.13e-01,  2.66e-01,  2.26e+00,\n",
       "        1.69e-01, -4.91e-01,  2.03e+00,  2.45e-01,  8.91e-01, -9.25e-01,\n",
       "       -7.84e-01,  6.75e-01,  1.93e+00,  1.12e-01, -3.10e-01,  7.52e-01,\n",
       "        3.40e-01, -7.50e-01,  1.60e+00, -7.20e-01, -6.35e-01,  6.14e-01,\n",
       "        4.82e-03,  1.66e-01,  8.76e-01,  2.20e+00,  1.07e+00,  1.76e+00,\n",
       "        3.25e-01,  8.58e-01,  1.59e+00, -1.72e-01,  8.97e-01,  2.12e+00,\n",
       "        1.68e+00,  2.18e+00,  1.77e+00,  3.67e-01,  6.43e-01,  7.69e-01,\n",
       "        1.67e+00,  1.31e+00,  6.48e-01,  1.35e-01,  7.09e-01, -9.16e-01,\n",
       "       -7.06e-01, -1.50e-01,  1.02e-01, -3.84e-02,  1.69e-01,  1.05e+00,\n",
       "        1.28e+00, -8.53e-01,  1.02e+00, -9.32e-01,  2.57e-02,  7.48e-01,\n",
       "        8.69e-01, -3.35e-02,  1.59e+00,  1.53e+00,  6.42e-01,  1.29e+00,\n",
       "        1.95e+00,  2.40e-01,  4.23e-01,  1.09e+00, -1.33e-01, -9.65e-01,\n",
       "        6.10e-02,  5.77e-01,  3.79e-02,  7.80e-01, -2.06e-01,  2.18e+00,\n",
       "        6.43e-01,  1.13e+00,  7.14e-01, -5.17e-01,  8.52e-01, -1.97e-01,\n",
       "       -1.15e+00,  5.03e-01,  2.38e+00, -1.91e-01,  2.99e-01, -5.46e-01,\n",
       "       -9.03e-01, -1.02e+00,  4.07e-01,  2.89e-01,  1.37e+00, -1.27e-01,\n",
       "        1.17e+00,  1.02e+00,  8.26e-01,  8.19e-01,  3.68e-01, -6.64e-01,\n",
       "        1.46e+00,  6.08e-01,  1.80e+00,  1.97e+00, -1.12e+00,  1.89e+00,\n",
       "        1.06e+00, -5.36e-01,  8.25e-01,  8.66e-01,  1.92e+00, -3.87e-01,\n",
       "        7.20e-01,  1.22e+00,  6.18e-01, -1.07e+00,  4.05e-01,  1.76e-01,\n",
       "       -4.08e-01, -2.61e-01,  1.85e+00,  2.22e+00,  1.79e+00,  3.90e-01,\n",
       "        9.66e-03, -2.30e-01,  9.77e-01,  1.41e+00,  1.09e+00,  1.63e+00,\n",
       "        1.51e+00,  7.81e-01,  7.47e-01,  4.87e-01, -5.60e-01,  2.35e-01,\n",
       "        1.76e+00,  1.40e+00, -9.54e-01, -1.52e-01,  3.96e-01, -1.83e-01,\n",
       "       -1.23e+00, -1.13e+00,  1.13e+00,  1.35e+00,  1.90e+00,  2.70e-01,\n",
       "        2.08e+00, -5.12e-02, -1.00e-02,  6.25e-01, -7.98e-01,  1.50e+00,\n",
       "        2.09e-03,  7.62e-02,  1.61e+00,  1.58e-01, -4.28e-01,  1.27e+00,\n",
       "       -8.94e-01,  2.29e-01, -7.06e-02, -7.62e-01,  1.71e+00, -2.57e-01,\n",
       "        1.93e-01, -2.80e-01,  2.03e-02,  9.71e-01,  3.32e-01,  6.28e-01,\n",
       "        3.91e-01,  2.06e+00,  1.05e+00,  1.26e+00,  1.40e+00,  2.37e-01,\n",
       "       -1.46e-01,  1.90e+00,  2.53e+00,  9.88e-01,  1.59e+00, -2.58e-01,\n",
       "       -7.40e-01,  9.75e-01,  6.76e-01, -2.04e-01, -8.10e-02,  4.01e-01,\n",
       "        3.24e-02,  3.52e-01,  9.85e-01,  7.12e-01,  2.21e+00,  1.63e+00,\n",
       "       -9.80e-01,  9.54e-01,  1.91e+00,  6.24e-01,  1.27e+00,  9.07e-01,\n",
       "        1.83e+00,  9.67e-01, -9.74e-01,  4.93e-01,  1.40e+00,  1.06e+00,\n",
       "        2.02e+00,  6.67e-01, -3.63e-01, -4.33e-01,  9.33e-01,  4.69e-01,\n",
       "        1.36e-01, -1.28e+00,  1.56e+00, -3.09e-02,  1.95e+00, -4.37e-01,\n",
       "       -1.18e+00, -2.88e-01, -1.22e+00,  8.48e-01,  2.10e-01,  6.75e-01,\n",
       "        6.46e-01, -6.26e-01])"
      ]
     },
     "execution_count": 3,
     "metadata": {},
     "output_type": "execute_result"
    }
   ],
   "source": [
    "X[:, 0]"
   ]
  },
  {
   "cell_type": "code",
   "execution_count": 4,
   "id": "236370f4",
   "metadata": {},
   "outputs": [
    {
     "data": {
      "text/plain": [
       "array([1, 1, 0, 0, 0, 0, 0, 0, 0, 1, 0, 1, 0, 1, 0, 0, 1, 0, 0, 0, 0, 0,\n",
       "       0, 0, 0, 0, 0, 1, 1, 1, 0, 0, 1, 0, 1, 1, 0, 0, 1, 1, 0, 1, 0, 1,\n",
       "       0, 0, 1, 1, 0, 0, 1, 1, 0, 0, 0, 1, 1, 0, 1, 1, 1, 0, 1, 1, 1, 0,\n",
       "       0, 1, 0, 0, 0, 1, 1, 0, 0, 1, 1, 0, 1, 1, 1, 0, 1, 0, 0, 0, 1, 1,\n",
       "       1, 0, 1, 1, 1, 1, 0, 1, 0, 1, 1, 0, 1, 1, 1, 1, 0, 1, 1, 0, 0, 1,\n",
       "       0, 1, 0, 0, 0, 1, 0, 1, 1, 0, 0, 0, 1, 1, 1, 1, 1, 1, 0, 0, 1, 0,\n",
       "       0, 0, 0, 0, 0, 1, 0, 0, 1, 1, 1, 0, 1, 1, 1, 1, 0, 0, 0, 0, 1, 1,\n",
       "       1, 1, 1, 1, 1, 0, 0, 1, 1, 0, 1, 0, 0, 0, 1, 1, 1, 0, 1, 1, 0, 1,\n",
       "       0, 1, 0, 0, 1, 1, 0, 1, 0, 0, 1, 1, 1, 1, 0, 0, 0, 0, 0, 1, 1, 1,\n",
       "       1, 1, 0, 0, 0, 1, 0, 1, 0, 1, 0, 1, 1, 0, 0, 1, 0, 1, 1, 0, 1, 1,\n",
       "       1, 0, 0, 0, 1, 1, 0, 1, 0, 0, 0, 1, 1, 0, 0, 0, 0, 1, 1, 1, 0, 1,\n",
       "       0, 1, 1, 1, 1, 1, 0, 1, 1, 1, 1, 1, 0, 0, 1, 0, 1, 1, 0, 1, 1, 0,\n",
       "       0, 0, 0, 0, 0, 0, 1, 1, 1, 0, 1, 1, 0, 0, 1, 1, 0, 0, 0, 0, 1, 1,\n",
       "       0, 0, 0, 0, 1, 0, 0, 1, 0, 0, 0, 1, 0, 1, 1, 1, 1, 0, 1, 1, 1, 1,\n",
       "       1, 0, 1, 0, 1, 0, 0, 0, 0, 0, 0, 0, 1, 1, 0, 0, 0, 0, 0, 0, 1, 1,\n",
       "       1, 1, 1, 1, 0, 1, 1, 1, 0, 1, 0, 0, 1, 1, 1, 1, 0, 1, 1, 0, 0, 0,\n",
       "       0, 0, 0, 1, 1, 0, 0, 0, 0, 0, 0, 1, 1, 0, 1, 1, 0, 0, 1, 0, 1, 1,\n",
       "       1, 1, 0, 1, 1, 0, 0, 0, 1, 0, 1, 1, 1, 0, 0, 1, 0, 0, 1, 1, 1, 0,\n",
       "       1, 0, 1, 0, 0, 1, 1, 1, 0, 0, 0, 1, 1, 1, 0, 1, 1, 0, 0, 0, 1, 1,\n",
       "       1, 1, 1, 0, 0, 0, 0, 1, 0, 1, 1, 1, 0, 1, 0, 1, 1, 0, 1, 1, 0, 0,\n",
       "       1, 0, 1, 0, 0, 1, 1, 1, 1, 0, 0, 1, 1, 0, 1, 1, 0, 0, 1, 0, 1, 0,\n",
       "       0, 0, 1, 0, 1, 1, 0, 1, 1, 0, 1, 0, 1, 0, 0, 1, 1, 0, 1, 1, 0, 0,\n",
       "       0, 0, 0, 0, 1, 1, 1, 0, 0, 0, 0, 0, 1, 0, 0, 0])"
      ]
     },
     "execution_count": 4,
     "metadata": {},
     "output_type": "execute_result"
    }
   ],
   "source": [
    "y"
   ]
  },
  {
   "cell_type": "markdown",
   "id": "76e2bf13",
   "metadata": {},
   "source": [
    "If we plot the dataset, we can see that it generates two interleaving half circles."
   ]
  },
  {
   "cell_type": "code",
   "execution_count": 5,
   "id": "6eb047b8",
   "metadata": {},
   "outputs": [
    {
     "data": {
      "image/png": "[encoded data removed]",
      "text/plain": [
       "<Figure size 432x288 with 1 Axes>"
      ]
     },
     "metadata": {
      "needs_background": "light"
     },
     "output_type": "display_data"
    }
   ],
   "source": [
    "import matplotlib.pyplot as plt\n",
    "_ = plt.scatter(\n",
    "    X[:, 0], \n",
    "    X[:, 1], \n",
    "    c=y,\n",
    "    alpha=0.5\n",
    ")"
   ]
  },
  {
   "cell_type": "markdown",
   "id": "8d7b3741",
   "metadata": {},
   "source": [
    "Let's split the dataset into training and test set, and then train a `BaggingClassifier` using 100 Decision Trees."
   ]
  },
  {
   "cell_type": "code",
   "execution_count": 6,
   "id": "f947a710",
   "metadata": {},
   "outputs": [],
   "source": [
    "from sklearn.model_selection import train_test_split\n",
    "\n",
    "X_train, X_test, y_train, y_test = train_test_split(\n",
    "    X, y, test_size=0.2, random_state=77\n",
    ")"
   ]
  },
  {
   "cell_type": "code",
   "execution_count": 7,
   "id": "37d826fd",
   "metadata": {},
   "outputs": [],
   "source": [
    "from sklearn.tree import DecisionTreeClassifier\n",
    "from sklearn.ensemble import BaggingClassifier\n",
    "\n",
    "bag_clf = BaggingClassifier(\n",
    "    base_estimator=DecisionTreeClassifier(),\n",
    "    n_estimators=100,\n",
    "    max_samples=100, # the namber of samples used to train each single classifier\n",
    "    bootstrap=True, # sampling is performed with replacement\n",
    "    n_jobs=-1 # number of estimators to run in parallel. If -1 use all processor\n",
    ")"
   ]
  },
  {
   "cell_type": "markdown",
   "id": "eb23d027",
   "metadata": {},
   "source": [
    "Let's train the model using 5-fold cross-validation. It is fair to use \"accuracy\" as a performance metric as our dataset is well balanced."
   ]
  },
  {
   "cell_type": "code",
   "execution_count": 8,
   "id": "b5c44cdd",
   "metadata": {},
   "outputs": [],
   "source": [
    "from sklearn.model_selection import cross_val_score\n",
    "scores = cross_val_score(bag_clf, X_train, y_train, cv=5, scoring=\"accuracy\")"
   ]
  },
  {
   "cell_type": "code",
   "execution_count": 9,
   "id": "12158558",
   "metadata": {},
   "outputs": [
    {
     "data": {
      "text/plain": [
       "0.9525"
      ]
     },
     "execution_count": 9,
     "metadata": {},
     "output_type": "execute_result"
    }
   ],
   "source": [
    "import numpy as np\n",
    "np.mean(scores)"
   ]
  },
  {
   "cell_type": "markdown",
   "id": "1649aa57",
   "metadata": {},
   "source": [
    "That looks not bad at all.\n",
    "\n",
    "## Random Forests\n",
    "\n",
    "Random Forests are an ensemble of decision trees generally trained using the bagging method, typically with `max_samples` set to the size of the training set.\n",
    "\n",
    "The `RandomForestClassifier` compared to the `BaggingClassifier` is optimized for decision trees. The Random Forest algorithm searches the best feature to split a node among a random subset of features rather than among all possible features. This extra randomness increases the resulting trees diversity, resulting into a higher bias and lower variance, and overall producing a more performant model."
   ]
  },
  {
   "cell_type": "code",
   "execution_count": 10,
   "id": "f5a9c207",
   "metadata": {},
   "outputs": [],
   "source": [
    "from sklearn.ensemble import RandomForestClassifier\n",
    "rf_clf = RandomForestClassifier(\n",
    "    n_estimators=100,\n",
    "    max_leaf_nodes=16, \n",
    "    bootstrap=True, # sampling is performed with replacement\n",
    "    n_jobs=-1 # number of estimators to run in parallel. If -1 use all processor\n",
    ")\n",
    "scores = cross_val_score(rf_clf, X_train, y_train, cv=5, scoring=\"accuracy\")"
   ]
  },
  {
   "cell_type": "code",
   "execution_count": 11,
   "id": "fb0ffb6e",
   "metadata": {},
   "outputs": [
    {
     "data": {
      "text/plain": [
       "array([0.97, 0.95, 0.9 , 0.93, 0.99])"
      ]
     },
     "execution_count": 11,
     "metadata": {},
     "output_type": "execute_result"
    }
   ],
   "source": [
    "scores"
   ]
  },
  {
   "cell_type": "code",
   "execution_count": 12,
   "id": "e2521b65",
   "metadata": {},
   "outputs": [
    {
     "data": {
      "text/plain": [
       "0.9475"
      ]
     },
     "execution_count": 12,
     "metadata": {},
     "output_type": "execute_result"
    }
   ],
   "source": [
    "np.mean(scores)"
   ]
  },
  {
   "cell_type": "markdown",
   "id": "97d0f9d0",
   "metadata": {},
   "source": [
    "**Exercise:** evaluate the performance of the two approaches (`BaggingClassifier` and `RandomForestClassifier`) using different metrics, and argue which of the two yields the better result. You can also explore the hyperparameter space with grid or random search to find a good combination of hyperparameters."
   ]
  },
  {
   "cell_type": "code",
   "execution_count": 25,
   "id": "35318b34",
   "metadata": {},
   "outputs": [],
   "source": [
    "# Write your solution here\n",
    "\n",
    "from sklearn.datasets import make_moons\n",
    "X, y = make_moons(\n",
    "    n_samples=500,\n",
    "    noise=0.2 # standard deviation of Gaussian noise added to the data.\n",
    ")\n",
    "\n",
    "from sklearn.model_selection import train_test_split\n",
    "\n",
    "X_train, X_test, y_train, y_test = train_test_split(\n",
    "    X, y, test_size=0.2, random_state=77\n",
    ")\n"
   ]
  },
  {
   "cell_type": "code",
   "execution_count": 26,
   "id": "d32606c9",
   "metadata": {},
   "outputs": [
    {
     "name": "stdout",
     "output_type": "stream",
     "text": [
      "BaggingClassifier:\n",
      "Accuracy: 0.94\n",
      "Precision: 0.9406583701324769\n",
      "Recall: 0.94\n",
      "F1-score: 0.9399519230769232\n",
      "\n",
      "RandomForestClassifier:\n",
      "Accuracy: 0.97\n",
      "Precision: 0.9702\n",
      "Recall: 0.97\n",
      "F1-score: 0.97000300030003\n"
     ]
    }
   ],
   "source": [
    "from sklearn.ensemble import BaggingClassifier, RandomForestClassifier\n",
    "\n",
    "bagging_clf = BaggingClassifier(n_estimators=100, random_state=42)\n",
    "rf_clf = RandomForestClassifier(n_estimators=100, random_state=42)\n",
    "\n",
    "bagging_clf.fit(X_train, y_train)\n",
    "rf_clf.fit(X_train, y_train)\n",
    "\n",
    "bagging_pred = bagging_clf.predict(X_test)\n",
    "rf_pred = rf_clf.predict(X_test)\n",
    "\n",
    "from sklearn.metrics import accuracy_score, precision_score, recall_score, f1_score\n",
    "\n",
    "print(\"BaggingClassifier:\")\n",
    "print(\"Accuracy:\", accuracy_score(y_test, bagging_pred))\n",
    "print(\"Precision:\", precision_score(y_test, bagging_pred, average='weighted'))\n",
    "print(\"Recall:\", recall_score(y_test, bagging_pred, average='weighted'))\n",
    "print(\"F1-score:\", f1_score(y_test, bagging_pred, average='weighted'))\n",
    "\n",
    "print(\"\\nRandomForestClassifier:\")\n",
    "print(\"Accuracy:\", accuracy_score(y_test, rf_pred))\n",
    "print(\"Precision:\", precision_score(y_test, rf_pred, average='weighted'))\n",
    "print(\"Recall:\", recall_score(y_test, rf_pred, average='weighted'))\n",
    "print(\"F1-score:\", f1_score(y_test, rf_pred, average='weighted'))\n"
   ]
  },
  {
   "cell_type": "markdown",
   "id": "b4c2275e",
   "metadata": {},
   "source": [
    "# And for the IRIS data set ..."
   ]
  },
  {
   "cell_type": "code",
   "execution_count": 27,
   "id": "3d33ab4c",
   "metadata": {},
   "outputs": [],
   "source": [
    "from sklearn.datasets import load_iris\n",
    "from sklearn.model_selection import train_test_split\n",
    "\n",
    "iris = load_iris()\n",
    "X_train, X_test, y_train, y_test = train_test_split(iris.data, iris.target, test_size=0.3, random_state=42)\n"
   ]
  },
  {
   "cell_type": "code",
   "execution_count": 28,
   "id": "0ec63732",
   "metadata": {
    "scrolled": true
   },
   "outputs": [
    {
     "name": "stdout",
     "output_type": "stream",
     "text": [
      "BaggingClassifier:\n",
      "Accuracy: 1.0\n",
      "Precision: 1.0\n",
      "Recall: 1.0\n",
      "F1-score: 1.0\n",
      "\n",
      "RandomForestClassifier:\n",
      "Accuracy: 1.0\n",
      "Precision: 1.0\n",
      "Recall: 1.0\n",
      "F1-score: 1.0\n"
     ]
    }
   ],
   "source": [
    "from sklearn.ensemble import BaggingClassifier, RandomForestClassifier\n",
    "\n",
    "bagging_clf = BaggingClassifier(n_estimators=100, random_state=42)\n",
    "rf_clf = RandomForestClassifier(n_estimators=100, random_state=42)\n",
    "\n",
    "bagging_clf.fit(X_train, y_train)\n",
    "rf_clf.fit(X_train, y_train)\n",
    "\n",
    "bagging_pred = bagging_clf.predict(X_test)\n",
    "rf_pred = rf_clf.predict(X_test)\n",
    "\n",
    "from sklearn.metrics import accuracy_score, precision_score, recall_score, f1_score\n",
    "\n",
    "print(\"BaggingClassifier:\")\n",
    "print(\"Accuracy:\", accuracy_score(y_test, bagging_pred))\n",
    "print(\"Precision:\", precision_score(y_test, bagging_pred, average='weighted'))\n",
    "print(\"Recall:\", recall_score(y_test, bagging_pred, average='weighted'))\n",
    "print(\"F1-score:\", f1_score(y_test, bagging_pred, average='weighted'))\n",
    "\n",
    "print(\"\\nRandomForestClassifier:\")\n",
    "print(\"Accuracy:\", accuracy_score(y_test, rf_pred))\n",
    "print(\"Precision:\", precision_score(y_test, rf_pred, average='weighted'))\n",
    "print(\"Recall:\", recall_score(y_test, rf_pred, average='weighted'))\n",
    "print(\"F1-score:\", f1_score(y_test, rf_pred, average='weighted'))"
   ]
  },
  {
   "cell_type": "markdown",
   "id": "fb28202e",
   "metadata": {},
   "source": [
    "### Observation: \n",
    "The random forest classifier tends to be more accurate and robust than the bagging classifier, as it uses more sophisticated techniques such as feature bagging and random feature selection to reduce variance and overfitting."
   ]
  },
  {
   "cell_type": "code",
   "execution_count": null,
   "id": "7b05ec05",
   "metadata": {},
   "outputs": [],
   "source": []
  }
 ],
 "metadata": {
  "kernelspec": {
   "display_name": "Python 3 (ipykernel)",
   "language": "python",
   "name": "python3"
  },
  "language_info": {
   "codemirror_mode": {
    "name": "ipython",
    "version": 3
   },
   "file_extension": ".py",
   "mimetype": "text/x-python",
   "name": "python",
   "nbconvert_exporter": "python",
   "pygments_lexer": "ipython3",
   "version": "3.9.12"
  }
 },
 "nbformat": 4,
 "nbformat_minor": 5
}
