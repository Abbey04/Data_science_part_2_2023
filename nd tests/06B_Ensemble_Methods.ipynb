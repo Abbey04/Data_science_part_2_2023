{
 "cells": [
  {
   "cell_type": "markdown",
   "id": "a7d0b314",
   "metadata": {},
   "source": [
    "# Ensemble Methods and Random Forests\n",
    "\n",
    "The idea behind ensemble methods is to combine the predictions of multiple models to get a better prediction.\n",
    "\n",
    "There are two approaches to build ensemble methods:\n",
    "* **averaging**: build several estimators independently (often training them only on a subset of samples and/or features) and then average their predictions (or use a majority-vote approach)\n",
    "    * Bagging methods\n",
    "    * Random forests\n",
    "* **boosting**: combine many weak predictors to get a strong predictor. Train the models sequentially: the successor model will try to correct the wrong predictions of its predecessor.\n",
    "    * AdaBoost\n",
    "    * Gradient Boosting\n",
    "    * XGBoost"
   ]
  },
  {
   "cell_type": "markdown",
   "id": "49afda26",
   "metadata": {},
   "source": [
    "## Setup"
   ]
  },
  {
   "cell_type": "code",
   "execution_count": 30,
   "id": "0eb6ea15",
   "metadata": {},
   "outputs": [],
   "source": [
    "# Python ≥3.8 is required\n",
    "import sys\n",
    "assert sys.version_info >= (3, 8)\n",
    "\n",
    "# Scikit-Learn ≥ 1.0 is required\n",
    "import sklearn\n",
    "assert sklearn.__version__ >= \"1.0\"\n",
    "\n",
    "# Common imports\n",
    "import numpy as np\n",
    "import pandas as pd\n",
    "import os\n",
    "\n",
    "# To plot pretty figures\n",
    "%matplotlib inline\n",
    "import matplotlib as mpl\n",
    "import matplotlib.pyplot as plt\n",
    "mpl.rc('axes', labelsize=14)\n",
    "mpl.rc('xtick', labelsize=12)\n",
    "mpl.rc('ytick', labelsize=12)\n",
    "\n",
    "# Precision options\n",
    "np.set_printoptions(precision=2)\n",
    "pd.options.display.float_format = '{:.3f}'.format"
   ]
  },
  {
   "cell_type": "markdown",
   "id": "f264e428",
   "metadata": {},
   "source": [
    "### Bagging \n",
    "\n",
    "A Bagging classifier is an ensemble meta-estimator that fits base classifiers each on random subsets of the original dataset and then aggregate their individual predictions (either by voting or by averaging) to form a final prediction. Such a meta-estimator can typically be used as a way to reduce the variance of a black-box estimator (e.g., a decision tree), by introducing randomization into its construction procedure and then making an ensemble out of it.\n",
    "\n",
    "We'll train and test a bagging ensemble model based on 100 decision trees, using an artificially contructed dataset generated with the `sklearn.dataset.make_moons()` function.\n",
    "\n",
    "This will generate a non-linearly separable binary 2D dataset (the two classes are marked 0 and 1). We will also add some gaussian noise to the distribution."
   ]
  },
  {
   "cell_type": "code",
   "execution_count": 31,
   "id": "d9a6444d",
   "metadata": {},
   "outputs": [],
   "source": [
    "from sklearn.datasets import make_moons\n",
    "X, y = make_moons(\n",
    "    n_samples=500,\n",
    "    noise=0.2 # standard deviation of Gaussian noise added to the data.\n",
    ")"
   ]
  },
  {
   "cell_type": "code",
   "execution_count": 32,
   "id": "d2d594ff",
   "metadata": {
    "scrolled": true
   },
   "outputs": [
    {
     "data": {
      "text/plain": [
       "array([ 0.49,  0.  ,  1.17,  0.13, -0.7 ,  1.94, -0.25,  0.02, -0.31,\n",
       "        1.01, -0.8 , -0.96,  0.75, -0.22, -0.71,  1.92,  1.28,  1.38,\n",
       "        0.81,  0.35,  2.21,  0.39,  0.93, -0.9 ,  0.79, -0.06,  0.54,\n",
       "        1.99,  0.14,  0.8 ,  0.75,  0.86,  0.57,  0.65,  0.06,  0.4 ,\n",
       "       -1.32,  1.02,  0.88,  1.02,  1.4 ,  1.52,  0.48,  0.58, -0.73,\n",
       "        0.32,  2.11,  0.9 ,  0.76,  0.72,  0.58,  1.7 ,  0.25,  1.6 ,\n",
       "        0.42, -1.01,  1.25,  0.09, -0.29,  0.39, -0.09, -0.67,  2.02,\n",
       "       -0.65,  0.66, -1.1 ,  0.28,  0.23, -0.72,  1.5 ,  1.79,  0.36,\n",
       "       -0.6 ,  0.09, -0.51, -0.61,  0.86, -0.66,  0.91,  1.03,  1.82,\n",
       "        0.57, -0.11,  0.9 ,  1.31,  1.74,  0.85,  0.9 ,  0.15,  0.18,\n",
       "        1.52,  0.26, -0.85,  1.44,  0.74,  1.23,  0.7 ,  1.92,  1.19,\n",
       "       -0.19, -0.54,  0.29,  0.57,  0.86,  1.57,  1.39,  0.75,  0.61,\n",
       "        0.82,  2.24,  1.82,  0.98,  0.86,  0.46, -0.09, -0.37, -1.2 ,\n",
       "       -0.22,  0.74, -0.21,  1.91,  1.41,  1.45, -1.26,  1.18,  0.3 ,\n",
       "        0.25,  0.87,  0.86, -0.55, -0.  , -0.49,  0.86, -0.97, -0.61,\n",
       "        0.87, -0.59, -0.21,  1.67, -0.26, -1.11,  1.23,  0.53,  0.51,\n",
       "        0.06,  1.14,  1.26, -0.84,  1.27, -0.84,  0.29, -1.  ,  0.88,\n",
       "       -0.23,  0.99,  1.89,  1.92,  1.11,  0.76, -0.23,  0.43,  1.64,\n",
       "        1.86,  0.7 ,  0.41,  2.2 ,  0.28,  0.44,  1.07,  0.7 ,  0.41,\n",
       "        1.94, -0.11,  0.37,  0.69,  0.07, -1.03, -0.82,  0.11,  0.79,\n",
       "        0.23,  0.33,  0.08,  0.02,  1.86,  0.3 ,  0.3 , -0.11,  0.94,\n",
       "        0.89, -1.16,  1.74, -1.16,  1.64, -0.9 , -0.17,  0.51,  0.63,\n",
       "        0.33, -1.29,  0.09,  0.4 ,  0.73,  0.85,  0.96,  1.86, -0.13,\n",
       "        0.29, -0.01,  1.7 , -1.  ,  1.28,  0.74,  2.09,  0.34,  0.93,\n",
       "       -0.77,  0.1 ,  0.01, -0.04,  1.87,  0.93,  0.45,  0.94,  1.64,\n",
       "        0.49, -1.  ,  2.06,  0.74, -0.95,  1.  ,  1.94,  1.11, -0.76,\n",
       "        1.58,  0.36,  1.38,  1.37,  2.21,  0.92,  0.36,  0.5 ,  0.42,\n",
       "        0.31, -0.43, -1.15,  1.4 ,  0.46, -0.03,  0.61,  0.41,  0.76,\n",
       "        0.29,  0.71, -0.12, -0.27,  0.7 , -0.04, -0.12,  0.5 ,  0.15,\n",
       "        0.34,  0.47,  0.73, -1.02,  1.08,  0.63,  1.75, -0.44,  0.24,\n",
       "       -1.28,  2.09, -0.92, -0.01,  0.05, -0.73, -0.15,  0.95,  1.34,\n",
       "        0.27, -0.76,  0.35,  1.35,  0.58,  0.51,  0.87,  0.01,  0.75,\n",
       "        1.93,  0.1 ,  1.4 ,  0.73,  0.87,  1.38,  1.73, -0.24, -1.25,\n",
       "        1.43,  0.02,  0.55,  0.68, -0.61,  1.63,  1.76,  2.03, -0.91,\n",
       "        1.54,  1.09,  1.92, -1.04,  0.24,  2.06,  1.48,  0.71,  1.9 ,\n",
       "       -0.73, -0.13,  0.71, -0.76,  1.93,  2.01, -0.78,  0.41, -0.94,\n",
       "        0.62,  1.75,  0.04,  1.18,  0.26,  0.08,  2.19,  1.23,  1.92,\n",
       "       -0.91, -0.47,  2.07,  0.27,  0.93,  0.61,  0.06,  0.3 , -0.52,\n",
       "       -0.36, -1.1 , -0.  , -1.23, -1.23,  0.18,  1.22,  0.47,  0.92,\n",
       "        1.1 ,  1.35,  0.08,  0.45,  1.92,  1.85,  1.91,  0.95,  0.8 ,\n",
       "       -0.82, -0.41,  0.05,  1.62,  1.17, -1.03,  0.38,  0.96,  0.19,\n",
       "        0.77,  1.94, -0.27, -1.12,  1.49,  2.04,  0.65,  1.9 , -0.05,\n",
       "        0.07,  0.82,  0.12,  0.83,  0.83, -0.61,  1.82,  2.01,  0.43,\n",
       "        2.02,  1.01,  0.88,  0.25,  1.71,  0.35,  1.95, -0.02,  0.48,\n",
       "       -1.25,  2.1 , -0.17, -1.36, -0.73, -0.8 , -0.28,  0.43,  2.35,\n",
       "        1.36,  0.37,  1.79,  0.53,  0.38, -0.15,  0.24,  0.17,  1.94,\n",
       "       -1.1 ,  1.68,  0.14,  0.51,  0.5 ,  1.07, -0.8 , -0.84, -1.11,\n",
       "        0.81, -0.12,  1.87, -0.77, -0.07,  1.7 , -0.9 , -0.07, -0.68,\n",
       "       -1.19, -0.55, -1.25, -0.61,  0.15, -1.22,  0.7 , -0.67,  0.83,\n",
       "        0.62,  2.27,  1.98,  2.03, -0.77,  1.68,  0.6 ,  0.02, -0.91,\n",
       "        0.17, -0.81,  1.11,  0.38,  1.82, -0.62,  0.15,  0.51,  0.12,\n",
       "       -0.24,  0.65, -0.95,  0.48, -0.37, -0.34,  0.44,  0.96,  0.06,\n",
       "        0.17,  1.04,  0.87,  0.65,  1.03,  0.75, -0.43,  0.09, -0.91,\n",
       "        0.98,  1.25,  2.05,  0.15,  1.86, -0.81,  0.86,  0.68,  0.44,\n",
       "        1.55,  0.39,  0.4 , -1.07,  0.72,  0.7 ,  0.06,  0.53,  1.09,\n",
       "        0.57,  1.92,  0.79,  0.25, -0.74])"
      ]
     },
     "execution_count": 32,
     "metadata": {},
     "output_type": "execute_result"
    }
   ],
   "source": [
    "X[:, 0]"
   ]
  },
  {
   "cell_type": "code",
   "execution_count": 33,
   "id": "236370f4",
   "metadata": {},
   "outputs": [
    {
     "data": {
      "text/plain": [
       "array([1, 1, 1, 0, 0, 1, 1, 1, 0, 0, 0, 0, 0, 0, 0, 1, 1, 1, 0, 0, 1, 1,\n",
       "       0, 0, 1, 1, 0, 1, 1, 0, 0, 0, 0, 1, 0, 0, 0, 1, 0, 1, 1, 1, 1, 0,\n",
       "       0, 1, 1, 0, 0, 1, 1, 1, 0, 1, 1, 0, 1, 1, 1, 1, 1, 0, 1, 0, 0, 0,\n",
       "       1, 1, 0, 1, 1, 1, 0, 0, 0, 0, 0, 0, 1, 0, 1, 0, 1, 1, 1, 1, 0, 1,\n",
       "       0, 1, 1, 1, 0, 1, 0, 0, 1, 1, 1, 0, 0, 0, 0, 1, 1, 1, 0, 0, 0, 1,\n",
       "       1, 0, 1, 1, 0, 0, 0, 1, 0, 1, 1, 1, 1, 0, 1, 1, 1, 0, 0, 0, 1, 0,\n",
       "       1, 0, 0, 1, 0, 0, 1, 0, 0, 1, 0, 0, 1, 0, 1, 0, 1, 0, 1, 0, 1, 1,\n",
       "       0, 1, 1, 1, 0, 0, 0, 1, 1, 0, 1, 1, 1, 0, 0, 0, 1, 1, 0, 1, 1, 1,\n",
       "       0, 0, 0, 0, 1, 0, 1, 1, 1, 1, 1, 0, 1, 0, 0, 1, 0, 1, 0, 0, 1, 0,\n",
       "       1, 0, 1, 0, 1, 0, 0, 1, 0, 0, 0, 1, 0, 1, 0, 1, 1, 0, 0, 1, 0, 1,\n",
       "       1, 0, 1, 1, 1, 1, 0, 1, 1, 0, 1, 1, 1, 0, 1, 1, 1, 1, 1, 1, 1, 1,\n",
       "       1, 0, 0, 0, 1, 0, 0, 1, 1, 0, 1, 0, 0, 0, 0, 0, 0, 1, 0, 0, 0, 0,\n",
       "       0, 0, 1, 1, 0, 0, 0, 1, 0, 1, 0, 0, 0, 0, 0, 1, 0, 0, 1, 0, 0, 1,\n",
       "       1, 0, 1, 0, 1, 1, 0, 1, 1, 1, 0, 1, 1, 0, 1, 0, 1, 1, 1, 0, 1, 1,\n",
       "       1, 0, 0, 1, 1, 1, 1, 0, 0, 0, 0, 1, 1, 0, 0, 0, 0, 1, 1, 1, 1, 0,\n",
       "       1, 0, 1, 0, 0, 1, 1, 0, 1, 0, 1, 0, 0, 0, 0, 0, 0, 1, 0, 0, 1, 1,\n",
       "       1, 1, 1, 1, 1, 1, 1, 0, 0, 0, 1, 1, 1, 0, 1, 0, 0, 1, 1, 0, 0, 1,\n",
       "       1, 0, 1, 1, 1, 1, 1, 0, 0, 0, 1, 1, 0, 1, 0, 0, 0, 1, 1, 1, 0, 0,\n",
       "       0, 1, 0, 0, 0, 0, 0, 1, 1, 1, 1, 1, 1, 1, 0, 1, 1, 1, 0, 1, 1, 1,\n",
       "       0, 1, 0, 0, 0, 0, 1, 1, 0, 1, 1, 0, 1, 0, 0, 0, 0, 0, 1, 0, 1, 0,\n",
       "       1, 0, 1, 1, 1, 0, 1, 0, 0, 0, 0, 0, 0, 0, 1, 0, 0, 1, 0, 1, 0, 0,\n",
       "       1, 0, 1, 1, 0, 1, 0, 0, 0, 0, 0, 0, 0, 1, 0, 0, 1, 1, 1, 1, 0, 0,\n",
       "       0, 1, 1, 1, 0, 0, 0, 0, 1, 1, 0, 0, 1, 1, 0, 0])"
      ]
     },
     "execution_count": 33,
     "metadata": {},
     "output_type": "execute_result"
    }
   ],
   "source": [
    "y"
   ]
  },
  {
   "cell_type": "markdown",
   "id": "76e2bf13",
   "metadata": {},
   "source": [
    "If we plot the dataset, we can see that it generates two interleaving half circles."
   ]
  },
  {
   "cell_type": "code",
   "execution_count": 34,
   "id": "6eb047b8",
   "metadata": {},
   "outputs": [
    {
     "data": {
      "image/png": "[encoded data removed]",
      "text/plain": [
       "<Figure size 432x288 with 1 Axes>"
      ]
     },
     "metadata": {
      "needs_background": "light"
     },
     "output_type": "display_data"
    }
   ],
   "source": [
    "import matplotlib.pyplot as plt\n",
    "_ = plt.scatter(\n",
    "    X[:, 0], \n",
    "    X[:, 1], \n",
    "    c=y,\n",
    "    alpha=0.5\n",
    ")"
   ]
  },
  {
   "cell_type": "markdown",
   "id": "8d7b3741",
   "metadata": {},
   "source": [
    "Let's split the dataset into training and test set, and then train a `BaggingClassifier` using 100 Decision Trees."
   ]
  },
  {
   "cell_type": "code",
   "execution_count": 35,
   "id": "f947a710",
   "metadata": {},
   "outputs": [],
   "source": [
    "from sklearn.model_selection import train_test_split\n",
    "\n",
    "X_train, X_test, y_train, y_test = train_test_split(\n",
    "    X, y, test_size=0.2, random_state=77\n",
    ")"
   ]
  },
  {
   "cell_type": "code",
   "execution_count": 36,
   "id": "37d826fd",
   "metadata": {},
   "outputs": [],
   "source": [
    "from sklearn.tree import DecisionTreeClassifier\n",
    "from sklearn.ensemble import BaggingClassifier\n",
    "\n",
    "bag_clf = BaggingClassifier(\n",
    "    base_estimator=DecisionTreeClassifier(),\n",
    "    n_estimators=100,\n",
    "    max_samples=100, # the namber of samples used to train each single classifier\n",
    "    bootstrap=True, # sampling is performed with replacement\n",
    "    n_jobs=-1 # number of estimators to run in parallel. If -1 use all processor\n",
    ")"
   ]
  },
  {
   "cell_type": "markdown",
   "id": "eb23d027",
   "metadata": {},
   "source": [
    "Let's train the model using 5-fold cross-validation. It is fair to use \"accuracy\" as a performance metric as our dataset is well balanced."
   ]
  },
  {
   "cell_type": "code",
   "execution_count": 37,
   "id": "b5c44cdd",
   "metadata": {},
   "outputs": [],
   "source": [
    "from sklearn.model_selection import cross_val_score\n",
    "scores = cross_val_score(bag_clf, X_train, y_train, cv=5, scoring=\"accuracy\")"
   ]
  },
  {
   "cell_type": "code",
   "execution_count": 38,
   "id": "12158558",
   "metadata": {},
   "outputs": [
    {
     "data": {
      "text/plain": [
       "0.96"
      ]
     },
     "execution_count": 38,
     "metadata": {},
     "output_type": "execute_result"
    }
   ],
   "source": [
    "import numpy as np\n",
    "np.mean(scores)"
   ]
  },
  {
   "cell_type": "markdown",
   "id": "1649aa57",
   "metadata": {},
   "source": [
    "That looks not bad at all.\n",
    "\n",
    "## Random Forests\n",
    "\n",
    "Random Forests are an ensemble of decision trees generally trained using the bagging method, typically with `max_samples` set to the size of the training set.\n",
    "\n",
    "The `RandomForestClassifier` compared to the `BaggingClassifier` is optimized for decision trees. The Random Forest algorithm searches the best feature to split a node among a random subset of features rather than among all possible features. This extra randomness increases the resulting trees diversity, resulting into a higher bias and lower variance, and overall producing a more performant model."
   ]
  },
  {
   "cell_type": "code",
   "execution_count": 39,
   "id": "f5a9c207",
   "metadata": {},
   "outputs": [],
   "source": [
    "from sklearn.ensemble import RandomForestClassifier\n",
    "rf_clf = RandomForestClassifier(\n",
    "    n_estimators=100,\n",
    "    max_leaf_nodes=16, \n",
    "    bootstrap=True, # sampling is performed with replacement\n",
    "    n_jobs=-1 # number of estimators to run in parallel. If -1 use all processor\n",
    ")\n",
    "scores = cross_val_score(rf_clf, X_train, y_train, cv=5, scoring=\"accuracy\")"
   ]
  },
  {
   "cell_type": "code",
   "execution_count": 40,
   "id": "fb0ffb6e",
   "metadata": {},
   "outputs": [
    {
     "data": {
      "text/plain": [
       "array([0.96, 0.93, 0.95, 0.96, 0.96])"
      ]
     },
     "execution_count": 40,
     "metadata": {},
     "output_type": "execute_result"
    }
   ],
   "source": [
    "scores"
   ]
  },
  {
   "cell_type": "code",
   "execution_count": 41,
   "id": "e2521b65",
   "metadata": {},
   "outputs": [
    {
     "data": {
      "text/plain": [
       "0.9525"
      ]
     },
     "execution_count": 41,
     "metadata": {},
     "output_type": "execute_result"
    }
   ],
   "source": [
    "np.mean(scores)"
   ]
  },
  {
   "cell_type": "markdown",
   "id": "97d0f9d0",
   "metadata": {},
   "source": [
    "**Exercise:** evaluate the performance of the two approaches (`BaggingClassifier` and `RandomForestClassifier`) using different metrics, and argue which of the two yields the better result. You can also explore the hyperparameter space with grid or random search to find a good combination of hyperparameters."
   ]
  },
  {
   "cell_type": "code",
   "execution_count": 47,
   "id": "35318b34",
   "metadata": {},
   "outputs": [],
   "source": [
    "# Write your solution here\n",
    "\n",
    "from sklearn.datasets import make_moons\n",
    "X, y = make_moons(\n",
    "    n_samples=500,\n",
    "    noise=0.2 # standard deviation of Gaussian noise added to the data.\n",
    ")\n",
    "\n",
    "from sklearn.model_selection import train_test_split\n",
    "\n",
    "X_train, X_test, y_train, y_test = train_test_split(\n",
    "    X, y, test_size=0.2, random_state=77\n",
    ")\n"
   ]
  },
  {
   "cell_type": "code",
   "execution_count": 48,
   "id": "cdbb03ec",
   "metadata": {},
   "outputs": [
    {
     "name": "stdout",
     "output_type": "stream",
     "text": [
      "BaggingClassifier:\n",
      "Accuracy: 0.97\n",
      "Precision: 0.9703183133526251\n",
      "Recall: 0.97\n",
      "F1-score: 0.9700591347650172\n",
      "\n",
      "RandomForestClassifier:\n",
      "Accuracy: 0.99\n",
      "Precision: 0.9902439024390245\n",
      "Recall: 0.99\n",
      "F1-score: 0.990019711588339\n"
     ]
    }
   ],
   "source": [
    "from sklearn.ensemble import BaggingClassifier, RandomForestClassifier\n",
    "\n",
    "bagging_clf = BaggingClassifier(n_estimators=100, random_state=42)\n",
    "rf_clf = RandomForestClassifier(n_estimators=100, random_state=42)\n",
    "\n",
    "bagging_clf.fit(X_train, y_train)\n",
    "rf_clf.fit(X_train, y_train)\n",
    "\n",
    "bagging_pred = bagging_clf.predict(X_test)\n",
    "rf_pred = rf_clf.predict(X_test)\n",
    "\n",
    "from sklearn.metrics import accuracy_score, precision_score, recall_score, f1_score\n",
    "\n",
    "print(\"BaggingClassifier:\")\n",
    "print(\"Accuracy:\", accuracy_score(y_test, bagging_pred))\n",
    "print(\"Precision:\", precision_score(y_test, bagging_pred, average='weighted'))\n",
    "print(\"Recall:\", recall_score(y_test, bagging_pred, average='weighted'))\n",
    "print(\"F1-score:\", f1_score(y_test, bagging_pred, average='weighted'))\n",
    "\n",
    "print(\"\\nRandomForestClassifier:\")\n",
    "print(\"Accuracy:\", accuracy_score(y_test, rf_pred))\n",
    "print(\"Precision:\", precision_score(y_test, rf_pred, average='weighted'))\n",
    "print(\"Recall:\", recall_score(y_test, rf_pred, average='weighted'))\n",
    "print(\"F1-score:\", f1_score(y_test, rf_pred, average='weighted'))\n"
   ]
  },
  {
   "cell_type": "markdown",
   "id": "a2e70cac",
   "metadata": {},
   "source": [
    "### Observation: \n",
    "The random forest classifier tends to be more accurate and robust than the bagging classifier, as it uses more sophisticated techniques such as feature bagging and random feature selection to reduce variance and overfitting."
   ]
  },
  {
   "cell_type": "markdown",
   "id": "fcffae70",
   "metadata": {},
   "source": [
    "# And for the IRIS data set ..."
   ]
  },
  {
   "cell_type": "code",
   "execution_count": 53,
   "id": "3d33ab4c",
   "metadata": {},
   "outputs": [],
   "source": [
    "from sklearn.datasets import load_iris\n",
    "from sklearn.model_selection import train_test_split\n",
    "\n",
    "iris = load_iris()\n",
    "X_train, X_test, y_train, y_test = train_test_split(iris.data, iris.target, test_size=0.3, random_state=42)\n"
   ]
  },
  {
   "cell_type": "code",
   "execution_count": 54,
   "id": "6122dc22",
   "metadata": {
    "scrolled": true
   },
   "outputs": [
    {
     "name": "stdout",
     "output_type": "stream",
     "text": [
      "BaggingClassifier:\n",
      "Accuracy: 1.0\n",
      "Precision: 1.0\n",
      "Recall: 1.0\n",
      "F1-score: 1.0\n",
      "\n",
      "RandomForestClassifier:\n",
      "Accuracy: 1.0\n",
      "Precision: 1.0\n",
      "Recall: 1.0\n",
      "F1-score: 1.0\n"
     ]
    }
   ],
   "source": [
    "from sklearn.ensemble import BaggingClassifier, RandomForestClassifier\n",
    "\n",
    "bagging_clf = BaggingClassifier(n_estimators=100, random_state=42)\n",
    "rf_clf = RandomForestClassifier(n_estimators=100, random_state=42)\n",
    "\n",
    "bagging_clf.fit(X_train, y_train)\n",
    "rf_clf.fit(X_train, y_train)\n",
    "\n",
    "bagging_pred = bagging_clf.predict(X_test)\n",
    "rf_pred = rf_clf.predict(X_test)\n",
    "\n",
    "from sklearn.metrics import accuracy_score, precision_score, recall_score, f1_score\n",
    "\n",
    "print(\"BaggingClassifier:\")\n",
    "print(\"Accuracy:\", accuracy_score(y_test, bagging_pred))\n",
    "print(\"Precision:\", precision_score(y_test, bagging_pred, average='weighted'))\n",
    "print(\"Recall:\", recall_score(y_test, bagging_pred, average='weighted'))\n",
    "print(\"F1-score:\", f1_score(y_test, bagging_pred, average='weighted'))\n",
    "\n",
    "print(\"\\nRandomForestClassifier:\")\n",
    "print(\"Accuracy:\", accuracy_score(y_test, rf_pred))\n",
    "print(\"Precision:\", precision_score(y_test, rf_pred, average='weighted'))\n",
    "print(\"Recall:\", recall_score(y_test, rf_pred, average='weighted'))\n",
    "print(\"F1-score:\", f1_score(y_test, rf_pred, average='weighted'))"
   ]
  },
  {
   "cell_type": "markdown",
   "id": "5e75833d",
   "metadata": {},
   "source": [
    "# <font color = \"red\">Apply GridSearchCV and check the Hyperparameters tuning - TO COMPLETE! Check Lecture notes...<font/>"
   ]
  },
  {
   "cell_type": "code",
   "execution_count": null,
   "id": "8a7eb9ca",
   "metadata": {},
   "outputs": [],
   "source": [
    "from sklearn.model_selection import GridSearchCV\n",
    "\n",
    "param_grid = [\n",
    "    {\n",
    "        'n_estimators': [3, 10, 30], \n",
    "        'max_leaf_nodes': [2, 4, 6, 8]\n",
    "    },\n",
    "    {\n",
    "        'bootstrap': [False], \n",
    "        'n_estimators': [3, 10], \n",
    "        'max_features': [2, 3, 4]\n",
    "    },\n",
    "]\n",
    "\n",
    "forest_cl = RandomForestClassifer()\n",
    "grid_search = GridSearchCV(\n",
    "    forest_cl, param_grid, cv=5,\n",
    "    scoring='neg_mean_squared_error', return_train_score=True\n",
    ")"
   ]
  }
 ],
 "metadata": {
  "kernelspec": {
   "display_name": "Python 3 (ipykernel)",
   "language": "python",
   "name": "python3"
  },
  "language_info": {
   "codemirror_mode": {
    "name": "ipython",
    "version": 3
   },
   "file_extension": ".py",
   "mimetype": "text/x-python",
   "name": "python",
   "nbconvert_exporter": "python",
   "pygments_lexer": "ipython3",
   "version": "3.9.12"
  }
 },
 "nbformat": 4,
 "nbformat_minor": 5
}
