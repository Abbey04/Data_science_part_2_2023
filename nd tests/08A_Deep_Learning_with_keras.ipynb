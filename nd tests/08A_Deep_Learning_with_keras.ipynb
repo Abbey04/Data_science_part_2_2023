{
 "cells": [
  {
   "cell_type": "markdown",
   "metadata": {},
   "source": [
    "# Week 8: Introduction to Artificial Neural Networks with Keras"
   ]
  },
  {
   "cell_type": "markdown",
   "metadata": {},
   "source": [
    "This notebook is heavily inspired by Andre Guernon work, that can be found here: https://github.com/ageron/handson-ml/blob/master/10_introduction_to_artificial_neural_networks.ipynb"
   ]
  },
  {
   "cell_type": "markdown",
   "metadata": {},
   "source": [
    "## Setup"
   ]
  },
  {
   "cell_type": "code",
   "execution_count": 4,
   "metadata": {},
   "outputs": [],
   "source": [
    "# Python ≥3.8 is required\n",
    "import sys\n",
    "assert sys.version_info >= (3, 8)\n",
    "\n",
    "# Scikit-Learn ≥ 1.0 is required\n",
    "import sklearn\n",
    "assert sklearn.__version__ >= \"1.0\"\n",
    "\n",
    "# Common imports\n",
    "import numpy as np\n",
    "import pandas as pd\n",
    "import os\n",
    "\n",
    "# To plot pretty figures\n",
    "%matplotlib inline\n",
    "import matplotlib as mpl\n",
    "import matplotlib.pyplot as plt\n",
    "mpl.rc('axes', labelsize=14)\n",
    "mpl.rc('xtick', labelsize=12)\n",
    "mpl.rc('ytick', labelsize=12)\n",
    "\n",
    "# Ignore useless warnings (see SciPy issue #5998)\n",
    "import warnings\n",
    "warnings.filterwarnings(action=\"ignore\", message=\"^internal gelsd\")"
   ]
  },
  {
   "cell_type": "markdown",
   "metadata": {},
   "source": [
    "## 1.  A quick overview of Tensorflow"
   ]
  },
  {
   "cell_type": "markdown",
   "metadata": {},
   "source": [
    "### Install TensorFlow (if first time - doesn't come with Anaconda) \n",
    "\n",
    "https://www.tensorflow.org/install\n",
    "\n",
    "Should have keras built in..."
   ]
  },
  {
   "cell_type": "code",
   "execution_count": 8,
   "metadata": {},
   "outputs": [
    {
     "name": "stdout",
     "output_type": "stream",
     "text": [
      "Tensorflow version 2.12.0\n",
      "Keras version 2.12.0\n"
     ]
    }
   ],
   "source": [
    "## Install dependencies\n",
    "import tensorflow as tf\n",
    "from tensorflow import keras\n",
    "print('Tensorflow version', tf.__version__)\n",
    "print('Keras version', keras.__version__)"
   ]
  },
  {
   "cell_type": "markdown",
   "metadata": {},
   "source": [
    "#### 1.0.1 Only if you have a GPU-enabled TensorFlow\n",
    "\n",
    "If you run TensorFlow on a GPU you may need to run the cell below to limit the GPU memory growth.\n",
    "\n",
    "See more details on TensorFlow's documentation: https://www.tensorflow.org/guide/gpu#limiting_gpu_memory_growth"
   ]
  },
  {
   "cell_type": "code",
   "execution_count": 9,
   "metadata": {},
   "outputs": [],
   "source": [
    "gpus = tf.config.list_physical_devices('GPU')\n",
    "if gpus:\n",
    "  # Restrict TensorFlow to only use the first GPU\n",
    "  try:\n",
    "    tf.config.set_visible_devices(gpus[0], 'GPU')\n",
    "    logical_gpus = tf.config.list_logical_devices('GPU')\n",
    "    print(len(gpus), \"Physical GPUs,\", len(logical_gpus), \"Logical GPU\")\n",
    "  except RuntimeError as e:\n",
    "    # Visible devices must be set before GPUs have been initialized\n",
    "    print(e)"
   ]
  },
  {
   "cell_type": "code",
   "execution_count": 10,
   "metadata": {},
   "outputs": [
    {
     "data": {
      "text/plain": [
       "[]"
      ]
     },
     "execution_count": 10,
     "metadata": {},
     "output_type": "execute_result"
    }
   ],
   "source": [
    "tf.config.experimental.list_physical_devices('GPU')"
   ]
  },
  {
   "cell_type": "code",
   "execution_count": 12,
   "metadata": {},
   "outputs": [
    {
     "name": "stdout",
     "output_type": "stream",
     "text": [
      "TensorFlow has access to the following devices:\n",
      "[PhysicalDevice(name='/physical_device:CPU:0', device_type='CPU')]\n",
      "TensorFlow version: 2.12.0\n"
     ]
    }
   ],
   "source": [
    "# Check for TensorFlow GPU access\n",
    "print(f\"TensorFlow has access to the following devices:\\n{tf.config.list_physical_devices()}\")\n",
    "\n",
    "# See TensorFlow version\n",
    "print(f\"TensorFlow version: {tf.__version__}\")"
   ]
  },
  {
   "cell_type": "markdown",
   "metadata": {},
   "source": [
    "### 1.1 `tf.Tensor` - Tensors in TensorFlow\n",
    "\n",
    "What is a tensor? Just a generalization of the concept of vectors beyond the 1-dimensional case. Matrices are 2-dimensional tensors, and so on. \n",
    "\n",
    "You can see Tensorflow's tensors as equivalent to NumPy ndarrays. The main difference is that by default they store 32-bit floating point numbers rather than 64-bit ones. Moreover, Tensorflow's tensors are immutable."
   ]
  },
  {
   "cell_type": "code",
   "execution_count": 13,
   "metadata": {},
   "outputs": [
    {
     "data": {
      "text/plain": [
       "<tf.Tensor: shape=(2, 3), dtype=float32, numpy=\n",
       "array([[10., 20., 30.],\n",
       "       [40., 50., 60.]], dtype=float32)>"
      ]
     },
     "execution_count": 13,
     "metadata": {},
     "output_type": "execute_result"
    }
   ],
   "source": [
    "tf.constant([[10., 20., 30.], [40., 50., 60.]]) # matrix"
   ]
  },
  {
   "cell_type": "markdown",
   "metadata": {},
   "source": [
    "A 0-dimensional tensor is just a scalar."
   ]
  },
  {
   "cell_type": "code",
   "execution_count": 14,
   "metadata": {},
   "outputs": [
    {
     "data": {
      "text/plain": [
       "<tf.Tensor: shape=(), dtype=int32, numpy=42>"
      ]
     },
     "execution_count": 14,
     "metadata": {},
     "output_type": "execute_result"
    }
   ],
   "source": [
    "tf.constant(42) # scalar"
   ]
  },
  {
   "cell_type": "markdown",
   "metadata": {},
   "source": [
    "We can create a tensor out of a list (or a list or list) just as we did for NumPy arrays."
   ]
  },
  {
   "cell_type": "code",
   "execution_count": 15,
   "metadata": {},
   "outputs": [
    {
     "data": {
      "text/plain": [
       "TensorShape([3, 3])"
      ]
     },
     "execution_count": 15,
     "metadata": {},
     "output_type": "execute_result"
    }
   ],
   "source": [
    "t = tf.constant([[1., 2., 3.], [4., 5., 6.], [7., 8., 9.]])\n",
    "t.shape"
   ]
  },
  {
   "cell_type": "code",
   "execution_count": 16,
   "metadata": {},
   "outputs": [
    {
     "data": {
      "text/plain": [
       "tf.float32"
      ]
     },
     "execution_count": 16,
     "metadata": {},
     "output_type": "execute_result"
    }
   ],
   "source": [
    "t.dtype"
   ]
  },
  {
   "cell_type": "markdown",
   "metadata": {},
   "source": [
    "### 1.2 Tensor Indexing"
   ]
  },
  {
   "cell_type": "code",
   "execution_count": 17,
   "metadata": {},
   "outputs": [
    {
     "data": {
      "text/plain": [
       "<tf.Tensor: shape=(3, 2), dtype=float32, numpy=\n",
       "array([[2., 3.],\n",
       "       [5., 6.],\n",
       "       [8., 9.]], dtype=float32)>"
      ]
     },
     "execution_count": 17,
     "metadata": {},
     "output_type": "execute_result"
    }
   ],
   "source": [
    "t[:, 1:3]"
   ]
  },
  {
   "cell_type": "code",
   "execution_count": 18,
   "metadata": {},
   "outputs": [
    {
     "data": {
      "text/plain": [
       "<tf.Tensor: shape=(3, 2, 1), dtype=float32, numpy=\n",
       "array([[[2.],\n",
       "        [3.]],\n",
       "\n",
       "       [[5.],\n",
       "        [6.]],\n",
       "\n",
       "       [[8.],\n",
       "        [9.]]], dtype=float32)>"
      ]
     },
     "execution_count": 18,
     "metadata": {},
     "output_type": "execute_result"
    }
   ],
   "source": [
    "t[..., 1:3, tf.newaxis]"
   ]
  },
  {
   "cell_type": "markdown",
   "metadata": {},
   "source": [
    "### 1.3 Tensor Operations\n",
    "\n",
    "Let's see how we can implement addition, element exponential, and matrix multiplication."
   ]
  },
  {
   "cell_type": "code",
   "execution_count": 19,
   "metadata": {},
   "outputs": [
    {
     "data": {
      "text/plain": [
       "<tf.Tensor: shape=(3, 3), dtype=float32, numpy=\n",
       "array([[12., 13., 14.],\n",
       "       [15., 16., 17.],\n",
       "       [18., 19., 20.]], dtype=float32)>"
      ]
     },
     "execution_count": 19,
     "metadata": {},
     "output_type": "execute_result"
    }
   ],
   "source": [
    "# addition\n",
    "t + 11"
   ]
  },
  {
   "cell_type": "code",
   "execution_count": 20,
   "metadata": {},
   "outputs": [
    {
     "data": {
      "text/plain": [
       "<tf.Tensor: shape=(3, 3), dtype=float32, numpy=\n",
       "array([[2.7182817e+00, 7.3890562e+00, 2.0085537e+01],\n",
       "       [5.4598148e+01, 1.4841316e+02, 4.0342877e+02],\n",
       "       [1.0966332e+03, 2.9809578e+03, 8.1030840e+03]], dtype=float32)>"
      ]
     },
     "execution_count": 20,
     "metadata": {},
     "output_type": "execute_result"
    }
   ],
   "source": [
    "# element-wise exponential\n",
    "tf.math.exp(t)"
   ]
  },
  {
   "cell_type": "code",
   "execution_count": 21,
   "metadata": {},
   "outputs": [
    {
     "data": {
      "text/plain": [
       "<tf.Tensor: shape=(3, 3), dtype=float32, numpy=\n",
       "array([[1118903.2, 1374810.9, 1630719.2],\n",
       "       [2533873.2, 3113405.5, 3692935.2],\n",
       "       [3948843.2, 4851997. , 5755151. ]], dtype=float32)>"
      ]
     },
     "execution_count": 21,
     "metadata": {},
     "output_type": "execute_result"
    }
   ],
   "source": [
    "# matrix exponential. See http://mathworld.wolfram.com/MatrixExponential.html \n",
    "tf.linalg.expm(t)"
   ]
  },
  {
   "cell_type": "markdown",
   "metadata": {},
   "source": [
    "**Exercise 0:** multiply the matrix `t` for its transpose (matrix multiplication)\n",
    "Hint. You can also use the new matrix multiplication operator `@` if you have Python 3.5 or greater (which you should have): https://docs.python.org/3/whatsnew/3.5.html#whatsnew-pep-465"
   ]
  },
  {
   "cell_type": "code",
   "execution_count": 22,
   "metadata": {},
   "outputs": [
    {
     "data": {
      "text/plain": [
       "<tf.Tensor: shape=(3, 3), dtype=float32, numpy=\n",
       "array([[ 14.,  32.,  50.],\n",
       "       [ 32.,  77., 122.],\n",
       "       [ 50., 122., 194.]], dtype=float32)>"
      ]
     },
     "execution_count": 22,
     "metadata": {},
     "output_type": "execute_result"
    }
   ],
   "source": [
    "# Write your solution here: matrix multiplication\n",
    "\n",
    "t @ tf.transpose(t)"
   ]
  },
  {
   "cell_type": "markdown",
   "metadata": {},
   "source": [
    "### 1.4 Tensorflow Tensors and NumPy Arrays\n",
    "\n",
    "Coversions are very easy."
   ]
  },
  {
   "cell_type": "code",
   "execution_count": 23,
   "metadata": {},
   "outputs": [
    {
     "data": {
      "text/plain": [
       "array([[1., 2., 3.],\n",
       "       [4., 5., 6.],\n",
       "       [7., 8., 9.]], dtype=float32)"
      ]
     },
     "execution_count": 23,
     "metadata": {},
     "output_type": "execute_result"
    }
   ],
   "source": [
    "arr = t.numpy()\n",
    "arr"
   ]
  },
  {
   "cell_type": "code",
   "execution_count": 24,
   "metadata": {},
   "outputs": [
    {
     "data": {
      "text/plain": [
       "<tf.Tensor: shape=(3, 3), dtype=float32, numpy=\n",
       "array([[1., 2., 3.],\n",
       "       [4., 5., 6.],\n",
       "       [7., 8., 9.]], dtype=float32)>"
      ]
     },
     "execution_count": 24,
     "metadata": {},
     "output_type": "execute_result"
    }
   ],
   "source": [
    "tf.constant(arr)"
   ]
  },
  {
   "cell_type": "code",
   "execution_count": 25,
   "metadata": {},
   "outputs": [
    {
     "data": {
      "text/plain": [
       "array([[1., 2., 3.],\n",
       "       [4., 5., 6.],\n",
       "       [7., 8., 9.]], dtype=float32)"
      ]
     },
     "execution_count": 25,
     "metadata": {},
     "output_type": "execute_result"
    }
   ],
   "source": [
    "np.array(t)"
   ]
  },
  {
   "cell_type": "markdown",
   "metadata": {},
   "source": [
    "### 1.5 tf.Variable\n",
    "\n",
    "A `tf.Variable` object is just a mutable `tf.Tensor`. This can be used to store learned parameters such as connection weights and biases."
   ]
  },
  {
   "cell_type": "code",
   "execution_count": 26,
   "metadata": {},
   "outputs": [
    {
     "data": {
      "text/plain": [
       "<tf.Variable 'Variable:0' shape=(3, 3) dtype=float32, numpy=\n",
       "array([[1., 2., 3.],\n",
       "       [4., 5., 6.],\n",
       "       [7., 8., 9.]], dtype=float32)>"
      ]
     },
     "execution_count": 26,
     "metadata": {},
     "output_type": "execute_result"
    }
   ],
   "source": [
    "v = tf.Variable(t)\n",
    "v"
   ]
  },
  {
   "cell_type": "code",
   "execution_count": 27,
   "metadata": {},
   "outputs": [
    {
     "data": {
      "text/plain": [
       "<tf.Variable 'Variable:0' shape=(3, 3) dtype=float32, numpy=\n",
       "array([[ 2.,  4.,  6.],\n",
       "       [ 8., 10., 12.],\n",
       "       [14., 16., 18.]], dtype=float32)>"
      ]
     },
     "execution_count": 27,
     "metadata": {},
     "output_type": "execute_result"
    }
   ],
   "source": [
    "v.assign_add(t)\n",
    "v"
   ]
  },
  {
   "cell_type": "markdown",
   "metadata": {},
   "source": [
    "### 1.5 Tensor Arrays"
   ]
  },
  {
   "cell_type": "code",
   "execution_count": 28,
   "metadata": {},
   "outputs": [],
   "source": [
    "# Write value into index index of the TensorArray.\n",
    "array = tf.TensorArray(dtype=tf.float32, size=3)\n",
    "array = array.write(0, tf.constant([1., 2.]))\n",
    "array = array.write(1, tf.constant([3., 10.]))\n",
    "array = array.write(2, tf.constant([5., 7.]))"
   ]
  },
  {
   "cell_type": "code",
   "execution_count": 29,
   "metadata": {},
   "outputs": [
    {
     "data": {
      "text/plain": [
       "<tf.Tensor: shape=(2,), dtype=float32, numpy=array([ 3., 10.], dtype=float32)>"
      ]
     },
     "execution_count": 29,
     "metadata": {},
     "output_type": "execute_result"
    }
   ],
   "source": [
    "# Read the value at location index in the TensorArray.\n",
    "array.read(1)"
   ]
  },
  {
   "cell_type": "code",
   "execution_count": 30,
   "metadata": {},
   "outputs": [
    {
     "data": {
      "text/plain": [
       "<tf.Tensor: shape=(3, 2), dtype=float32, numpy=\n",
       "array([[1., 2.],\n",
       "       [0., 0.],\n",
       "       [5., 7.]], dtype=float32)>"
      ]
     },
     "execution_count": 30,
     "metadata": {},
     "output_type": "execute_result"
    }
   ],
   "source": [
    "# Return the values in the TensorArray as a stacked Tensor.\n",
    "array.stack()"
   ]
  },
  {
   "cell_type": "markdown",
   "metadata": {},
   "source": [
    "## 2. Implementing MLPs with Keras: an Image Classifier using the Sequential API\n",
    "\n",
    "We will now see how we can implement, train, and validate a Multi-layer Perceptron (MLP) using Keras (as a submodule of TensorFlow).\n",
    "\n",
    "We will use as dataset the popular Fashion MNIST dataset (https://www.kaggle.com/datasets/zalando-research/fashionmnist)"
   ]
  },
  {
   "cell_type": "markdown",
   "metadata": {},
   "source": [
    "### 6.1.2 Load the Fashion MNIST dataset with Keras"
   ]
  },
  {
   "cell_type": "code",
   "execution_count": 31,
   "metadata": {},
   "outputs": [],
   "source": [
    "fashion_mnist = keras.datasets.fashion_mnist\n",
    "(\n",
    "    X_train_full, y_train_full\n",
    "), (\n",
    "    X_test, y_test\n",
    ") = fashion_mnist.load_data()\n",
    "# There are 10 classes in the Fashion MNIST dataset\n",
    "class_names = [\n",
    "    \"T-shirt/top\", \"Trouser\", \"Pullover\", \"Dress\", \"Coat\",\n",
    "    \"Sandal\", \"Shirt\", \"Sneaker\", \"Bag\", \"Ankle boot\"\n",
    "]"
   ]
  },
  {
   "cell_type": "code",
   "execution_count": 32,
   "metadata": {},
   "outputs": [
    {
     "data": {
      "text/plain": [
       "((60000, 28, 28), dtype('uint8'))"
      ]
     },
     "execution_count": 32,
     "metadata": {},
     "output_type": "execute_result"
    }
   ],
   "source": [
    "X_train_full.shape, X_train_full.dtype"
   ]
  },
  {
   "cell_type": "markdown",
   "metadata": {},
   "source": [
    "We can use `imshow()` from matplotlib to display one or more of the images in the training set."
   ]
  },
  {
   "cell_type": "code",
   "execution_count": 33,
   "metadata": {
    "scrolled": true
   },
   "outputs": [
    {
     "data": {
      "image/png": "[encoded data removed]",
      "text/plain": [
       "<Figure size 640x480 with 1 Axes>"
      ]
     },
     "metadata": {},
     "output_type": "display_data"
    }
   ],
   "source": [
    "plt.imshow(X_train_full[1], cmap=\"binary\")\n",
    "plt.axis('off')\n",
    "plt.show()"
   ]
  },
  {
   "cell_type": "code",
   "execution_count": 34,
   "metadata": {
    "scrolled": true
   },
   "outputs": [
    {
     "data": {
      "image/png": "[encoded data removed]",
      "text/plain": [
       "<Figure size 640x480 with 1 Axes>"
      ]
     },
     "metadata": {},
     "output_type": "display_data"
    }
   ],
   "source": [
    "plt.imshow(X_train_full[0], cmap=\"binary\")\n",
    "plt.axis('off')\n",
    "plt.show()"
   ]
  },
  {
   "cell_type": "code",
   "execution_count": 35,
   "metadata": {},
   "outputs": [
    {
     "data": {
      "text/plain": [
       "0"
      ]
     },
     "execution_count": 35,
     "metadata": {},
     "output_type": "execute_result"
    }
   ],
   "source": [
    "y_train_full[1]"
   ]
  },
  {
   "cell_type": "markdown",
   "metadata": {},
   "source": [
    "Here, we perform a rough min-max scaling."
   ]
  },
  {
   "cell_type": "code",
   "execution_count": 36,
   "metadata": {},
   "outputs": [
    {
     "data": {
      "text/plain": [
       "255"
      ]
     },
     "execution_count": 36,
     "metadata": {},
     "output_type": "execute_result"
    }
   ],
   "source": [
    "X_train_full.max()"
   ]
  },
  {
   "cell_type": "code",
   "execution_count": 37,
   "metadata": {},
   "outputs": [
    {
     "name": "stdout",
     "output_type": "stream",
     "text": [
      "X_diff =  255\n"
     ]
    }
   ],
   "source": [
    "X_diff = X_train_full.max() - X_train_full.min()\n",
    "print('X_diff = ', X_diff)\n",
    "X_valid, X_train = X_train_full[:5000]/X_diff, X_train_full[5000:]/X_diff\n",
    "y_valid, y_train = y_train_full[:5000], y_train_full[5000:]"
   ]
  },
  {
   "cell_type": "code",
   "execution_count": 38,
   "metadata": {},
   "outputs": [
    {
     "data": {
      "text/plain": [
       "1.0"
      ]
     },
     "execution_count": 38,
     "metadata": {},
     "output_type": "execute_result"
    }
   ],
   "source": [
    "X_train.max()"
   ]
  },
  {
   "cell_type": "code",
   "execution_count": 39,
   "metadata": {},
   "outputs": [
    {
     "data": {
      "text/plain": [
       "'Coat'"
      ]
     },
     "execution_count": 39,
     "metadata": {},
     "output_type": "execute_result"
    }
   ],
   "source": [
    "class_names[y_train[0]]"
   ]
  },
  {
   "cell_type": "markdown",
   "metadata": {},
   "source": [
    "### 6.1.3 Create a Sequential Model with Keras\n",
    "\n",
    "Now we can just create our Deep Neural Network using the `Sequential` model.\n",
    "\n",
    "**Exercise 1:** complete the sequential model below. You will have to add two hidden `Dense` layers (with 300 and 100 nodes respectively and a suitable activation function) and one `Dense` output layer with an appropriare number of output nodes and an appropriate activation function. \n",
    "If it can help you, check:\n",
    "- `tf.keras` documentation about the `Sequential` class how to use it to build a MLP network: https://www.tensorflow.org/api_docs/python/tf/keras/Sequential\n",
    "- `tf.keras.layers` documentation about the `Dense` layer: https://www.tensorflow.org/api_docs/python/tf/keras/layers "
   ]
  },
  {
   "cell_type": "code",
   "execution_count": 40,
   "metadata": {},
   "outputs": [],
   "source": [
    "# Complete the code here:\n",
    "n_net = keras.models.Sequential([\n",
    "    keras.layers.Flatten(input_shape=[28, 28]), # this input layer just flattens our 28x28 images\n",
    "    keras.layers.Dense(300, activation='relu'),\n",
    "    keras.layers.Dense(100, activation='relu'),\n",
    "    keras.layers.Dense(10, activation='softmax')\n",
    "]) "
   ]
  },
  {
   "cell_type": "code",
   "execution_count": 41,
   "metadata": {
    "scrolled": true
   },
   "outputs": [
    {
     "name": "stdout",
     "output_type": "stream",
     "text": [
      "Model: \"sequential\"\n",
      "_________________________________________________________________\n",
      " Layer (type)                Output Shape              Param #   \n",
      "=================================================================\n",
      " flatten (Flatten)           (None, 784)               0         \n",
      "                                                                 \n",
      " dense (Dense)               (None, 300)               235500    \n",
      "                                                                 \n",
      " dense_1 (Dense)             (None, 100)               30100     \n",
      "                                                                 \n",
      " dense_2 (Dense)             (None, 10)                1010      \n",
      "                                                                 \n",
      "=================================================================\n",
      "Total params: 266,610\n",
      "Trainable params: 266,610\n",
      "Non-trainable params: 0\n",
      "_________________________________________________________________\n"
     ]
    }
   ],
   "source": [
    "n_net.summary()"
   ]
  },
  {
   "cell_type": "markdown",
   "metadata": {},
   "source": [
    "Once you have correctly initialized your network/model, you can easily get a model’s list of layers, to fetch a layer by its index, or you can fetch it by name:"
   ]
  },
  {
   "cell_type": "code",
   "execution_count": 42,
   "metadata": {
    "scrolled": false
   },
   "outputs": [
    {
     "data": {
      "text/plain": [
       "[<keras.layers.reshaping.flatten.Flatten at 0x17da73100>,\n",
       " <keras.layers.core.dense.Dense at 0x17da73b80>,\n",
       " <keras.layers.core.dense.Dense at 0x17d921f90>,\n",
       " <keras.layers.core.dense.Dense at 0x17da73dc0>]"
      ]
     },
     "execution_count": 42,
     "metadata": {},
     "output_type": "execute_result"
    }
   ],
   "source": [
    "n_net.layers"
   ]
  },
  {
   "cell_type": "code",
   "execution_count": 43,
   "metadata": {},
   "outputs": [
    {
     "data": {
      "text/plain": [
       "<keras.layers.core.dense.Dense at 0x17da73b80>"
      ]
     },
     "execution_count": 43,
     "metadata": {},
     "output_type": "execute_result"
    }
   ],
   "source": [
    "first_hidden_layer = n_net.layers[1]\n",
    "first_hidden_layer"
   ]
  },
  {
   "cell_type": "markdown",
   "metadata": {},
   "source": [
    "# dense_2 or dense_4"
   ]
  },
  {
   "cell_type": "code",
   "execution_count": 44,
   "metadata": {},
   "outputs": [],
   "source": [
    "#first_hidden_layer = n_net.get_layer('dense_4')\n",
    "first_hidden_layer = n_net.get_layer('dense_2')\n",
    "\n",
    "weights, biases = first_hidden_layer.get_weights()"
   ]
  },
  {
   "cell_type": "code",
   "execution_count": 45,
   "metadata": {},
   "outputs": [
    {
     "data": {
      "text/plain": [
       "(array([[ 1.05800629e-01,  1.74522817e-01, -1.80918723e-01,\n",
       "         -1.22366153e-01, -1.08311087e-01,  8.76664519e-02,\n",
       "         -8.05760920e-02, -4.87592965e-02,  7.78205395e-02,\n",
       "         -1.57432705e-01],\n",
       "        [-2.03934565e-01,  2.17156291e-01, -1.79488853e-01,\n",
       "         -8.20164382e-02, -2.68247575e-02, -1.88118994e-01,\n",
       "         -1.55934960e-01,  1.74418747e-01,  7.92621672e-02,\n",
       "         -9.86422598e-03],\n",
       "        [ 1.82914734e-01,  3.18688750e-02,  1.75421298e-01,\n",
       "          1.05860680e-01, -1.58368289e-01,  1.17932051e-01,\n",
       "          2.04375088e-02,  2.02602148e-02, -1.06350288e-01,\n",
       "          3.18849683e-02],\n",
       "        [ 2.70485878e-02,  1.56370789e-01,  1.35276109e-01,\n",
       "          8.40531290e-02, -9.14644897e-02,  1.92195445e-01,\n",
       "          1.87911958e-01, -1.44182473e-01, -1.42900944e-01,\n",
       "          1.84530646e-01],\n",
       "        [ 1.65543050e-01,  9.13558006e-02,  2.86177397e-02,\n",
       "         -1.38675034e-01,  9.28718150e-02, -6.09424710e-02,\n",
       "         -2.06521854e-01, -4.69419807e-02, -1.29310101e-01,\n",
       "          1.61960483e-01],\n",
       "        [-9.79610384e-02,  9.93931890e-02, -1.55534431e-01,\n",
       "         -2.74800211e-02, -1.61250293e-01, -1.93664700e-01,\n",
       "          1.41563267e-01,  1.47002846e-01,  5.67686260e-02,\n",
       "         -4.53096926e-02],\n",
       "        [-1.26730666e-01,  9.07152295e-02,  7.62800872e-02,\n",
       "         -1.49543434e-02,  5.30152321e-02, -1.05769843e-01,\n",
       "         -1.20739274e-01,  3.33034694e-02, -1.42827213e-01,\n",
       "         -2.10835204e-01],\n",
       "        [ 8.00554752e-02, -1.13338783e-01,  9.34754312e-03,\n",
       "         -2.09873766e-02,  5.26443720e-02, -2.22664848e-01,\n",
       "         -2.24604949e-01, -4.61825728e-03,  1.63969904e-01,\n",
       "         -2.30103657e-01],\n",
       "        [ 9.07127857e-02,  1.09748244e-01, -2.80262083e-02,\n",
       "          3.02843750e-02,  1.24737889e-01,  1.12755567e-01,\n",
       "          1.13376707e-01, -1.88194543e-01, -1.17284954e-01,\n",
       "         -4.87912446e-02],\n",
       "        [-1.12916373e-01,  1.16145343e-01, -1.30950630e-01,\n",
       "          1.33040845e-01, -1.11716472e-01,  1.32696062e-01,\n",
       "         -1.32564530e-01, -1.06611773e-01, -1.33673340e-01,\n",
       "          1.17474049e-02],\n",
       "        [-5.12912869e-02,  1.68934733e-01,  1.52704418e-01,\n",
       "          1.88424885e-02, -1.86544672e-01,  3.17312777e-02,\n",
       "          1.84448063e-01, -2.28017837e-01,  9.26405489e-02,\n",
       "         -1.94759965e-01],\n",
       "        [ 1.40213102e-01, -1.24969259e-01,  1.21572912e-02,\n",
       "         -1.18690990e-01,  8.17311108e-02, -1.88992977e-01,\n",
       "         -4.64373827e-02,  2.70144045e-02, -7.01866150e-02,\n",
       "          1.14841640e-01],\n",
       "        [ 8.10382068e-02, -6.02321327e-02, -1.56201616e-01,\n",
       "          7.58606195e-02,  1.28794938e-01, -1.89984635e-01,\n",
       "         -3.62323225e-02,  1.75071269e-01,  9.98358727e-02,\n",
       "         -8.94062221e-03],\n",
       "        [-2.28183493e-01, -1.38875425e-01,  1.70423388e-01,\n",
       "         -1.73592716e-02,  9.98688340e-02,  1.78023249e-01,\n",
       "         -3.75736654e-02, -5.84174842e-02, -1.50252163e-01,\n",
       "         -2.25348309e-01],\n",
       "        [-1.98391706e-01, -2.17490211e-01,  1.54018193e-01,\n",
       "          1.85953647e-01, -5.67024648e-02,  1.26021445e-01,\n",
       "          1.63136125e-02, -1.30524158e-01,  2.16334134e-01,\n",
       "         -1.68885052e-01],\n",
       "        [-7.00812638e-02, -2.27731243e-01, -1.00993216e-02,\n",
       "          8.14858973e-02,  7.91659355e-02, -4.05822992e-02,\n",
       "          1.35874301e-01,  1.23494059e-01, -7.43763447e-02,\n",
       "         -1.42441332e-01],\n",
       "        [ 4.24000621e-02, -1.64459795e-01,  2.19356418e-01,\n",
       "          2.22913593e-01, -9.33960080e-02,  7.06880987e-02,\n",
       "         -4.31145281e-02,  2.26755559e-01,  2.33184069e-01,\n",
       "         -8.18682164e-02],\n",
       "        [ 9.17889476e-02, -1.13624878e-01,  9.00830626e-02,\n",
       "          2.29406506e-01,  1.25023782e-01, -2.14216799e-01,\n",
       "         -5.26006669e-02,  3.75288427e-02, -2.09131360e-01,\n",
       "          5.05702496e-02],\n",
       "        [ 1.32167131e-01,  2.30198711e-01, -4.52527404e-02,\n",
       "          1.08719289e-01,  3.28877568e-02,  8.36935937e-02,\n",
       "          1.70210958e-01, -2.12776631e-01,  2.42243111e-02,\n",
       "         -3.83984298e-02],\n",
       "        [-1.22737736e-02,  1.84567004e-01, -1.48821503e-01,\n",
       "          2.26158798e-02,  2.25460112e-01, -1.34851754e-01,\n",
       "         -2.10506231e-01,  4.86723185e-02,  4.64010835e-02,\n",
       "         -1.28698647e-01],\n",
       "        [-1.02510452e-02, -8.97535384e-02, -1.62289232e-01,\n",
       "          5.01420498e-02, -1.85990304e-01,  7.01183081e-02,\n",
       "         -7.56250769e-02, -2.23736793e-01, -1.29803121e-01,\n",
       "         -7.26927221e-02],\n",
       "        [-1.86890692e-01, -6.50354773e-02,  9.56265926e-02,\n",
       "         -1.95778236e-01, -5.57251871e-02, -1.40683502e-01,\n",
       "         -8.86319131e-02, -2.11776018e-01,  2.24629223e-01,\n",
       "         -2.30079889e-03],\n",
       "        [-1.31068289e-01,  6.12710416e-02,  1.50878191e-01,\n",
       "         -1.67665049e-01, -1.59325808e-01, -1.35922298e-01,\n",
       "         -7.08770305e-02,  1.19893909e-01, -2.98566669e-02,\n",
       "         -1.28457099e-01],\n",
       "        [ 2.20318109e-01, -9.19645131e-02,  1.61718875e-02,\n",
       "         -6.46934211e-02, -3.37793380e-02,  1.48485571e-01,\n",
       "          5.56380451e-02, -1.78141177e-01, -2.27279931e-01,\n",
       "         -1.00058928e-01],\n",
       "        [-1.81228817e-01, -1.86080903e-01,  1.38483524e-01,\n",
       "         -9.21763331e-02, -7.59761631e-02,  2.27956414e-01,\n",
       "          1.15076959e-01,  9.81514752e-02, -2.71101743e-02,\n",
       "          1.13266051e-01],\n",
       "        [ 1.68170333e-02, -1.05005383e-01,  7.91901052e-02,\n",
       "          5.68397343e-02,  1.17433906e-01,  1.60091609e-01,\n",
       "         -2.20318556e-01,  1.98082954e-01, -1.78428888e-01,\n",
       "         -3.08425277e-02],\n",
       "        [ 6.43610358e-02,  7.91586339e-02,  1.72208846e-01,\n",
       "          1.46058917e-01, -5.14395684e-02, -1.59607172e-01,\n",
       "         -2.17887282e-01, -1.62176803e-01, -1.61278754e-01,\n",
       "          1.78100914e-01],\n",
       "        [ 5.54183722e-02, -1.68958724e-01,  1.27634048e-01,\n",
       "         -2.12729126e-01,  1.62765980e-01,  1.87995881e-01,\n",
       "          1.21392250e-01,  1.49847895e-01,  1.86794132e-01,\n",
       "          3.93367410e-02],\n",
       "        [ 3.27937305e-03, -1.11495912e-01, -2.18326896e-01,\n",
       "          6.87416494e-02, -2.25932971e-01, -1.60377204e-01,\n",
       "         -1.74456984e-01, -2.33187690e-01, -4.44931090e-02,\n",
       "          1.25344723e-01],\n",
       "        [ 8.35915804e-02, -1.68592155e-01,  5.23188114e-02,\n",
       "         -1.73441559e-01,  2.91120112e-02,  1.92664355e-01,\n",
       "         -1.52175039e-01, -4.15438265e-02,  3.15282643e-02,\n",
       "         -1.44922882e-01],\n",
       "        [ 1.32262111e-01,  8.00780654e-02,  2.25562692e-01,\n",
       "         -1.57846212e-01,  1.90485716e-02, -1.47014767e-01,\n",
       "          7.92309642e-02, -1.86801195e-01, -2.19470739e-01,\n",
       "         -1.97195634e-01],\n",
       "        [ 1.20000422e-01,  1.49870813e-02, -7.44670480e-02,\n",
       "          1.45745724e-01,  1.73267722e-03, -1.02464303e-01,\n",
       "         -2.13865057e-01, -2.12716311e-02, -1.21321216e-01,\n",
       "         -1.50867552e-02],\n",
       "        [ 2.44029462e-02, -1.04735211e-01, -6.96389377e-03,\n",
       "          2.13612914e-01,  1.92485273e-01, -2.09946558e-01,\n",
       "          9.79075730e-02,  1.09352529e-01,  1.84274226e-01,\n",
       "         -1.41855121e-01],\n",
       "        [-2.20073000e-01, -8.02709609e-02, -1.75519347e-01,\n",
       "         -4.52836454e-02, -9.55246985e-02, -4.30190861e-02,\n",
       "         -1.07911736e-01,  1.13913029e-01,  1.47285223e-01,\n",
       "         -1.73580930e-01],\n",
       "        [ 1.31260931e-01,  1.62055194e-01,  1.54960632e-01,\n",
       "          1.85141534e-01, -2.03280970e-01, -1.64422929e-01,\n",
       "         -4.31791097e-02,  1.60101175e-01, -5.90291023e-02,\n",
       "          1.39027089e-02],\n",
       "        [-1.62233546e-01, -2.11257994e-01,  1.97971135e-01,\n",
       "         -1.62867770e-01,  1.63042843e-01,  4.75023687e-02,\n",
       "         -1.93500876e-01,  1.11387163e-01,  8.26121867e-02,\n",
       "          9.00472105e-02],\n",
       "        [ 2.18655586e-01, -2.06188262e-01, -2.08681509e-01,\n",
       "          8.10675025e-02, -8.76630992e-02, -6.41864240e-02,\n",
       "         -4.19103354e-02,  2.24792957e-02,  1.81850731e-01,\n",
       "         -1.92865089e-01],\n",
       "        [-1.42066211e-01, -9.50595737e-03,  2.22448707e-02,\n",
       "         -2.68279016e-03, -2.16509581e-01, -1.98810428e-01,\n",
       "          1.71750814e-01,  1.72513485e-01,  1.46527767e-01,\n",
       "          2.28505999e-01],\n",
       "        [ 2.31259763e-02, -1.41822487e-01, -2.08040595e-01,\n",
       "          1.49735659e-01,  4.10751998e-02,  9.51625407e-02,\n",
       "          1.63868845e-01,  1.95503265e-01,  1.12598538e-02,\n",
       "         -5.90184778e-02],\n",
       "        [-3.99099886e-02, -6.38997257e-02, -1.11766584e-01,\n",
       "          1.92589015e-01,  2.17084795e-01,  6.45429492e-02,\n",
       "         -2.22264722e-01,  1.15716159e-02,  5.75784743e-02,\n",
       "         -3.42781991e-02],\n",
       "        [-1.18649952e-01, -9.37964767e-02, -1.31107271e-01,\n",
       "          1.54106438e-01,  9.10332799e-03,  2.08072394e-01,\n",
       "          1.56704873e-01, -1.39643729e-01, -5.39972335e-02,\n",
       "         -1.10233977e-01],\n",
       "        [ 3.64744961e-02,  1.29816204e-01,  1.64277107e-01,\n",
       "          2.18286037e-01, -5.14013171e-02,  2.12285340e-01,\n",
       "         -1.67600065e-02, -1.68732703e-01,  1.74734682e-01,\n",
       "         -8.72427523e-02],\n",
       "        [-1.04187131e-02, -1.99675560e-02, -1.22050546e-01,\n",
       "         -1.64230764e-01, -1.24037296e-01,  8.63531530e-02,\n",
       "          6.53021932e-02, -1.99443102e-01, -6.56402409e-02,\n",
       "         -2.63022780e-02],\n",
       "        [-2.07293510e-01, -6.90266937e-02, -1.84373409e-02,\n",
       "         -1.31778792e-01, -8.01355839e-02, -1.40159130e-02,\n",
       "          1.40910000e-01,  2.17015743e-02,  1.65643722e-01,\n",
       "         -3.36721987e-02],\n",
       "        [ 1.93465531e-01,  2.15155840e-01,  9.84068811e-02,\n",
       "         -3.91449183e-02, -2.33106285e-01, -1.90840647e-01,\n",
       "          1.81433409e-01, -1.15419082e-01,  6.52432144e-02,\n",
       "          1.00844383e-01],\n",
       "        [-9.88657027e-02,  2.68956423e-02,  1.05559200e-01,\n",
       "          2.07524300e-01, -2.31050923e-01,  8.34346712e-02,\n",
       "         -3.30957770e-02,  1.16047174e-01, -2.57801414e-02,\n",
       "          1.00248098e-01],\n",
       "        [-2.14406729e-01, -1.98235840e-01, -2.01343551e-01,\n",
       "          2.28362620e-01, -2.09340841e-01,  7.75654018e-02,\n",
       "         -1.14141725e-01,  2.21384495e-01, -1.60954893e-02,\n",
       "          1.51452631e-01],\n",
       "        [-1.53648183e-01, -1.62208378e-01,  2.22134471e-01,\n",
       "         -9.99741852e-02,  2.24133492e-01,  1.15430564e-01,\n",
       "         -8.20079744e-02,  7.51048326e-02,  1.22956038e-02,\n",
       "          1.91695750e-01],\n",
       "        [-1.59103245e-01,  1.53924584e-01,  2.32284963e-01,\n",
       "          2.43024528e-02,  1.15736097e-01, -1.82358786e-01,\n",
       "         -1.02042407e-01,  1.08511597e-01, -4.10529375e-02,\n",
       "         -7.54568577e-02],\n",
       "        [ 9.80049372e-05,  4.18845415e-02, -1.54761553e-01,\n",
       "         -7.74786472e-02, -2.31426671e-01, -2.22082138e-01,\n",
       "          1.09511614e-03,  8.95021856e-02,  1.69942349e-01,\n",
       "          1.18273765e-01],\n",
       "        [ 1.18943244e-01, -4.00063396e-03,  1.32123798e-01,\n",
       "          9.14395452e-02,  2.05879509e-01, -8.74556601e-03,\n",
       "          1.52669907e-01,  9.41511095e-02,  2.24791378e-01,\n",
       "          2.01911002e-01],\n",
       "        [-1.79558784e-01,  1.90698326e-01,  1.43969983e-01,\n",
       "          1.81349367e-01, -5.94654381e-02, -2.23921269e-01,\n",
       "         -2.54231095e-02,  6.54562712e-02, -1.55198887e-01,\n",
       "         -1.45639807e-01],\n",
       "        [-1.76635236e-01, -1.92841813e-01, -1.66150093e-01,\n",
       "         -2.00564206e-01,  1.74949437e-01, -8.81695300e-02,\n",
       "          2.12516308e-01,  1.44840091e-01, -4.57145125e-02,\n",
       "          1.45971626e-01],\n",
       "        [-1.41506195e-01,  2.16589659e-01, -1.94819719e-01,\n",
       "         -1.29991606e-01,  1.81743652e-01,  2.72356272e-02,\n",
       "         -1.49410784e-01,  5.22816479e-02,  2.07041770e-01,\n",
       "         -1.99149981e-01],\n",
       "        [ 1.04980558e-01,  2.05037236e-01, -5.63683212e-02,\n",
       "         -1.12320632e-02,  1.07994020e-01,  1.71547532e-02,\n",
       "          1.60610944e-01,  1.53645724e-01,  1.25000983e-01,\n",
       "          3.76969576e-04],\n",
       "        [-2.65257955e-02, -9.04198885e-02,  1.59432501e-01,\n",
       "         -7.26044178e-04,  1.01633847e-01,  1.22762889e-01,\n",
       "         -9.53935087e-02,  2.07764238e-01,  6.72346056e-02,\n",
       "         -6.63299859e-02],\n",
       "        [-4.02419716e-02,  8.02593231e-02,  2.08587557e-01,\n",
       "         -3.70991230e-03, -4.55153286e-02, -1.34431630e-01,\n",
       "          1.69990808e-01,  1.88465834e-01, -1.42986640e-01,\n",
       "          1.90515280e-01],\n",
       "        [-1.51742220e-01,  7.80479908e-02, -7.47079253e-02,\n",
       "         -7.17056990e-02,  1.88390732e-01, -1.63441747e-02,\n",
       "         -1.04925260e-01, -1.26290053e-01, -3.83237600e-02,\n",
       "          7.07685649e-02],\n",
       "        [-5.90088367e-02,  7.13838339e-02,  8.85289609e-02,\n",
       "         -3.54276001e-02, -1.50743842e-01,  7.82293975e-02,\n",
       "         -1.68807924e-01,  1.74794078e-01, -9.27768201e-02,\n",
       "         -5.31700253e-02],\n",
       "        [-1.92337558e-01,  1.36231780e-01, -7.17776865e-02,\n",
       "          1.15612924e-01,  7.18378425e-02,  5.06731570e-02,\n",
       "          3.30881476e-02, -1.63247466e-01,  1.77203596e-01,\n",
       "         -9.81065333e-02],\n",
       "        [-3.08598578e-03, -3.29265594e-02,  1.95879906e-01,\n",
       "         -1.19720280e-01, -9.53774750e-02,  8.74430835e-02,\n",
       "         -1.63699508e-01, -7.98997134e-02, -1.96775049e-02,\n",
       "          1.15576953e-01],\n",
       "        [-4.52963412e-02, -3.38600725e-02, -2.00636327e-01,\n",
       "         -1.59321576e-01, -4.47618365e-02, -1.75993606e-01,\n",
       "          1.95568800e-03,  4.19985950e-02,  1.47413284e-01,\n",
       "          1.31790638e-02],\n",
       "        [-1.87724650e-01, -1.76589802e-01,  1.79054528e-01,\n",
       "          7.66166151e-02,  3.10861468e-02, -1.05121091e-01,\n",
       "         -1.00557119e-01,  1.95622832e-01,  3.81692946e-02,\n",
       "          5.91874123e-05],\n",
       "        [-1.53720230e-01,  2.07915664e-01,  3.02761793e-02,\n",
       "         -5.44034392e-02, -9.57939774e-02,  9.16106701e-02,\n",
       "         -9.53925103e-02,  2.06159711e-01, -1.92512676e-01,\n",
       "         -2.30163336e-02],\n",
       "        [-2.05039307e-01,  2.13913620e-01,  1.31173313e-01,\n",
       "         -2.19329968e-01, -6.14046901e-02, -7.19628930e-02,\n",
       "          2.26401091e-01,  6.34360015e-02,  2.76558101e-03,\n",
       "         -1.64727569e-01],\n",
       "        [-2.31071919e-01,  1.81057096e-01,  9.28729773e-03,\n",
       "         -2.18050659e-01,  8.90670717e-03,  9.66018736e-02,\n",
       "          1.28196955e-01, -1.80639148e-01,  1.05370939e-01,\n",
       "          2.11548507e-01],\n",
       "        [-3.00407410e-04, -1.44485280e-01, -4.92489040e-02,\n",
       "          3.57115269e-02,  6.89964592e-02, -1.90451249e-01,\n",
       "         -1.80788815e-01,  1.25389397e-01,  1.46743417e-01,\n",
       "         -1.78297132e-01],\n",
       "        [-2.81387419e-02, -1.16510794e-01, -1.44031852e-01,\n",
       "          1.85544610e-01, -2.16884673e-01, -7.55470097e-02,\n",
       "          1.99049860e-01,  4.68949378e-02, -1.05485812e-01,\n",
       "         -1.10854894e-01],\n",
       "        [ 2.11491853e-01, -2.24853233e-01, -8.54146928e-02,\n",
       "         -5.13933599e-02, -1.29883528e-01, -1.01019070e-01,\n",
       "          2.00742394e-01,  1.71614379e-01,  2.04748988e-01,\n",
       "          2.16985166e-01],\n",
       "        [-6.62658364e-02, -1.69183955e-01,  1.85687900e-01,\n",
       "          1.48754865e-02,  2.19507694e-01, -1.28238887e-01,\n",
       "         -1.01244301e-01,  1.58475131e-01, -1.40192658e-01,\n",
       "         -5.69165051e-02],\n",
       "        [ 7.87501037e-02, -1.78316116e-01, -2.06143051e-01,\n",
       "          1.65974200e-01, -2.19271556e-01, -1.44571036e-01,\n",
       "          1.36965215e-02, -4.39752638e-02,  1.72979444e-01,\n",
       "         -7.99757242e-03],\n",
       "        [-2.22170621e-01, -5.92777878e-02, -2.25199968e-01,\n",
       "         -7.30944127e-02, -7.64390528e-02,  1.29195631e-01,\n",
       "          1.00303441e-01,  1.72912508e-01,  1.97575063e-01,\n",
       "         -8.18174332e-02],\n",
       "        [-8.13837647e-02,  1.24475479e-01,  2.15765238e-01,\n",
       "          1.19152158e-01, -1.11877002e-01,  1.36268258e-01,\n",
       "          7.81379342e-02, -1.07051492e-01, -1.28180236e-02,\n",
       "          1.74166501e-01],\n",
       "        [ 9.40233469e-03, -1.70747250e-01,  1.96477175e-02,\n",
       "         -1.80042788e-01,  1.14460498e-01,  6.68573081e-02,\n",
       "         -2.25179151e-01, -1.11808456e-01,  1.59337223e-01,\n",
       "          2.24187762e-01],\n",
       "        [-1.00366294e-01,  1.74968272e-01,  1.47730798e-01,\n",
       "          9.88922715e-02, -2.16400847e-01, -2.97455192e-02,\n",
       "         -1.58462673e-02,  2.07172722e-01, -1.45681798e-01,\n",
       "          1.71900094e-01],\n",
       "        [-1.43639296e-02,  1.14078969e-01, -1.00911856e-02,\n",
       "         -2.27705181e-01, -1.98134720e-01, -1.84797183e-01,\n",
       "         -4.13517207e-02, -1.58819035e-01,  1.58754617e-01,\n",
       "          2.24708021e-01],\n",
       "        [-2.10973024e-02, -2.08168283e-01, -1.29789084e-01,\n",
       "         -1.94413126e-01,  1.37708157e-01, -9.20802802e-02,\n",
       "         -1.34172201e-01,  1.37833536e-01,  1.97181672e-01,\n",
       "         -2.28437960e-01],\n",
       "        [ 1.69143468e-01, -3.06613892e-02,  5.55094182e-02,\n",
       "         -5.96081465e-02, -6.55045956e-02, -1.40913129e-02,\n",
       "          7.92262256e-02,  1.49163276e-01,  1.04329944e-01,\n",
       "          9.00360644e-02],\n",
       "        [-2.71649659e-02, -6.44538105e-02, -9.86795127e-03,\n",
       "          7.02714920e-03, -1.51289463e-01,  1.94774061e-01,\n",
       "          2.15735883e-01, -6.49534613e-02,  7.36102462e-02,\n",
       "          1.88887358e-01],\n",
       "        [-5.63390851e-02, -1.61402538e-01, -1.59391165e-01,\n",
       "         -1.13768093e-01,  1.52859390e-01, -1.67705119e-03,\n",
       "         -8.42934102e-02,  1.16058975e-01,  6.20951653e-02,\n",
       "         -7.75616616e-02],\n",
       "        [ 2.01067626e-02, -3.64208072e-02, -1.89661890e-01,\n",
       "          6.75415695e-02,  1.46064669e-01,  1.30958319e-01,\n",
       "          7.30307698e-02,  4.35237885e-02, -1.57399073e-01,\n",
       "          3.38385701e-02],\n",
       "        [-9.93822515e-03,  2.20026374e-02, -1.88674927e-01,\n",
       "         -1.45277262e-01, -1.92769766e-01, -1.80148184e-02,\n",
       "          1.61757231e-01,  5.25171459e-02, -2.24090219e-01,\n",
       "         -2.11253375e-01],\n",
       "        [ 1.22686446e-01, -1.88628599e-01,  1.05528533e-01,\n",
       "         -3.61016393e-02,  2.08215773e-01,  1.59736067e-01,\n",
       "          1.11826777e-01, -1.38989747e-01,  1.89381242e-01,\n",
       "         -1.33852959e-01],\n",
       "        [ 2.21111298e-01,  1.65503830e-01, -2.00428620e-01,\n",
       "          2.14985490e-01, -7.76412338e-02,  2.22881526e-01,\n",
       "          7.73997903e-02,  1.70561671e-03,  1.12181485e-01,\n",
       "         -3.17401290e-02],\n",
       "        [-2.79971957e-03,  3.71975303e-02, -1.14960648e-01,\n",
       "         -1.03855312e-01, -5.88344932e-02,  1.81289613e-02,\n",
       "         -2.47488469e-02,  4.60810065e-02, -9.36864465e-02,\n",
       "          1.76344514e-02],\n",
       "        [-9.91538167e-04,  9.42381620e-02, -1.66780144e-01,\n",
       "         -9.86917019e-02,  2.28981555e-01,  8.90410244e-02,\n",
       "         -2.19464168e-01, -1.52798682e-01,  6.41417205e-02,\n",
       "         -2.17461199e-01],\n",
       "        [-1.46669656e-01,  3.90410423e-06,  1.54992908e-01,\n",
       "          1.41668171e-02,  6.25984669e-02,  1.83437467e-01,\n",
       "          2.70687938e-02, -1.55159235e-01, -9.99963433e-02,\n",
       "          7.71942735e-02],\n",
       "        [ 9.20973718e-03,  1.47332221e-01, -1.95274264e-01,\n",
       "         -1.19199760e-01, -5.95902205e-02, -4.34324145e-04,\n",
       "          1.98402107e-02,  1.19685858e-01,  4.81090844e-02,\n",
       "         -1.18706413e-01],\n",
       "        [-1.77125856e-01,  1.80802196e-01,  2.28932917e-01,\n",
       "         -7.72929937e-02, -1.58690751e-01,  4.41618264e-03,\n",
       "         -1.54143095e-01, -1.31044239e-01, -5.30340970e-02,\n",
       "          1.70829207e-01],\n",
       "        [-1.26696259e-01, -6.73726350e-02,  1.53594732e-01,\n",
       "          1.84077770e-01, -1.64594650e-01,  4.79101837e-02,\n",
       "         -1.40225232e-01,  1.93648100e-01, -7.05476552e-02,\n",
       "          1.41743094e-01],\n",
       "        [ 5.82809150e-02,  2.76432931e-02, -5.88137209e-02,\n",
       "          1.19779468e-01, -3.13741267e-02, -1.51543438e-01,\n",
       "          9.71764624e-02,  1.39444619e-01, -1.49343252e-01,\n",
       "         -1.11376137e-01],\n",
       "        [-1.09059297e-01,  7.96859562e-02,  9.15248990e-02,\n",
       "          2.05507606e-01,  3.64041328e-03,  7.01728761e-02,\n",
       "         -1.49278373e-01,  1.08125508e-01,  1.57061577e-01,\n",
       "          1.07278734e-01],\n",
       "        [ 1.87410980e-01,  5.95477819e-02, -1.68540493e-01,\n",
       "         -1.83670893e-01, -1.46020174e-01,  1.84732765e-01,\n",
       "          1.10487729e-01,  1.80117190e-01, -9.75385308e-04,\n",
       "         -1.35354608e-01],\n",
       "        [-1.66052878e-01, -1.77924007e-01,  1.24792516e-01,\n",
       "          8.50591063e-03, -2.00254500e-01, -3.91738117e-03,\n",
       "         -1.37705803e-01, -1.92135811e-01,  2.20300138e-01,\n",
       "          1.11964762e-01],\n",
       "        [ 1.97538763e-01,  1.04277223e-01, -1.20024703e-01,\n",
       "          2.03099370e-01,  2.46376395e-02,  6.85302913e-03,\n",
       "          2.19865680e-01,  1.50072426e-02,  1.26709014e-01,\n",
       "         -4.41688150e-02],\n",
       "        [-1.07512206e-01, -2.54614651e-03,  2.19617397e-01,\n",
       "         -1.07862011e-01, -2.93757915e-02, -2.14667469e-02,\n",
       "         -2.17746079e-01, -1.16235055e-01, -4.33836877e-02,\n",
       "         -1.50391087e-01],\n",
       "        [ 2.01540619e-01,  5.41329384e-02,  6.81573153e-02,\n",
       "         -1.31272137e-01,  4.29652929e-02,  1.29236430e-02,\n",
       "          1.35067552e-02,  8.27364624e-02,  1.15634352e-02,\n",
       "         -8.96361470e-03],\n",
       "        [ 2.32405812e-01,  1.10757291e-01, -1.57937244e-01,\n",
       "          7.02714622e-02,  1.55627817e-01, -1.81790382e-01,\n",
       "         -1.64825469e-02, -2.24472970e-01, -2.13346422e-01,\n",
       "          1.34401381e-01],\n",
       "        [ 1.20830357e-01, -1.05189979e-02,  6.72489107e-02,\n",
       "         -1.20950088e-01, -5.03679663e-02,  7.68131316e-02,\n",
       "          1.50187522e-01, -1.87010407e-01, -3.03830355e-02,\n",
       "         -6.60332590e-02],\n",
       "        [ 7.31621683e-02, -2.26844609e-01,  4.08187807e-02,\n",
       "          1.71591938e-01,  1.59029841e-01, -2.06602216e-01,\n",
       "          2.25005090e-01, -8.93320143e-02, -2.04913750e-01,\n",
       "         -2.17086688e-01]], dtype=float32),\n",
       " (100, 10))"
      ]
     },
     "execution_count": 45,
     "metadata": {},
     "output_type": "execute_result"
    }
   ],
   "source": [
    "weights, weights.shape"
   ]
  },
  {
   "cell_type": "code",
   "execution_count": 46,
   "metadata": {
    "scrolled": true
   },
   "outputs": [
    {
     "data": {
      "text/plain": [
       "(array([0., 0., 0., 0., 0., 0., 0., 0., 0., 0.], dtype=float32), (10,))"
      ]
     },
     "execution_count": 46,
     "metadata": {},
     "output_type": "execute_result"
    }
   ],
   "source": [
    "biases, biases.shape"
   ]
  },
  {
   "cell_type": "markdown",
   "metadata": {},
   "source": [
    "Notice that the Dense layer initialized the connection weights randomly and the biases were initialized to zeros, which is fine."
   ]
  },
  {
   "cell_type": "markdown",
   "metadata": {},
   "source": [
    "### 6.1.3 Compile the Sequential Model with Keras"
   ]
  },
  {
   "cell_type": "markdown",
   "metadata": {},
   "source": [
    "Once you have created a model, you must call its `compile()` method to specify the loss function and the optimizer to use. You can also optionally specify a list of extra metrics to compute during training and evaluation.  For a full lists of losses, optimizers and metrics see https://keras.io/losses, https://keras.io/optimizers, and https://keras.io/metrics."
   ]
  },
  {
   "cell_type": "markdown",
   "metadata": {},
   "source": [
    "## Potentially you could encounter a recent issue (Graph Execution Error) if you're running the latest version of TensorFlow (2.11 as of March 2023)\n",
    "\n",
    "This is known by the community and appears to be an bug: \n",
    "Threads: \n",
    "https://github.com/keras-team/keras/issues/17368\n",
    "\n",
    "https://developer.apple.com/forums/thread/722873\n",
    "\n",
    "\n",
    "## A simple fix would be to change the optimisers - the preference would be for legacy ones which do work...\n"
   ]
  },
  {
   "cell_type": "code",
   "execution_count": 47,
   "metadata": {},
   "outputs": [
    {
     "data": {
      "text/plain": [
       "keras.optimizers.sgd.SGD"
      ]
     },
     "execution_count": 47,
     "metadata": {},
     "output_type": "execute_result"
    }
   ],
   "source": [
    "keras.optimizers.SGD"
   ]
  },
  {
   "cell_type": "code",
   "execution_count": 48,
   "metadata": {},
   "outputs": [
    {
     "data": {
      "text/plain": [
       "<module 'keras.api._v2.keras.optimizers.legacy' from '/Users/nick/anaconda3/lib/python3.10/site-packages/keras/api/_v2/keras/optimizers/legacy/__init__.py'>"
      ]
     },
     "execution_count": 48,
     "metadata": {},
     "output_type": "execute_result"
    }
   ],
   "source": [
    "keras.optimizers.legacy"
   ]
  },
  {
   "cell_type": "code",
   "execution_count": 51,
   "metadata": {
    "scrolled": true
   },
   "outputs": [
    {
     "data": {
      "text/plain": [
       "keras.optimizers.adam.Adam"
      ]
     },
     "execution_count": 51,
     "metadata": {},
     "output_type": "execute_result"
    }
   ],
   "source": [
    "keras.optimizers.Adam"
   ]
  },
  {
   "cell_type": "markdown",
   "metadata": {},
   "source": [
    "## What's the difference between SGD and Adam? (Courtesy of ChatGPT):\n",
    "\n",
    "- SGD (Stochastic Gradient Descent): It is a classic optimization algorithm that aims to minimize the cost function by iteratively adjusting the model weights based on the gradients of the cost function with respect to the weights. In other words, SGD updates the weights in the direction of the negative gradient of the cost function.\n",
    "- Adam (Adaptive Moment Estimation): It is a more advanced optimization algorithm that combines the benefits of both the Adagrad and RMSprop algorithms. Adam uses adaptive learning rates for each weight, which are calculated based on the first and second moments of the gradients. This enables Adam to converge faster than SGD and to handle sparse gradients more efficiently."
   ]
  },
  {
   "cell_type": "code",
   "execution_count": 54,
   "metadata": {},
   "outputs": [],
   "source": [
    "# Write your solution here:\n",
    "\n",
    "n_net.compile(\n",
    "    loss=keras.losses.sparse_categorical_crossentropy,\n",
    "    optimizer=keras.optimizers.legacy.SGD(learning_rate=0.01),\n",
    "    metrics=[keras.metrics.sparse_categorical_accuracy]\n",
    ")"
   ]
  },
  {
   "cell_type": "markdown",
   "metadata": {},
   "source": [
    "The `sparse_categorical_crossentropy` loss is used here because we have sparse labels (i.e., for each instance, there is just a target class index, from 0 to 9 in this case), and the classes are exclusive. On the other hand, if we had one target probability per class for each instance (such as one-hot vectors, e.g. [1., 0., 0., 0., 0., 0., 0., 0., 0., 0.] to represent class 0, and so on upt to class 9), then the `categorical_crossentropy` loss would be used. If we were aiming for binary classification (with one or more binary labels), then we would have chosen the \"sigmoid\" (i.e., logistic) activation function in the output layer rather than the \"softmax\" activation function, and we would have to use the \"binary_crossentropy\" loss."
   ]
  },
  {
   "cell_type": "code",
   "execution_count": 55,
   "metadata": {
    "scrolled": true
   },
   "outputs": [
    {
     "name": "stdout",
     "output_type": "stream",
     "text": [
      "Epoch 1/30\n",
      "  56/1719 [..............................] - ETA: 1s - loss: 1.9187 - sparse_categorical_accuracy: 0.4191  "
     ]
    },
    {
     "name": "stderr",
     "output_type": "stream",
     "text": [
      "2023-04-29 20:20:24.826796: W tensorflow/tsl/platform/profile_utils/cpu_utils.cc:128] Failed to get CPU frequency: 0 Hz\n"
     ]
    },
    {
     "name": "stdout",
     "output_type": "stream",
     "text": [
      "1719/1719 [==============================] - 2s 951us/step - loss: 0.7277 - sparse_categorical_accuracy: 0.7585 - val_loss: 0.5503 - val_sparse_categorical_accuracy: 0.8110\n",
      "Epoch 2/30\n",
      "1719/1719 [==============================] - 2s 917us/step - loss: 0.4896 - sparse_categorical_accuracy: 0.8296 - val_loss: 0.4513 - val_sparse_categorical_accuracy: 0.8424\n",
      "Epoch 3/30\n",
      "1719/1719 [==============================] - 2s 1ms/step - loss: 0.4446 - sparse_categorical_accuracy: 0.8434 - val_loss: 0.4379 - val_sparse_categorical_accuracy: 0.8504\n",
      "Epoch 4/30\n",
      "1719/1719 [==============================] - 2s 932us/step - loss: 0.4176 - sparse_categorical_accuracy: 0.8535 - val_loss: 0.4156 - val_sparse_categorical_accuracy: 0.8566\n",
      "Epoch 5/30\n",
      "1719/1719 [==============================] - 2s 921us/step - loss: 0.3974 - sparse_categorical_accuracy: 0.8600 - val_loss: 0.3838 - val_sparse_categorical_accuracy: 0.8692\n",
      "Epoch 6/30\n",
      "1719/1719 [==============================] - 2s 968us/step - loss: 0.3810 - sparse_categorical_accuracy: 0.8659 - val_loss: 0.3759 - val_sparse_categorical_accuracy: 0.8664\n",
      "Epoch 7/30\n",
      "1719/1719 [==============================] - 2s 997us/step - loss: 0.3669 - sparse_categorical_accuracy: 0.8710 - val_loss: 0.3638 - val_sparse_categorical_accuracy: 0.8714\n",
      "Epoch 8/30\n",
      "1719/1719 [==============================] - 2s 950us/step - loss: 0.3555 - sparse_categorical_accuracy: 0.8746 - val_loss: 0.3832 - val_sparse_categorical_accuracy: 0.8642\n",
      "Epoch 9/30\n",
      "1719/1719 [==============================] - 2s 997us/step - loss: 0.3454 - sparse_categorical_accuracy: 0.8773 - val_loss: 0.3601 - val_sparse_categorical_accuracy: 0.8708\n",
      "Epoch 10/30\n",
      "1719/1719 [==============================] - 2s 941us/step - loss: 0.3353 - sparse_categorical_accuracy: 0.8815 - val_loss: 0.3448 - val_sparse_categorical_accuracy: 0.8792\n",
      "Epoch 11/30\n",
      "1719/1719 [==============================] - 2s 927us/step - loss: 0.3277 - sparse_categorical_accuracy: 0.8830 - val_loss: 0.3506 - val_sparse_categorical_accuracy: 0.8762\n",
      "Epoch 12/30\n",
      "1719/1719 [==============================] - 2s 929us/step - loss: 0.3191 - sparse_categorical_accuracy: 0.8858 - val_loss: 0.3647 - val_sparse_categorical_accuracy: 0.8672\n",
      "Epoch 13/30\n",
      "1719/1719 [==============================] - 2s 945us/step - loss: 0.3125 - sparse_categorical_accuracy: 0.8872 - val_loss: 0.3421 - val_sparse_categorical_accuracy: 0.8804\n",
      "Epoch 14/30\n",
      "1719/1719 [==============================] - 2s 943us/step - loss: 0.3054 - sparse_categorical_accuracy: 0.8889 - val_loss: 0.3239 - val_sparse_categorical_accuracy: 0.8850\n",
      "Epoch 15/30\n",
      "1719/1719 [==============================] - 2s 938us/step - loss: 0.2987 - sparse_categorical_accuracy: 0.8919 - val_loss: 0.3197 - val_sparse_categorical_accuracy: 0.8900\n",
      "Epoch 16/30\n",
      "1719/1719 [==============================] - 2s 941us/step - loss: 0.2922 - sparse_categorical_accuracy: 0.8946 - val_loss: 0.3178 - val_sparse_categorical_accuracy: 0.8854\n",
      "Epoch 17/30\n",
      "1719/1719 [==============================] - 2s 947us/step - loss: 0.2866 - sparse_categorical_accuracy: 0.8969 - val_loss: 0.3119 - val_sparse_categorical_accuracy: 0.8872\n",
      "Epoch 18/30\n",
      "1719/1719 [==============================] - 2s 949us/step - loss: 0.2811 - sparse_categorical_accuracy: 0.8985 - val_loss: 0.3126 - val_sparse_categorical_accuracy: 0.8880\n",
      "Epoch 19/30\n",
      "1719/1719 [==============================] - 2s 941us/step - loss: 0.2750 - sparse_categorical_accuracy: 0.9000 - val_loss: 0.3241 - val_sparse_categorical_accuracy: 0.8838\n",
      "Epoch 20/30\n",
      "1719/1719 [==============================] - 2s 881us/step - loss: 0.2699 - sparse_categorical_accuracy: 0.9026 - val_loss: 0.3087 - val_sparse_categorical_accuracy: 0.8922\n",
      "Epoch 21/30\n",
      "1719/1719 [==============================] - 2s 875us/step - loss: 0.2652 - sparse_categorical_accuracy: 0.9039 - val_loss: 0.3186 - val_sparse_categorical_accuracy: 0.8854\n",
      "Epoch 22/30\n",
      "1719/1719 [==============================] - 2s 879us/step - loss: 0.2597 - sparse_categorical_accuracy: 0.9068 - val_loss: 0.3150 - val_sparse_categorical_accuracy: 0.8844\n",
      "Epoch 23/30\n",
      "1719/1719 [==============================] - 2s 875us/step - loss: 0.2563 - sparse_categorical_accuracy: 0.9064 - val_loss: 0.3170 - val_sparse_categorical_accuracy: 0.8876\n",
      "Epoch 24/30\n",
      "1719/1719 [==============================] - 2s 887us/step - loss: 0.2512 - sparse_categorical_accuracy: 0.9091 - val_loss: 0.3281 - val_sparse_categorical_accuracy: 0.8832\n",
      "Epoch 25/30\n",
      "1719/1719 [==============================] - 2s 876us/step - loss: 0.2459 - sparse_categorical_accuracy: 0.9111 - val_loss: 0.3030 - val_sparse_categorical_accuracy: 0.8918\n",
      "Epoch 26/30\n",
      "1719/1719 [==============================] - 1s 870us/step - loss: 0.2432 - sparse_categorical_accuracy: 0.9121 - val_loss: 0.3060 - val_sparse_categorical_accuracy: 0.8890\n",
      "Epoch 27/30\n",
      "1719/1719 [==============================] - 2s 879us/step - loss: 0.2377 - sparse_categorical_accuracy: 0.9144 - val_loss: 0.3233 - val_sparse_categorical_accuracy: 0.8834\n",
      "Epoch 28/30\n",
      "1719/1719 [==============================] - 2s 910us/step - loss: 0.2340 - sparse_categorical_accuracy: 0.9158 - val_loss: 0.3058 - val_sparse_categorical_accuracy: 0.8902\n",
      "Epoch 29/30\n",
      "1719/1719 [==============================] - 2s 884us/step - loss: 0.2298 - sparse_categorical_accuracy: 0.9180 - val_loss: 0.2948 - val_sparse_categorical_accuracy: 0.8918\n",
      "Epoch 30/30\n",
      "1719/1719 [==============================] - 2s 884us/step - loss: 0.2268 - sparse_categorical_accuracy: 0.9181 - val_loss: 0.3006 - val_sparse_categorical_accuracy: 0.8910\n"
     ]
    }
   ],
   "source": [
    "history = n_net.fit(\n",
    "    X_train,\n",
    "    y_train,\n",
    "    epochs=30,\n",
    "    validation_data=(X_valid, y_valid)\n",
    ")"
   ]
  },
  {
   "cell_type": "markdown",
   "metadata": {},
   "source": [
    "The `fit()` method returns a `History` object that contains:\n",
    "   * the training parameters (`history.params`)\n",
    "   * the list of epochs the model went through while training (`history.epoch`)\n",
    "   * a dictionary containing the loss and other extra metrics that were computed at the end of each epoch (`history.history`)\n",
    "    \n",
    "#### Learning curves\n",
    "    \n",
    "We can plot the loss and metrics evolutions over the epochs:"
   ]
  },
  {
   "cell_type": "code",
   "execution_count": 56,
   "metadata": {},
   "outputs": [
    {
     "data": {
      "image/png": "[encoded data removed]",
      "text/plain": [
       "<Figure size 800x500 with 1 Axes>"
      ]
     },
     "metadata": {},
     "output_type": "display_data"
    }
   ],
   "source": [
    "pd.DataFrame(history.history).plot(figsize=(8, 5))\n",
    "plt.grid(True)\n",
    "plt.gca().set_ylim(0, 1) # set the vertical range to [0-1]\n",
    "plt.show()"
   ]
  },
  {
   "cell_type": "markdown",
   "metadata": {},
   "source": [
    "If you are not satisfied with the performance of your model, you should go back and tune the hyperparameters. The first one to check is the learning rate. If that doesn’t help, try another optimizer (and always retune the learning rate after changing any hyperparameter). If the performance is still not great, then try tuning model hyperparameters such as the number of layers, the number of neurons per layer, and the types of activation functions to use for each hidden layer. You can also try tuning other hyperparameters, such as the batch size (it can be set in the fit() method using the batch_size argument, which defaults to 32). "
   ]
  },
  {
   "cell_type": "markdown",
   "metadata": {},
   "source": [
    "### 6.1.4 Evaluate the performance of the test set\n",
    "\n",
    "Once you are satisfied with your model’s validation accuracy, you should evaluate it on the test set to estimate the generalization error before you deploy the model to production. \n",
    "\n",
    "You can easily do this using the evaluate() method"
   ]
  },
  {
   "cell_type": "code",
   "execution_count": 57,
   "metadata": {},
   "outputs": [
    {
     "data": {
      "text/plain": [
       "[59.63842010498047, 0.8514000177383423]"
      ]
     },
     "execution_count": 57,
     "metadata": {},
     "output_type": "execute_result"
    }
   ],
   "source": [
    "n_net.evaluate(X_test, y_test, verbose=0)"
   ]
  },
  {
   "cell_type": "code",
   "execution_count": 58,
   "metadata": {},
   "outputs": [
    {
     "data": {
      "text/plain": [
       "['loss', 'sparse_categorical_accuracy']"
      ]
     },
     "execution_count": 58,
     "metadata": {},
     "output_type": "execute_result"
    }
   ],
   "source": [
    "n_net.metrics_names"
   ]
  },
  {
   "cell_type": "markdown",
   "metadata": {},
   "source": [
    "### 6.1.5 Use the model to make predictions"
   ]
  },
  {
   "cell_type": "code",
   "execution_count": 59,
   "metadata": {},
   "outputs": [
    {
     "name": "stdout",
     "output_type": "stream",
     "text": [
      "1/1 [==============================] - 0s 42ms/step\n"
     ]
    },
    {
     "data": {
      "text/plain": [
       "array([[0., 0., 0., 0., 0., 0., 0., 0., 0., 1.],\n",
       "       [0., 0., 1., 0., 0., 0., 0., 0., 0., 0.],\n",
       "       [0., 1., 0., 0., 0., 0., 0., 0., 0., 0.],\n",
       "       [0., 1., 0., 0., 0., 0., 0., 0., 0., 0.]], dtype=float32)"
      ]
     },
     "execution_count": 59,
     "metadata": {},
     "output_type": "execute_result"
    }
   ],
   "source": [
    "## We have no new data let's fake it from the test set!\n",
    "X_new = X_test[:4]\n",
    "y_prob = n_net.predict(X_new)\n",
    "y_prob.round(5)"
   ]
  },
  {
   "cell_type": "markdown",
   "metadata": {},
   "source": [
    "In this case you get a probability (0 to 1) for each class for every new instance submitted to the Network. You can directly get the class with highest probability using `numpy.argmax()`."
   ]
  },
  {
   "cell_type": "code",
   "execution_count": 60,
   "metadata": {},
   "outputs": [
    {
     "name": "stdout",
     "output_type": "stream",
     "text": [
      "313/313 [==============================] - 0s 442us/step\n"
     ]
    },
    {
     "data": {
      "text/plain": [
       "array([9, 2, 1, ..., 8, 1, 5])"
      ]
     },
     "execution_count": 60,
     "metadata": {},
     "output_type": "execute_result"
    }
   ],
   "source": [
    "predictions = n_net.predict(X_test) \n",
    "classes_ = np.argmax(predictions, axis=1)\n",
    "classes_"
   ]
  },
  {
   "cell_type": "code",
   "execution_count": 61,
   "metadata": {},
   "outputs": [
    {
     "data": {
      "text/plain": [
       "array(['Ankle boot', 'Pullover', 'Trouser', ..., 'Bag', 'Trouser',\n",
       "       'Sandal'], dtype='<U11')"
      ]
     },
     "execution_count": 61,
     "metadata": {},
     "output_type": "execute_result"
    }
   ],
   "source": [
    "np.array(class_names)[classes_]"
   ]
  },
  {
   "cell_type": "markdown",
   "metadata": {},
   "source": [
    "Has the classifier classified the images correctly? Do check it out!"
   ]
  },
  {
   "cell_type": "markdown",
   "metadata": {},
   "source": [
    "## 6.2 Building Complex Models Using the Functional API"
   ]
  },
  {
   "cell_type": "markdown",
   "metadata": {},
   "source": [
    "One example of a nonsequential neural network is a _Wide & Deep_ neural network. This neural network architecture was introduced in a 2016 paper by Heng-Tze Cheng et al. It connects all or part of the inputs directly to the output layer. This architecture makes it possible for the neural network to learn both deep patterns (using the deep path) and simple rules (through the short path).17 In contrast, a regular MLP forces all the data to flow through the full stack of layers; thus, simple patterns in the data may end up being distorted by this sequence of transformations.\n",
    "\n",
    "Let’s build such a neural network to tackle the Kings County housing problem. First let's import and preprocess the dataset:"
   ]
  },
  {
   "cell_type": "code",
   "execution_count": 62,
   "metadata": {
    "scrolled": true
   },
   "outputs": [
    {
     "data": {
      "text/plain": [
       "'/Users/nick'"
      ]
     },
     "execution_count": 62,
     "metadata": {},
     "output_type": "execute_result"
    }
   ],
   "source": [
    "import os\n",
    "current_path = os.getcwd()\n",
    "current_path"
   ]
  },
  {
   "cell_type": "markdown",
   "metadata": {},
   "source": [
    "## Switched relative path for absolute path in this one instance"
   ]
  },
  {
   "cell_type": "code",
   "execution_count": 63,
   "metadata": {},
   "outputs": [],
   "source": [
    "## Let's import the Kings County dataset\n",
    "\n",
    "housing = pd.read_csv(\"/Users/nick/datasets/kings_county_house_data.csv\", dtype={'zipcode': str})\n",
    "\n",
    "#housing = pd.read_csv(\"../datasets/kings_county_house_data.csv\", dtype={'zipcode': str})\n",
    "\n",
    "\n",
    "FEATURES_TO_SELECT = [\n",
    "    \"sqft_living\",\n",
    "    \"grade\",\n",
    "    \"bedrooms\",\n",
    "    \"bathrooms\",\n",
    "    \"sqft_living15\",\n",
    "    \"price\",\n",
    "]\n",
    "\n",
    "housing = housing[FEATURES_TO_SELECT]\n",
    "housing.dtypes\n",
    "X = housing.drop(columns='price')\n",
    "y = housing['price']"
   ]
  },
  {
   "cell_type": "code",
   "execution_count": 64,
   "metadata": {
    "scrolled": true
   },
   "outputs": [
    {
     "data": {
      "text/html": [
       "<div>\n",
       "<style scoped>\n",
       "    .dataframe tbody tr th:only-of-type {\n",
       "        vertical-align: middle;\n",
       "    }\n",
       "\n",
       "    .dataframe tbody tr th {\n",
       "        vertical-align: top;\n",
       "    }\n",
       "\n",
       "    .dataframe thead th {\n",
       "        text-align: right;\n",
       "    }\n",
       "</style>\n",
       "<table border=\"1\" class=\"dataframe\">\n",
       "  <thead>\n",
       "    <tr style=\"text-align: right;\">\n",
       "      <th></th>\n",
       "      <th>sqft_living</th>\n",
       "      <th>grade</th>\n",
       "      <th>bedrooms</th>\n",
       "      <th>bathrooms</th>\n",
       "      <th>sqft_living15</th>\n",
       "    </tr>\n",
       "  </thead>\n",
       "  <tbody>\n",
       "    <tr>\n",
       "      <th>0</th>\n",
       "      <td>1180</td>\n",
       "      <td>7</td>\n",
       "      <td>3</td>\n",
       "      <td>1.00</td>\n",
       "      <td>1340</td>\n",
       "    </tr>\n",
       "    <tr>\n",
       "      <th>1</th>\n",
       "      <td>2570</td>\n",
       "      <td>7</td>\n",
       "      <td>3</td>\n",
       "      <td>2.25</td>\n",
       "      <td>1690</td>\n",
       "    </tr>\n",
       "    <tr>\n",
       "      <th>2</th>\n",
       "      <td>770</td>\n",
       "      <td>6</td>\n",
       "      <td>2</td>\n",
       "      <td>1.00</td>\n",
       "      <td>2720</td>\n",
       "    </tr>\n",
       "    <tr>\n",
       "      <th>3</th>\n",
       "      <td>1960</td>\n",
       "      <td>7</td>\n",
       "      <td>4</td>\n",
       "      <td>3.00</td>\n",
       "      <td>1360</td>\n",
       "    </tr>\n",
       "    <tr>\n",
       "      <th>4</th>\n",
       "      <td>1680</td>\n",
       "      <td>8</td>\n",
       "      <td>3</td>\n",
       "      <td>2.00</td>\n",
       "      <td>1800</td>\n",
       "    </tr>\n",
       "    <tr>\n",
       "      <th>...</th>\n",
       "      <td>...</td>\n",
       "      <td>...</td>\n",
       "      <td>...</td>\n",
       "      <td>...</td>\n",
       "      <td>...</td>\n",
       "    </tr>\n",
       "    <tr>\n",
       "      <th>21608</th>\n",
       "      <td>1530</td>\n",
       "      <td>8</td>\n",
       "      <td>3</td>\n",
       "      <td>2.50</td>\n",
       "      <td>1530</td>\n",
       "    </tr>\n",
       "    <tr>\n",
       "      <th>21609</th>\n",
       "      <td>2310</td>\n",
       "      <td>8</td>\n",
       "      <td>4</td>\n",
       "      <td>2.50</td>\n",
       "      <td>1830</td>\n",
       "    </tr>\n",
       "    <tr>\n",
       "      <th>21610</th>\n",
       "      <td>1020</td>\n",
       "      <td>7</td>\n",
       "      <td>2</td>\n",
       "      <td>0.75</td>\n",
       "      <td>1020</td>\n",
       "    </tr>\n",
       "    <tr>\n",
       "      <th>21611</th>\n",
       "      <td>1600</td>\n",
       "      <td>8</td>\n",
       "      <td>3</td>\n",
       "      <td>2.50</td>\n",
       "      <td>1410</td>\n",
       "    </tr>\n",
       "    <tr>\n",
       "      <th>21612</th>\n",
       "      <td>1020</td>\n",
       "      <td>7</td>\n",
       "      <td>2</td>\n",
       "      <td>0.75</td>\n",
       "      <td>1020</td>\n",
       "    </tr>\n",
       "  </tbody>\n",
       "</table>\n",
       "<p>21613 rows × 5 columns</p>\n",
       "</div>"
      ],
      "text/plain": [
       "       sqft_living  grade  bedrooms  bathrooms  sqft_living15\n",
       "0             1180      7         3       1.00           1340\n",
       "1             2570      7         3       2.25           1690\n",
       "2              770      6         2       1.00           2720\n",
       "3             1960      7         4       3.00           1360\n",
       "4             1680      8         3       2.00           1800\n",
       "...            ...    ...       ...        ...            ...\n",
       "21608         1530      8         3       2.50           1530\n",
       "21609         2310      8         4       2.50           1830\n",
       "21610         1020      7         2       0.75           1020\n",
       "21611         1600      8         3       2.50           1410\n",
       "21612         1020      7         2       0.75           1020\n",
       "\n",
       "[21613 rows x 5 columns]"
      ]
     },
     "execution_count": 64,
     "metadata": {},
     "output_type": "execute_result"
    }
   ],
   "source": [
    "X"
   ]
  },
  {
   "cell_type": "code",
   "execution_count": 65,
   "metadata": {
    "scrolled": true
   },
   "outputs": [
    {
     "data": {
      "text/plain": [
       "0        221900.0\n",
       "1        538000.0\n",
       "2        180000.0\n",
       "3        604000.0\n",
       "4        510000.0\n",
       "           ...   \n",
       "21608    360000.0\n",
       "21609    400000.0\n",
       "21610    402101.0\n",
       "21611    400000.0\n",
       "21612    325000.0\n",
       "Name: price, Length: 21613, dtype: float64"
      ]
     },
     "execution_count": 65,
     "metadata": {},
     "output_type": "execute_result"
    }
   ],
   "source": [
    "y"
   ]
  },
  {
   "cell_type": "code",
   "execution_count": 66,
   "metadata": {},
   "outputs": [],
   "source": [
    "from sklearn.model_selection import train_test_split\n",
    "from sklearn.preprocessing import MinMaxScaler\n",
    "\n",
    "X_train_full, X_test, y_train_full, y_test = train_test_split(\n",
    "    X.values, y.values\n",
    ")\n",
    "X_train, X_val, y_train, y_val = train_test_split(\n",
    "    X_train_full, y_train_full\n",
    ")\n",
    "scaler = MinMaxScaler()\n",
    "X_train = scaler.fit_transform(X_train)\n",
    "X_val = scaler.transform(X_val)\n",
    "X_test = scaler.transform(X_test)"
   ]
  },
  {
   "cell_type": "code",
   "execution_count": 67,
   "metadata": {},
   "outputs": [
    {
     "data": {
      "text/plain": [
       "((12156, 5), (4053, 5), (5404, 5), (5,))"
      ]
     },
     "execution_count": 67,
     "metadata": {},
     "output_type": "execute_result"
    }
   ],
   "source": [
    "X_train.shape, X_val.shape, X_test.shape, X_train.shape[1:]\n"
   ]
  },
  {
   "cell_type": "code",
   "execution_count": 68,
   "metadata": {
    "scrolled": true
   },
   "outputs": [
    {
     "data": {
      "text/plain": [
       "array([[0.19893698, 0.7       , 0.09090909, 0.375     , 0.22831858],\n",
       "       [0.06529992, 0.3       , 0.12121212, 0.125     , 0.12530973],\n",
       "       [0.14654518, 0.5       , 0.09090909, 0.28125   , 0.3079646 ],\n",
       "       [0.09111617, 0.5       , 0.09090909, 0.25      , 0.2300885 ],\n",
       "       [0.29992407, 0.7       , 0.09090909, 0.28125   , 0.52566372],\n",
       "       [0.08200456, 0.5       , 0.09090909, 0.21875   , 0.24778761],\n",
       "       [0.13591496, 0.5       , 0.09090909, 0.1875    , 0.45132743]])"
      ]
     },
     "execution_count": 68,
     "metadata": {},
     "output_type": "execute_result"
    }
   ],
   "source": [
    "X_train[:7]"
   ]
  },
  {
   "cell_type": "code",
   "execution_count": 69,
   "metadata": {
    "scrolled": true
   },
   "outputs": [
    {
     "data": {
      "text/plain": [
       "((12156,), (4053,), (5404,), ())"
      ]
     },
     "execution_count": 69,
     "metadata": {},
     "output_type": "execute_result"
    }
   ],
   "source": [
    "y_train.shape, y_val.shape, y_test.shape, y_train.shape[1:]"
   ]
  },
  {
   "cell_type": "markdown",
   "metadata": {},
   "source": [
    "Now, let's design the Network:\n",
    "\n",
    "- First, we need to create an `Input` object. This is a specification of the kind of input the model will get, including its shape and dtype. A model may actually have multiple inputs, as we will see shortly.\n",
    "\n",
    "- Next, we create a `Dense` layer with 30 neurons, using the ReLU activation function. As soon as it is created, notice that we call it like a function, passing it the input. This is why this is called the Functional API. Note that we are just telling Keras how it should connect the layers together; no actual data is being processed yet.\n",
    "\n",
    "- We then create a second hidden layer, and again we use it as a function. Note that we pass it the output of the first hidden layer.\n",
    "\n",
    "- Next, we create a `Concatenate` layer, and once again we immediately use it like a function, to concatenate the input and the output of the second hidden layer. You may prefer the `keras.layers.concatenate()` function, which creates a `Concatenate` layer and immediately calls it with the given inputs.\n",
    "\n",
    "- Then we create the `output` layer, with a single neuron and no activation function, and we call it like a function, passing it the result of the concatenation.\n",
    "\n",
    "- Lastly, we create a Keras `Model`, specifying which inputs and outputs to use. Have a look at the Keras Model specifications here: https://www.tensorflow.org/api_docs/python/tf/keras/Model\n",
    "\n",
    "Once you have built the Keras model, everything is exactly like earlier, so there’s no need to repeat it here: you must compile the model, train it, evaluate it, and use it to make predictions."
   ]
  },
  {
   "cell_type": "code",
   "execution_count": 70,
   "metadata": {},
   "outputs": [],
   "source": [
    "input_0 = keras.layers.Input(shape=X_train.shape[1:])\n",
    "hidden_0 = keras.layers.Dense(100, activation='relu')(input_0)\n",
    "hidden_1 = keras.layers.Dense(30, activation='relu')(hidden_0)\n",
    "hidden_2 = keras.layers.Dense(20, activation='relu')(hidden_1)\n",
    "concat = keras.layers.Concatenate()([input_0, hidden_0, hidden_1, hidden_2])\n",
    "output = keras.layers.Dense(1)(concat)\n",
    "n_net = keras.Model(inputs=[input_0], outputs=[output])\n"
   ]
  },
  {
   "cell_type": "code",
   "execution_count": 71,
   "metadata": {},
   "outputs": [
    {
     "name": "stdout",
     "output_type": "stream",
     "text": [
      "Model: \"model\"\n",
      "__________________________________________________________________________________________________\n",
      " Layer (type)                   Output Shape         Param #     Connected to                     \n",
      "==================================================================================================\n",
      " input_1 (InputLayer)           [(None, 5)]          0           []                               \n",
      "                                                                                                  \n",
      " dense_3 (Dense)                (None, 100)          600         ['input_1[0][0]']                \n",
      "                                                                                                  \n",
      " dense_4 (Dense)                (None, 30)           3030        ['dense_3[0][0]']                \n",
      "                                                                                                  \n",
      " dense_5 (Dense)                (None, 20)           620         ['dense_4[0][0]']                \n",
      "                                                                                                  \n",
      " concatenate (Concatenate)      (None, 155)          0           ['input_1[0][0]',                \n",
      "                                                                  'dense_3[0][0]',                \n",
      "                                                                  'dense_4[0][0]',                \n",
      "                                                                  'dense_5[0][0]']                \n",
      "                                                                                                  \n",
      " dense_6 (Dense)                (None, 1)            156         ['concatenate[0][0]']            \n",
      "                                                                                                  \n",
      "==================================================================================================\n",
      "Total params: 4,406\n",
      "Trainable params: 4,406\n",
      "Non-trainable params: 0\n",
      "__________________________________________________________________________________________________\n"
     ]
    }
   ],
   "source": [
    "n_net.summary()"
   ]
  },
  {
   "cell_type": "code",
   "execution_count": 73,
   "metadata": {},
   "outputs": [
    {
     "name": "stdout",
     "output_type": "stream",
     "text": [
      "You must install pydot (`pip install pydot`) and install graphviz (see instructions at https://graphviz.gitlab.io/download/) for plot_model to work.\n"
     ]
    }
   ],
   "source": [
    "keras.utils.plot_model(\n",
    "    n_net,\n",
    "    \"fully-connected-nn.png\",\n",
    "    show_shapes=True\n",
    ")"
   ]
  },
  {
   "cell_type": "markdown",
   "metadata": {},
   "source": [
    "**Exercise 2**: Call the `n_net.compile()` method with the appropriate loss function for regression (see your notes), the same metric we used on week 3 to evaluate our regressors (do you remember which one it was?), an SGD optimizer with a reasonable learning rate. Then train the network for 50 epochs, or a smaller number if the algorithm takes too long to go through each epoch, passing both the training and the validation set. When you are happy with your learning rate, then evaluate your model on the test set and print out MSE and RMSE as conputed on the test set."
   ]
  },
  {
   "cell_type": "code",
   "execution_count": 74,
   "metadata": {},
   "outputs": [
    {
     "name": "stdout",
     "output_type": "stream",
     "text": [
      "SGD Regressor intercept: [-259779.54334009]\n",
      "SGD Regressor coefficient: [1617038.88839723 1106186.34408115 -146056.36427542   16011.99881895\n",
      "  308581.66868958]\n"
     ]
    },
    {
     "name": "stderr",
     "output_type": "stream",
     "text": [
      "/Users/nick/anaconda3/lib/python3.10/site-packages/sklearn/linear_model/_stochastic_gradient.py:1549: ConvergenceWarning: Maximum number of iteration reached before convergence. Consider increasing max_iter to improve the fit.\n",
      "  warnings.warn(\n"
     ]
    }
   ],
   "source": [
    "\n",
    "from sklearn.linear_model import SGDRegressor\n",
    "\n",
    "sgd_reg = SGDRegressor(\n",
    "    loss=\"squared_error\", # default cost function (MSE)\n",
    "    max_iter=500,   # maximum number of passes over the training data (aka epochs)\n",
    "    penalty=None, # no regularisation\n",
    "    eta0=0.005,  # initial learning rate\n",
    "    tol=1e-3,   # stopping criterion tolerance. stop searching for a minimum \n",
    "                # (or maximum) once some tolerance is achieved, i.e. \n",
    "                # once you're close enough.\n",
    ")\n",
    "\n",
    "sgd_reg.fit(X_train, y_train)\n",
    "print('SGD Regressor intercept: {}'.format(sgd_reg.intercept_))\n",
    "print('SGD Regressor coefficient: {}'.format(sgd_reg.coef_))\n",
    "\n"
   ]
  },
  {
   "cell_type": "code",
   "execution_count": 75,
   "metadata": {
    "scrolled": true
   },
   "outputs": [],
   "source": [
    "from sklearn.metrics import mean_squared_error\n",
    "from sklearn.model_selection import train_test_split\n",
    "from sklearn.utils._testing import ignore_warnings\n",
    "from sklearn.exceptions import ConvergenceWarning\n",
    "import seaborn as sns\n",
    "\n",
    "@ignore_warnings(category=ConvergenceWarning)\n",
    "def plot_learning_curves(model, X, y, max_training_samples=None):\n",
    "    X_train, X_val, y_train, y_val = train_test_split(\n",
    "        X, y, test_size=0.2\n",
    "    )\n",
    "    train_errors, val_errors = [], []\n",
    "    # for training set size from 1 to max_training_samples\n",
    "    for m in range(1, min(len(X_train), max_training_samples)):\n",
    "        # train a new model\n",
    "        model.fit(X_train[:m], y_train[:m])\n",
    "        # make predictions on the training and validation set\n",
    "        y_train_predict = model.predict(X_train[:m])\n",
    "        y_val_predict = model.predict(X_val)\n",
    "        # compute the MSE on the training and validation set\n",
    "        train_errors.append(\n",
    "            mean_squared_error(y_train[:m], y_train_predict)\n",
    "        )\n",
    "        val_errors.append(\n",
    "            mean_squared_error(y_val, y_val_predict)\n",
    "        )\n",
    "    fig, ax = plt.subplots(figsize=(16,10))\n",
    "    # plot our performance metric (i.e. the RMSE)\n",
    "    sns.lineplot(data=np.sqrt(train_errors), linewidth=2, label=\"train\", ax=ax)\n",
    "    sns.lineplot(data=np.sqrt(val_errors), linewidth=2, label=\"val\", ax=ax)"
   ]
  },
  {
   "cell_type": "code",
   "execution_count": 76,
   "metadata": {
    "scrolled": true
   },
   "outputs": [
    {
     "name": "stdout",
     "output_type": "stream",
     "text": [
      "CPU times: user 15min 8s, sys: 14min 36s, total: 29min 45s\n",
      "Wall time: 3min 54s\n"
     ]
    },
    {
     "data": {
      "image/png": "[encoded data removed]",
      "text/plain": [
       "<Figure size 1600x1000 with 1 Axes>"
      ]
     },
     "metadata": {},
     "output_type": "display_data"
    }
   ],
   "source": [
    "%%time\n",
    "plot_learning_curves(\n",
    "    sgd_reg, X_train, y_train, max_training_samples=5000\n",
    ")"
   ]
  },
  {
   "cell_type": "markdown",
   "metadata": {},
   "source": [
    "# Back to exercise 2..."
   ]
  },
  {
   "cell_type": "markdown",
   "metadata": {},
   "source": [
    "Call the `n_net.compile()` method with the appropriate loss function for regression (see your notes), the same metric we used on week 3 to evaluate our regressors (do you remember which one it was? - <b> Either was Mean Squared Error (MSE) OR Mean Absolute Error (MAE)</b>), an SGD optimizer with a reasonable learning rate (<b>learning_rate was 0.005 in W3</b>). Then train the network for 50 epochs, or a smaller number if the algorithm takes too long to go through each epoch, passing both the training and the validation set. When you are happy with your learning rate, then evaluate your model on the test set and print out MSE and RMSE as conputed on the test set."
   ]
  },
  {
   "cell_type": "code",
   "execution_count": 77,
   "metadata": {},
   "outputs": [],
   "source": [
    "n_net.compile(\n",
    "    loss = keras.losses.MeanSquaredError(),\n",
    "    #loss=keras.losses.sparse_categorical_crossentropy,\n",
    "    optimizer=keras.optimizers.legacy.SGD(learning_rate=0.005),\n",
    "    metrics=[keras.metrics.sparse_categorical_accuracy]\n",
    ")"
   ]
  },
  {
   "cell_type": "code",
   "execution_count": 80,
   "metadata": {},
   "outputs": [
    {
     "data": {
      "text/plain": [
       "array([9, 0, 0, ..., 5, 8, 3], dtype=uint8)"
      ]
     },
     "execution_count": 80,
     "metadata": {},
     "output_type": "execute_result"
    }
   ],
   "source": [
    "y_valid"
   ]
  },
  {
   "cell_type": "code",
   "execution_count": 78,
   "metadata": {},
   "outputs": [
    {
     "name": "stdout",
     "output_type": "stream",
     "text": [
      "Epoch 1/10\n",
      "257/380 [===================>..........] - ETA: 0s - loss: nan - sparse_categorical_accuracy: 0.0000e+00             "
     ]
    },
    {
     "ename": "ValueError",
     "evalue": "in user code:\n\n    File \"/Users/nick/anaconda3/lib/python3.10/site-packages/keras/engine/training.py\", line 1852, in test_function  *\n        return step_function(self, iterator)\n    File \"/Users/nick/anaconda3/lib/python3.10/site-packages/keras/engine/training.py\", line 1836, in step_function  **\n        outputs = model.distribute_strategy.run(run_step, args=(data,))\n    File \"/Users/nick/anaconda3/lib/python3.10/site-packages/keras/engine/training.py\", line 1824, in run_step  **\n        outputs = model.test_step(data)\n    File \"/Users/nick/anaconda3/lib/python3.10/site-packages/keras/engine/training.py\", line 1788, in test_step\n        y_pred = self(x, training=False)\n    File \"/Users/nick/anaconda3/lib/python3.10/site-packages/keras/utils/traceback_utils.py\", line 70, in error_handler\n        raise e.with_traceback(filtered_tb) from None\n    File \"/Users/nick/anaconda3/lib/python3.10/site-packages/keras/engine/input_spec.py\", line 298, in assert_input_compatibility\n        raise ValueError(\n\n    ValueError: Input 0 of layer \"model\" is incompatible with the layer: expected shape=(None, 5), found shape=(None, 28, 28)\n",
     "output_type": "error",
     "traceback": [
      "\u001b[0;31m---------------------------------------------------------------------------\u001b[0m",
      "\u001b[0;31mValueError\u001b[0m                                Traceback (most recent call last)",
      "Cell \u001b[0;32mIn[78], line 3\u001b[0m\n\u001b[1;32m      1\u001b[0m \u001b[38;5;66;03m# Write your code here: compile and train\u001b[39;00m\n\u001b[0;32m----> 3\u001b[0m history \u001b[38;5;241m=\u001b[39m \u001b[43mn_net\u001b[49m\u001b[38;5;241;43m.\u001b[39;49m\u001b[43mfit\u001b[49m\u001b[43m(\u001b[49m\n\u001b[1;32m      4\u001b[0m \u001b[43m    \u001b[49m\u001b[43mX_train\u001b[49m\u001b[43m,\u001b[49m\n\u001b[1;32m      5\u001b[0m \u001b[43m    \u001b[49m\u001b[43my_train\u001b[49m\u001b[43m,\u001b[49m\n\u001b[1;32m      6\u001b[0m \u001b[43m    \u001b[49m\u001b[43mepochs\u001b[49m\u001b[38;5;241;43m=\u001b[39;49m\u001b[38;5;241;43m10\u001b[39;49m\u001b[43m,\u001b[49m\u001b[43m  \u001b[49m\u001b[38;5;66;43;03m# 50 recommended, but 10 chosen just for time...\u001b[39;49;00m\n\u001b[1;32m      7\u001b[0m \u001b[43m    \u001b[49m\u001b[43mvalidation_data\u001b[49m\u001b[38;5;241;43m=\u001b[39;49m\u001b[43m(\u001b[49m\u001b[43mX_valid\u001b[49m\u001b[43m,\u001b[49m\u001b[43m \u001b[49m\u001b[43my_valid\u001b[49m\u001b[43m)\u001b[49m\n\u001b[1;32m      8\u001b[0m \u001b[43m)\u001b[49m\n",
      "File \u001b[0;32m~/anaconda3/lib/python3.10/site-packages/keras/utils/traceback_utils.py:70\u001b[0m, in \u001b[0;36mfilter_traceback.<locals>.error_handler\u001b[0;34m(*args, **kwargs)\u001b[0m\n\u001b[1;32m     67\u001b[0m     filtered_tb \u001b[38;5;241m=\u001b[39m _process_traceback_frames(e\u001b[38;5;241m.\u001b[39m__traceback__)\n\u001b[1;32m     68\u001b[0m     \u001b[38;5;66;03m# To get the full stack trace, call:\u001b[39;00m\n\u001b[1;32m     69\u001b[0m     \u001b[38;5;66;03m# `tf.debugging.disable_traceback_filtering()`\u001b[39;00m\n\u001b[0;32m---> 70\u001b[0m     \u001b[38;5;28;01mraise\u001b[39;00m e\u001b[38;5;241m.\u001b[39mwith_traceback(filtered_tb) \u001b[38;5;28;01mfrom\u001b[39;00m \u001b[38;5;28mNone\u001b[39m\n\u001b[1;32m     71\u001b[0m \u001b[38;5;28;01mfinally\u001b[39;00m:\n\u001b[1;32m     72\u001b[0m     \u001b[38;5;28;01mdel\u001b[39;00m filtered_tb\n",
      "File \u001b[0;32m/var/folders/ry/3hkntqmd6lx9rvtg9q4zp4vr0000gn/T/__autograph_generated_filee_plqo4t.py:15\u001b[0m, in \u001b[0;36mouter_factory.<locals>.inner_factory.<locals>.tf__test_function\u001b[0;34m(iterator)\u001b[0m\n\u001b[1;32m     13\u001b[0m \u001b[38;5;28;01mtry\u001b[39;00m:\n\u001b[1;32m     14\u001b[0m     do_return \u001b[38;5;241m=\u001b[39m \u001b[38;5;28;01mTrue\u001b[39;00m\n\u001b[0;32m---> 15\u001b[0m     retval_ \u001b[38;5;241m=\u001b[39m ag__\u001b[38;5;241m.\u001b[39mconverted_call(ag__\u001b[38;5;241m.\u001b[39mld(step_function), (ag__\u001b[38;5;241m.\u001b[39mld(\u001b[38;5;28mself\u001b[39m), ag__\u001b[38;5;241m.\u001b[39mld(iterator)), \u001b[38;5;28;01mNone\u001b[39;00m, fscope)\n\u001b[1;32m     16\u001b[0m \u001b[38;5;28;01mexcept\u001b[39;00m:\n\u001b[1;32m     17\u001b[0m     do_return \u001b[38;5;241m=\u001b[39m \u001b[38;5;28;01mFalse\u001b[39;00m\n",
      "\u001b[0;31mValueError\u001b[0m: in user code:\n\n    File \"/Users/nick/anaconda3/lib/python3.10/site-packages/keras/engine/training.py\", line 1852, in test_function  *\n        return step_function(self, iterator)\n    File \"/Users/nick/anaconda3/lib/python3.10/site-packages/keras/engine/training.py\", line 1836, in step_function  **\n        outputs = model.distribute_strategy.run(run_step, args=(data,))\n    File \"/Users/nick/anaconda3/lib/python3.10/site-packages/keras/engine/training.py\", line 1824, in run_step  **\n        outputs = model.test_step(data)\n    File \"/Users/nick/anaconda3/lib/python3.10/site-packages/keras/engine/training.py\", line 1788, in test_step\n        y_pred = self(x, training=False)\n    File \"/Users/nick/anaconda3/lib/python3.10/site-packages/keras/utils/traceback_utils.py\", line 70, in error_handler\n        raise e.with_traceback(filtered_tb) from None\n    File \"/Users/nick/anaconda3/lib/python3.10/site-packages/keras/engine/input_spec.py\", line 298, in assert_input_compatibility\n        raise ValueError(\n\n    ValueError: Input 0 of layer \"model\" is incompatible with the layer: expected shape=(None, 5), found shape=(None, 28, 28)\n"
     ]
    }
   ],
   "source": [
    "# Write your code here: compile and train\n",
    "\n",
    "history = n_net.fit(\n",
    "    X_train,\n",
    "    y_train,\n",
    "    epochs=10,  # 50 recommended, but 10 chosen just for time...\n",
    "    validation_data=(X_valid, y_valid)\n",
    ")"
   ]
  },
  {
   "cell_type": "code",
   "execution_count": 81,
   "metadata": {},
   "outputs": [
    {
     "data": {
      "image/png": "[encoded data removed]",
      "text/plain": [
       "<Figure size 800x500 with 1 Axes>"
      ]
     },
     "metadata": {},
     "output_type": "display_data"
    }
   ],
   "source": [
    "pd.DataFrame(history.history).plot(figsize=(8, 5))\n",
    "plt.grid(True)\n",
    "plt.gca().set_ylim(0, 1) # set the vertical range to [0-1]\n",
    "plt.show()"
   ]
  },
  {
   "cell_type": "markdown",
   "metadata": {},
   "source": [
    "What do you see happening? If you notice somthing amiss, try some bounded activation function (i.e. sigmoid or tanh). Other option could be different data scaling techniques such as quantile scaling (https://en.wikipedia.org/wiki/Quantile_normalization)."
   ]
  },
  {
   "cell_type": "code",
   "execution_count": null,
   "metadata": {},
   "outputs": [],
   "source": [
    "# Write your code here: test set evaluation"
   ]
  },
  {
   "cell_type": "code",
   "execution_count": null,
   "metadata": {},
   "outputs": [],
   "source": []
  },
  {
   "cell_type": "code",
   "execution_count": null,
   "metadata": {},
   "outputs": [],
   "source": [
    "# rmse_test = np.sqrt(mse_test)"
   ]
  },
  {
   "cell_type": "markdown",
   "metadata": {},
   "source": [
    "How does the RMSE of this Neural Network compares to the one we obtained from the Regression algorithms we tried in Week 3?"
   ]
  },
  {
   "cell_type": "markdown",
   "metadata": {},
   "source": [
    "## 6.3 Using the Subclassing API to Build Dynamic Models\n",
    "\n",
    "Both the two APIs we have seen so far, the Sequential and the Functional, are declarative. This means that you declare which layers you are going to use and how they will be connected. Afterwards, you can start to feed the model some data for training or inference. There are a few advantages in this approach: \n",
    "* the model can easily be saved, cloned, and shared; \n",
    "* its structure can be displayed and analysed; \n",
    "* the framework can infer shapes and check types, so errors can be caught early. \n",
    "* It’s also fairly easy to debug, given that the whole model is a static graph of layers. \n",
    "\n",
    "However, the main disadvantage is just that the model is static. Some networks involve loops, varying shapes, conditional branching, and other dynamic behaviors. For these cases, or just if you favour a more imperative programming style, you can use the Subclassing API\n",
    "\n",
    "What you have to do is: subclass the Model class, create the layers you need in the constructor, and use them to perform the computations you want in a `call()` method. \n",
    "\n",
    "Let's see how we can do it with the \"Wide & Deep\" model we have seen in the previous section."
   ]
  },
  {
   "cell_type": "code",
   "execution_count": 82,
   "metadata": {},
   "outputs": [
    {
     "data": {
      "text/plain": [
       "<__main__.WideAndDeepNetwork at 0x2864de7d0>"
      ]
     },
     "execution_count": 82,
     "metadata": {},
     "output_type": "execute_result"
    }
   ],
   "source": [
    "class WideAndDeepNetwork(keras.models.Model):\n",
    "    \n",
    "    def __init__(self, units=30, activation='relu', **kwargs):\n",
    "        super().__init__(**kwargs) # handles standard args, such as 'name'\n",
    "        self.hidden_0 = keras.layers.Dense(units, activation=activation)\n",
    "        self.hidden_1 = keras.layers.Dense(units, activation=activation)\n",
    "        self.output_0 = keras.layers.Dense(1)\n",
    "        \n",
    "    def call(self, inputs):\n",
    "        hidden_0 = self.hidden_0(inputs)\n",
    "        hidden_1 = self.hidden_1(hidden_0)\n",
    "        concat = keras.layers.concatenate([inputs, hidden_1])\n",
    "        return self.output_0(concat)\n",
    "    \n",
    "n_net = WideAndDeepNetwork(30, activation='tanh')\n",
    "n_net"
   ]
  },
  {
   "cell_type": "markdown",
   "metadata": {},
   "source": [
    "This example looks very much like the Functional API, except we do not need to create the inputs; we just use the input argument to the call() method, and we separate the creation of the layers21 in the constructor from their usage in the call() method. The big difference is that you can do pretty much anything you want in the call() method: for loops, if statements, low-level TensorFlow operations—your imagination is the limit! This makes it a great API for researchers experimenting with new ideas.\n",
    "\n",
    "This extra flexibility does come at a cost: your model’s architecture is hidden within the call() method, so Keras cannot easily inspect it; it cannot save or clone it; and when you call the summary() method, you only get a list of layers, without any information on how they are connected to each other. Moreover, Keras cannot check types and shapes ahead of time, and it is easier to make mistakes. So unless you really need that extra flexibility, you should probably stick to the Sequential API or the Functional API."
   ]
  },
  {
   "cell_type": "code",
   "execution_count": 83,
   "metadata": {},
   "outputs": [
    {
     "name": "stderr",
     "output_type": "stream",
     "text": [
      "WARNING:absl:At this time, the v2.11+ optimizer `tf.keras.optimizers.SGD` runs slowly on M1/M2 Macs, please use the legacy Keras optimizer instead, located at `tf.keras.optimizers.legacy.SGD`.\n",
      "WARNING:absl:`lr` is deprecated in Keras optimizer, please use `learning_rate` or use the legacy optimizer, e.g.,tf.keras.optimizers.legacy.SGD.\n",
      "WARNING:absl:There is a known slowdown when using v2.11+ Keras optimizers on M1/M2 Macs. Falling back to the legacy Keras optimizer, i.e., `tf.keras.optimizers.legacy.SGD`.\n"
     ]
    },
    {
     "name": "stdout",
     "output_type": "stream",
     "text": [
      "Epoch 1/30\n",
      "380/380 [==============================] - 0s 623us/step - loss: 119730176000.0000 - root_mean_squared_error: 346020.5000 - val_loss: 120504164352.0000 - val_root_mean_squared_error: 347137.0938\n",
      "Epoch 2/30\n",
      "380/380 [==============================] - 0s 463us/step - loss: 97145159680.0000 - root_mean_squared_error: 311681.1875 - val_loss: 101913108480.0000 - val_root_mean_squared_error: 319238.3125\n",
      "Epoch 3/30\n",
      "380/380 [==============================] - 0s 506us/step - loss: 84963942400.0000 - root_mean_squared_error: 291485.7500 - val_loss: 94061862912.0000 - val_root_mean_squared_error: 306695.0625\n",
      "Epoch 4/30\n",
      "380/380 [==============================] - 0s 533us/step - loss: 77663518720.0000 - root_mean_squared_error: 278681.7500 - val_loss: 85817401344.0000 - val_root_mean_squared_error: 292946.0625\n",
      "Epoch 5/30\n",
      "380/380 [==============================] - 0s 525us/step - loss: 73634316288.0000 - root_mean_squared_error: 271356.4375 - val_loss: 82053128192.0000 - val_root_mean_squared_error: 286449.1875\n",
      "Epoch 6/30\n",
      "380/380 [==============================] - 0s 524us/step - loss: 70582550528.0000 - root_mean_squared_error: 265673.7812 - val_loss: 80352509952.0000 - val_root_mean_squared_error: 283465.1875\n",
      "Epoch 7/30\n",
      "380/380 [==============================] - 0s 517us/step - loss: 68990255104.0000 - root_mean_squared_error: 262659.9688 - val_loss: 77725540352.0000 - val_root_mean_squared_error: 278793.0000\n",
      "Epoch 8/30\n",
      "380/380 [==============================] - 0s 499us/step - loss: 67843559424.0000 - root_mean_squared_error: 260467.9688 - val_loss: 77461880832.0000 - val_root_mean_squared_error: 278319.7500\n",
      "Epoch 9/30\n",
      "380/380 [==============================] - 0s 541us/step - loss: 67039657984.0000 - root_mean_squared_error: 258920.1719 - val_loss: 80891297792.0000 - val_root_mean_squared_error: 284413.9688\n",
      "Epoch 10/30\n",
      "380/380 [==============================] - 0s 536us/step - loss: 66636406784.0000 - root_mean_squared_error: 258140.2812 - val_loss: 75742756864.0000 - val_root_mean_squared_error: 275214.0312\n",
      "Epoch 11/30\n",
      "380/380 [==============================] - 0s 538us/step - loss: 66481807360.0000 - root_mean_squared_error: 257840.6562 - val_loss: 75589066752.0000 - val_root_mean_squared_error: 274934.6562\n",
      "Epoch 12/30\n",
      "380/380 [==============================] - 0s 517us/step - loss: 65817698304.0000 - root_mean_squared_error: 256549.6094 - val_loss: 74524057600.0000 - val_root_mean_squared_error: 272990.9375\n",
      "Epoch 13/30\n",
      "380/380 [==============================] - 0s 540us/step - loss: 66186018816.0000 - root_mean_squared_error: 257266.4375 - val_loss: 74399506432.0000 - val_root_mean_squared_error: 272762.7188\n",
      "Epoch 14/30\n",
      "380/380 [==============================] - 0s 540us/step - loss: 66208702464.0000 - root_mean_squared_error: 257310.5156 - val_loss: 75092475904.0000 - val_root_mean_squared_error: 274030.0625\n",
      "Epoch 15/30\n",
      "380/380 [==============================] - 0s 526us/step - loss: 66289176576.0000 - root_mean_squared_error: 257466.8438 - val_loss: 75680661504.0000 - val_root_mean_squared_error: 275101.1875\n",
      "Epoch 16/30\n",
      "380/380 [==============================] - 0s 519us/step - loss: 65810800640.0000 - root_mean_squared_error: 256536.1562 - val_loss: 74594836480.0000 - val_root_mean_squared_error: 273120.5625\n",
      "Epoch 17/30\n",
      "380/380 [==============================] - 0s 513us/step - loss: 65109180416.0000 - root_mean_squared_error: 255165.0000 - val_loss: 76988399616.0000 - val_root_mean_squared_error: 277467.8438\n",
      "Epoch 18/30\n",
      "380/380 [==============================] - 0s 526us/step - loss: 65146613760.0000 - root_mean_squared_error: 255238.3438 - val_loss: 73506013184.0000 - val_root_mean_squared_error: 271119.9375\n",
      "Epoch 19/30\n",
      "380/380 [==============================] - 0s 525us/step - loss: 65047207936.0000 - root_mean_squared_error: 255043.5469 - val_loss: 73407660032.0000 - val_root_mean_squared_error: 270938.4688\n",
      "Epoch 20/30\n",
      "380/380 [==============================] - 0s 515us/step - loss: 64790163456.0000 - root_mean_squared_error: 254539.1250 - val_loss: 73139249152.0000 - val_root_mean_squared_error: 270442.6875\n",
      "Epoch 21/30\n",
      "380/380 [==============================] - 0s 508us/step - loss: 64833777664.0000 - root_mean_squared_error: 254624.7812 - val_loss: 74383179776.0000 - val_root_mean_squared_error: 272732.8125\n",
      "Epoch 22/30\n",
      "380/380 [==============================] - 0s 523us/step - loss: 64706150400.0000 - root_mean_squared_error: 254374.0312 - val_loss: 73198870528.0000 - val_root_mean_squared_error: 270552.9062\n",
      "Epoch 23/30\n",
      "380/380 [==============================] - 0s 529us/step - loss: 64857157632.0000 - root_mean_squared_error: 254670.6875 - val_loss: 72887132160.0000 - val_root_mean_squared_error: 269976.1562\n",
      "Epoch 24/30\n",
      "380/380 [==============================] - 0s 526us/step - loss: 64871796736.0000 - root_mean_squared_error: 254699.4219 - val_loss: 72780300288.0000 - val_root_mean_squared_error: 269778.2500\n",
      "Epoch 25/30\n",
      "380/380 [==============================] - 0s 538us/step - loss: 64738734080.0000 - root_mean_squared_error: 254438.0781 - val_loss: 72593154048.0000 - val_root_mean_squared_error: 269431.1562\n",
      "Epoch 26/30\n",
      "380/380 [==============================] - 0s 526us/step - loss: 64647696384.0000 - root_mean_squared_error: 254259.1094 - val_loss: 72516796416.0000 - val_root_mean_squared_error: 269289.4375\n",
      "Epoch 27/30\n",
      "380/380 [==============================] - 0s 518us/step - loss: 64529539072.0000 - root_mean_squared_error: 254026.6562 - val_loss: 72560312320.0000 - val_root_mean_squared_error: 269370.2188\n",
      "Epoch 28/30\n",
      "380/380 [==============================] - 0s 527us/step - loss: 64644734976.0000 - root_mean_squared_error: 254253.2812 - val_loss: 73321127936.0000 - val_root_mean_squared_error: 270778.7500\n",
      "Epoch 29/30\n",
      "380/380 [==============================] - 0s 520us/step - loss: 64581095424.0000 - root_mean_squared_error: 254128.1094 - val_loss: 73421365248.0000 - val_root_mean_squared_error: 270963.7812\n",
      "Epoch 30/30\n",
      "380/380 [==============================] - 0s 526us/step - loss: 64345911296.0000 - root_mean_squared_error: 253664.9531 - val_loss: 73553051648.0000 - val_root_mean_squared_error: 271206.6562\n"
     ]
    }
   ],
   "source": [
    "n_net.compile(\n",
    "    loss=keras.losses.MeanSquaredError(),\n",
    "    optimizer=keras.optimizers.SGD(lr=0.01),\n",
    "    metrics=[keras.metrics.RootMeanSquaredError()]\n",
    ")\n",
    "history = n_net.fit(\n",
    "    X_train, y_train, epochs=30,\n",
    "    validation_data=(X_val, y_val)\n",
    ")\n",
    "mse, rmse = n_net.evaluate(X_test, y_test, verbose=0)"
   ]
  },
  {
   "cell_type": "code",
   "execution_count": 84,
   "metadata": {},
   "outputs": [
    {
     "data": {
      "text/plain": [
       "265092.5625"
      ]
     },
     "execution_count": 84,
     "metadata": {},
     "output_type": "execute_result"
    }
   ],
   "source": [
    "rmse"
   ]
  },
  {
   "cell_type": "markdown",
   "metadata": {},
   "source": [
    "## 6.4 Using TensorBoard for Visualization"
   ]
  },
  {
   "cell_type": "markdown",
   "metadata": {},
   "source": [
    "Tensorboard is an interactive tool, shipped together with TensorFlow, that helps to visualise and comprare the training performance of your network.\n",
    "\n",
    "Before we can use it, we need to modify our code to output log files that are named \"event files\". TensorBoard will pick up these files as soon as they are created and visualise them."
   ]
  },
  {
   "cell_type": "code",
   "execution_count": 85,
   "metadata": {},
   "outputs": [
    {
     "data": {
      "text/plain": [
       "'./my_logs/run_2023_04_29-20_34_04'"
      ]
     },
     "execution_count": 85,
     "metadata": {},
     "output_type": "execute_result"
    }
   ],
   "source": [
    "# to be done\n",
    "import os\n",
    "root_logdir = os.path.join(os.curdir, \"my_logs\")\n",
    "\n",
    "def get_run_logdir():\n",
    "    \"\"\"\n",
    "    This method will generate a different directory with name based on creation timestamp\n",
    "    every time we run the code\n",
    "    \"\"\"\n",
    "    import time\n",
    "    run_id = time.strftime(\"run_%Y_%m_%d-%H_%M_%S\")\n",
    "    return os.path.join(root_logdir, run_id)\n",
    "\n",
    "run_logdir = get_run_logdir() \n",
    "run_logdir"
   ]
  },
  {
   "cell_type": "code",
   "execution_count": 86,
   "metadata": {},
   "outputs": [],
   "source": [
    "keras.backend.clear_session()\n",
    "np.random.seed(42)\n",
    "tf.random.set_seed(42)"
   ]
  },
  {
   "cell_type": "markdown",
   "metadata": {},
   "source": [
    "Here rather than using SGD optimiser and tanh as activation function, we are going to use a more up-to-date approach to avoid the issue of vanishing exploding/gradients: we will use the SeLU activation function and the improved \"Adam\" optimisation algorithm (see Notebook 06B)."
   ]
  },
  {
   "cell_type": "code",
   "execution_count": 87,
   "metadata": {},
   "outputs": [
    {
     "name": "stderr",
     "output_type": "stream",
     "text": [
      "WARNING:absl:At this time, the v2.11+ optimizer `tf.keras.optimizers.Adam` runs slowly on M1/M2 Macs, please use the legacy Keras optimizer instead, located at `tf.keras.optimizers.legacy.Adam`.\n",
      "WARNING:absl:`lr` is deprecated in Keras optimizer, please use `learning_rate` or use the legacy optimizer, e.g.,tf.keras.optimizers.legacy.Adam.\n",
      "WARNING:absl:There is a known slowdown when using v2.11+ Keras optimizers on M1/M2 Macs. Falling back to the legacy Keras optimizer, i.e., `tf.keras.optimizers.legacy.Adam`.\n"
     ]
    }
   ],
   "source": [
    "n_net = keras.models.Sequential([\n",
    "    keras.layers.Dense(\n",
    "        100, activation=\"selu\", kernel_initializer='lecun_normal', input_shape=[5]\n",
    "    ),\n",
    "    keras.layers.Dense(\n",
    "        30, activation=\"selu\", kernel_initializer='lecun_normal'\n",
    "    ),\n",
    "    keras.layers.Dense(1)\n",
    "])\n",
    "\n",
    "n_net.compile(\n",
    "    loss=\"mse\", \n",
    "    optimizer=keras.optimizers.Adam(lr=1e-3),\n",
    "    metrics=[keras.metrics.RootMeanSquaredError()]\n",
    ")"
   ]
  },
  {
   "cell_type": "code",
   "execution_count": 90,
   "metadata": {},
   "outputs": [],
   "source": [
    "dense_1 = n_net.get_layer('dense_1')"
   ]
  },
  {
   "cell_type": "code",
   "execution_count": 91,
   "metadata": {},
   "outputs": [
    {
     "data": {
      "text/plain": [
       "<function keras.activations.selu(x)>"
      ]
     },
     "execution_count": 91,
     "metadata": {},
     "output_type": "execute_result"
    }
   ],
   "source": [
    "dense_1.activation"
   ]
  },
  {
   "cell_type": "code",
   "execution_count": 92,
   "metadata": {},
   "outputs": [
    {
     "name": "stdout",
     "output_type": "stream",
     "text": [
      "Model: \"sequential\"\n",
      "_________________________________________________________________\n",
      " Layer (type)                Output Shape              Param #   \n",
      "=================================================================\n",
      " dense (Dense)               (None, 100)               600       \n",
      "                                                                 \n",
      " dense_1 (Dense)             (None, 30)                3030      \n",
      "                                                                 \n",
      " dense_2 (Dense)             (None, 1)                 31        \n",
      "                                                                 \n",
      "=================================================================\n",
      "Total params: 3,661\n",
      "Trainable params: 3,661\n",
      "Non-trainable params: 0\n",
      "_________________________________________________________________\n"
     ]
    }
   ],
   "source": [
    "n_net.summary()"
   ]
  },
  {
   "cell_type": "markdown",
   "metadata": {},
   "source": [
    "We can use Keras's `TensorBoard()` callbacks to create a log directory and the event files:"
   ]
  },
  {
   "cell_type": "code",
   "execution_count": 93,
   "metadata": {},
   "outputs": [
    {
     "name": "stdout",
     "output_type": "stream",
     "text": [
      "Epoch 1/40\n",
      "380/380 [==============================] - 0s 782us/step - loss: 421266063360.0000 - root_mean_squared_error: 649050.1250 - val_loss: 447259508736.0000 - val_root_mean_squared_error: 668774.6250\n",
      "Epoch 2/40\n",
      "380/380 [==============================] - 0s 690us/step - loss: 417179566080.0000 - root_mean_squared_error: 645894.3750 - val_loss: 439663001600.0000 - val_root_mean_squared_error: 663070.8750\n",
      "Epoch 3/40\n",
      "380/380 [==============================] - 0s 724us/step - loss: 405609807872.0000 - root_mean_squared_error: 636875.0625 - val_loss: 423274020864.0000 - val_root_mean_squared_error: 650595.1250\n",
      "Epoch 4/40\n",
      "380/380 [==============================] - 0s 822us/step - loss: 384872185856.0000 - root_mean_squared_error: 620380.6875 - val_loss: 397113262080.0000 - val_root_mean_squared_error: 630169.2500\n",
      "Epoch 5/40\n",
      "380/380 [==============================] - 0s 742us/step - loss: 354801680384.0000 - root_mean_squared_error: 595652.3125 - val_loss: 361893101568.0000 - val_root_mean_squared_error: 601575.5000\n",
      "Epoch 6/40\n",
      "380/380 [==============================] - 0s 704us/step - loss: 317119299584.0000 - root_mean_squared_error: 563133.4375 - val_loss: 320201490432.0000 - val_root_mean_squared_error: 565863.5000\n",
      "Epoch 7/40\n",
      "380/380 [==============================] - 0s 717us/step - loss: 274483888128.0000 - root_mean_squared_error: 523912.0938 - val_loss: 274967822336.0000 - val_root_mean_squared_error: 524373.7500\n",
      "Epoch 8/40\n",
      "380/380 [==============================] - 0s 796us/step - loss: 230623592448.0000 - root_mean_squared_error: 480232.8438 - val_loss: 230251692032.0000 - val_root_mean_squared_error: 479845.5000\n",
      "Epoch 9/40\n",
      "380/380 [==============================] - 0s 784us/step - loss: 189420257280.0000 - root_mean_squared_error: 435224.3750 - val_loss: 190048124928.0000 - val_root_mean_squared_error: 435945.0938\n",
      "Epoch 10/40\n",
      "380/380 [==============================] - 0s 775us/step - loss: 154436845568.0000 - root_mean_squared_error: 392984.5312 - val_loss: 157580410880.0000 - val_root_mean_squared_error: 396964.0000\n",
      "Epoch 11/40\n",
      "380/380 [==============================] - 0s 782us/step - loss: 127848775680.0000 - root_mean_squared_error: 357559.4688 - val_loss: 134110265344.0000 - val_root_mean_squared_error: 366210.6875\n",
      "Epoch 12/40\n",
      "380/380 [==============================] - 0s 759us/step - loss: 110460461056.0000 - root_mean_squared_error: 332355.9375 - val_loss: 119967793152.0000 - val_root_mean_squared_error: 346363.6562\n",
      "Epoch 13/40\n",
      "380/380 [==============================] - 0s 781us/step - loss: 100979056640.0000 - root_mean_squared_error: 317772.0312 - val_loss: 112609730560.0000 - val_root_mean_squared_error: 335573.7188\n",
      "Epoch 14/40\n",
      "380/380 [==============================] - 0s 764us/step - loss: 96734978048.0000 - root_mean_squared_error: 311022.4688 - val_loss: 109397770240.0000 - val_root_mean_squared_error: 330753.3438\n",
      "Epoch 15/40\n",
      "380/380 [==============================] - 0s 773us/step - loss: 95037169664.0000 - root_mean_squared_error: 308281.0000 - val_loss: 107966644224.0000 - val_root_mean_squared_error: 328582.7812\n",
      "Epoch 16/40\n",
      "380/380 [==============================] - 0s 798us/step - loss: 94163075072.0000 - root_mean_squared_error: 306860.0312 - val_loss: 106891476992.0000 - val_root_mean_squared_error: 326942.6250\n",
      "Epoch 17/40\n",
      "380/380 [==============================] - 0s 780us/step - loss: 92943720448.0000 - root_mean_squared_error: 304866.7188 - val_loss: 105086205952.0000 - val_root_mean_squared_error: 324170.0312\n",
      "Epoch 18/40\n",
      "380/380 [==============================] - 0s 777us/step - loss: 90463232000.0000 - root_mean_squared_error: 300771.0625 - val_loss: 102240944128.0000 - val_root_mean_squared_error: 319751.3750\n",
      "Epoch 19/40\n",
      "380/380 [==============================] - 0s 756us/step - loss: 87998169088.0000 - root_mean_squared_error: 296644.8438 - val_loss: 100026351616.0000 - val_root_mean_squared_error: 316269.4375\n",
      "Epoch 20/40\n",
      "380/380 [==============================] - 0s 780us/step - loss: 86560768000.0000 - root_mean_squared_error: 294212.1250 - val_loss: 98653118464.0000 - val_root_mean_squared_error: 314090.9375\n",
      "Epoch 21/40\n",
      "380/380 [==============================] - 0s 774us/step - loss: 85411971072.0000 - root_mean_squared_error: 292253.2500 - val_loss: 97399382016.0000 - val_root_mean_squared_error: 312088.7500\n",
      "Epoch 22/40\n",
      "380/380 [==============================] - 0s 763us/step - loss: 84264886272.0000 - root_mean_squared_error: 290284.1562 - val_loss: 96123133952.0000 - val_root_mean_squared_error: 310037.3125\n",
      "Epoch 23/40\n",
      "380/380 [==============================] - 0s 785us/step - loss: 83157835776.0000 - root_mean_squared_error: 288371.0000 - val_loss: 94980841472.0000 - val_root_mean_squared_error: 308189.6250\n",
      "Epoch 24/40\n",
      "380/380 [==============================] - 0s 774us/step - loss: 82039439360.0000 - root_mean_squared_error: 286425.2812 - val_loss: 93757644800.0000 - val_root_mean_squared_error: 306198.6875\n",
      "Epoch 25/40\n",
      "380/380 [==============================] - 0s 763us/step - loss: 80875683840.0000 - root_mean_squared_error: 284386.5000 - val_loss: 92458663936.0000 - val_root_mean_squared_error: 304070.1562\n",
      "Epoch 26/40\n",
      "380/380 [==============================] - 0s 721us/step - loss: 79709642752.0000 - root_mean_squared_error: 282328.9688 - val_loss: 91240693760.0000 - val_root_mean_squared_error: 302060.7500\n",
      "Epoch 27/40\n",
      "380/380 [==============================] - 0s 670us/step - loss: 78553145344.0000 - root_mean_squared_error: 280273.3438 - val_loss: 89967640576.0000 - val_root_mean_squared_error: 299946.0625\n",
      "Epoch 28/40\n",
      "380/380 [==============================] - 0s 678us/step - loss: 77410476032.0000 - root_mean_squared_error: 278227.3750 - val_loss: 88724176896.0000 - val_root_mean_squared_error: 297866.0312\n",
      "Epoch 29/40\n",
      "380/380 [==============================] - 0s 663us/step - loss: 76275032064.0000 - root_mean_squared_error: 276179.3438 - val_loss: 87503962112.0000 - val_root_mean_squared_error: 295810.6875\n",
      "Epoch 30/40\n",
      "380/380 [==============================] - 0s 668us/step - loss: 75168980992.0000 - root_mean_squared_error: 274169.6250 - val_loss: 86276317184.0000 - val_root_mean_squared_error: 293728.3125\n",
      "Epoch 31/40\n",
      "380/380 [==============================] - 0s 674us/step - loss: 74100678656.0000 - root_mean_squared_error: 272214.4062 - val_loss: 85109080064.0000 - val_root_mean_squared_error: 291734.5938\n",
      "Epoch 32/40\n",
      "380/380 [==============================] - 0s 676us/step - loss: 73079152640.0000 - root_mean_squared_error: 270331.5625 - val_loss: 84014178304.0000 - val_root_mean_squared_error: 289852.0000\n",
      "Epoch 33/40\n",
      "380/380 [==============================] - 0s 775us/step - loss: 72106975232.0000 - root_mean_squared_error: 268527.4062 - val_loss: 82897068032.0000 - val_root_mean_squared_error: 287918.5000\n",
      "Epoch 34/40\n",
      "380/380 [==============================] - 0s 758us/step - loss: 71225114624.0000 - root_mean_squared_error: 266880.3438 - val_loss: 81895653376.0000 - val_root_mean_squared_error: 286174.1562\n",
      "Epoch 35/40\n",
      "380/380 [==============================] - 0s 789us/step - loss: 70384812032.0000 - root_mean_squared_error: 265301.3750 - val_loss: 80992739328.0000 - val_root_mean_squared_error: 284592.2188\n",
      "Epoch 36/40\n",
      "380/380 [==============================] - 0s 775us/step - loss: 69634449408.0000 - root_mean_squared_error: 263883.4062 - val_loss: 80146391040.0000 - val_root_mean_squared_error: 283101.3750\n",
      "Epoch 37/40\n",
      "380/380 [==============================] - 0s 732us/step - loss: 68954193920.0000 - root_mean_squared_error: 262591.3125 - val_loss: 79455715328.0000 - val_root_mean_squared_error: 281878.9062\n",
      "Epoch 38/40\n",
      "380/380 [==============================] - 0s 780us/step - loss: 68339032064.0000 - root_mean_squared_error: 261417.3594 - val_loss: 78778892288.0000 - val_root_mean_squared_error: 280675.7812\n",
      "Epoch 39/40\n",
      "380/380 [==============================] - 0s 735us/step - loss: 67807031296.0000 - root_mean_squared_error: 260397.8281 - val_loss: 78038261760.0000 - val_root_mean_squared_error: 279353.2812\n",
      "Epoch 40/40\n",
      "380/380 [==============================] - 0s 740us/step - loss: 67313201152.0000 - root_mean_squared_error: 259447.8750 - val_loss: 77482582016.0000 - val_root_mean_squared_error: 278356.9375\n"
     ]
    }
   ],
   "source": [
    "tensorboard_cb = keras.callbacks.TensorBoard(run_logdir)\n",
    "history = n_net.fit(X_train, y_train, epochs=40, \n",
    "                    validation_data=(X_val, y_val),\n",
    "                    callbacks=[tensorboard_cb])"
   ]
  },
  {
   "cell_type": "code",
   "execution_count": 95,
   "metadata": {
    "scrolled": true
   },
   "outputs": [
    {
     "ename": "ModuleNotFoundError",
     "evalue": "No module named 'tensorboard  # or %reload_ext tensorboard'",
     "output_type": "error",
     "traceback": [
      "\u001b[0;31m---------------------------------------------------------------------------\u001b[0m",
      "\u001b[0;31mModuleNotFoundError\u001b[0m                       Traceback (most recent call last)",
      "Cell \u001b[0;32mIn[95], line 1\u001b[0m\n\u001b[0;32m----> 1\u001b[0m \u001b[43mget_ipython\u001b[49m\u001b[43m(\u001b[49m\u001b[43m)\u001b[49m\u001b[38;5;241;43m.\u001b[39;49m\u001b[43mrun_line_magic\u001b[49m\u001b[43m(\u001b[49m\u001b[38;5;124;43m'\u001b[39;49m\u001b[38;5;124;43mreload_ext\u001b[39;49m\u001b[38;5;124;43m'\u001b[39;49m\u001b[43m,\u001b[49m\u001b[43m \u001b[49m\u001b[38;5;124;43m'\u001b[39;49m\u001b[38;5;124;43mtensorboard  # or \u001b[39;49m\u001b[38;5;132;43;01m%r\u001b[39;49;00m\u001b[38;5;124;43meload_ext tensorboard\u001b[39;49m\u001b[38;5;124;43m'\u001b[39;49m\u001b[43m)\u001b[49m\n\u001b[1;32m      2\u001b[0m get_ipython()\u001b[38;5;241m.\u001b[39mrun_line_magic(\u001b[38;5;124m'\u001b[39m\u001b[38;5;124mtensorboard\u001b[39m\u001b[38;5;124m'\u001b[39m, \u001b[38;5;124m'\u001b[39m\u001b[38;5;124m--logdir=./my_logs --port=6007\u001b[39m\u001b[38;5;124m'\u001b[39m)\n",
      "File \u001b[0;32m~/anaconda3/lib/python3.10/site-packages/IPython/core/interactiveshell.py:2369\u001b[0m, in \u001b[0;36mInteractiveShell.run_line_magic\u001b[0;34m(self, magic_name, line, _stack_depth)\u001b[0m\n\u001b[1;32m   2367\u001b[0m     kwargs[\u001b[38;5;124m'\u001b[39m\u001b[38;5;124mlocal_ns\u001b[39m\u001b[38;5;124m'\u001b[39m] \u001b[38;5;241m=\u001b[39m \u001b[38;5;28mself\u001b[39m\u001b[38;5;241m.\u001b[39mget_local_scope(stack_depth)\n\u001b[1;32m   2368\u001b[0m \u001b[38;5;28;01mwith\u001b[39;00m \u001b[38;5;28mself\u001b[39m\u001b[38;5;241m.\u001b[39mbuiltin_trap:\n\u001b[0;32m-> 2369\u001b[0m     result \u001b[38;5;241m=\u001b[39m \u001b[43mfn\u001b[49m\u001b[43m(\u001b[49m\u001b[38;5;241;43m*\u001b[39;49m\u001b[43margs\u001b[49m\u001b[43m,\u001b[49m\u001b[43m \u001b[49m\u001b[38;5;241;43m*\u001b[39;49m\u001b[38;5;241;43m*\u001b[39;49m\u001b[43mkwargs\u001b[49m\u001b[43m)\u001b[49m\n\u001b[1;32m   2371\u001b[0m \u001b[38;5;66;03m# The code below prevents the output from being displayed\u001b[39;00m\n\u001b[1;32m   2372\u001b[0m \u001b[38;5;66;03m# when using magics with decodator @output_can_be_silenced\u001b[39;00m\n\u001b[1;32m   2373\u001b[0m \u001b[38;5;66;03m# when the last Python token in the expression is a ';'.\u001b[39;00m\n\u001b[1;32m   2374\u001b[0m \u001b[38;5;28;01mif\u001b[39;00m \u001b[38;5;28mgetattr\u001b[39m(fn, magic\u001b[38;5;241m.\u001b[39mMAGIC_OUTPUT_CAN_BE_SILENCED, \u001b[38;5;28;01mFalse\u001b[39;00m):\n",
      "File \u001b[0;32m~/anaconda3/lib/python3.10/site-packages/IPython/core/magics/extension.py:63\u001b[0m, in \u001b[0;36mExtensionMagics.reload_ext\u001b[0;34m(self, module_str)\u001b[0m\n\u001b[1;32m     61\u001b[0m \u001b[38;5;28;01mif\u001b[39;00m \u001b[38;5;129;01mnot\u001b[39;00m module_str:\n\u001b[1;32m     62\u001b[0m     \u001b[38;5;28;01mraise\u001b[39;00m UsageError(\u001b[38;5;124m'\u001b[39m\u001b[38;5;124mMissing module name.\u001b[39m\u001b[38;5;124m'\u001b[39m)\n\u001b[0;32m---> 63\u001b[0m \u001b[38;5;28;43mself\u001b[39;49m\u001b[38;5;241;43m.\u001b[39;49m\u001b[43mshell\u001b[49m\u001b[38;5;241;43m.\u001b[39;49m\u001b[43mextension_manager\u001b[49m\u001b[38;5;241;43m.\u001b[39;49m\u001b[43mreload_extension\u001b[49m\u001b[43m(\u001b[49m\u001b[43mmodule_str\u001b[49m\u001b[43m)\u001b[49m\n",
      "File \u001b[0;32m~/anaconda3/lib/python3.10/site-packages/IPython/core/extensions.py:141\u001b[0m, in \u001b[0;36mExtensionManager.reload_extension\u001b[0;34m(self, module_str)\u001b[0m\n\u001b[1;32m    139\u001b[0m         \u001b[38;5;28mself\u001b[39m\u001b[38;5;241m.\u001b[39mloaded\u001b[38;5;241m.\u001b[39madd(module_str)\n\u001b[1;32m    140\u001b[0m \u001b[38;5;28;01melse\u001b[39;00m:\n\u001b[0;32m--> 141\u001b[0m     \u001b[38;5;28;43mself\u001b[39;49m\u001b[38;5;241;43m.\u001b[39;49m\u001b[43mload_extension\u001b[49m\u001b[43m(\u001b[49m\u001b[43mmodule_str\u001b[49m\u001b[43m)\u001b[49m\n",
      "File \u001b[0;32m~/anaconda3/lib/python3.10/site-packages/IPython/core/extensions.py:76\u001b[0m, in \u001b[0;36mExtensionManager.load_extension\u001b[0;34m(self, module_str)\u001b[0m\n\u001b[1;32m     69\u001b[0m \u001b[38;5;124;03m\"\"\"Load an IPython extension by its module name.\u001b[39;00m\n\u001b[1;32m     70\u001b[0m \n\u001b[1;32m     71\u001b[0m \u001b[38;5;124;03mReturns the string \"already loaded\" if the extension is already loaded,\u001b[39;00m\n\u001b[1;32m     72\u001b[0m \u001b[38;5;124;03m\"no load function\" if the module doesn't have a load_ipython_extension\u001b[39;00m\n\u001b[1;32m     73\u001b[0m \u001b[38;5;124;03mfunction, or None if it succeeded.\u001b[39;00m\n\u001b[1;32m     74\u001b[0m \u001b[38;5;124;03m\"\"\"\u001b[39;00m\n\u001b[1;32m     75\u001b[0m \u001b[38;5;28;01mtry\u001b[39;00m:\n\u001b[0;32m---> 76\u001b[0m     \u001b[38;5;28;01mreturn\u001b[39;00m \u001b[38;5;28;43mself\u001b[39;49m\u001b[38;5;241;43m.\u001b[39;49m\u001b[43m_load_extension\u001b[49m\u001b[43m(\u001b[49m\u001b[43mmodule_str\u001b[49m\u001b[43m)\u001b[49m\n\u001b[1;32m     77\u001b[0m \u001b[38;5;28;01mexcept\u001b[39;00m \u001b[38;5;167;01mModuleNotFoundError\u001b[39;00m:\n\u001b[1;32m     78\u001b[0m     \u001b[38;5;28;01mif\u001b[39;00m module_str \u001b[38;5;129;01min\u001b[39;00m BUILTINS_EXTS:\n",
      "File \u001b[0;32m~/anaconda3/lib/python3.10/site-packages/IPython/core/extensions.py:91\u001b[0m, in \u001b[0;36mExtensionManager._load_extension\u001b[0;34m(self, module_str)\u001b[0m\n\u001b[1;32m     89\u001b[0m \u001b[38;5;28;01mwith\u001b[39;00m \u001b[38;5;28mself\u001b[39m\u001b[38;5;241m.\u001b[39mshell\u001b[38;5;241m.\u001b[39mbuiltin_trap:\n\u001b[1;32m     90\u001b[0m     \u001b[38;5;28;01mif\u001b[39;00m module_str \u001b[38;5;129;01mnot\u001b[39;00m \u001b[38;5;129;01min\u001b[39;00m sys\u001b[38;5;241m.\u001b[39mmodules:\n\u001b[0;32m---> 91\u001b[0m         mod \u001b[38;5;241m=\u001b[39m \u001b[43mimport_module\u001b[49m\u001b[43m(\u001b[49m\u001b[43mmodule_str\u001b[49m\u001b[43m)\u001b[49m\n\u001b[1;32m     92\u001b[0m     mod \u001b[38;5;241m=\u001b[39m sys\u001b[38;5;241m.\u001b[39mmodules[module_str]\n\u001b[1;32m     93\u001b[0m     \u001b[38;5;28;01mif\u001b[39;00m \u001b[38;5;28mself\u001b[39m\u001b[38;5;241m.\u001b[39m_call_load_ipython_extension(mod):\n",
      "File \u001b[0;32m~/anaconda3/lib/python3.10/importlib/__init__.py:126\u001b[0m, in \u001b[0;36mimport_module\u001b[0;34m(name, package)\u001b[0m\n\u001b[1;32m    124\u001b[0m             \u001b[38;5;28;01mbreak\u001b[39;00m\n\u001b[1;32m    125\u001b[0m         level \u001b[38;5;241m+\u001b[39m\u001b[38;5;241m=\u001b[39m \u001b[38;5;241m1\u001b[39m\n\u001b[0;32m--> 126\u001b[0m \u001b[38;5;28;01mreturn\u001b[39;00m \u001b[43m_bootstrap\u001b[49m\u001b[38;5;241;43m.\u001b[39;49m\u001b[43m_gcd_import\u001b[49m\u001b[43m(\u001b[49m\u001b[43mname\u001b[49m\u001b[43m[\u001b[49m\u001b[43mlevel\u001b[49m\u001b[43m:\u001b[49m\u001b[43m]\u001b[49m\u001b[43m,\u001b[49m\u001b[43m \u001b[49m\u001b[43mpackage\u001b[49m\u001b[43m,\u001b[49m\u001b[43m \u001b[49m\u001b[43mlevel\u001b[49m\u001b[43m)\u001b[49m\n",
      "File \u001b[0;32m<frozen importlib._bootstrap>:1050\u001b[0m, in \u001b[0;36m_gcd_import\u001b[0;34m(name, package, level)\u001b[0m\n",
      "File \u001b[0;32m<frozen importlib._bootstrap>:1027\u001b[0m, in \u001b[0;36m_find_and_load\u001b[0;34m(name, import_)\u001b[0m\n",
      "File \u001b[0;32m<frozen importlib._bootstrap>:1004\u001b[0m, in \u001b[0;36m_find_and_load_unlocked\u001b[0;34m(name, import_)\u001b[0m\n",
      "\u001b[0;31mModuleNotFoundError\u001b[0m: No module named 'tensorboard  # or %reload_ext tensorboard'"
     ]
    }
   ],
   "source": [
    "%reload_ext tensorboard  # or %reload_ext tensorboard\n",
    "%tensorboard --logdir=./my_logs --port=6007"
   ]
  },
  {
   "cell_type": "markdown",
   "metadata": {},
   "source": [
    "If the above throws a `ModuleNotFoundError` try running the cell below:"
   ]
  },
  {
   "cell_type": "code",
   "execution_count": null,
   "metadata": {},
   "outputs": [
    {
     "name": "stdout",
     "output_type": "stream",
     "text": [
      "E0429 20:35:37.999034 8203272512 application.py:125] Failed to load plugin WhatIfToolPluginLoader.load; ignoring it.\n",
      "Traceback (most recent call last):\n",
      "  File \"/Users/nick/anaconda3/lib/python3.10/site-packages/tensorboard/backend/application.py\", line 123, in TensorBoardWSGIApp\n",
      "    plugin = loader.load(context)\n",
      "  File \"/Users/nick/anaconda3/lib/python3.10/site-packages/tensorboard_plugin_wit/wit_plugin_loader.py\", line 57, in load\n",
      "    from tensorboard_plugin_wit.wit_plugin import WhatIfToolPlugin\n",
      "  File \"/Users/nick/anaconda3/lib/python3.10/site-packages/tensorboard_plugin_wit/wit_plugin.py\", line 40, in <module>\n",
      "    from tensorboard_plugin_wit._utils import common_utils\n",
      "  File \"/Users/nick/anaconda3/lib/python3.10/site-packages/tensorboard_plugin_wit/_utils/common_utils.py\", line 17, in <module>\n",
      "    from tensorboard_plugin_wit._vendor.tensorflow_serving.apis import classification_pb2\n",
      "  File \"/Users/nick/anaconda3/lib/python3.10/site-packages/tensorboard_plugin_wit/_vendor/tensorflow_serving/apis/classification_pb2.py\", line 15, in <module>\n",
      "    from tensorboard_plugin_wit._vendor.tensorflow_serving.apis import input_pb2 as tensorflow__serving_dot_apis_dot_input__pb2\n",
      "  File \"/Users/nick/anaconda3/lib/python3.10/site-packages/tensorboard_plugin_wit/_vendor/tensorflow_serving/apis/input_pb2.py\", line 37, in <module>\n",
      "    _descriptor.FieldDescriptor(\n",
      "  File \"/Users/nick/anaconda3/lib/python3.10/site-packages/google/protobuf/descriptor.py\", line 561, in __new__\n",
      "    _message.Message._CheckCalledFromGeneratedFile()\n",
      "TypeError: Descriptors cannot not be created directly.\n",
      "If this call came from a _pb2.py file, your generated code is out of date and must be regenerated with protoc >= 3.19.0.\n",
      "If you cannot immediately regenerate your protos, some other possible workarounds are:\n",
      " 1. Downgrade the protobuf package to 3.20.x or lower.\n",
      " 2. Set PROTOCOL_BUFFERS_PYTHON_IMPLEMENTATION=python (but this will use pure-Python parsing and will be much slower).\n",
      "\n",
      "More information: https://developers.google.com/protocol-buffers/docs/news/2022-05-06#python-updates\n",
      "Serving TensorBoard on localhost; to expose to the network, use a proxy or pass --bind_all\n",
      "TensorBoard 2.12.2 at http://localhost:6006/ (Press CTRL+C to quit)\n"
     ]
    }
   ],
   "source": [
    "!python -m tensorboard.main --logdir=./my_logs"
   ]
  },
  {
   "cell_type": "markdown",
   "metadata": {},
   "source": [
    "## 6.5 Fine-Tuning Neural Network Hyperparameters"
   ]
  },
  {
   "cell_type": "markdown",
   "metadata": {},
   "source": [
    "Just as we had the same issue with other machine learning algorithms, neural networks have many hyperparamenters, even more so. (1) You can use any possible architecture you can conceive, (2) you can tweak the number of layers and (3) the number of neural units per layer, (4) the activation nonlinear function in each layer, and more...\n",
    "\n",
    "A possibility to explore the parameter space is to wrap our Keras model in an object with the same interface as a typical Scikit-Learn regressor or classifier\n",
    "\n",
    "To do so, we can define a function that builds and compiles a Keras network, given a set of hyperparameters:"
   ]
  },
  {
   "cell_type": "code",
   "execution_count": null,
   "metadata": {},
   "outputs": [],
   "source": [
    "keras.backend.clear_session() # release some memory\n",
    "np.random.seed(42)\n",
    "tf.random.set_seed(42)"
   ]
  },
  {
   "cell_type": "code",
   "execution_count": null,
   "metadata": {},
   "outputs": [],
   "source": [
    "def build_network(\n",
    "    n_hidden=1,\n",
    "    n_neurons=100,\n",
    "    activation=\"selu\", \n",
    "    learning_rate=5e-3,\n",
    "    input_shape=[5],\n",
    "    kernel_initializer='lecun_normal'\n",
    "):\n",
    "    n_net = keras.models.Sequential()\n",
    "    n_net.add(keras.layers.InputLayer(input_shape=input_shape))\n",
    "    for layer in range(n_hidden):\n",
    "        n_net.add(keras.layers.Dense(\n",
    "            n_neurons, activation=activation, kernel_initializer=kernel_initializer\n",
    "        ))\n",
    "    n_net.add(keras.layers.Dense(1))\n",
    "    optimizer = keras.optimizers.Adam(lr=learning_rate)\n",
    "    n_net.compile(\n",
    "        loss=keras.losses.mean_squared_error,\n",
    "        optimizer=optimizer,\n",
    "        metrics=[keras.metrics.RootMeanSquaredError()]\n",
    "    )\n",
    "    return n_net"
   ]
  },
  {
   "cell_type": "code",
   "execution_count": null,
   "metadata": {},
   "outputs": [],
   "source": [
    "keras_reg = keras.wrappers.scikit_learn.KerasRegressor(build_network)"
   ]
  },
  {
   "cell_type": "code",
   "execution_count": null,
   "metadata": {},
   "outputs": [],
   "source": [
    "keras_reg.fit(\n",
    "    X_train,\n",
    "    y_train,\n",
    "    epochs=100, \n",
    "    validation_data=(X_val, y_val),\n",
    "    callbacks=[keras.callbacks.EarlyStopping(patience=10)]\n",
    ")"
   ]
  },
  {
   "cell_type": "code",
   "execution_count": null,
   "metadata": {},
   "outputs": [],
   "source": [
    "rmse_test = np.sqrt(-keras_reg.score(X_test, y_test, verbose=0))\n",
    "rmse_test"
   ]
  },
  {
   "cell_type": "code",
   "execution_count": null,
   "metadata": {},
   "outputs": [],
   "source": [
    "np.random.seed(42)\n",
    "tf.random.set_seed(42)"
   ]
  },
  {
   "cell_type": "markdown",
   "metadata": {},
   "source": [
    "**Exercise:** set up a `RandomizedSearchCV` object to explore 12 combinations from a grid of parameters on the wrapped NeuralNet `keras_reg`, using 3-fold cross validation, training the network for 20 or 100 epochs and allowing for early stopping by using the callback `keras.callbacks.EarlyStopping` with a reasonable patience (check the early-stopping API.)\n",
    "\n",
    "The range of parameters you *may* want to try in your param grid are:\n",
    " * number of hidden layers: from 1 to 3\n",
    " * number of neurons in each layer: 10, 20, 30, 40, 50\n",
    " * learning rate: a good approach for the learning rate is to use a reciprocal distribution with quantiles lower_bound = $0.0001$ and upper_bound = $0.01$. See more about reciprocal distributions here: https://en.wikipedia.org/wiki/Reciprocal_distribution. In order to set the reciprocal distribution, you can use the `reciprocal` function from the `scipy.stats` module. A simpler approach would be to pass a list of discrete values, e.g [0.0001, 0.0005, ..., 0.01]. Follow this approach if the other seems too obscure.\n",
    " * activation: 'relu', 'selu'   (see Notebook 06B)\n",
    " * kernel_initializer: 'glorot_uniform', 'lecun_normal'  (see Notebook 06B)\n",
    " \n",
    "Feel free to modify the options in this grid\n",
    "\n",
    "Check `RandomizedSearchCV` API on scikit-learn for more info.\n",
    "\n",
    "Please note that this cell will take a while to run."
   ]
  },
  {
   "cell_type": "code",
   "execution_count": null,
   "metadata": {},
   "outputs": [],
   "source": [
    "# you can use `rec_dist` as defined here to set your learning rate interval\n",
    "from scipy.stats import reciprocal\n",
    "reciprocal(5e-4, 1e-2)"
   ]
  },
  {
   "cell_type": "code",
   "execution_count": 88,
   "metadata": {},
   "outputs": [],
   "source": [
    "from sklearn.model_selection import RandomizedSearchCV\n",
    "\n",
    "EPOCHS = 2\n",
    "\n",
    "param_distribs = {   # ...complete me\n",
    "    \n",
    "    #number of hidden layers: from 1 to 3 (or 3?)\n",
    "    'hidden_layers': [1, 2, 3],\n",
    "    #number of neurons in each layer: 10, 20, 30, 40, 50\n",
    "    'neurons': [10, 20, 30, 40, 50],\n",
    "     #learning rate - reciprocal dist of quantiles: list of discrete values, e.g [0.0001, 0.0005, ..., 0.01]. \n",
    "    'learning_rate': [0.0001, 0.0005, ..., 0.01], #OR reciprocal from the above cell?\n",
    "    #activation: 'relu', 'selu' (see Notebook 06B)\n",
    "    'activation': ['relu', 'selu'],\n",
    "    #kernel_initializer: 'glorot_uniform', 'lecun_normal' (see Notebook 06B)\n",
    "    'kernel_initializer': ['glorot_uniform', 'lecun_normal']\n",
    "}\n",
    "\n",
    "# complete me\n",
    "rnd_search_cv = RandomizedSearchCV(\n",
    "    keras_reg, \n",
    "    param_distribs, \n",
    "    n_iter=12, \n",
    "    cv=3, \n",
    "    random_state=1\n",
    ")\n"
   ]
  },
  {
   "cell_type": "markdown",
   "metadata": {},
   "source": [
    "Now here you can identify the best params combination and the best score you achieved:"
   ]
  },
  {
   "cell_type": "code",
   "execution_count": null,
   "metadata": {},
   "outputs": [],
   "source": [
    "%%capture --no-stderr\n",
    "rnd_search_cv.fit(X_train, y_train, epochs=EPOCHS,\n",
    "                  validation_data=(X_val, y_val),\n",
    "                  callbacks=[keras.callbacks.EarlyStopping(patience=10)], verbose=0)"
   ]
  },
  {
   "cell_type": "code",
   "execution_count": null,
   "metadata": {},
   "outputs": [],
   "source": [
    "rnd_search_cv.best_params_, rnd_search_cv.best_score_"
   ]
  },
  {
   "cell_type": "code",
   "execution_count": null,
   "metadata": {},
   "outputs": [],
   "source": []
  },
  {
   "cell_type": "markdown",
   "metadata": {},
   "source": [
    "### Curious to see what ChatGPT recommended..."
   ]
  },
  {
   "cell_type": "code",
   "execution_count": null,
   "metadata": {},
   "outputs": [],
   "source": [
    "# FROM CHATGPT: \n",
    "\n",
    "\n",
    "from keras.wrappers.scikit_learn import KerasRegressor\n",
    "from sklearn.model_selection import RandomizedSearchCV\n",
    "from tensorflow import keras\n",
    "\n",
    "# Define a function that returns the compiled keras model\n",
    "def create_model():\n",
    "    model = keras.models.Sequential([\n",
    "        keras.layers.Dense(units=64, activation='relu', input_shape=(X_train.shape[1],)),\n",
    "        keras.layers.Dense(units=32, activation='relu'),\n",
    "        keras.layers.Dense(units=1)\n",
    "    ])\n",
    "    model.compile(loss='mse', optimizer='adam')\n",
    "    return model\n",
    "\n",
    "# Wrap the model using KerasRegressor\n",
    "keras_reg = KerasRegressor(build_fn=create_model, verbose=0)\n",
    "\n",
    "# Define the parameter grid to search over\n",
    "param_grid = {\n",
    "    'batch_size': [16, 32, 64],\n",
    "    'epochs': [50, 100, 200],\n",
    "    'optimizer': ['adam', 'rmsprop', 'sgd']\n",
    "}\n",
    "\n",
    "# Set up a RandomizedSearchCV object to search over the parameter grid\n",
    "search = RandomizedSearchCV(estimator=keras_reg,\n",
    "                            param_distributions=param_grid,\n",
    "                            n_iter=12,\n",
    "                            cv=3)\n",
    "\n",
    "# Fit the RandomizedSearchCV object to the data\n",
    "search.fit(X_train, y_train)\n"
   ]
  }
 ],
 "metadata": {
  "kernelspec": {
   "display_name": "Python 3 (ipykernel)",
   "language": "python",
   "name": "python3"
  },
  "language_info": {
   "codemirror_mode": {
    "name": "ipython",
    "version": 3
   },
   "file_extension": ".py",
   "mimetype": "text/x-python",
   "name": "python",
   "nbconvert_exporter": "python",
   "pygments_lexer": "ipython3",
   "version": "3.10.9"
  },
  "vscode": {
   "interpreter": {
    "hash": "fa9cb710efc85fb5f4b4032a69aa40c8e866725b3bb56f2d012c19d5f6f7f57e"
   }
  }
 },
 "nbformat": 4,
 "nbformat_minor": 4
}
